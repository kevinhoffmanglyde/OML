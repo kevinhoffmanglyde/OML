{
  "nbformat": 4,
  "nbformat_minor": 0,
  "metadata": {
    "colab": {
      "provenance": [],
      "include_colab_link": true
    },
    "kernelspec": {
      "name": "python3",
      "display_name": "Python 3"
    },
    "language_info": {
      "name": "python"
    },
    "widgets": {
      "application/vnd.jupyter.widget-state+json": {
        "ee13dc1e398244599fc8adb0e27a56d0": {
          "model_module": "yfiles-jupyter-graphs",
          "model_name": "GraphModel",
          "model_module_version": "^1.6.2",
          "state": {
            "_context_pane_mapping": [
              {
                "id": "Neighborhood",
                "title": "Neighborhood"
              },
              {
                "id": "Data",
                "title": "Data"
              },
              {
                "id": "Search",
                "title": "Search"
              },
              {
                "id": "About",
                "title": "About"
              }
            ],
            "_data_importer": "neo4j",
            "_directed": true,
            "_dom_classes": [],
            "_edges": [
              {
                "id": 1152922604118474800,
                "start": 0,
                "end": 80,
                "properties": {
                  "label": "USES"
                },
                "label": "USES",
                "color": "#9C27B0",
                "thickness_factor": 1,
                "directed": true
              },
              {
                "id": 1152923703630102500,
                "start": 0,
                "end": 40,
                "properties": {
                  "label": "HAS_BREACH"
                },
                "label": "HAS_BREACH",
                "color": "#2196F3",
                "thickness_factor": 1,
                "directed": true
              },
              {
                "id": 1152922604118474800,
                "start": 1,
                "end": 82,
                "properties": {
                  "label": "USES"
                },
                "label": "USES",
                "color": "#9C27B0",
                "thickness_factor": 1,
                "directed": true
              },
              {
                "id": 1152922604118474800,
                "start": 2,
                "end": 85,
                "properties": {
                  "label": "USES"
                },
                "label": "USES",
                "color": "#9C27B0",
                "thickness_factor": 1,
                "directed": true
              },
              {
                "id": 1152922604118474800,
                "start": 3,
                "end": 87,
                "properties": {
                  "label": "USES"
                },
                "label": "USES",
                "color": "#9C27B0",
                "thickness_factor": 1,
                "directed": true
              },
              {
                "id": 1152922604118474800,
                "start": 4,
                "end": 88,
                "properties": {
                  "label": "USES"
                },
                "label": "USES",
                "color": "#9C27B0",
                "thickness_factor": 1,
                "directed": true
              },
              {
                "id": 1152922604118474800,
                "start": 5,
                "end": 90,
                "properties": {
                  "label": "USES"
                },
                "label": "USES",
                "color": "#9C27B0",
                "thickness_factor": 1,
                "directed": true
              },
              {
                "id": 1152923703630102500,
                "start": 5,
                "end": 41,
                "properties": {
                  "label": "HAS_BREACH"
                },
                "label": "HAS_BREACH",
                "color": "#2196F3",
                "thickness_factor": 1,
                "directed": true
              },
              {
                "id": 1152922604118474800,
                "start": 6,
                "end": 92,
                "properties": {
                  "label": "USES"
                },
                "label": "USES",
                "color": "#9C27B0",
                "thickness_factor": 1,
                "directed": true
              },
              {
                "id": 1152923703630102500,
                "start": 6,
                "end": 42,
                "properties": {
                  "label": "HAS_BREACH"
                },
                "label": "HAS_BREACH",
                "color": "#2196F3",
                "thickness_factor": 1,
                "directed": true
              },
              {
                "id": 1152922604118474800,
                "start": 7,
                "end": 95,
                "properties": {
                  "label": "USES"
                },
                "label": "USES",
                "color": "#9C27B0",
                "thickness_factor": 1,
                "directed": true
              },
              {
                "id": 1152923703630102500,
                "start": 7,
                "end": 43,
                "properties": {
                  "label": "HAS_BREACH"
                },
                "label": "HAS_BREACH",
                "color": "#2196F3",
                "thickness_factor": 1,
                "directed": true
              },
              {
                "id": 1152922604118474800,
                "start": 8,
                "end": 96,
                "properties": {
                  "label": "USES"
                },
                "label": "USES",
                "color": "#9C27B0",
                "thickness_factor": 1,
                "directed": true
              },
              {
                "id": 1152922604118474800,
                "start": 9,
                "end": 98,
                "properties": {
                  "label": "USES"
                },
                "label": "USES",
                "color": "#9C27B0",
                "thickness_factor": 1,
                "directed": true
              },
              {
                "id": 1152923703630102500,
                "start": 9,
                "end": 44,
                "properties": {
                  "label": "HAS_BREACH"
                },
                "label": "HAS_BREACH",
                "color": "#2196F3",
                "thickness_factor": 1,
                "directed": true
              },
              {
                "id": 1152922604118474800,
                "start": 10,
                "end": 101,
                "properties": {
                  "label": "USES"
                },
                "label": "USES",
                "color": "#9C27B0",
                "thickness_factor": 1,
                "directed": true
              },
              {
                "id": 1152922604118474800,
                "start": 11,
                "end": 103,
                "properties": {
                  "label": "USES"
                },
                "label": "USES",
                "color": "#9C27B0",
                "thickness_factor": 1,
                "directed": true
              },
              {
                "id": 1152923703630102500,
                "start": 11,
                "end": 45,
                "properties": {
                  "label": "HAS_BREACH"
                },
                "label": "HAS_BREACH",
                "color": "#2196F3",
                "thickness_factor": 1,
                "directed": true
              },
              {
                "id": 1152922604118474800,
                "start": 12,
                "end": 105,
                "properties": {
                  "label": "USES"
                },
                "label": "USES",
                "color": "#9C27B0",
                "thickness_factor": 1,
                "directed": true
              },
              {
                "id": 1152922604118474800,
                "start": 13,
                "end": 107,
                "properties": {
                  "label": "USES"
                },
                "label": "USES",
                "color": "#9C27B0",
                "thickness_factor": 1,
                "directed": true
              },
              {
                "id": 1152922604118474800,
                "start": 14,
                "end": 108,
                "properties": {
                  "label": "USES"
                },
                "label": "USES",
                "color": "#9C27B0",
                "thickness_factor": 1,
                "directed": true
              },
              {
                "id": 1152922604118474800,
                "start": 15,
                "end": 109,
                "properties": {
                  "label": "USES"
                },
                "label": "USES",
                "color": "#9C27B0",
                "thickness_factor": 1,
                "directed": true
              },
              {
                "id": 1152923703630102500,
                "start": 15,
                "end": 46,
                "properties": {
                  "label": "HAS_BREACH"
                },
                "label": "HAS_BREACH",
                "color": "#2196F3",
                "thickness_factor": 1,
                "directed": true
              },
              {
                "id": 1152922604118474800,
                "start": 16,
                "end": 110,
                "properties": {
                  "label": "USES"
                },
                "label": "USES",
                "color": "#9C27B0",
                "thickness_factor": 1,
                "directed": true
              },
              {
                "id": 1152922604118474800,
                "start": 17,
                "end": 111,
                "properties": {
                  "label": "USES"
                },
                "label": "USES",
                "color": "#9C27B0",
                "thickness_factor": 1,
                "directed": true
              },
              {
                "id": 1152923703630102500,
                "start": 17,
                "end": 47,
                "properties": {
                  "label": "HAS_BREACH"
                },
                "label": "HAS_BREACH",
                "color": "#2196F3",
                "thickness_factor": 1,
                "directed": true
              },
              {
                "id": 1152922604118474800,
                "start": 18,
                "end": 112,
                "properties": {
                  "label": "USES"
                },
                "label": "USES",
                "color": "#9C27B0",
                "thickness_factor": 1,
                "directed": true
              },
              {
                "id": 1152922604118474800,
                "start": 19,
                "end": 113,
                "properties": {
                  "label": "USES"
                },
                "label": "USES",
                "color": "#9C27B0",
                "thickness_factor": 1,
                "directed": true
              },
              {
                "id": 1152923703630102500,
                "start": 19,
                "end": 48,
                "properties": {
                  "label": "HAS_BREACH"
                },
                "label": "HAS_BREACH",
                "color": "#2196F3",
                "thickness_factor": 1,
                "directed": true
              },
              {
                "id": 1152922604118474800,
                "start": 20,
                "end": 114,
                "properties": {
                  "label": "USES"
                },
                "label": "USES",
                "color": "#9C27B0",
                "thickness_factor": 1,
                "directed": true
              },
              {
                "id": 1152923703630102500,
                "start": 20,
                "end": 49,
                "properties": {
                  "label": "HAS_BREACH"
                },
                "label": "HAS_BREACH",
                "color": "#2196F3",
                "thickness_factor": 1,
                "directed": true
              },
              {
                "id": 1152922604118474800,
                "start": 21,
                "end": 115,
                "properties": {
                  "label": "USES"
                },
                "label": "USES",
                "color": "#9C27B0",
                "thickness_factor": 1,
                "directed": true
              },
              {
                "id": 1152923703630102500,
                "start": 21,
                "end": 50,
                "properties": {
                  "label": "HAS_BREACH"
                },
                "label": "HAS_BREACH",
                "color": "#2196F3",
                "thickness_factor": 1,
                "directed": true
              },
              {
                "id": 1152922604118474800,
                "start": 22,
                "end": 116,
                "properties": {
                  "label": "USES"
                },
                "label": "USES",
                "color": "#9C27B0",
                "thickness_factor": 1,
                "directed": true
              },
              {
                "id": 1152923703630102500,
                "start": 22,
                "end": 51,
                "properties": {
                  "label": "HAS_BREACH"
                },
                "label": "HAS_BREACH",
                "color": "#2196F3",
                "thickness_factor": 1,
                "directed": true
              },
              {
                "id": 1152922604118474800,
                "start": 23,
                "end": 117,
                "properties": {
                  "label": "USES"
                },
                "label": "USES",
                "color": "#9C27B0",
                "thickness_factor": 1,
                "directed": true
              },
              {
                "id": 1152923703630102500,
                "start": 23,
                "end": 52,
                "properties": {
                  "label": "HAS_BREACH"
                },
                "label": "HAS_BREACH",
                "color": "#2196F3",
                "thickness_factor": 1,
                "directed": true
              },
              {
                "id": 1152922604118474800,
                "start": 24,
                "end": 118,
                "properties": {
                  "label": "USES"
                },
                "label": "USES",
                "color": "#9C27B0",
                "thickness_factor": 1,
                "directed": true
              },
              {
                "id": 1152923703630102500,
                "start": 24,
                "end": 53,
                "properties": {
                  "label": "HAS_BREACH"
                },
                "label": "HAS_BREACH",
                "color": "#2196F3",
                "thickness_factor": 1,
                "directed": true
              },
              {
                "id": 1152922604118474800,
                "start": 25,
                "end": 79,
                "properties": {
                  "label": "USES"
                },
                "label": "USES",
                "color": "#9C27B0",
                "thickness_factor": 1,
                "directed": true
              },
              {
                "id": 1152922604118474800,
                "start": 26,
                "end": 81,
                "properties": {
                  "label": "USES"
                },
                "label": "USES",
                "color": "#9C27B0",
                "thickness_factor": 1,
                "directed": true
              },
              {
                "id": 1152922604118474800,
                "start": 27,
                "end": 83,
                "properties": {
                  "label": "USES"
                },
                "label": "USES",
                "color": "#9C27B0",
                "thickness_factor": 1,
                "directed": true
              },
              {
                "id": 1152922604118474800,
                "start": 28,
                "end": 84,
                "properties": {
                  "label": "USES"
                },
                "label": "USES",
                "color": "#9C27B0",
                "thickness_factor": 1,
                "directed": true
              },
              {
                "id": 1152922604118474800,
                "start": 29,
                "end": 86,
                "properties": {
                  "label": "USES"
                },
                "label": "USES",
                "color": "#9C27B0",
                "thickness_factor": 1,
                "directed": true
              },
              {
                "id": 1152922604118474800,
                "start": 30,
                "end": 89,
                "properties": {
                  "label": "USES"
                },
                "label": "USES",
                "color": "#9C27B0",
                "thickness_factor": 1,
                "directed": true
              },
              {
                "id": 1152922604118474800,
                "start": 31,
                "end": 91,
                "properties": {
                  "label": "USES"
                },
                "label": "USES",
                "color": "#9C27B0",
                "thickness_factor": 1,
                "directed": true
              },
              {
                "id": 1152922604118474800,
                "start": 32,
                "end": 94,
                "properties": {
                  "label": "USES"
                },
                "label": "USES",
                "color": "#9C27B0",
                "thickness_factor": 1,
                "directed": true
              },
              {
                "id": 1152922604118474800,
                "start": 33,
                "end": 97,
                "properties": {
                  "label": "USES"
                },
                "label": "USES",
                "color": "#9C27B0",
                "thickness_factor": 1,
                "directed": true
              },
              {
                "id": 1152922604118474800,
                "start": 34,
                "end": 99,
                "properties": {
                  "label": "USES"
                },
                "label": "USES",
                "color": "#9C27B0",
                "thickness_factor": 1,
                "directed": true
              },
              {
                "id": 1152922604118474800,
                "start": 35,
                "end": 100,
                "properties": {
                  "label": "USES"
                },
                "label": "USES",
                "color": "#9C27B0",
                "thickness_factor": 1,
                "directed": true
              },
              {
                "id": 1152922604118474800,
                "start": 36,
                "end": 102,
                "properties": {
                  "label": "USES"
                },
                "label": "USES",
                "color": "#9C27B0",
                "thickness_factor": 1,
                "directed": true
              },
              {
                "id": 1152922604118474800,
                "start": 37,
                "end": 104,
                "properties": {
                  "label": "USES"
                },
                "label": "USES",
                "color": "#9C27B0",
                "thickness_factor": 1,
                "directed": true
              },
              {
                "id": 1152922604118474800,
                "start": 38,
                "end": 106,
                "properties": {
                  "label": "USES"
                },
                "label": "USES",
                "color": "#9C27B0",
                "thickness_factor": 1,
                "directed": true
              },
              {
                "id": 1152922604118474800,
                "start": 39,
                "end": 119,
                "properties": {
                  "label": "USES"
                },
                "label": "USES",
                "color": "#9C27B0",
                "thickness_factor": 1,
                "directed": true
              },
              {
                "id": 1152925902653358000,
                "start": 121,
                "end": 122,
                "properties": {
                  "label": "IS_A"
                },
                "label": "IS_A",
                "color": "#4CAF50",
                "thickness_factor": 1,
                "directed": true
              },
              {
                "id": 1152927002164985900,
                "start": 121,
                "end": 123,
                "properties": {
                  "label": "RESPONSIBLE_FOR"
                },
                "label": "RESPONSIBLE_FOR",
                "color": "#F44336",
                "thickness_factor": 1,
                "directed": true
              },
              {
                "id": 1155178801978671000,
                "start": 121,
                "end": 124,
                "properties": {
                  "label": "RESPONSIBLE_FOR"
                },
                "label": "RESPONSIBLE_FOR",
                "color": "#F44336",
                "thickness_factor": 1,
                "directed": true
              },
              {
                "id": 1157430601792356400,
                "start": 121,
                "end": 136,
                "properties": {
                  "label": "RESPONSIBLE_FOR"
                },
                "label": "RESPONSIBLE_FOR",
                "color": "#F44336",
                "thickness_factor": 1,
                "directed": true
              },
              {
                "id": 1159682401606041600,
                "start": 121,
                "end": 137,
                "properties": {
                  "label": "RESPONSIBLE_FOR"
                },
                "label": "RESPONSIBLE_FOR",
                "color": "#F44336",
                "thickness_factor": 1,
                "directed": true
              },
              {
                "id": 1161934201419726800,
                "start": 121,
                "end": 138,
                "properties": {
                  "label": "RESPONSIBLE_FOR"
                },
                "label": "RESPONSIBLE_FOR",
                "color": "#F44336",
                "thickness_factor": 1,
                "directed": true
              },
              {
                "id": 1164186001233412000,
                "start": 121,
                "end": 139,
                "properties": {
                  "label": "RESPONSIBLE_FOR"
                },
                "label": "RESPONSIBLE_FOR",
                "color": "#F44336",
                "thickness_factor": 1,
                "directed": true
              },
              {
                "id": 1166437801047097300,
                "start": 121,
                "end": 140,
                "properties": {
                  "label": "RESPONSIBLE_FOR"
                },
                "label": "RESPONSIBLE_FOR",
                "color": "#F44336",
                "thickness_factor": 1,
                "directed": true
              },
              {
                "id": 1168689600860782600,
                "start": 121,
                "end": 141,
                "properties": {
                  "label": "RESPONSIBLE_FOR"
                },
                "label": "RESPONSIBLE_FOR",
                "color": "#F44336",
                "thickness_factor": 1,
                "directed": true
              },
              {
                "id": 1170941400674467800,
                "start": 121,
                "end": 142,
                "properties": {
                  "label": "RESPONSIBLE_FOR"
                },
                "label": "RESPONSIBLE_FOR",
                "color": "#F44336",
                "thickness_factor": 1,
                "directed": true
              },
              {
                "id": 1173193200488153000,
                "start": 121,
                "end": 143,
                "properties": {
                  "label": "RESPONSIBLE_FOR"
                },
                "label": "RESPONSIBLE_FOR",
                "color": "#F44336",
                "thickness_factor": 1,
                "directed": true
              },
              {
                "id": 1175445000301838300,
                "start": 121,
                "end": 144,
                "properties": {
                  "label": "RESPONSIBLE_FOR"
                },
                "label": "RESPONSIBLE_FOR",
                "color": "#F44336",
                "thickness_factor": 1,
                "directed": true
              },
              {
                "id": 1177696800115523600,
                "start": 121,
                "end": 145,
                "properties": {
                  "label": "RESPONSIBLE_FOR"
                },
                "label": "RESPONSIBLE_FOR",
                "color": "#F44336",
                "thickness_factor": 1,
                "directed": true
              },
              {
                "id": 1179948599929208800,
                "start": 121,
                "end": 146,
                "properties": {
                  "label": "RESPONSIBLE_FOR"
                },
                "label": "RESPONSIBLE_FOR",
                "color": "#F44336",
                "thickness_factor": 1,
                "directed": true
              },
              {
                "id": 1182200399742894000,
                "start": 121,
                "end": 147,
                "properties": {
                  "label": "RESPONSIBLE_FOR"
                },
                "label": "RESPONSIBLE_FOR",
                "color": "#F44336",
                "thickness_factor": 1,
                "directed": true
              },
              {
                "id": 1184452199556579300,
                "start": 121,
                "end": 148,
                "properties": {
                  "label": "RESPONSIBLE_FOR"
                },
                "label": "RESPONSIBLE_FOR",
                "color": "#F44336",
                "thickness_factor": 1,
                "directed": true
              },
              {
                "id": 1186703999370264600,
                "start": 121,
                "end": 149,
                "properties": {
                  "label": "RESPONSIBLE_FOR"
                },
                "label": "RESPONSIBLE_FOR",
                "color": "#F44336",
                "thickness_factor": 1,
                "directed": true
              },
              {
                "id": 1188955799183949800,
                "start": 121,
                "end": 150,
                "properties": {
                  "label": "RESPONSIBLE_FOR"
                },
                "label": "RESPONSIBLE_FOR",
                "color": "#F44336",
                "thickness_factor": 1,
                "directed": true
              },
              {
                "id": 1152928101676613600,
                "start": 121,
                "end": 125,
                "properties": {
                  "label": "DIRECTS"
                },
                "label": "DIRECTS",
                "color": "#607D8B",
                "thickness_factor": 1,
                "directed": true
              },
              {
                "id": 1155179901490299000,
                "start": 121,
                "end": 130,
                "properties": {
                  "label": "DIRECTS"
                },
                "label": "DIRECTS",
                "color": "#607D8B",
                "thickness_factor": 1,
                "directed": true
              },
              {
                "id": 1157431701303984000,
                "start": 121,
                "end": 131,
                "properties": {
                  "label": "DIRECTS"
                },
                "label": "DIRECTS",
                "color": "#607D8B",
                "thickness_factor": 1,
                "directed": true
              },
              {
                "id": 1159683501117669400,
                "start": 121,
                "end": 169,
                "properties": {
                  "label": "DIRECTS"
                },
                "label": "DIRECTS",
                "color": "#607D8B",
                "thickness_factor": 1,
                "directed": true
              },
              {
                "id": 1161935300931354600,
                "start": 121,
                "end": 170,
                "properties": {
                  "label": "DIRECTS"
                },
                "label": "DIRECTS",
                "color": "#607D8B",
                "thickness_factor": 1,
                "directed": true
              },
              {
                "id": 1164187100745040000,
                "start": 121,
                "end": 171,
                "properties": {
                  "label": "DIRECTS"
                },
                "label": "DIRECTS",
                "color": "#607D8B",
                "thickness_factor": 1,
                "directed": true
              },
              {
                "id": 1166438900558725000,
                "start": 121,
                "end": 172,
                "properties": {
                  "label": "DIRECTS"
                },
                "label": "DIRECTS",
                "color": "#607D8B",
                "thickness_factor": 1,
                "directed": true
              },
              {
                "id": 1168690700372410400,
                "start": 121,
                "end": 173,
                "properties": {
                  "label": "DIRECTS"
                },
                "label": "DIRECTS",
                "color": "#607D8B",
                "thickness_factor": 1,
                "directed": true
              },
              {
                "id": 1152929201188241400,
                "start": 121,
                "end": 126,
                "properties": {
                  "label": "RESPONDS_TO"
                },
                "label": "RESPONDS_TO",
                "color": "#673AB7",
                "thickness_factor": 1,
                "directed": true
              },
              {
                "id": 1152930300699869200,
                "start": 121,
                "end": 127,
                "properties": {
                  "label": "ESTABLISHES"
                },
                "label": "ESTABLISHES",
                "color": "#CDDC39",
                "thickness_factor": 1,
                "directed": true
              },
              {
                "id": 1152931400211497000,
                "start": 121,
                "end": 128,
                "properties": {
                  "label": "MANAGES"
                },
                "label": "MANAGES",
                "color": "#9E9E9E",
                "thickness_factor": 1,
                "directed": true
              },
              {
                "id": 1155183200025182200,
                "start": 121,
                "end": 129,
                "properties": {
                  "label": "MANAGES"
                },
                "label": "MANAGES",
                "color": "#9E9E9E",
                "thickness_factor": 1,
                "directed": true
              },
              {
                "id": 1152932499723124700,
                "start": 121,
                "end": 132,
                "properties": {
                  "label": "ENSURES_PROTECTION_OF"
                },
                "label": "ENSURES_PROTECTION_OF",
                "color": "#9C27B0",
                "thickness_factor": 1,
                "directed": true
              },
              {
                "id": 1152933599234752500,
                "start": 121,
                "end": 133,
                "properties": {
                  "label": "PROTECTS"
                },
                "label": "PROTECTS",
                "color": "#2196F3",
                "thickness_factor": 1,
                "directed": true
              },
              {
                "id": 1155185399048437800,
                "start": 121,
                "end": 134,
                "properties": {
                  "label": "PROTECTS"
                },
                "label": "PROTECTS",
                "color": "#2196F3",
                "thickness_factor": 1,
                "directed": true
              },
              {
                "id": 1157437198862123000,
                "start": 121,
                "end": 158,
                "properties": {
                  "label": "PROTECTS"
                },
                "label": "PROTECTS",
                "color": "#2196F3",
                "thickness_factor": 1,
                "directed": true
              },
              {
                "id": 1152934698746380300,
                "start": 121,
                "end": 135,
                "properties": {
                  "label": "COLLABORATES_WITH"
                },
                "label": "COLLABORATES_WITH",
                "color": "#4CAF50",
                "thickness_factor": 1,
                "directed": true
              },
              {
                "id": 1152935798258008000,
                "start": 121,
                "end": 151,
                "properties": {
                  "label": "COMMON_PRACTICE_IN"
                },
                "label": "COMMON_PRACTICE_IN",
                "color": "#F44336",
                "thickness_factor": 1,
                "directed": true
              },
              {
                "id": 1152936897769635800,
                "start": 121,
                "end": 153,
                "properties": {
                  "label": "REPORTS_TO"
                },
                "label": "REPORTS_TO",
                "color": "#607D8B",
                "thickness_factor": 1,
                "directed": true
              },
              {
                "id": 1155188697583321000,
                "start": 121,
                "end": 154,
                "properties": {
                  "label": "REPORTS_TO"
                },
                "label": "REPORTS_TO",
                "color": "#607D8B",
                "thickness_factor": 1,
                "directed": true
              },
              {
                "id": 1157440497397006300,
                "start": 121,
                "end": 156,
                "properties": {
                  "label": "REPORTS_TO"
                },
                "label": "REPORTS_TO",
                "color": "#607D8B",
                "thickness_factor": 1,
                "directed": true
              },
              {
                "id": 1152937997281263600,
                "start": 121,
                "end": 155,
                "properties": {
                  "label": "CONDUCTS_SURVEY_WITH"
                },
                "label": "CONDUCTS_SURVEY_WITH",
                "color": "#673AB7",
                "thickness_factor": 1,
                "directed": true
              },
              {
                "id": 1152939096792891400,
                "start": 121,
                "end": 157,
                "properties": {
                  "label": "MANAGES_RISKS_IN"
                },
                "label": "MANAGES_RISKS_IN",
                "color": "#CDDC39",
                "thickness_factor": 1,
                "directed": true
              },
              {
                "id": 1152940196304519200,
                "start": 121,
                "end": 159,
                "properties": {
                  "label": "NOT_REPORTING_TO"
                },
                "label": "NOT_REPORTING_TO",
                "color": "#9E9E9E",
                "thickness_factor": 1,
                "directed": true
              },
              {
                "id": 1152941295816147000,
                "start": 121,
                "end": 160,
                "properties": {
                  "label": "REQUIRES"
                },
                "label": "REQUIRES",
                "color": "#9C27B0",
                "thickness_factor": 1,
                "directed": true
              },
              {
                "id": 1155193095629832200,
                "start": 121,
                "end": 161,
                "properties": {
                  "label": "REQUIRES"
                },
                "label": "REQUIRES",
                "color": "#9C27B0",
                "thickness_factor": 1,
                "directed": true
              },
              {
                "id": 1157444895443517400,
                "start": 121,
                "end": 165,
                "properties": {
                  "label": "REQUIRES"
                },
                "label": "REQUIRES",
                "color": "#9C27B0",
                "thickness_factor": 1,
                "directed": true
              },
              {
                "id": 1159696695257202700,
                "start": 121,
                "end": 166,
                "properties": {
                  "label": "REQUIRES"
                },
                "label": "REQUIRES",
                "color": "#9C27B0",
                "thickness_factor": 1,
                "directed": true
              },
              {
                "id": 1161948495070888000,
                "start": 121,
                "end": 168,
                "properties": {
                  "label": "REQUIRES"
                },
                "label": "REQUIRES",
                "color": "#9C27B0",
                "thickness_factor": 1,
                "directed": true
              },
              {
                "id": 1152942395327774700,
                "start": 121,
                "end": 162,
                "properties": {
                  "label": "HOLDS"
                },
                "label": "HOLDS",
                "color": "#2196F3",
                "thickness_factor": 1,
                "directed": true
              },
              {
                "id": 1155194195141460000,
                "start": 121,
                "end": 163,
                "properties": {
                  "label": "HOLDS"
                },
                "label": "HOLDS",
                "color": "#2196F3",
                "thickness_factor": 1,
                "directed": true
              },
              {
                "id": 1157445994955145200,
                "start": 121,
                "end": 164,
                "properties": {
                  "label": "HOLDS"
                },
                "label": "HOLDS",
                "color": "#2196F3",
                "thickness_factor": 1,
                "directed": true
              },
              {
                "id": 1159697794768830500,
                "start": 121,
                "end": 167,
                "properties": {
                  "label": "HOLDS"
                },
                "label": "HOLDS",
                "color": "#2196F3",
                "thickness_factor": 1,
                "directed": true
              },
              {
                "id": 1152943494839402500,
                "start": 121,
                "end": 174,
                "properties": {
                  "label": "INVOLVED_IN"
                },
                "label": "INVOLVED_IN",
                "color": "#4CAF50",
                "thickness_factor": 1,
                "directed": true
              },
              {
                "id": 1152944594351030300,
                "start": 121,
                "end": 175,
                "properties": {
                  "label": "REQUESTED"
                },
                "label": "REQUESTED",
                "color": "#F44336",
                "thickness_factor": 1,
                "directed": true
              },
              {
                "id": 1152996271397535700,
                "start": 123,
                "end": 287,
                "properties": {
                  "label": "ADOPTS"
                },
                "label": "ADOPTS",
                "color": "#607D8B",
                "thickness_factor": 1,
                "directed": true
              },
              {
                "id": 1152945693862658300,
                "start": 177,
                "end": 180,
                "properties": {
                  "label": "DEFINED_BY"
                },
                "label": "DEFINED_BY",
                "color": "#673AB7",
                "thickness_factor": 1,
                "directed": true
              },
              {
                "id": 1155197493676343600,
                "start": 177,
                "end": 181,
                "properties": {
                  "label": "DEFINED_BY"
                },
                "label": "DEFINED_BY",
                "color": "#673AB7",
                "thickness_factor": 1,
                "directed": true
              },
              {
                "id": 1152946793374286000,
                "start": 177,
                "end": 182,
                "properties": {
                  "label": "ROLE_IN_ORGANIZATION"
                },
                "label": "ROLE_IN_ORGANIZATION",
                "color": "#CDDC39",
                "thickness_factor": 1,
                "directed": true
              },
              {
                "id": 1152947892885913900,
                "start": 182,
                "end": 183,
                "properties": {
                  "label": "FORMER_CIO_OF"
                },
                "label": "FORMER_CIO_OF",
                "color": "#9E9E9E",
                "thickness_factor": 1,
                "directed": true
              },
              {
                "id": 1166438900558725400,
                "start": 185,
                "end": 130,
                "properties": {
                  "label": "DIRECTS"
                },
                "label": "DIRECTS",
                "color": "#607D8B",
                "thickness_factor": 1,
                "directed": true
              },
              {
                "id": 1170942500186095900,
                "start": 185,
                "end": 195,
                "properties": {
                  "label": "DIRECTS"
                },
                "label": "DIRECTS",
                "color": "#607D8B",
                "thickness_factor": 1,
                "directed": true
              },
              {
                "id": 1177697899627151600,
                "start": 185,
                "end": 196,
                "properties": {
                  "label": "DIRECTS"
                },
                "label": "DIRECTS",
                "color": "#607D8B",
                "thickness_factor": 1,
                "directed": true
              },
              {
                "id": 1152928101676614000,
                "start": 185,
                "end": 198,
                "properties": {
                  "label": "DIRECTS"
                },
                "label": "DIRECTS",
                "color": "#607D8B",
                "thickness_factor": 1,
                "directed": true
              },
              {
                "id": 1155179901490299100,
                "start": 185,
                "end": 199,
                "properties": {
                  "label": "DIRECTS"
                },
                "label": "DIRECTS",
                "color": "#607D8B",
                "thickness_factor": 1,
                "directed": true
              },
              {
                "id": 1157431701303984400,
                "start": 185,
                "end": 200,
                "properties": {
                  "label": "DIRECTS"
                },
                "label": "DIRECTS",
                "color": "#607D8B",
                "thickness_factor": 1,
                "directed": true
              },
              {
                "id": 1159683501117669600,
                "start": 185,
                "end": 201,
                "properties": {
                  "label": "DIRECTS"
                },
                "label": "DIRECTS",
                "color": "#607D8B",
                "thickness_factor": 1,
                "directed": true
              },
              {
                "id": 1161935300931355000,
                "start": 185,
                "end": 202,
                "properties": {
                  "label": "DIRECTS"
                },
                "label": "DIRECTS",
                "color": "#607D8B",
                "thickness_factor": 1,
                "directed": true
              },
              {
                "id": 1164187100745040100,
                "start": 185,
                "end": 203,
                "properties": {
                  "label": "DIRECTS"
                },
                "label": "DIRECTS",
                "color": "#607D8B",
                "thickness_factor": 1,
                "directed": true
              },
              {
                "id": 1168690700372410600,
                "start": 185,
                "end": 204,
                "properties": {
                  "label": "DIRECTS"
                },
                "label": "DIRECTS",
                "color": "#607D8B",
                "thickness_factor": 1,
                "directed": true
              },
              {
                "id": 1173194299999781000,
                "start": 185,
                "end": 205,
                "properties": {
                  "label": "DIRECTS"
                },
                "label": "DIRECTS",
                "color": "#607D8B",
                "thickness_factor": 1,
                "directed": true
              },
              {
                "id": 1175446099813466400,
                "start": 185,
                "end": 206,
                "properties": {
                  "label": "DIRECTS"
                },
                "label": "DIRECTS",
                "color": "#607D8B",
                "thickness_factor": 1,
                "directed": true
              },
              {
                "id": 1152930300699869400,
                "start": 185,
                "end": 127,
                "properties": {
                  "label": "ESTABLISHES"
                },
                "label": "ESTABLISHES",
                "color": "#CDDC39",
                "thickness_factor": 1,
                "directed": true
              },
              {
                "id": 1155182100513554700,
                "start": 185,
                "end": 218,
                "properties": {
                  "label": "ESTABLISHES"
                },
                "label": "ESTABLISHES",
                "color": "#CDDC39",
                "thickness_factor": 1,
                "directed": true
              },
              {
                "id": 1152931400211497200,
                "start": 185,
                "end": 192,
                "properties": {
                  "label": "MANAGES"
                },
                "label": "MANAGES",
                "color": "#9E9E9E",
                "thickness_factor": 1,
                "directed": true
              },
              {
                "id": 1155183200025182500,
                "start": 185,
                "end": 193,
                "properties": {
                  "label": "MANAGES"
                },
                "label": "MANAGES",
                "color": "#9E9E9E",
                "thickness_factor": 1,
                "directed": true
              },
              {
                "id": 1157434999838867700,
                "start": 185,
                "end": 194,
                "properties": {
                  "label": "MANAGES"
                },
                "label": "MANAGES",
                "color": "#9E9E9E",
                "thickness_factor": 1,
                "directed": true
              },
              {
                "id": 1159686799652553000,
                "start": 185,
                "end": 195,
                "properties": {
                  "label": "MANAGES"
                },
                "label": "MANAGES",
                "color": "#9E9E9E",
                "thickness_factor": 1,
                "directed": true
              },
              {
                "id": 1161938599466238200,
                "start": 185,
                "end": 196,
                "properties": {
                  "label": "MANAGES"
                },
                "label": "MANAGES",
                "color": "#9E9E9E",
                "thickness_factor": 1,
                "directed": true
              },
              {
                "id": 1166443298605236500,
                "start": 185,
                "end": 132,
                "properties": {
                  "label": "ENSURES_PROTECTION_OF"
                },
                "label": "ENSURES_PROTECTION_OF",
                "color": "#9C27B0",
                "thickness_factor": 1,
                "directed": true
              },
              {
                "id": 1152932499723125000,
                "start": 185,
                "end": 135,
                "properties": {
                  "label": "ENSURES_PROTECTION_OF"
                },
                "label": "ENSURES_PROTECTION_OF",
                "color": "#9C27B0",
                "thickness_factor": 1,
                "directed": true
              },
              {
                "id": 1155184299536810200,
                "start": 185,
                "end": 230,
                "properties": {
                  "label": "ENSURES_PROTECTION_OF"
                },
                "label": "ENSURES_PROTECTION_OF",
                "color": "#9C27B0",
                "thickness_factor": 1,
                "directed": true
              },
              {
                "id": 1157436099350495500,
                "start": 185,
                "end": 231,
                "properties": {
                  "label": "ENSURES_PROTECTION_OF"
                },
                "label": "ENSURES_PROTECTION_OF",
                "color": "#9C27B0",
                "thickness_factor": 1,
                "directed": true
              },
              {
                "id": 1159687899164180700,
                "start": 185,
                "end": 232,
                "properties": {
                  "label": "ENSURES_PROTECTION_OF"
                },
                "label": "ENSURES_PROTECTION_OF",
                "color": "#9C27B0",
                "thickness_factor": 1,
                "directed": true
              },
              {
                "id": 1161939698977866000,
                "start": 185,
                "end": 233,
                "properties": {
                  "label": "ENSURES_PROTECTION_OF"
                },
                "label": "ENSURES_PROTECTION_OF",
                "color": "#9C27B0",
                "thickness_factor": 1,
                "directed": true
              },
              {
                "id": 1164191498791551200,
                "start": 185,
                "end": 234,
                "properties": {
                  "label": "ENSURES_PROTECTION_OF"
                },
                "label": "ENSURES_PROTECTION_OF",
                "color": "#9C27B0",
                "thickness_factor": 1,
                "directed": true
              },
              {
                "id": 1168695098418921700,
                "start": 185,
                "end": 235,
                "properties": {
                  "label": "ENSURES_PROTECTION_OF"
                },
                "label": "ENSURES_PROTECTION_OF",
                "color": "#9C27B0",
                "thickness_factor": 1,
                "directed": true
              },
              {
                "id": 1170946898232607000,
                "start": 185,
                "end": 236,
                "properties": {
                  "label": "ENSURES_PROTECTION_OF"
                },
                "label": "ENSURES_PROTECTION_OF",
                "color": "#9C27B0",
                "thickness_factor": 1,
                "directed": true
              },
              {
                "id": 1152933599234752800,
                "start": 185,
                "end": 189,
                "properties": {
                  "label": "PROTECTS"
                },
                "label": "PROTECTS",
                "color": "#2196F3",
                "thickness_factor": 1,
                "directed": true
              },
              {
                "id": 1155185399048438000,
                "start": 185,
                "end": 190,
                "properties": {
                  "label": "PROTECTS"
                },
                "label": "PROTECTS",
                "color": "#2196F3",
                "thickness_factor": 1,
                "directed": true
              },
              {
                "id": 1157437198862123300,
                "start": 185,
                "end": 191,
                "properties": {
                  "label": "PROTECTS"
                },
                "label": "PROTECTS",
                "color": "#2196F3",
                "thickness_factor": 1,
                "directed": true
              },
              {
                "id": 1152934698746380500,
                "start": 185,
                "end": 197,
                "properties": {
                  "label": "COLLABORATES_WITH"
                },
                "label": "COLLABORATES_WITH",
                "color": "#4CAF50",
                "thickness_factor": 1,
                "directed": true
              },
              {
                "id": 1152948992397541600,
                "start": 185,
                "end": 123,
                "properties": {
                  "label": "ACCOUNTABLE_FOR"
                },
                "label": "ACCOUNTABLE_FOR",
                "color": "#9C27B0",
                "thickness_factor": 1,
                "directed": true
              },
              {
                "id": 1152950091909169400,
                "start": 185,
                "end": 130,
                "properties": {
                  "label": "DEVELOPS_AND_OVERSEES"
                },
                "label": "DEVELOPS_AND_OVERSEES",
                "color": "#2196F3",
                "thickness_factor": 1,
                "directed": true
              },
              {
                "id": 1155201891722854700,
                "start": 185,
                "end": 186,
                "properties": {
                  "label": "DEVELOPS_AND_OVERSEES"
                },
                "label": "DEVELOPS_AND_OVERSEES",
                "color": "#2196F3",
                "thickness_factor": 1,
                "directed": true
              },
              {
                "id": 1152951191420797200,
                "start": 185,
                "end": 187,
                "properties": {
                  "label": "MITIGATES_AND_REDUCES"
                },
                "label": "MITIGATES_AND_REDUCES",
                "color": "#4CAF50",
                "thickness_factor": 1,
                "directed": true
              },
              {
                "id": 1152952290932425000,
                "start": 185,
                "end": 192,
                "properties": {
                  "label": "ENSURES"
                },
                "label": "ENSURES",
                "color": "#F44336",
                "thickness_factor": 1,
                "directed": true
              },
              {
                "id": 1155204090746110200,
                "start": 185,
                "end": 207,
                "properties": {
                  "label": "ENSURES"
                },
                "label": "ENSURES",
                "color": "#F44336",
                "thickness_factor": 1,
                "directed": true
              },
              {
                "id": 1157455890559795500,
                "start": 185,
                "end": 208,
                "properties": {
                  "label": "ENSURES"
                },
                "label": "ENSURES",
                "color": "#F44336",
                "thickness_factor": 1,
                "directed": true
              },
              {
                "id": 1159707690373480700,
                "start": 185,
                "end": 209,
                "properties": {
                  "label": "ENSURES"
                },
                "label": "ENSURES",
                "color": "#F44336",
                "thickness_factor": 1,
                "directed": true
              },
              {
                "id": 1161959490187166000,
                "start": 185,
                "end": 210,
                "properties": {
                  "label": "ENSURES"
                },
                "label": "ENSURES",
                "color": "#F44336",
                "thickness_factor": 1,
                "directed": true
              },
              {
                "id": 1164211290000851200,
                "start": 185,
                "end": 211,
                "properties": {
                  "label": "ENSURES"
                },
                "label": "ENSURES",
                "color": "#F44336",
                "thickness_factor": 1,
                "directed": true
              },
              {
                "id": 1152953390444052700,
                "start": 185,
                "end": 212,
                "properties": {
                  "label": "RESEARCHES_AND_DEPLOYS"
                },
                "label": "RESEARCHES_AND_DEPLOYS",
                "color": "#607D8B",
                "thickness_factor": 1,
                "directed": true
              },
              {
                "id": 1155205190257738000,
                "start": 185,
                "end": 213,
                "properties": {
                  "label": "RESEARCHES_AND_DEPLOYS"
                },
                "label": "RESEARCHES_AND_DEPLOYS",
                "color": "#607D8B",
                "thickness_factor": 1,
                "directed": true
              },
              {
                "id": 1152954489955680500,
                "start": 185,
                "end": 214,
                "properties": {
                  "label": "SAFEGUARDS"
                },
                "label": "SAFEGUARDS",
                "color": "#673AB7",
                "thickness_factor": 1,
                "directed": true
              },
              {
                "id": 1155206289769365800,
                "start": 185,
                "end": 215,
                "properties": {
                  "label": "SAFEGUARDS"
                },
                "label": "SAFEGUARDS",
                "color": "#673AB7",
                "thickness_factor": 1,
                "directed": true
              },
              {
                "id": 1157458089583051000,
                "start": 185,
                "end": 216,
                "properties": {
                  "label": "SAFEGUARDS"
                },
                "label": "SAFEGUARDS",
                "color": "#673AB7",
                "thickness_factor": 1,
                "directed": true
              },
              {
                "id": 1159709889396736300,
                "start": 185,
                "end": 217,
                "properties": {
                  "label": "SAFEGUARDS"
                },
                "label": "SAFEGUARDS",
                "color": "#673AB7",
                "thickness_factor": 1,
                "directed": true
              },
              {
                "id": 1152955589467308300,
                "start": 185,
                "end": 219,
                "properties": {
                  "label": "DEVELOPS_RELATIONSHIPS_WITH"
                },
                "label": "DEVELOPS_RELATIONSHIPS_WITH",
                "color": "#CDDC39",
                "thickness_factor": 1,
                "directed": true
              },
              {
                "id": 1155207389280993500,
                "start": 185,
                "end": 220,
                "properties": {
                  "label": "DEVELOPS_RELATIONSHIPS_WITH"
                },
                "label": "DEVELOPS_RELATIONSHIPS_WITH",
                "color": "#CDDC39",
                "thickness_factor": 1,
                "directed": true
              },
              {
                "id": 1157459189094678800,
                "start": 185,
                "end": 221,
                "properties": {
                  "label": "DEVELOPS_RELATIONSHIPS_WITH"
                },
                "label": "DEVELOPS_RELATIONSHIPS_WITH",
                "color": "#CDDC39",
                "thickness_factor": 1,
                "directed": true
              },
              {
                "id": 1159710988908364000,
                "start": 185,
                "end": 222,
                "properties": {
                  "label": "DEVELOPS_RELATIONSHIPS_WITH"
                },
                "label": "DEVELOPS_RELATIONSHIPS_WITH",
                "color": "#CDDC39",
                "thickness_factor": 1,
                "directed": true
              },
              {
                "id": 1161962788722049300,
                "start": 185,
                "end": 223,
                "properties": {
                  "label": "DEVELOPS_RELATIONSHIPS_WITH"
                },
                "label": "DEVELOPS_RELATIONSHIPS_WITH",
                "color": "#CDDC39",
                "thickness_factor": 1,
                "directed": true
              },
              {
                "id": 1164214588535734500,
                "start": 185,
                "end": 224,
                "properties": {
                  "label": "DEVELOPS_RELATIONSHIPS_WITH"
                },
                "label": "DEVELOPS_RELATIONSHIPS_WITH",
                "color": "#CDDC39",
                "thickness_factor": 1,
                "directed": true
              },
              {
                "id": 1166466388349419800,
                "start": 185,
                "end": 225,
                "properties": {
                  "label": "DEVELOPS_RELATIONSHIPS_WITH"
                },
                "label": "DEVELOPS_RELATIONSHIPS_WITH",
                "color": "#CDDC39",
                "thickness_factor": 1,
                "directed": true
              },
              {
                "id": 1155208488792621300,
                "start": 185,
                "end": 214,
                "properties": {
                  "label": "COORDINATES_AND_IMPLEMENTS"
                },
                "label": "COORDINATES_AND_IMPLEMENTS",
                "color": "#9E9E9E",
                "thickness_factor": 1,
                "directed": true
              },
              {
                "id": 1152956688978936000,
                "start": 185,
                "end": 226,
                "properties": {
                  "label": "COORDINATES_AND_IMPLEMENTS"
                },
                "label": "COORDINATES_AND_IMPLEMENTS",
                "color": "#9E9E9E",
                "thickness_factor": 1,
                "directed": true
              },
              {
                "id": 1159712088419991800,
                "start": 185,
                "end": 227,
                "properties": {
                  "label": "COORDINATES_AND_IMPLEMENTS"
                },
                "label": "COORDINATES_AND_IMPLEMENTS",
                "color": "#9E9E9E",
                "thickness_factor": 1,
                "directed": true
              },
              {
                "id": 1161963888233677000,
                "start": 185,
                "end": 228,
                "properties": {
                  "label": "COORDINATES_AND_IMPLEMENTS"
                },
                "label": "COORDINATES_AND_IMPLEMENTS",
                "color": "#9E9E9E",
                "thickness_factor": 1,
                "directed": true
              },
              {
                "id": 1164215688047362300,
                "start": 185,
                "end": 229,
                "properties": {
                  "label": "COORDINATES_AND_IMPLEMENTS"
                },
                "label": "COORDINATES_AND_IMPLEMENTS",
                "color": "#9E9E9E",
                "thickness_factor": 1,
                "directed": true
              },
              {
                "id": 1157460288606306600,
                "start": 185,
                "end": 254,
                "properties": {
                  "label": "COORDINATES_AND_IMPLEMENTS"
                },
                "label": "COORDINATES_AND_IMPLEMENTS",
                "color": "#9E9E9E",
                "thickness_factor": 1,
                "directed": true
              },
              {
                "id": 1166468587372675300,
                "start": 185,
                "end": 121,
                "properties": {
                  "label": "INVOLVES_IN"
                },
                "label": "INVOLVES_IN",
                "color": "#9C27B0",
                "thickness_factor": 1,
                "directed": true
              },
              {
                "id": 1164216787558990000,
                "start": 185,
                "end": 122,
                "properties": {
                  "label": "INVOLVES_IN"
                },
                "label": "INVOLVES_IN",
                "color": "#9C27B0",
                "thickness_factor": 1,
                "directed": true
              },
              {
                "id": 1152957788490563800,
                "start": 185,
                "end": 237,
                "properties": {
                  "label": "INVOLVES_IN"
                },
                "label": "INVOLVES_IN",
                "color": "#9C27B0",
                "thickness_factor": 1,
                "directed": true
              },
              {
                "id": 1155209588304249000,
                "start": 185,
                "end": 238,
                "properties": {
                  "label": "INVOLVES_IN"
                },
                "label": "INVOLVES_IN",
                "color": "#9C27B0",
                "thickness_factor": 1,
                "directed": true
              },
              {
                "id": 1157461388117934300,
                "start": 185,
                "end": 239,
                "properties": {
                  "label": "INVOLVES_IN"
                },
                "label": "INVOLVES_IN",
                "color": "#9C27B0",
                "thickness_factor": 1,
                "directed": true
              },
              {
                "id": 1159713187931619600,
                "start": 185,
                "end": 241,
                "properties": {
                  "label": "INVOLVES_IN"
                },
                "label": "INVOLVES_IN",
                "color": "#9C27B0",
                "thickness_factor": 1,
                "directed": true
              },
              {
                "id": 1161964987745304800,
                "start": 185,
                "end": 242,
                "properties": {
                  "label": "INVOLVES_IN"
                },
                "label": "INVOLVES_IN",
                "color": "#9C27B0",
                "thickness_factor": 1,
                "directed": true
              },
              {
                "id": 1152958888002191600,
                "start": 185,
                "end": 243,
                "properties": {
                  "label": "ADDRESSES_RISK_ISSUES_ACROSS"
                },
                "label": "ADDRESSES_RISK_ISSUES_ACROSS",
                "color": "#2196F3",
                "thickness_factor": 1,
                "directed": true
              },
              {
                "id": 1152936897769636000,
                "start": 256,
                "end": 262,
                "properties": {
                  "label": "REPORTS_TO"
                },
                "label": "REPORTS_TO",
                "color": "#607D8B",
                "thickness_factor": 1,
                "directed": true
              },
              {
                "id": 1152959987513819400,
                "start": 256,
                "end": 257,
                "properties": {
                  "label": "POSITIONED_IN"
                },
                "label": "POSITIONED_IN",
                "color": "#4CAF50",
                "thickness_factor": 1,
                "directed": true
              },
              {
                "id": 1155211787327504600,
                "start": 256,
                "end": 264,
                "properties": {
                  "label": "POSITIONED_IN"
                },
                "label": "POSITIONED_IN",
                "color": "#4CAF50",
                "thickness_factor": 1,
                "directed": true
              },
              {
                "id": 1152961087025447200,
                "start": 258,
                "end": 256,
                "properties": {
                  "label": "APPOINTED_TO"
                },
                "label": "APPOINTED_TO",
                "color": "#F44336",
                "thickness_factor": 1,
                "directed": true
              },
              {
                "id": 1152961087025447200,
                "start": 259,
                "end": 261,
                "properties": {
                  "label": "APPOINTED_TO"
                },
                "label": "APPOINTED_TO",
                "color": "#F44336",
                "thickness_factor": 1,
                "directed": true
              },
              {
                "id": 1152962186537075000,
                "start": 259,
                "end": 256,
                "properties": {
                  "label": "REPLACED"
                },
                "label": "REPLACED",
                "color": "#607D8B",
                "thickness_factor": 1,
                "directed": true
              },
              {
                "id": 1152961087025447200,
                "start": 260,
                "end": 256,
                "properties": {
                  "label": "APPOINTED_TO"
                },
                "label": "APPOINTED_TO",
                "color": "#F44336",
                "thickness_factor": 1,
                "directed": true
              },
              {
                "id": 1155212886839132400,
                "start": 260,
                "end": 261,
                "properties": {
                  "label": "APPOINTED_TO"
                },
                "label": "APPOINTED_TO",
                "color": "#F44336",
                "thickness_factor": 1,
                "directed": true
              },
              {
                "id": 6919796220617556000,
                "start": 263,
                "end": 256,
                "properties": {
                  "label": "REPORTS_TO"
                },
                "label": "REPORTS_TO",
                "color": "#607D8B",
                "thickness_factor": 1,
                "directed": true
              },
              {
                "id": 1152963286048702700,
                "start": 266,
                "end": 177,
                "properties": {
                  "label": "SIMILAR_ROLE"
                },
                "label": "SIMILAR_ROLE",
                "color": "#673AB7",
                "thickness_factor": 1,
                "directed": true
              },
              {
                "id": 1152964385560330500,
                "start": 266,
                "end": 267,
                "properties": {
                  "label": "ORIGINATED_ROLE"
                },
                "label": "ORIGINATED_ROLE",
                "color": "#CDDC39",
                "thickness_factor": 1,
                "directed": true
              },
              {
                "id": 1152969883118469400,
                "start": 266,
                "end": 272,
                "properties": {
                  "label": "INTERACTION_WITH_ROLE"
                },
                "label": "INTERACTION_WITH_ROLE",
                "color": "#9E9E9E",
                "thickness_factor": 1,
                "directed": true
              },
              {
                "id": 1155221682932154600,
                "start": 266,
                "end": 273,
                "properties": {
                  "label": "INTERACTION_WITH_ROLE"
                },
                "label": "INTERACTION_WITH_ROLE",
                "color": "#9E9E9E",
                "thickness_factor": 1,
                "directed": true
              },
              {
                "id": 1157473482745839900,
                "start": 266,
                "end": 274,
                "properties": {
                  "label": "INTERACTION_WITH_ROLE"
                },
                "label": "INTERACTION_WITH_ROLE",
                "color": "#9E9E9E",
                "thickness_factor": 1,
                "directed": true
              },
              {
                "id": 1159725282559525000,
                "start": 266,
                "end": 275,
                "properties": {
                  "label": "INTERACTION_WITH_ROLE"
                },
                "label": "INTERACTION_WITH_ROLE",
                "color": "#9E9E9E",
                "thickness_factor": 1,
                "directed": true
              },
              {
                "id": 1152965485071958300,
                "start": 267,
                "end": 269,
                "properties": {
                  "label": "REPORTING_RELATIONSHIP"
                },
                "label": "REPORTING_RELATIONSHIP",
                "color": "#9C27B0",
                "thickness_factor": 1,
                "directed": true
              },
              {
                "id": 1152966584583586000,
                "start": 267,
                "end": 268,
                "properties": {
                  "label": "RESPONSIBILITY_RELATIONSHIP"
                },
                "label": "RESPONSIBILITY_RELATIONSHIP",
                "color": "#2196F3",
                "thickness_factor": 1,
                "directed": true
              },
              {
                "id": 1152966584583586000,
                "start": 268,
                "end": 270,
                "properties": {
                  "label": "RESPONSIBILITY_RELATIONSHIP"
                },
                "label": "RESPONSIBILITY_RELATIONSHIP",
                "color": "#2196F3",
                "thickness_factor": 1,
                "directed": true
              },
              {
                "id": 1152967684095213800,
                "start": 270,
                "end": 271,
                "properties": {
                  "label": "EVOLUTION_OF_ROLE"
                },
                "label": "EVOLUTION_OF_ROLE",
                "color": "#4CAF50",
                "thickness_factor": 1,
                "directed": true
              },
              {
                "id": 1152968783606841600,
                "start": 271,
                "end": 266,
                "properties": {
                  "label": "CREATION_OF_ROLE"
                },
                "label": "CREATION_OF_ROLE",
                "color": "#F44336",
                "thickness_factor": 1,
                "directed": true
              },
              {
                "id": 1152970982630097200,
                "start": 277,
                "end": 279,
                "properties": {
                  "label": "COINED_AND_DESCRIBED_IN"
                },
                "label": "COINED_AND_DESCRIBED_IN",
                "color": "#607D8B",
                "thickness_factor": 1,
                "directed": true
              },
              {
                "id": 1155223881955410200,
                "start": 277,
                "end": 177,
                "properties": {
                  "label": "RELATED_TO"
                },
                "label": "RELATED_TO",
                "color": "#673AB7",
                "thickness_factor": 1,
                "directed": true
              },
              {
                "id": 1157475681769095400,
                "start": 277,
                "end": 266,
                "properties": {
                  "label": "RELATED_TO"
                },
                "label": "RELATED_TO",
                "color": "#673AB7",
                "thickness_factor": 1,
                "directed": true
              },
              {
                "id": 1152972082141725000,
                "start": 277,
                "end": 278,
                "properties": {
                  "label": "RELATED_TO"
                },
                "label": "RELATED_TO",
                "color": "#673AB7",
                "thickness_factor": 1,
                "directed": true
              },
              {
                "id": 1159688998675808500,
                "start": 281,
                "end": 215,
                "properties": {
                  "label": "PROTECTS"
                },
                "label": "PROTECTS",
                "color": "#2196F3",
                "thickness_factor": 1,
                "directed": true
              },
              {
                "id": 1152933599234752800,
                "start": 281,
                "end": 282,
                "properties": {
                  "label": "PROTECTS"
                },
                "label": "PROTECTS",
                "color": "#2196F3",
                "thickness_factor": 1,
                "directed": true
              },
              {
                "id": 1155185399048438000,
                "start": 281,
                "end": 283,
                "properties": {
                  "label": "PROTECTS"
                },
                "label": "PROTECTS",
                "color": "#2196F3",
                "thickness_factor": 1,
                "directed": true
              },
              {
                "id": 1157437198862123300,
                "start": 281,
                "end": 284,
                "properties": {
                  "label": "PROTECTS"
                },
                "label": "PROTECTS",
                "color": "#2196F3",
                "thickness_factor": 1,
                "directed": true
              },
              {
                "id": 1152943494839402800,
                "start": 281,
                "end": 294,
                "properties": {
                  "label": "INVOLVED_IN"
                },
                "label": "INVOLVED_IN",
                "color": "#4CAF50",
                "thickness_factor": 1,
                "directed": true
              },
              {
                "id": 1152973181653352700,
                "start": 281,
                "end": 123,
                "properties": {
                  "label": "DEFINES_AND_MANAGES_CONTROLS"
                },
                "label": "DEFINES_AND_MANAGES_CONTROLS",
                "color": "#CDDC39",
                "thickness_factor": 1,
                "directed": true
              },
              {
                "id": 1152974281164980500,
                "start": 281,
                "end": 287,
                "properties": {
                  "label": "INCLUDES"
                },
                "label": "INCLUDES",
                "color": "#9E9E9E",
                "thickness_factor": 1,
                "directed": true
              },
              {
                "id": 1155226080978665700,
                "start": 281,
                "end": 301,
                "properties": {
                  "label": "INCLUDES"
                },
                "label": "INCLUDES",
                "color": "#9E9E9E",
                "thickness_factor": 1,
                "directed": true
              },
              {
                "id": 1152978679211491600,
                "start": 281,
                "end": 288,
                "properties": {
                  "label": "INCLUDES_BEST_PRACTICES"
                },
                "label": "INCLUDES_BEST_PRACTICES",
                "color": "#9C27B0",
                "thickness_factor": 1,
                "directed": true
              },
              {
                "id": 1155230479025176800,
                "start": 281,
                "end": 289,
                "properties": {
                  "label": "INCLUDES_BEST_PRACTICES"
                },
                "label": "INCLUDES_BEST_PRACTICES",
                "color": "#9C27B0",
                "thickness_factor": 1,
                "directed": true
              },
              {
                "id": 1157482278838862000,
                "start": 281,
                "end": 290,
                "properties": {
                  "label": "INCLUDES_BEST_PRACTICES"
                },
                "label": "INCLUDES_BEST_PRACTICES",
                "color": "#9C27B0",
                "thickness_factor": 1,
                "directed": true
              },
              {
                "id": 1152986375792886000,
                "start": 285,
                "end": 292,
                "properties": {
                  "label": "EXAMPLE"
                },
                "label": "EXAMPLE",
                "color": "#2196F3",
                "thickness_factor": 1,
                "directed": true
              },
              {
                "id": 1155238175606571300,
                "start": 285,
                "end": 314,
                "properties": {
                  "label": "EXAMPLE"
                },
                "label": "EXAMPLE",
                "color": "#2196F3",
                "thickness_factor": 1,
                "directed": true
              },
              {
                "id": 1157489975420256500,
                "start": 285,
                "end": 315,
                "properties": {
                  "label": "EXAMPLE"
                },
                "label": "EXAMPLE",
                "color": "#2196F3",
                "thickness_factor": 1,
                "directed": true
              },
              {
                "id": 6917673063664320000,
                "start": 285,
                "end": 508,
                "properties": {
                  "label": "CLASSIFICATION"
                },
                "label": "CLASSIFICATION",
                "color": "#4CAF50",
                "thickness_factor": 1,
                "directed": true
              },
              {
                "id": 1153054545513808100,
                "start": 286,
                "end": 468,
                "properties": {
                  "label": "CONNECTION"
                },
                "label": "CONNECTION",
                "color": "#F44336",
                "thickness_factor": 1,
                "directed": true
              },
              {
                "id": 1157559244652806400,
                "start": 286,
                "end": 309,
                "properties": {
                  "label": "DESCRIPTION"
                },
                "label": "DESCRIPTION",
                "color": "#607D8B",
                "thickness_factor": 1,
                "directed": true
              },
              {
                "id": 1153055645025436000,
                "start": 286,
                "end": 469,
                "properties": {
                  "label": "DESCRIPTION"
                },
                "label": "DESCRIPTION",
                "color": "#607D8B",
                "thickness_factor": 1,
                "directed": true
              },
              {
                "id": 1155307444839121200,
                "start": 286,
                "end": 470,
                "properties": {
                  "label": "DESCRIPTION"
                },
                "label": "DESCRIPTION",
                "color": "#607D8B",
                "thickness_factor": 1,
                "directed": true
              },
              {
                "id": 1159811044466491600,
                "start": 286,
                "end": 471,
                "properties": {
                  "label": "DESCRIPTION"
                },
                "label": "DESCRIPTION",
                "color": "#607D8B",
                "thickness_factor": 1,
                "directed": true
              },
              {
                "id": 1162062844280177000,
                "start": 286,
                "end": 472,
                "properties": {
                  "label": "DESCRIPTION"
                },
                "label": "DESCRIPTION",
                "color": "#607D8B",
                "thickness_factor": 1,
                "directed": true
              },
              {
                "id": 1164314644093862100,
                "start": 286,
                "end": 473,
                "properties": {
                  "label": "DESCRIPTION"
                },
                "label": "DESCRIPTION",
                "color": "#607D8B",
                "thickness_factor": 1,
                "directed": true
              },
              {
                "id": 1166566443907547400,
                "start": 286,
                "end": 474,
                "properties": {
                  "label": "DESCRIPTION"
                },
                "label": "DESCRIPTION",
                "color": "#607D8B",
                "thickness_factor": 1,
                "directed": true
              },
              {
                "id": 1168818243721232600,
                "start": 286,
                "end": 475,
                "properties": {
                  "label": "DESCRIPTION"
                },
                "label": "DESCRIPTION",
                "color": "#607D8B",
                "thickness_factor": 1,
                "directed": true
              },
              {
                "id": 1171070043534918000,
                "start": 286,
                "end": 476,
                "properties": {
                  "label": "DESCRIPTION"
                },
                "label": "DESCRIPTION",
                "color": "#607D8B",
                "thickness_factor": 1,
                "directed": true
              },
              {
                "id": 1173321843348603100,
                "start": 286,
                "end": 477,
                "properties": {
                  "label": "DESCRIPTION"
                },
                "label": "DESCRIPTION",
                "color": "#607D8B",
                "thickness_factor": 1,
                "directed": true
              },
              {
                "id": 1175573643162288400,
                "start": 286,
                "end": 478,
                "properties": {
                  "label": "DESCRIPTION"
                },
                "label": "DESCRIPTION",
                "color": "#607D8B",
                "thickness_factor": 1,
                "directed": true
              },
              {
                "id": 1177825442975973600,
                "start": 286,
                "end": 479,
                "properties": {
                  "label": "DESCRIPTION"
                },
                "label": "DESCRIPTION",
                "color": "#607D8B",
                "thickness_factor": 1,
                "directed": true
              },
              {
                "id": 1180077242789659000,
                "start": 286,
                "end": 480,
                "properties": {
                  "label": "DESCRIPTION"
                },
                "label": "DESCRIPTION",
                "color": "#607D8B",
                "thickness_factor": 1,
                "directed": true
              },
              {
                "id": 1182329042603344100,
                "start": 286,
                "end": 481,
                "properties": {
                  "label": "DESCRIPTION"
                },
                "label": "DESCRIPTION",
                "color": "#607D8B",
                "thickness_factor": 1,
                "directed": true
              },
              {
                "id": 1184580842417029400,
                "start": 286,
                "end": 482,
                "properties": {
                  "label": "DESCRIPTION"
                },
                "label": "DESCRIPTION",
                "color": "#607D8B",
                "thickness_factor": 1,
                "directed": true
              },
              {
                "id": 1155183200025182500,
                "start": 287,
                "end": 283,
                "properties": {
                  "label": "MANAGES"
                },
                "label": "MANAGES",
                "color": "#9E9E9E",
                "thickness_factor": 1,
                "directed": true
              },
              {
                "id": 1152931400211497200,
                "start": 287,
                "end": 284,
                "properties": {
                  "label": "MANAGES"
                },
                "label": "MANAGES",
                "color": "#9E9E9E",
                "thickness_factor": 1,
                "directed": true
              },
              {
                "id": 6917538923245732000,
                "start": 287,
                "end": 321,
                "properties": {
                  "label": "MANAGES"
                },
                "label": "MANAGES",
                "color": "#9E9E9E",
                "thickness_factor": 1,
                "directed": true
              },
              {
                "id": 1152941295816147200,
                "start": 287,
                "end": 297,
                "properties": {
                  "label": "REQUIRES"
                },
                "label": "REQUIRES",
                "color": "#9C27B0",
                "thickness_factor": 1,
                "directed": true
              },
              {
                "id": 1155193095629832400,
                "start": 287,
                "end": 298,
                "properties": {
                  "label": "REQUIRES"
                },
                "label": "REQUIRES",
                "color": "#9C27B0",
                "thickness_factor": 1,
                "directed": true
              },
              {
                "id": 1152975380676608300,
                "start": 287,
                "end": 291,
                "properties": {
                  "label": "INVOLVES"
                },
                "label": "INVOLVES",
                "color": "#673AB7",
                "thickness_factor": 1,
                "directed": true
              },
              {
                "id": 6917582903710843000,
                "start": 287,
                "end": 316,
                "properties": {
                  "label": "INVOLVES"
                },
                "label": "INVOLVES",
                "color": "#673AB7",
                "thickness_factor": 1,
                "directed": true
              },
              {
                "id": 1152976480188236000,
                "start": 287,
                "end": 233,
                "properties": {
                  "label": "DISSEMINATES_RISKS_TO"
                },
                "label": "DISSEMINATES_RISKS_TO",
                "color": "#CDDC39",
                "thickness_factor": 1,
                "directed": true
              },
              {
                "id": 6917604893943398000,
                "start": 287,
                "end": 320,
                "properties": {
                  "label": "IDENTIFIES"
                },
                "label": "IDENTIFIES",
                "color": "#9E9E9E",
                "thickness_factor": 1,
                "directed": true
              },
              {
                "id": 1152979778723119400,
                "start": 291,
                "end": 285,
                "properties": {
                  "label": "ANALYZES"
                },
                "label": "ANALYZES",
                "color": "#9C27B0",
                "thickness_factor": 1,
                "directed": true
              },
              {
                "id": 1155231578536804600,
                "start": 291,
                "end": 286,
                "properties": {
                  "label": "ANALYZES"
                },
                "label": "ANALYZES",
                "color": "#9C27B0",
                "thickness_factor": 1,
                "directed": true
              },
              {
                "id": 1157483378350489900,
                "start": 291,
                "end": 311,
                "properties": {
                  "label": "ANALYZES"
                },
                "label": "ANALYZES",
                "color": "#9C27B0",
                "thickness_factor": 1,
                "directed": true
              },
              {
                "id": 6917597197362004000,
                "start": 291,
                "end": 313,
                "properties": {
                  "label": "DEPENDS_ON"
                },
                "label": "DEPENDS_ON",
                "color": "#2196F3",
                "thickness_factor": 1,
                "directed": true
              },
              {
                "id": 1152987475304513800,
                "start": 292,
                "end": 293,
                "properties": {
                  "label": "CRASHES_INTO"
                },
                "label": "CRASHES_INTO",
                "color": "#4CAF50",
                "thickness_factor": 1,
                "directed": true
              },
              {
                "id": 1152988574816141600,
                "start": 297,
                "end": 298,
                "properties": {
                  "label": "FOLLOWS"
                },
                "label": "FOLLOWS",
                "color": "#F44336",
                "thickness_factor": 1,
                "directed": true
              },
              {
                "id": 1155229379513549000,
                "start": 298,
                "end": 282,
                "properties": {
                  "label": "EVALUATING"
                },
                "label": "EVALUATING",
                "color": "#607D8B",
                "thickness_factor": 1,
                "directed": true
              },
              {
                "id": 1159732979140919600,
                "start": 298,
                "end": 283,
                "properties": {
                  "label": "EVALUATING"
                },
                "label": "EVALUATING",
                "color": "#607D8B",
                "thickness_factor": 1,
                "directed": true
              },
              {
                "id": 1157481179327234300,
                "start": 298,
                "end": 284,
                "properties": {
                  "label": "EVALUATING"
                },
                "label": "EVALUATING",
                "color": "#607D8B",
                "thickness_factor": 1,
                "directed": true
              },
              {
                "id": 1152977579699863800,
                "start": 298,
                "end": 299,
                "properties": {
                  "label": "EVALUATING"
                },
                "label": "EVALUATING",
                "color": "#607D8B",
                "thickness_factor": 1,
                "directed": true
              },
              {
                "id": 1161984778954604800,
                "start": 298,
                "end": 300,
                "properties": {
                  "label": "EVALUATING"
                },
                "label": "EVALUATING",
                "color": "#607D8B",
                "thickness_factor": 1,
                "directed": true
              },
              {
                "id": 1152952290932425000,
                "start": 301,
                "end": 130,
                "properties": {
                  "label": "ENSURES"
                },
                "label": "ENSURES",
                "color": "#F44336",
                "thickness_factor": 1,
                "directed": true
              },
              {
                "id": 1155204090746110200,
                "start": 301,
                "end": 131,
                "properties": {
                  "label": "ENSURES"
                },
                "label": "ENSURES",
                "color": "#F44336",
                "thickness_factor": 1,
                "directed": true
              },
              {
                "id": 1157455890559795500,
                "start": 301,
                "end": 303,
                "properties": {
                  "label": "ENSURES"
                },
                "label": "ENSURES",
                "color": "#F44336",
                "thickness_factor": 1,
                "directed": true
              },
              {
                "id": 1159707690373480700,
                "start": 301,
                "end": 304,
                "properties": {
                  "label": "ENSURES"
                },
                "label": "ENSURES",
                "color": "#F44336",
                "thickness_factor": 1,
                "directed": true
              },
              {
                "id": 1152992972862652700,
                "start": 301,
                "end": 123,
                "properties": {
                  "label": "REPRESENTS"
                },
                "label": "REPRESENTS",
                "color": "#673AB7",
                "thickness_factor": 1,
                "directed": true
              },
              {
                "id": 1152994072374280400,
                "start": 301,
                "end": 306,
                "properties": {
                  "label": "INFLUENCES"
                },
                "label": "INFLUENCES",
                "color": "#CDDC39",
                "thickness_factor": 1,
                "directed": true
              },
              {
                "id": 1155245872187965700,
                "start": 301,
                "end": 307,
                "properties": {
                  "label": "INFLUENCES"
                },
                "label": "INFLUENCES",
                "color": "#CDDC39",
                "thickness_factor": 1,
                "directed": true
              },
              {
                "id": 1152995171885908200,
                "start": 301,
                "end": 287,
                "properties": {
                  "label": "INCLUDES_STRATEGIES"
                },
                "label": "INCLUDES_STRATEGIES",
                "color": "#9E9E9E",
                "thickness_factor": 1,
                "directed": true
              },
              {
                "id": 1152998470420791600,
                "start": 308,
                "end": 309,
                "properties": {
                  "label": "AFFECTS"
                },
                "label": "AFFECTS",
                "color": "#9C27B0",
                "thickness_factor": 1,
                "directed": true
              },
              {
                "id": 6917605993455026000,
                "start": 308,
                "end": 322,
                "properties": {
                  "label": "AFFECTS"
                },
                "label": "AFFECTS",
                "color": "#9C27B0",
                "thickness_factor": 1,
                "directed": true
              },
              {
                "id": 1155250270234476800,
                "start": 308,
                "end": 323,
                "properties": {
                  "label": "AFFECTS"
                },
                "label": "AFFECTS",
                "color": "#9C27B0",
                "thickness_factor": 1,
                "directed": true
              },
              {
                "id": 6917607092966654000,
                "start": 308,
                "end": 324,
                "properties": {
                  "label": "CONSIDERS"
                },
                "label": "CONSIDERS",
                "color": "#2196F3",
                "thickness_factor": 1,
                "directed": true
              },
              {
                "id": 1152974281164980500,
                "start": 309,
                "end": 310,
                "properties": {
                  "label": "INCLUDES"
                },
                "label": "INCLUDES",
                "color": "#9E9E9E",
                "thickness_factor": 1,
                "directed": true
              },
              {
                "id": 1152980878234747100,
                "start": 311,
                "end": 132,
                "properties": {
                  "label": "ASSESS_POTENTIAL_DAMAGE"
                },
                "label": "ASSESS_POTENTIAL_DAMAGE",
                "color": "#4CAF50",
                "thickness_factor": 1,
                "directed": true
              },
              {
                "id": 1152981977746375000,
                "start": 311,
                "end": 285,
                "properties": {
                  "label": "ASSESS_RISK"
                },
                "label": "ASSESS_RISK",
                "color": "#F44336",
                "thickness_factor": 1,
                "directed": true
              },
              {
                "id": 1155233777560060200,
                "start": 311,
                "end": 286,
                "properties": {
                  "label": "ASSESS_RISK"
                },
                "label": "ASSESS_RISK",
                "color": "#F44336",
                "thickness_factor": 1,
                "directed": true
              },
              {
                "id": 1152983077258002700,
                "start": 311,
                "end": 317,
                "properties": {
                  "label": "MAY_BE_PART_OF"
                },
                "label": "MAY_BE_PART_OF",
                "color": "#607D8B",
                "thickness_factor": 1,
                "directed": true
              },
              {
                "id": 1152984176769630500,
                "start": 311,
                "end": 312,
                "properties": {
                  "label": "MINIMIZES"
                },
                "label": "MINIMIZES",
                "color": "#673AB7",
                "thickness_factor": 1,
                "directed": true
              },
              {
                "id": 1152985276281258200,
                "start": 312,
                "end": 285,
                "properties": {
                  "label": "PROPOSED_METHOD"
                },
                "label": "PROPOSED_METHOD",
                "color": "#CDDC39",
                "thickness_factor": 1,
                "directed": true
              },
              {
                "id": 1155237076094943500,
                "start": 312,
                "end": 286,
                "properties": {
                  "label": "PROPOSED_METHOD"
                },
                "label": "PROPOSED_METHOD",
                "color": "#CDDC39",
                "thickness_factor": 1,
                "directed": true
              },
              {
                "id": 1152990773839397000,
                "start": 313,
                "end": 285,
                "properties": {
                  "label": "RESIDES_IN"
                },
                "label": "RESIDES_IN",
                "color": "#9E9E9E",
                "thickness_factor": 1,
                "directed": true
              },
              {
                "id": 1155242573653082400,
                "start": 313,
                "end": 286,
                "properties": {
                  "label": "RESIDES_IN"
                },
                "label": "RESIDES_IN",
                "color": "#9E9E9E",
                "thickness_factor": 1,
                "directed": true
              },
              {
                "id": 1152991873351025000,
                "start": 314,
                "end": 318,
                "properties": {
                  "label": "THREATENS"
                },
                "label": "THREATENS",
                "color": "#9C27B0",
                "thickness_factor": 1,
                "directed": true
              },
              {
                "id": 1152991873351025000,
                "start": 315,
                "end": 319,
                "properties": {
                  "label": "THREATENS"
                },
                "label": "THREATENS",
                "color": "#9C27B0",
                "thickness_factor": 1,
                "directed": true
              },
              {
                "id": 1153000669444047000,
                "start": 326,
                "end": 327,
                "properties": {
                  "label": "DIRECTOR-GENERAL"
                },
                "label": "DIRECTOR-GENERAL",
                "color": "#2196F3",
                "thickness_factor": 1,
                "directed": true
              },
              {
                "id": 1155252469257732400,
                "start": 326,
                "end": 328,
                "properties": {
                  "label": "DIRECTOR-GENERAL"
                },
                "label": "DIRECTOR-GENERAL",
                "color": "#2196F3",
                "thickness_factor": 1,
                "directed": true
              },
              {
                "id": 1153001768955675000,
                "start": 326,
                "end": 329,
                "properties": {
                  "label": "BIRTHPLACE"
                },
                "label": "BIRTHPLACE",
                "color": "#4CAF50",
                "thickness_factor": 1,
                "directed": true
              },
              {
                "id": 1153002868467302700,
                "start": 326,
                "end": 330,
                "properties": {
                  "label": "IMMIGRATED_TO"
                },
                "label": "IMMIGRATED_TO",
                "color": "#F44336",
                "thickness_factor": 1,
                "directed": true
              },
              {
                "id": 1153003967978930400,
                "start": 326,
                "end": 331,
                "properties": {
                  "label": "EDUCATION"
                },
                "label": "EDUCATION",
                "color": "#607D8B",
                "thickness_factor": 1,
                "directed": true
              },
              {
                "id": 1153005067490558200,
                "start": 326,
                "end": 332,
                "properties": {
                  "label": "WORKED_AT_AS_CHIEF_INFORMATION_SECURITY_OFFICER"
                },
                "label": "WORKED_AT_AS_CHIEF_INFORMATION_SECURITY_OFFICER",
                "color": "#673AB7",
                "thickness_factor": 1,
                "directed": true
              },
              {
                "id": 1153006167002186000,
                "start": 326,
                "end": 333,
                "properties": {
                  "label": "SERVED_ON"
                },
                "label": "SERVED_ON",
                "color": "#CDDC39",
                "thickness_factor": 1,
                "directed": true
              },
              {
                "id": 1153007266513813800,
                "start": 326,
                "end": 334,
                "properties": {
                  "label": "APPOINTED_BY"
                },
                "label": "APPOINTED_BY",
                "color": "#9E9E9E",
                "thickness_factor": 1,
                "directed": true
              },
              {
                "id": 1153008366025441500,
                "start": 326,
                "end": 335,
                "properties": {
                  "label": "ANNOUNCED_BY"
                },
                "label": "ANNOUNCED_BY",
                "color": "#9C27B0",
                "thickness_factor": 1,
                "directed": true
              },
              {
                "id": 1153009465537069300,
                "start": 337,
                "end": 345,
                "properties": {
                  "label": "COMPLIANCE_EFFORTS"
                },
                "label": "COMPLIANCE_EFFORTS",
                "color": "#2196F3",
                "thickness_factor": 1,
                "directed": true
              },
              {
                "id": 1155261265350754600,
                "start": 337,
                "end": 346,
                "properties": {
                  "label": "COMPLIANCE_EFFORTS"
                },
                "label": "COMPLIANCE_EFFORTS",
                "color": "#2196F3",
                "thickness_factor": 1,
                "directed": true
              },
              {
                "id": 1153010565048697000,
                "start": 337,
                "end": 342,
                "properties": {
                  "label": "ESTABLISHED_ROLE"
                },
                "label": "ESTABLISHED_ROLE",
                "color": "#4CAF50",
                "thickness_factor": 1,
                "directed": true
              },
              {
                "id": 1153011664560324900,
                "start": 337,
                "end": 343,
                "properties": {
                  "label": "INTERNET-ERA_ROLE"
                },
                "label": "INTERNET-ERA_ROLE",
                "color": "#F44336",
                "thickness_factor": 1,
                "directed": true
              },
              {
                "id": 1153012764071952600,
                "start": 337,
                "end": 344,
                "properties": {
                  "label": "IBM_CORPORATION_ROLE"
                },
                "label": "IBM_CORPORATION_ROLE",
                "color": "#607D8B",
                "thickness_factor": 1,
                "directed": true
              },
              {
                "id": 1153013863583580400,
                "start": 337,
                "end": 350,
                "properties": {
                  "label": "REPORTED_APPOINTMENTS"
                },
                "label": "REPORTED_APPOINTMENTS",
                "color": "#673AB7",
                "thickness_factor": 1,
                "directed": true
              },
              {
                "id": 1153014963095208200,
                "start": 337,
                "end": 353,
                "properties": {
                  "label": "FORMATION"
                },
                "label": "FORMATION",
                "color": "#CDDC39",
                "thickness_factor": 1,
                "directed": true
              },
              {
                "id": 1153016062606836000,
                "start": 342,
                "end": 347,
                "properties": {
                  "label": "FIRST_CPO_APPOINTMENT"
                },
                "label": "FIRST_CPO_APPOINTMENT",
                "color": "#9E9E9E",
                "thickness_factor": 1,
                "directed": true
              },
              {
                "id": 1153017162118463700,
                "start": 343,
                "end": 348,
                "properties": {
                  "label": "INTERNET-ERA_CPO_APPOINTMENT"
                },
                "label": "INTERNET-ERA_CPO_APPOINTMENT",
                "color": "#9C27B0",
                "thickness_factor": 1,
                "directed": true
              },
              {
                "id": 1153018261630091500,
                "start": 355,
                "end": 137,
                "properties": {
                  "label": "EXPERTISE"
                },
                "label": "EXPERTISE",
                "color": "#2196F3",
                "thickness_factor": 1,
                "directed": true
              },
              {
                "id": 1153019361141719300,
                "start": 355,
                "end": 356,
                "properties": {
                  "label": "CURRENT_JOB_TITLE"
                },
                "label": "CURRENT_JOB_TITLE",
                "color": "#4CAF50",
                "thickness_factor": 1,
                "directed": true
              },
              {
                "id": 1153020460653347000,
                "start": 355,
                "end": 357,
                "properties": {
                  "label": "WORKS_AT"
                },
                "label": "WORKS_AT",
                "color": "#F44336",
                "thickness_factor": 1,
                "directed": true
              },
              {
                "id": 1153021560164974800,
                "start": 355,
                "end": 358,
                "properties": {
                  "label": "ALUMNI_OF"
                },
                "label": "ALUMNI_OF",
                "color": "#607D8B",
                "thickness_factor": 1,
                "directed": true
              },
              {
                "id": 1153022659676602600,
                "start": 355,
                "end": 359,
                "properties": {
                  "label": "WORKED_AT"
                },
                "label": "WORKED_AT",
                "color": "#673AB7",
                "thickness_factor": 1,
                "directed": true
              },
              {
                "id": 1155274459490287900,
                "start": 355,
                "end": 360,
                "properties": {
                  "label": "WORKED_AT"
                },
                "label": "WORKED_AT",
                "color": "#673AB7",
                "thickness_factor": 1,
                "directed": true
              },
              {
                "id": 1157526259303973000,
                "start": 355,
                "end": 361,
                "properties": {
                  "label": "WORKED_AT"
                },
                "label": "WORKED_AT",
                "color": "#673AB7",
                "thickness_factor": 1,
                "directed": true
              },
              {
                "id": 1159778059117658400,
                "start": 355,
                "end": 362,
                "properties": {
                  "label": "WORKED_AT"
                },
                "label": "WORKED_AT",
                "color": "#673AB7",
                "thickness_factor": 1,
                "directed": true
              },
              {
                "id": 1153023759188230400,
                "start": 355,
                "end": 363,
                "properties": {
                  "label": "CHAIRPERSON_OF"
                },
                "label": "CHAIRPERSON_OF",
                "color": "#CDDC39",
                "thickness_factor": 1,
                "directed": true
              },
              {
                "id": 1153024858699858200,
                "start": 355,
                "end": 364,
                "properties": {
                  "label": "FACULTY_AT"
                },
                "label": "FACULTY_AT",
                "color": "#9E9E9E",
                "thickness_factor": 1,
                "directed": true
              },
              {
                "id": 1153025958211486000,
                "start": 355,
                "end": 365,
                "properties": {
                  "label": "VICE_CHAIR_OF"
                },
                "label": "VICE_CHAIR_OF",
                "color": "#9C27B0",
                "thickness_factor": 1,
                "directed": true
              },
              {
                "id": 1153027057723113700,
                "start": 355,
                "end": 366,
                "properties": {
                  "label": "MEMBER_OF"
                },
                "label": "MEMBER_OF",
                "color": "#2196F3",
                "thickness_factor": 1,
                "directed": true
              },
              {
                "id": 1153028157234741500,
                "start": 355,
                "end": 367,
                "properties": {
                  "label": "SELECTED_AS"
                },
                "label": "SELECTED_AS",
                "color": "#4CAF50",
                "thickness_factor": 1,
                "directed": true
              },
              {
                "id": 1153029256746369300,
                "start": 369,
                "end": 371,
                "properties": {
                  "label": "OUTLINE_TECHNIQUES"
                },
                "label": "OUTLINE_TECHNIQUES",
                "color": "#F44336",
                "thickness_factor": 1,
                "directed": true
              },
              {
                "id": 1153030356257997000,
                "start": 369,
                "end": 372,
                "properties": {
                  "label": "PROTECT"
                },
                "label": "PROTECT",
                "color": "#607D8B",
                "thickness_factor": 1,
                "directed": true
              },
              {
                "id": 1153032555281252600,
                "start": 369,
                "end": 383,
                "properties": {
                  "label": "REDUCE"
                },
                "label": "REDUCE",
                "color": "#673AB7",
                "thickness_factor": 1,
                "directed": true
              },
              {
                "id": 1175552752441360600,
                "start": 371,
                "end": 129,
                "properties": {
                  "label": "CONSIST_OF"
                },
                "label": "CONSIST_OF",
                "color": "#CDDC39",
                "thickness_factor": 1,
                "directed": true
              },
              {
                "id": 1155286554118193400,
                "start": 371,
                "end": 130,
                "properties": {
                  "label": "CONSIST_OF"
                },
                "label": "CONSIST_OF",
                "color": "#CDDC39",
                "thickness_factor": 1,
                "directed": true
              },
              {
                "id": 1153034754304508200,
                "start": 371,
                "end": 385,
                "properties": {
                  "label": "CONSIST_OF"
                },
                "label": "CONSIST_OF",
                "color": "#CDDC39",
                "thickness_factor": 1,
                "directed": true
              },
              {
                "id": 1157538353931878700,
                "start": 371,
                "end": 386,
                "properties": {
                  "label": "CONSIST_OF"
                },
                "label": "CONSIST_OF",
                "color": "#CDDC39",
                "thickness_factor": 1,
                "directed": true
              },
              {
                "id": 1159790153745564000,
                "start": 371,
                "end": 387,
                "properties": {
                  "label": "CONSIST_OF"
                },
                "label": "CONSIST_OF",
                "color": "#CDDC39",
                "thickness_factor": 1,
                "directed": true
              },
              {
                "id": 1162041953559249200,
                "start": 371,
                "end": 388,
                "properties": {
                  "label": "CONSIST_OF"
                },
                "label": "CONSIST_OF",
                "color": "#CDDC39",
                "thickness_factor": 1,
                "directed": true
              },
              {
                "id": 1164293753372934400,
                "start": 371,
                "end": 389,
                "properties": {
                  "label": "CONSIST_OF"
                },
                "label": "CONSIST_OF",
                "color": "#CDDC39",
                "thickness_factor": 1,
                "directed": true
              },
              {
                "id": 1166545553186619600,
                "start": 371,
                "end": 390,
                "properties": {
                  "label": "CONSIST_OF"
                },
                "label": "CONSIST_OF",
                "color": "#CDDC39",
                "thickness_factor": 1,
                "directed": true
              },
              {
                "id": 1168797353000305000,
                "start": 371,
                "end": 391,
                "properties": {
                  "label": "CONSIST_OF"
                },
                "label": "CONSIST_OF",
                "color": "#CDDC39",
                "thickness_factor": 1,
                "directed": true
              },
              {
                "id": 1171049152813990100,
                "start": 371,
                "end": 392,
                "properties": {
                  "label": "CONSIST_OF"
                },
                "label": "CONSIST_OF",
                "color": "#CDDC39",
                "thickness_factor": 1,
                "directed": true
              },
              {
                "id": 1173300952627675400,
                "start": 371,
                "end": 393,
                "properties": {
                  "label": "CONSIST_OF"
                },
                "label": "CONSIST_OF",
                "color": "#CDDC39",
                "thickness_factor": 1,
                "directed": true
              },
              {
                "id": 1155283255583310000,
                "start": 372,
                "end": 123,
                "properties": {
                  "label": "INCLUDE"
                },
                "label": "INCLUDE",
                "color": "#9E9E9E",
                "thickness_factor": 1,
                "directed": true
              },
              {
                "id": 1164290454838051000,
                "start": 372,
                "end": 307,
                "properties": {
                  "label": "INCLUDE"
                },
                "label": "INCLUDE",
                "color": "#9E9E9E",
                "thickness_factor": 1,
                "directed": true
              },
              {
                "id": 1153031455769624800,
                "start": 372,
                "end": 373,
                "properties": {
                  "label": "INCLUDE"
                },
                "label": "INCLUDE",
                "color": "#9E9E9E",
                "thickness_factor": 1,
                "directed": true
              },
              {
                "id": 1157535055396995300,
                "start": 372,
                "end": 374,
                "properties": {
                  "label": "INCLUDE"
                },
                "label": "INCLUDE",
                "color": "#9E9E9E",
                "thickness_factor": 1,
                "directed": true
              },
              {
                "id": 1159786855210680600,
                "start": 372,
                "end": 375,
                "properties": {
                  "label": "INCLUDE"
                },
                "label": "INCLUDE",
                "color": "#9E9E9E",
                "thickness_factor": 1,
                "directed": true
              },
              {
                "id": 1162038655024365800,
                "start": 372,
                "end": 376,
                "properties": {
                  "label": "INCLUDE"
                },
                "label": "INCLUDE",
                "color": "#9E9E9E",
                "thickness_factor": 1,
                "directed": true
              },
              {
                "id": 1166542254651736300,
                "start": 372,
                "end": 377,
                "properties": {
                  "label": "INCLUDE"
                },
                "label": "INCLUDE",
                "color": "#9E9E9E",
                "thickness_factor": 1,
                "directed": true
              },
              {
                "id": 1168794054465421600,
                "start": 372,
                "end": 378,
                "properties": {
                  "label": "INCLUDE"
                },
                "label": "INCLUDE",
                "color": "#9E9E9E",
                "thickness_factor": 1,
                "directed": true
              },
              {
                "id": 1171045854279106800,
                "start": 372,
                "end": 379,
                "properties": {
                  "label": "INCLUDE"
                },
                "label": "INCLUDE",
                "color": "#9E9E9E",
                "thickness_factor": 1,
                "directed": true
              },
              {
                "id": 1173297654092792000,
                "start": 372,
                "end": 380,
                "properties": {
                  "label": "INCLUDE"
                },
                "label": "INCLUDE",
                "color": "#9E9E9E",
                "thickness_factor": 1,
                "directed": true
              },
              {
                "id": 1175549453906477300,
                "start": 372,
                "end": 381,
                "properties": {
                  "label": "INCLUDE"
                },
                "label": "INCLUDE",
                "color": "#9E9E9E",
                "thickness_factor": 1,
                "directed": true
              },
              {
                "id": 1177801253720162600,
                "start": 372,
                "end": 382,
                "properties": {
                  "label": "INCLUDE"
                },
                "label": "INCLUDE",
                "color": "#9E9E9E",
                "thickness_factor": 1,
                "directed": true
              },
              {
                "id": 1153033654792880400,
                "start": 383,
                "end": 384,
                "properties": {
                  "label": "PREVENT_OR_MITIGATE"
                },
                "label": "PREVENT_OR_MITIGATE",
                "color": "#9C27B0",
                "thickness_factor": 1,
                "directed": true
              },
              {
                "id": 1153035853816136200,
                "start": 394,
                "end": 370,
                "properties": {
                  "label": "EXIST_OVER_DECADES"
                },
                "label": "EXIST_OVER_DECADES",
                "color": "#2196F3",
                "thickness_factor": 1,
                "directed": true
              },
              {
                "id": 1153036953327764000,
                "start": 395,
                "end": 396,
                "properties": {
                  "label": "COLLABORATE"
                },
                "label": "COLLABORATE",
                "color": "#4CAF50",
                "thickness_factor": 1,
                "directed": true
              },
              {
                "id": 1155288753141449200,
                "start": 395,
                "end": 398,
                "properties": {
                  "label": "COLLABORATE"
                },
                "label": "COLLABORATE",
                "color": "#4CAF50",
                "thickness_factor": 1,
                "directed": true
              },
              {
                "id": 1153038052839391700,
                "start": 396,
                "end": 399,
                "properties": {
                  "label": "EFFECT"
                },
                "label": "EFFECT",
                "color": "#F44336",
                "thickness_factor": 1,
                "directed": true
              },
              {
                "id": 1153039152351019500,
                "start": 399,
                "end": 400,
                "properties": {
                  "label": "EMERGING"
                },
                "label": "EMERGING",
                "color": "#607D8B",
                "thickness_factor": 1,
                "directed": true
              },
              {
                "id": 1153039152351019500,
                "start": 401,
                "end": 370,
                "properties": {
                  "label": "EMERGING"
                },
                "label": "EMERGING",
                "color": "#607D8B",
                "thickness_factor": 1,
                "directed": true
              },
              {
                "id": 1153040251862647300,
                "start": 402,
                "end": 403,
                "properties": {
                  "label": "REPORT_AS_POPULAR_BEST_PRACTICE"
                },
                "label": "REPORT_AS_POPULAR_BEST_PRACTICE",
                "color": "#673AB7",
                "thickness_factor": 1,
                "directed": true
              },
              {
                "id": 1153041351374275000,
                "start": 403,
                "end": 241,
                "properties": {
                  "label": "ADOPT_BY_SURVEYED"
                },
                "label": "ADOPT_BY_SURVEYED",
                "color": "#CDDC39",
                "thickness_factor": 1,
                "directed": true
              },
              {
                "id": 1153042450885902800,
                "start": 403,
                "end": 404,
                "properties": {
                  "label": "FOR"
                },
                "label": "FOR",
                "color": "#9E9E9E",
                "thickness_factor": 1,
                "directed": true
              },
              {
                "id": 1153043550397530600,
                "start": 405,
                "end": 406,
                "properties": {
                  "label": "BY"
                },
                "label": "BY",
                "color": "#9C27B0",
                "thickness_factor": 1,
                "directed": true
              },
              {
                "id": 1153044649909158400,
                "start": 406,
                "end": 407,
                "properties": {
                  "label": "COUNTER"
                },
                "label": "COUNTER",
                "color": "#2196F3",
                "thickness_factor": 1,
                "directed": true
              },
              {
                "id": 1153045749420786200,
                "start": 407,
                "end": 408,
                "properties": {
                  "label": "ON"
                },
                "label": "ON",
                "color": "#4CAF50",
                "thickness_factor": 1,
                "directed": true
              },
              {
                "id": 1153046848932414000,
                "start": 408,
                "end": 409,
                "properties": {
                  "label": "RAISE"
                },
                "label": "RAISE",
                "color": "#F44336",
                "thickness_factor": 1,
                "directed": true
              },
              {
                "id": 1153047948444041700,
                "start": 409,
                "end": 410,
                "properties": {
                  "label": "REMAIN_UNANSWERED"
                },
                "label": "REMAIN_UNANSWERED",
                "color": "#607D8B",
                "thickness_factor": 1,
                "directed": true
              },
              {
                "id": 1153049047955669500,
                "start": 410,
                "end": 411,
                "properties": {
                  "label": "BETWEEN"
                },
                "label": "BETWEEN",
                "color": "#673AB7",
                "thickness_factor": 1,
                "directed": true
              },
              {
                "id": 1155300847769354800,
                "start": 410,
                "end": 412,
                "properties": {
                  "label": "BETWEEN"
                },
                "label": "BETWEEN",
                "color": "#673AB7",
                "thickness_factor": 1,
                "directed": true
              },
              {
                "id": 1153050147467297300,
                "start": 412,
                "end": 413,
                "properties": {
                  "label": "PROVIDE"
                },
                "label": "PROVIDE",
                "color": "#CDDC39",
                "thickness_factor": 1,
                "directed": true
              },
              {
                "id": 1153051246978925000,
                "start": 436,
                "end": 137,
                "properties": {
                  "label": "PROTECTION"
                },
                "label": "PROTECTION",
                "color": "#9E9E9E",
                "thickness_factor": 1,
                "directed": true
              },
              {
                "id": 1155303046792610300,
                "start": 436,
                "end": 237,
                "properties": {
                  "label": "PROTECTION"
                },
                "label": "PROTECTION",
                "color": "#9E9E9E",
                "thickness_factor": 1,
                "directed": true
              },
              {
                "id": 1162058446233666000,
                "start": 436,
                "end": 374,
                "properties": {
                  "label": "PROTECTION"
                },
                "label": "PROTECTION",
                "color": "#9E9E9E",
                "thickness_factor": 1,
                "directed": true
              },
              {
                "id": 1157554846606295600,
                "start": 436,
                "end": 437,
                "properties": {
                  "label": "PROTECTION"
                },
                "label": "PROTECTION",
                "color": "#9E9E9E",
                "thickness_factor": 1,
                "directed": true
              },
              {
                "id": 1159806646419980800,
                "start": 436,
                "end": 438,
                "properties": {
                  "label": "PROTECTION"
                },
                "label": "PROTECTION",
                "color": "#9E9E9E",
                "thickness_factor": 1,
                "directed": true
              },
              {
                "id": 1164310246047351300,
                "start": 436,
                "end": 439,
                "properties": {
                  "label": "PROTECTION"
                },
                "label": "PROTECTION",
                "color": "#9E9E9E",
                "thickness_factor": 1,
                "directed": true
              },
              {
                "id": 1166562045861036500,
                "start": 436,
                "end": 440,
                "properties": {
                  "label": "PROTECTION"
                },
                "label": "PROTECTION",
                "color": "#9E9E9E",
                "thickness_factor": 1,
                "directed": true
              },
              {
                "id": 1168813845674721800,
                "start": 436,
                "end": 441,
                "properties": {
                  "label": "PROTECTION"
                },
                "label": "PROTECTION",
                "color": "#9E9E9E",
                "thickness_factor": 1,
                "directed": true
              },
              {
                "id": 1171065645488407000,
                "start": 436,
                "end": 442,
                "properties": {
                  "label": "PROTECTION"
                },
                "label": "PROTECTION",
                "color": "#9E9E9E",
                "thickness_factor": 1,
                "directed": true
              },
              {
                "id": 1173317445302092300,
                "start": 436,
                "end": 443,
                "properties": {
                  "label": "PROTECTION"
                },
                "label": "PROTECTION",
                "color": "#9E9E9E",
                "thickness_factor": 1,
                "directed": true
              },
              {
                "id": 1175569245115777500,
                "start": 436,
                "end": 444,
                "properties": {
                  "label": "PROTECTION"
                },
                "label": "PROTECTION",
                "color": "#9E9E9E",
                "thickness_factor": 1,
                "directed": true
              },
              {
                "id": 1177821044929462800,
                "start": 436,
                "end": 445,
                "properties": {
                  "label": "PROTECTION"
                },
                "label": "PROTECTION",
                "color": "#9E9E9E",
                "thickness_factor": 1,
                "directed": true
              },
              {
                "id": 1180072844743148000,
                "start": 436,
                "end": 446,
                "properties": {
                  "label": "PROTECTION"
                },
                "label": "PROTECTION",
                "color": "#9E9E9E",
                "thickness_factor": 1,
                "directed": true
              },
              {
                "id": 1153052346490552800,
                "start": 436,
                "end": 447,
                "properties": {
                  "label": "SIGNIFICANCE"
                },
                "label": "SIGNIFICANCE",
                "color": "#9C27B0",
                "thickness_factor": 1,
                "directed": true
              },
              {
                "id": 1155304146304238000,
                "start": 436,
                "end": 448,
                "properties": {
                  "label": "SIGNIFICANCE"
                },
                "label": "SIGNIFICANCE",
                "color": "#9C27B0",
                "thickness_factor": 1,
                "directed": true
              },
              {
                "id": 1157555946117923300,
                "start": 436,
                "end": 451,
                "properties": {
                  "label": "SIGNIFICANCE"
                },
                "label": "SIGNIFICANCE",
                "color": "#9C27B0",
                "thickness_factor": 1,
                "directed": true
              },
              {
                "id": 1159807745931608600,
                "start": 436,
                "end": 455,
                "properties": {
                  "label": "SIGNIFICANCE"
                },
                "label": "SIGNIFICANCE",
                "color": "#9C27B0",
                "thickness_factor": 1,
                "directed": true
              },
              {
                "id": 1162059545745293800,
                "start": 436,
                "end": 456,
                "properties": {
                  "label": "SIGNIFICANCE"
                },
                "label": "SIGNIFICANCE",
                "color": "#9C27B0",
                "thickness_factor": 1,
                "directed": true
              },
              {
                "id": 1164311345558979000,
                "start": 436,
                "end": 457,
                "properties": {
                  "label": "SIGNIFICANCE"
                },
                "label": "SIGNIFICANCE",
                "color": "#9C27B0",
                "thickness_factor": 1,
                "directed": true
              },
              {
                "id": 1166563145372664300,
                "start": 436,
                "end": 458,
                "properties": {
                  "label": "SIGNIFICANCE"
                },
                "label": "SIGNIFICANCE",
                "color": "#9C27B0",
                "thickness_factor": 1,
                "directed": true
              },
              {
                "id": 1168814945186349600,
                "start": 436,
                "end": 459,
                "properties": {
                  "label": "SIGNIFICANCE"
                },
                "label": "SIGNIFICANCE",
                "color": "#9C27B0",
                "thickness_factor": 1,
                "directed": true
              },
              {
                "id": 1171066745000034800,
                "start": 436,
                "end": 460,
                "properties": {
                  "label": "SIGNIFICANCE"
                },
                "label": "SIGNIFICANCE",
                "color": "#9C27B0",
                "thickness_factor": 1,
                "directed": true
              },
              {
                "id": 1173318544813720000,
                "start": 436,
                "end": 461,
                "properties": {
                  "label": "SIGNIFICANCE"
                },
                "label": "SIGNIFICANCE",
                "color": "#9C27B0",
                "thickness_factor": 1,
                "directed": true
              },
              {
                "id": 1175570344627405300,
                "start": 436,
                "end": 462,
                "properties": {
                  "label": "SIGNIFICANCE"
                },
                "label": "SIGNIFICANCE",
                "color": "#9C27B0",
                "thickness_factor": 1,
                "directed": true
              },
              {
                "id": 1153053446002180600,
                "start": 436,
                "end": 463,
                "properties": {
                  "label": "INVOLVEMENT"
                },
                "label": "INVOLVEMENT",
                "color": "#2196F3",
                "thickness_factor": 1,
                "directed": true
              },
              {
                "id": 1155305245815865900,
                "start": 436,
                "end": 466,
                "properties": {
                  "label": "INVOLVEMENT"
                },
                "label": "INVOLVEMENT",
                "color": "#2196F3",
                "thickness_factor": 1,
                "directed": true
              },
              {
                "id": 1153064441118458400,
                "start": 475,
                "end": 507,
                "properties": {
                  "label": "AGAINST"
                },
                "label": "AGAINST",
                "color": "#4CAF50",
                "thickness_factor": 1,
                "directed": true
              },
              {
                "id": 1153056744537064000,
                "start": 483,
                "end": 484,
                "properties": {
                  "label": "PUBLICATION"
                },
                "label": "PUBLICATION",
                "color": "#F44336",
                "thickness_factor": 1,
                "directed": true
              },
              {
                "id": 1153057844048691700,
                "start": 483,
                "end": 485,
                "properties": {
                  "label": "SURVEYED"
                },
                "label": "SURVEYED",
                "color": "#607D8B",
                "thickness_factor": 1,
                "directed": true
              },
              {
                "id": 1155309643862377000,
                "start": 483,
                "end": 486,
                "properties": {
                  "label": "SURVEYED"
                },
                "label": "SURVEYED",
                "color": "#607D8B",
                "thickness_factor": 1,
                "directed": true
              },
              {
                "id": 1157561443676062200,
                "start": 483,
                "end": 487,
                "properties": {
                  "label": "SURVEYED"
                },
                "label": "SURVEYED",
                "color": "#607D8B",
                "thickness_factor": 1,
                "directed": true
              },
              {
                "id": 1153058943560319500,
                "start": 484,
                "end": 488,
                "properties": {
                  "label": "FINDINGS"
                },
                "label": "FINDINGS",
                "color": "#673AB7",
                "thickness_factor": 1,
                "directed": true
              },
              {
                "id": 1153060043071947300,
                "start": 485,
                "end": 488,
                "properties": {
                  "label": "RECALL"
                },
                "label": "RECALL",
                "color": "#CDDC39",
                "thickness_factor": 1,
                "directed": true
              },
              {
                "id": 1153061142583575000,
                "start": 485,
                "end": 489,
                "properties": {
                  "label": "COMPARISON"
                },
                "label": "COMPARISON",
                "color": "#9E9E9E",
                "thickness_factor": 1,
                "directed": true
              },
              {
                "id": 1155312942397260300,
                "start": 485,
                "end": 490,
                "properties": {
                  "label": "COMPARISON"
                },
                "label": "COMPARISON",
                "color": "#9E9E9E",
                "thickness_factor": 1,
                "directed": true
              },
              {
                "id": 1157564742210945500,
                "start": 485,
                "end": 491,
                "properties": {
                  "label": "COMPARISON"
                },
                "label": "COMPARISON",
                "color": "#9E9E9E",
                "thickness_factor": 1,
                "directed": true
              },
              {
                "id": 1159816542024630800,
                "start": 485,
                "end": 492,
                "properties": {
                  "label": "COMPARISON"
                },
                "label": "COMPARISON",
                "color": "#9E9E9E",
                "thickness_factor": 1,
                "directed": true
              },
              {
                "id": 1162068341838316000,
                "start": 485,
                "end": 493,
                "properties": {
                  "label": "COMPARISON"
                },
                "label": "COMPARISON",
                "color": "#9E9E9E",
                "thickness_factor": 1,
                "directed": true
              },
              {
                "id": 1164320141652001300,
                "start": 485,
                "end": 494,
                "properties": {
                  "label": "COMPARISON"
                },
                "label": "COMPARISON",
                "color": "#9E9E9E",
                "thickness_factor": 1,
                "directed": true
              },
              {
                "id": 1153062242095202800,
                "start": 485,
                "end": 495,
                "properties": {
                  "label": "VULNERABILITY"
                },
                "label": "VULNERABILITY",
                "color": "#9C27B0",
                "thickness_factor": 1,
                "directed": true
              },
              {
                "id": 1155314041908888000,
                "start": 485,
                "end": 496,
                "properties": {
                  "label": "VULNERABILITY"
                },
                "label": "VULNERABILITY",
                "color": "#9C27B0",
                "thickness_factor": 1,
                "directed": true
              },
              {
                "id": 1157565841722573300,
                "start": 485,
                "end": 497,
                "properties": {
                  "label": "VULNERABILITY"
                },
                "label": "VULNERABILITY",
                "color": "#9C27B0",
                "thickness_factor": 1,
                "directed": true
              },
              {
                "id": 1159817641536258600,
                "start": 485,
                "end": 498,
                "properties": {
                  "label": "VULNERABILITY"
                },
                "label": "VULNERABILITY",
                "color": "#9C27B0",
                "thickness_factor": 1,
                "directed": true
              },
              {
                "id": 1162069441349943800,
                "start": 485,
                "end": 499,
                "properties": {
                  "label": "VULNERABILITY"
                },
                "label": "VULNERABILITY",
                "color": "#9C27B0",
                "thickness_factor": 1,
                "directed": true
              },
              {
                "id": 1153060043071947300,
                "start": 486,
                "end": 488,
                "properties": {
                  "label": "RECALL"
                },
                "label": "RECALL",
                "color": "#CDDC39",
                "thickness_factor": 1,
                "directed": true
              },
              {
                "id": 1153060043071947300,
                "start": 487,
                "end": 488,
                "properties": {
                  "label": "RECALL"
                },
                "label": "RECALL",
                "color": "#CDDC39",
                "thickness_factor": 1,
                "directed": true
              },
              {
                "id": 1153069938676597200,
                "start": 495,
                "end": 509,
                "properties": {
                  "label": "INSTALLATION"
                },
                "label": "INSTALLATION",
                "color": "#2196F3",
                "thickness_factor": 1,
                "directed": true
              },
              {
                "id": 1153071038188225000,
                "start": 495,
                "end": 524,
                "properties": {
                  "label": "OUTCOME"
                },
                "label": "OUTCOME",
                "color": "#4CAF50",
                "thickness_factor": 1,
                "directed": true
              },
              {
                "id": 1153063341606830600,
                "start": 500,
                "end": 501,
                "properties": {
                  "label": "AFFECTED_BY"
                },
                "label": "AFFECTED_BY",
                "color": "#F44336",
                "thickness_factor": 1,
                "directed": true
              },
              {
                "id": 1153066640141714000,
                "start": 508,
                "end": 509,
                "properties": {
                  "label": "CATEGORY"
                },
                "label": "CATEGORY",
                "color": "#607D8B",
                "thickness_factor": 1,
                "directed": true
              },
              {
                "id": 1155318439955399200,
                "start": 508,
                "end": 510,
                "properties": {
                  "label": "CATEGORY"
                },
                "label": "CATEGORY",
                "color": "#607D8B",
                "thickness_factor": 1,
                "directed": true
              },
              {
                "id": 1157570239769084400,
                "start": 508,
                "end": 511,
                "properties": {
                  "label": "CATEGORY"
                },
                "label": "CATEGORY",
                "color": "#607D8B",
                "thickness_factor": 1,
                "directed": true
              },
              {
                "id": 1153055645025436200,
                "start": 509,
                "end": 512,
                "properties": {
                  "label": "DESCRIPTION"
                },
                "label": "DESCRIPTION",
                "color": "#607D8B",
                "thickness_factor": 1,
                "directed": true
              },
              {
                "id": 1155307444839121400,
                "start": 509,
                "end": 513,
                "properties": {
                  "label": "DESCRIPTION"
                },
                "label": "DESCRIPTION",
                "color": "#607D8B",
                "thickness_factor": 1,
                "directed": true
              },
              {
                "id": 1157559244652806700,
                "start": 509,
                "end": 514,
                "properties": {
                  "label": "DESCRIPTION"
                },
                "label": "DESCRIPTION",
                "color": "#607D8B",
                "thickness_factor": 1,
                "directed": true
              },
              {
                "id": 1159811044466492000,
                "start": 509,
                "end": 515,
                "properties": {
                  "label": "DESCRIPTION"
                },
                "label": "DESCRIPTION",
                "color": "#607D8B",
                "thickness_factor": 1,
                "directed": true
              },
              {
                "id": 1153067739653341700,
                "start": 516,
                "end": 509,
                "properties": {
                  "label": "CONCERN"
                },
                "label": "CONCERN",
                "color": "#673AB7",
                "thickness_factor": 1,
                "directed": true
              },
              {
                "id": 1153067739653341700,
                "start": 517,
                "end": 509,
                "properties": {
                  "label": "CONCERN"
                },
                "label": "CONCERN",
                "color": "#673AB7",
                "thickness_factor": 1,
                "directed": true
              },
              {
                "id": 1153067739653341700,
                "start": 518,
                "end": 509,
                "properties": {
                  "label": "CONCERN"
                },
                "label": "CONCERN",
                "color": "#673AB7",
                "thickness_factor": 1,
                "directed": true
              },
              {
                "id": 1153068839164969500,
                "start": 519,
                "end": 520,
                "properties": {
                  "label": "PURPOSE"
                },
                "label": "PURPOSE",
                "color": "#CDDC39",
                "thickness_factor": 1,
                "directed": true
              },
              {
                "id": 1153068839164969500,
                "start": 521,
                "end": 522,
                "properties": {
                  "label": "PURPOSE"
                },
                "label": "PURPOSE",
                "color": "#CDDC39",
                "thickness_factor": 1,
                "directed": true
              },
              {
                "id": 1153069938676597200,
                "start": 523,
                "end": 495,
                "properties": {
                  "label": "INSTALLATION"
                },
                "label": "INSTALLATION",
                "color": "#2196F3",
                "thickness_factor": 1,
                "directed": true
              },
              {
                "id": 1153072137699852800,
                "start": 526,
                "end": 527,
                "properties": {
                  "label": "CISO"
                },
                "label": "CISO",
                "color": "#9E9E9E",
                "thickness_factor": 1,
                "directed": true
              },
              {
                "id": 1155323937513538000,
                "start": 526,
                "end": 533,
                "properties": {
                  "label": "CISO"
                },
                "label": "CISO",
                "color": "#9E9E9E",
                "thickness_factor": 1,
                "directed": true
              },
              {
                "id": 1153073237211480600,
                "start": 526,
                "end": 528,
                "properties": {
                  "label": "ATTENDED"
                },
                "label": "ATTENDED",
                "color": "#9C27B0",
                "thickness_factor": 1,
                "directed": true
              },
              {
                "id": 1153074336723108400,
                "start": 526,
                "end": 529,
                "properties": {
                  "label": "GRADUATED"
                },
                "label": "GRADUATED",
                "color": "#2196F3",
                "thickness_factor": 1,
                "directed": true
              },
              {
                "id": 1153075436234736000,
                "start": 526,
                "end": 530,
                "properties": {
                  "label": "INFORMATION_SECURITY_MANAGER"
                },
                "label": "INFORMATION_SECURITY_MANAGER",
                "color": "#4CAF50",
                "thickness_factor": 1,
                "directed": true
              },
              {
                "id": 1153076535746364000,
                "start": 526,
                "end": 531,
                "properties": {
                  "label": "GLOBAL_HEAD_OF_TECHNOLOGY_RISK_MANAGEMENT"
                },
                "label": "GLOBAL_HEAD_OF_TECHNOLOGY_RISK_MANAGEMENT",
                "color": "#F44336",
                "thickness_factor": 1,
                "directed": true
              },
              {
                "id": 1153077635257991700,
                "start": 526,
                "end": 532,
                "properties": {
                  "label": "MEMBER"
                },
                "label": "MEMBER",
                "color": "#607D8B",
                "thickness_factor": 1,
                "directed": true
              },
              {
                "id": 1153078734769619500,
                "start": 526,
                "end": 534,
                "properties": {
                  "label": "PARTNER"
                },
                "label": "PARTNER",
                "color": "#673AB7",
                "thickness_factor": 1,
                "directed": true
              },
              {
                "id": 1153079834281247200,
                "start": 526,
                "end": 535,
                "properties": {
                  "label": "LIFE_MEMBER"
                },
                "label": "LIFE_MEMBER",
                "color": "#CDDC39",
                "thickness_factor": 1,
                "directed": true
              },
              {
                "id": 1153080933792875000,
                "start": 526,
                "end": 536,
                "properties": {
                  "label": "COMMISSION_MEMBER"
                },
                "label": "COMMISSION_MEMBER",
                "color": "#9E9E9E",
                "thickness_factor": 1,
                "directed": true
              },
              {
                "id": 1153082033304502800,
                "start": 526,
                "end": 537,
                "properties": {
                  "label": "DIRECTOR"
                },
                "label": "DIRECTOR",
                "color": "#9C27B0",
                "thickness_factor": 1,
                "directed": true
              },
              {
                "id": 1155333833118188000,
                "start": 526,
                "end": 538,
                "properties": {
                  "label": "DIRECTOR"
                },
                "label": "DIRECTOR",
                "color": "#9C27B0",
                "thickness_factor": 1,
                "directed": true
              },
              {
                "id": 1157585632931873300,
                "start": 526,
                "end": 539,
                "properties": {
                  "label": "DIRECTOR"
                },
                "label": "DIRECTOR",
                "color": "#9C27B0",
                "thickness_factor": 1,
                "directed": true
              },
              {
                "id": 1153083132816130600,
                "start": 526,
                "end": 540,
                "properties": {
                  "label": "BOARD_MEMBER"
                },
                "label": "BOARD_MEMBER",
                "color": "#2196F3",
                "thickness_factor": 1,
                "directed": true
              },
              {
                "id": 1155334932629815800,
                "start": 526,
                "end": 541,
                "properties": {
                  "label": "BOARD_MEMBER"
                },
                "label": "BOARD_MEMBER",
                "color": "#2196F3",
                "thickness_factor": 1,
                "directed": true
              },
              {
                "id": 1153084232327758300,
                "start": 526,
                "end": 542,
                "properties": {
                  "label": "CO-CHAIR"
                },
                "label": "CO-CHAIR",
                "color": "#4CAF50",
                "thickness_factor": 1,
                "directed": true
              },
              {
                "id": 1153085331839386000,
                "start": 526,
                "end": 543,
                "properties": {
                  "label": "CO-FOUNDER"
                },
                "label": "CO-FOUNDER",
                "color": "#F44336",
                "thickness_factor": 1,
                "directed": true
              },
              {
                "id": 1153086431351014000,
                "start": 526,
                "end": 544,
                "properties": {
                  "label": "ADVISORY_BOARD_MEMBER"
                },
                "label": "ADVISORY_BOARD_MEMBER",
                "color": "#607D8B",
                "thickness_factor": 1,
                "directed": true
              },
              {
                "id": 1155338231164699100,
                "start": 526,
                "end": 545,
                "properties": {
                  "label": "ADVISORY_BOARD_MEMBER"
                },
                "label": "ADVISORY_BOARD_MEMBER",
                "color": "#607D8B",
                "thickness_factor": 1,
                "directed": true
              },
              {
                "id": 1153087530862641700,
                "start": 526,
                "end": 546,
                "properties": {
                  "label": "COUNCIL_MEMBER"
                },
                "label": "COUNCIL_MEMBER",
                "color": "#673AB7",
                "thickness_factor": 1,
                "directed": true
              },
              {
                "id": 1153088630374269400,
                "start": 526,
                "end": 547,
                "properties": {
                  "label": "AWARD_RECIPIENT"
                },
                "label": "AWARD_RECIPIENT",
                "color": "#CDDC39",
                "thickness_factor": 1,
                "directed": true
              },
              {
                "id": 1153089729885897200,
                "start": 526,
                "end": 548,
                "properties": {
                  "label": "RECIPIENT"
                },
                "label": "RECIPIENT",
                "color": "#9E9E9E",
                "thickness_factor": 1,
                "directed": true
              },
              {
                "id": 1155341529699582500,
                "start": 526,
                "end": 549,
                "properties": {
                  "label": "RECIPIENT"
                },
                "label": "RECIPIENT",
                "color": "#9E9E9E",
                "thickness_factor": 1,
                "directed": true
              },
              {
                "id": 1157593329513267700,
                "start": 526,
                "end": 550,
                "properties": {
                  "label": "RECIPIENT"
                },
                "label": "RECIPIENT",
                "color": "#9E9E9E",
                "thickness_factor": 1,
                "directed": true
              },
              {
                "id": 1152972082141725200,
                "start": 552,
                "end": 559,
                "properties": {
                  "label": "RELATED_TO"
                },
                "label": "RELATED_TO",
                "color": "#673AB7",
                "thickness_factor": 1,
                "directed": true
              },
              {
                "id": 1153090829397525000,
                "start": 552,
                "end": 553,
                "properties": {
                  "label": "PART_OF"
                },
                "label": "PART_OF",
                "color": "#9C27B0",
                "thickness_factor": 1,
                "directed": true
              },
              {
                "id": 1153091928909152800,
                "start": 552,
                "end": 554,
                "properties": {
                  "label": "HEADQUARTERED_IN"
                },
                "label": "HEADQUARTERED_IN",
                "color": "#2196F3",
                "thickness_factor": 1,
                "directed": true
              },
              {
                "id": 1153093028420780500,
                "start": 552,
                "end": 555,
                "properties": {
                  "label": "FUTURE_HEADQUARTERS"
                },
                "label": "FUTURE_HEADQUARTERS",
                "color": "#4CAF50",
                "thickness_factor": 1,
                "directed": true
              },
              {
                "id": 1153090829397525000,
                "start": 556,
                "end": 553,
                "properties": {
                  "label": "PART_OF"
                },
                "label": "PART_OF",
                "color": "#9C27B0",
                "thickness_factor": 1,
                "directed": true
              },
              {
                "id": 1153094127932408300,
                "start": 556,
                "end": 552,
                "properties": {
                  "label": "PREDECESSOR"
                },
                "label": "PREDECESSOR",
                "color": "#F44336",
                "thickness_factor": 1,
                "directed": true
              },
              {
                "id": 1153082033304502800,
                "start": 557,
                "end": 552,
                "properties": {
                  "label": "DIRECTOR"
                },
                "label": "DIRECTOR",
                "color": "#9C27B0",
                "thickness_factor": 1,
                "directed": true
              },
              {
                "id": 1153095227444036000,
                "start": 558,
                "end": 552,
                "properties": {
                  "label": "DEPUTY_DIRECTOR"
                },
                "label": "DEPUTY_DIRECTOR",
                "color": "#607D8B",
                "thickness_factor": 1,
                "directed": true
              },
              {
                "id": 1153096326955664000,
                "start": 560,
                "end": 552,
                "properties": {
                  "label": "MENTIONED_BY"
                },
                "label": "MENTIONED_BY",
                "color": "#673AB7",
                "thickness_factor": 1,
                "directed": true
              },
              {
                "id": 1153082033304502800,
                "start": 561,
                "end": 552,
                "properties": {
                  "label": "DIRECTOR"
                },
                "label": "DIRECTOR",
                "color": "#9C27B0",
                "thickness_factor": 1,
                "directed": true
              },
              {
                "id": 1153097426467291600,
                "start": 562,
                "end": 552,
                "properties": {
                  "label": "DELAYED_FLOOR_VOTE"
                },
                "label": "DELAYED_FLOOR_VOTE",
                "color": "#CDDC39",
                "thickness_factor": 1,
                "directed": true
              },
              {
                "id": 1153091928909152800,
                "start": 564,
                "end": 568,
                "properties": {
                  "label": "HEADQUARTERED_IN"
                },
                "label": "HEADQUARTERED_IN",
                "color": "#2196F3",
                "thickness_factor": 1,
                "directed": true
              },
              {
                "id": 1153098525978919400,
                "start": 564,
                "end": 565,
                "properties": {
                  "label": "FORMERLY"
                },
                "label": "FORMERLY",
                "color": "#9E9E9E",
                "thickness_factor": 1,
                "directed": true
              },
              {
                "id": 1153099625490547200,
                "start": 564,
                "end": 566,
                "properties": {
                  "label": "NATIONALITY"
                },
                "label": "NATIONALITY",
                "color": "#9C27B0",
                "thickness_factor": 1,
                "directed": true
              },
              {
                "id": 1153100725002175000,
                "start": 564,
                "end": 567,
                "properties": {
                  "label": "INCORPORATED_IN"
                },
                "label": "INCORPORATED_IN",
                "color": "#2196F3",
                "thickness_factor": 1,
                "directed": true
              },
              {
                "id": 1153101824513802800,
                "start": 564,
                "end": 569,
                "properties": {
                  "label": "SPECIALIZED_IN"
                },
                "label": "SPECIALIZED_IN",
                "color": "#4CAF50",
                "thickness_factor": 1,
                "directed": true
              },
              {
                "id": 1155353624327488000,
                "start": 564,
                "end": 570,
                "properties": {
                  "label": "SPECIALIZED_IN"
                },
                "label": "SPECIALIZED_IN",
                "color": "#4CAF50",
                "thickness_factor": 1,
                "directed": true
              },
              {
                "id": 1157605424141173200,
                "start": 564,
                "end": 571,
                "properties": {
                  "label": "SPECIALIZED_IN"
                },
                "label": "SPECIALIZED_IN",
                "color": "#4CAF50",
                "thickness_factor": 1,
                "directed": true
              },
              {
                "id": 1159857223954858500,
                "start": 564,
                "end": 572,
                "properties": {
                  "label": "SPECIALIZED_IN"
                },
                "label": "SPECIALIZED_IN",
                "color": "#4CAF50",
                "thickness_factor": 1,
                "directed": true
              },
              {
                "id": 1162109023768543700,
                "start": 564,
                "end": 573,
                "properties": {
                  "label": "SPECIALIZED_IN"
                },
                "label": "SPECIALIZED_IN",
                "color": "#4CAF50",
                "thickness_factor": 1,
                "directed": true
              },
              {
                "id": 1164360823582229000,
                "start": 564,
                "end": 574,
                "properties": {
                  "label": "SPECIALIZED_IN"
                },
                "label": "SPECIALIZED_IN",
                "color": "#4CAF50",
                "thickness_factor": 1,
                "directed": true
              },
              {
                "id": 1166612623395914200,
                "start": 564,
                "end": 575,
                "properties": {
                  "label": "SPECIALIZED_IN"
                },
                "label": "SPECIALIZED_IN",
                "color": "#4CAF50",
                "thickness_factor": 1,
                "directed": true
              },
              {
                "id": 1153102924025430500,
                "start": 564,
                "end": 576,
                "properties": {
                  "label": "FLAGSHIP_PRODUCT"
                },
                "label": "FLAGSHIP_PRODUCT",
                "color": "#F44336",
                "thickness_factor": 1,
                "directed": true
              },
              {
                "id": 1155354723839115800,
                "start": 564,
                "end": 577,
                "properties": {
                  "label": "FLAGSHIP_PRODUCT"
                },
                "label": "FLAGSHIP_PRODUCT",
                "color": "#F44336",
                "thickness_factor": 1,
                "directed": true
              },
              {
                "id": 1157606523652801000,
                "start": 564,
                "end": 578,
                "properties": {
                  "label": "FLAGSHIP_PRODUCT"
                },
                "label": "FLAGSHIP_PRODUCT",
                "color": "#F44336",
                "thickness_factor": 1,
                "directed": true
              },
              {
                "id": 1159858323466486300,
                "start": 564,
                "end": 579,
                "properties": {
                  "label": "FLAGSHIP_PRODUCT"
                },
                "label": "FLAGSHIP_PRODUCT",
                "color": "#F44336",
                "thickness_factor": 1,
                "directed": true
              },
              {
                "id": 1162110123280171500,
                "start": 564,
                "end": 580,
                "properties": {
                  "label": "FLAGSHIP_PRODUCT"
                },
                "label": "FLAGSHIP_PRODUCT",
                "color": "#F44336",
                "thickness_factor": 1,
                "directed": true
              },
              {
                "id": 1153104023537058300,
                "start": 564,
                "end": 581,
                "properties": {
                  "label": "PRODUCT_OFFERING"
                },
                "label": "PRODUCT_OFFERING",
                "color": "#607D8B",
                "thickness_factor": 1,
                "directed": true
              },
              {
                "id": 1155355823350743600,
                "start": 564,
                "end": 582,
                "properties": {
                  "label": "PRODUCT_OFFERING"
                },
                "label": "PRODUCT_OFFERING",
                "color": "#607D8B",
                "thickness_factor": 1,
                "directed": true
              },
              {
                "id": 1153105123048686000,
                "start": 564,
                "end": 583,
                "properties": {
                  "label": "EXPANDED_INTO"
                },
                "label": "EXPANDED_INTO",
                "color": "#673AB7",
                "thickness_factor": 1,
                "directed": true
              },
              {
                "id": 1153106222560313900,
                "start": 564,
                "end": 584,
                "properties": {
                  "label": "RECOGNIZED_AS_LEADER"
                },
                "label": "RECOGNIZED_AS_LEADER",
                "color": "#CDDC39",
                "thickness_factor": 1,
                "directed": true
              },
              {
                "id": 1153107322071941600,
                "start": 564,
                "end": 585,
                "properties": {
                  "label": "FOUNDER"
                },
                "label": "FOUNDER",
                "color": "#9E9E9E",
                "thickness_factor": 1,
                "directed": true
              },
              {
                "id": 1155359121885627000,
                "start": 564,
                "end": 586,
                "properties": {
                  "label": "FOUNDER"
                },
                "label": "FOUNDER",
                "color": "#9E9E9E",
                "thickness_factor": 1,
                "directed": true
              },
              {
                "id": 1153108421583569400,
                "start": 564,
                "end": 587,
                "properties": {
                  "label": "PREVIOUS_EMPLOYMENT"
                },
                "label": "PREVIOUS_EMPLOYMENT",
                "color": "#9C27B0",
                "thickness_factor": 1,
                "directed": true
              },
              {
                "id": 1153109521095197200,
                "start": 564,
                "end": 588,
                "properties": {
                  "label": "DEVELOPED"
                },
                "label": "DEVELOPED",
                "color": "#2196F3",
                "thickness_factor": 1,
                "directed": true
              },
              {
                "id": 1155361320908882400,
                "start": 564,
                "end": 594,
                "properties": {
                  "label": "DEVELOPED"
                },
                "label": "DEVELOPED",
                "color": "#2196F3",
                "thickness_factor": 1,
                "directed": true
              },
              {
                "id": 1157613120722567700,
                "start": 564,
                "end": 596,
                "properties": {
                  "label": "DEVELOPED"
                },
                "label": "DEVELOPED",
                "color": "#2196F3",
                "thickness_factor": 1,
                "directed": true
              },
              {
                "id": 1153113919141708300,
                "start": 564,
                "end": 592,
                "properties": {
                  "label": "ACQUIRED"
                },
                "label": "ACQUIRED",
                "color": "#4CAF50",
                "thickness_factor": 1,
                "directed": true
              },
              {
                "id": 1153116118164963800,
                "start": 564,
                "end": 597,
                "properties": {
                  "label": "DEVELOPMENT_OPERATIONS_IN"
                },
                "label": "DEVELOPMENT_OPERATIONS_IN",
                "color": "#F44336",
                "thickness_factor": 1,
                "directed": true
              },
              {
                "id": 1155367917978649000,
                "start": 564,
                "end": 598,
                "properties": {
                  "label": "DEVELOPMENT_OPERATIONS_IN"
                },
                "label": "DEVELOPMENT_OPERATIONS_IN",
                "color": "#F44336",
                "thickness_factor": 1,
                "directed": true
              },
              {
                "id": 1157619717792334300,
                "start": 564,
                "end": 599,
                "properties": {
                  "label": "DEVELOPMENT_OPERATIONS_IN"
                },
                "label": "DEVELOPMENT_OPERATIONS_IN",
                "color": "#F44336",
                "thickness_factor": 1,
                "directed": true
              },
              {
                "id": 1159871517606019600,
                "start": 564,
                "end": 600,
                "properties": {
                  "label": "DEVELOPMENT_OPERATIONS_IN"
                },
                "label": "DEVELOPMENT_OPERATIONS_IN",
                "color": "#F44336",
                "thickness_factor": 1,
                "directed": true
              },
              {
                "id": 1162123317419704800,
                "start": 564,
                "end": 601,
                "properties": {
                  "label": "DEVELOPMENT_OPERATIONS_IN"
                },
                "label": "DEVELOPMENT_OPERATIONS_IN",
                "color": "#F44336",
                "thickness_factor": 1,
                "directed": true
              },
              {
                "id": 1164375117233390000,
                "start": 564,
                "end": 602,
                "properties": {
                  "label": "DEVELOPMENT_OPERATIONS_IN"
                },
                "label": "DEVELOPMENT_OPERATIONS_IN",
                "color": "#F44336",
                "thickness_factor": 1,
                "directed": true
              },
              {
                "id": 1166626917047075300,
                "start": 564,
                "end": 603,
                "properties": {
                  "label": "DEVELOPMENT_OPERATIONS_IN"
                },
                "label": "DEVELOPMENT_OPERATIONS_IN",
                "color": "#F44336",
                "thickness_factor": 1,
                "directed": true
              },
              {
                "id": 1168878716860760600,
                "start": 564,
                "end": 604,
                "properties": {
                  "label": "DEVELOPMENT_OPERATIONS_IN"
                },
                "label": "DEVELOPMENT_OPERATIONS_IN",
                "color": "#F44336",
                "thickness_factor": 1,
                "directed": true
              },
              {
                "id": 1171130516674445800,
                "start": 564,
                "end": 605,
                "properties": {
                  "label": "DEVELOPMENT_OPERATIONS_IN"
                },
                "label": "DEVELOPMENT_OPERATIONS_IN",
                "color": "#F44336",
                "thickness_factor": 1,
                "directed": true
              },
              {
                "id": 1153110620606825000,
                "start": 589,
                "end": 588,
                "properties": {
                  "label": "LICENSED"
                },
                "label": "LICENSED",
                "color": "#607D8B",
                "thickness_factor": 1,
                "directed": true
              },
              {
                "id": 1153111720118452700,
                "start": 589,
                "end": 590,
                "properties": {
                  "label": "USED_IN"
                },
                "label": "USED_IN",
                "color": "#673AB7",
                "thickness_factor": 1,
                "directed": true
              },
              {
                "id": 1153112819630080500,
                "start": 591,
                "end": 589,
                "properties": {
                  "label": "SPARKED_BY"
                },
                "label": "SPARKED_BY",
                "color": "#CDDC39",
                "thickness_factor": 1,
                "directed": true
              },
              {
                "id": 1153113919141708300,
                "start": 592,
                "end": 593,
                "properties": {
                  "label": "ACQUIRED"
                },
                "label": "ACQUIRED",
                "color": "#4CAF50",
                "thickness_factor": 1,
                "directed": true
              },
              {
                "id": 1153115018653336000,
                "start": 594,
                "end": 595,
                "properties": {
                  "label": "REBRANDED_AS"
                },
                "label": "REBRANDED_AS",
                "color": "#9E9E9E",
                "thickness_factor": 1,
                "directed": true
              },
              {
                "id": 1153117217676591600,
                "start": 606,
                "end": 564,
                "properties": {
                  "label": "ATTEMPTED_TO_BUY"
                },
                "label": "ATTEMPTED_TO_BUY",
                "color": "#9C27B0",
                "thickness_factor": 1,
                "directed": true
              },
              {
                "id": 1153118317188219400,
                "start": 606,
                "end": 564,
                "properties": {
                  "label": "AGREED_TO_SELL"
                },
                "label": "AGREED_TO_SELL",
                "color": "#2196F3",
                "thickness_factor": 1,
                "directed": true
              },
              {
                "id": 1153119416699847200,
                "start": 606,
                "end": 564,
                "properties": {
                  "label": "SHARES_SOLD"
                },
                "label": "SHARES_SOLD",
                "color": "#4CAF50",
                "thickness_factor": 1,
                "directed": true
              },
              {
                "id": 1153120516211475000,
                "start": 606,
                "end": 588,
                "properties": {
                  "label": "LICENSE_FEE_PAID"
                },
                "label": "LICENSE_FEE_PAID",
                "color": "#F44336",
                "thickness_factor": 1,
                "directed": true
              },
              {
                "id": 1153121615723102700,
                "start": 607,
                "end": 564,
                "properties": {
                  "label": "DESIGNED_LOGO"
                },
                "label": "DESIGNED_LOGO",
                "color": "#607D8B",
                "thickness_factor": 1,
                "directed": true
              },
              {
                "id": 1153122715234730500,
                "start": 609,
                "end": 564,
                "properties": {
                  "label": "WORKED_ON_DIGITAL_FONTS"
                },
                "label": "WORKED_ON_DIGITAL_FONTS",
                "color": "#673AB7",
                "thickness_factor": 1,
                "directed": true
              },
              {
                "id": 1153022659676603000,
                "start": 611,
                "end": 614,
                "properties": {
                  "label": "WORKED_AT"
                },
                "label": "WORKED_AT",
                "color": "#673AB7",
                "thickness_factor": 1,
                "directed": true
              },
              {
                "id": 1155274459490288000,
                "start": 611,
                "end": 615,
                "properties": {
                  "label": "WORKED_AT"
                },
                "label": "WORKED_AT",
                "color": "#673AB7",
                "thickness_factor": 1,
                "directed": true
              },
              {
                "id": 1157526259303973400,
                "start": 611,
                "end": 616,
                "properties": {
                  "label": "WORKED_AT"
                },
                "label": "WORKED_AT",
                "color": "#673AB7",
                "thickness_factor": 1,
                "directed": true
              },
              {
                "id": 1159778059117658600,
                "start": 611,
                "end": 617,
                "properties": {
                  "label": "WORKED_AT"
                },
                "label": "WORKED_AT",
                "color": "#673AB7",
                "thickness_factor": 1,
                "directed": true
              },
              {
                "id": 1162029858931344000,
                "start": 611,
                "end": 618,
                "properties": {
                  "label": "WORKED_AT"
                },
                "label": "WORKED_AT",
                "color": "#673AB7",
                "thickness_factor": 1,
                "directed": true
              },
              {
                "id": 1164281658745029000,
                "start": 611,
                "end": 619,
                "properties": {
                  "label": "WORKED_AT"
                },
                "label": "WORKED_AT",
                "color": "#673AB7",
                "thickness_factor": 1,
                "directed": true
              },
              {
                "id": 1166533458558714400,
                "start": 611,
                "end": 620,
                "properties": {
                  "label": "WORKED_AT"
                },
                "label": "WORKED_AT",
                "color": "#673AB7",
                "thickness_factor": 1,
                "directed": true
              },
              {
                "id": 1153073237211480600,
                "start": 611,
                "end": 612,
                "properties": {
                  "label": "ATTENDED"
                },
                "label": "ATTENDED",
                "color": "#9C27B0",
                "thickness_factor": 1,
                "directed": true
              },
              {
                "id": 1155325037025165800,
                "start": 611,
                "end": 613,
                "properties": {
                  "label": "ATTENDED"
                },
                "label": "ATTENDED",
                "color": "#9C27B0",
                "thickness_factor": 1,
                "directed": true
              },
              {
                "id": 1153083132816130600,
                "start": 611,
                "end": 624,
                "properties": {
                  "label": "BOARD_MEMBER"
                },
                "label": "BOARD_MEMBER",
                "color": "#2196F3",
                "thickness_factor": 1,
                "directed": true
              },
              {
                "id": 1153123814746358300,
                "start": 611,
                "end": 621,
                "properties": {
                  "label": "ADVISOR"
                },
                "label": "ADVISOR",
                "color": "#CDDC39",
                "thickness_factor": 1,
                "directed": true
              },
              {
                "id": 1155375614560043500,
                "start": 611,
                "end": 622,
                "properties": {
                  "label": "ADVISOR"
                },
                "label": "ADVISOR",
                "color": "#CDDC39",
                "thickness_factor": 1,
                "directed": true
              },
              {
                "id": 1157627414373728800,
                "start": 611,
                "end": 623,
                "properties": {
                  "label": "ADVISOR"
                },
                "label": "ADVISOR",
                "color": "#CDDC39",
                "thickness_factor": 1,
                "directed": true
              },
              {
                "id": 1153053446002180600,
                "start": 626,
                "end": 697,
                "properties": {
                  "label": "INVOLVEMENT"
                },
                "label": "INVOLVEMENT",
                "color": "#2196F3",
                "thickness_factor": 1,
                "directed": true
              },
              {
                "id": 1153107322071941600,
                "start": 626,
                "end": 640,
                "properties": {
                  "label": "FOUNDER"
                },
                "label": "FOUNDER",
                "color": "#9E9E9E",
                "thickness_factor": 1,
                "directed": true
              },
              {
                "id": 1155359121885627000,
                "start": 626,
                "end": 641,
                "properties": {
                  "label": "FOUNDER"
                },
                "label": "FOUNDER",
                "color": "#9E9E9E",
                "thickness_factor": 1,
                "directed": true
              },
              {
                "id": 1153124914257986000,
                "start": 626,
                "end": 627,
                "properties": {
                  "label": "LOCATION"
                },
                "label": "LOCATION",
                "color": "#9E9E9E",
                "thickness_factor": 1,
                "directed": true
              },
              {
                "id": 1153126013769613800,
                "start": 626,
                "end": 628,
                "properties": {
                  "label": "RESEARCH"
                },
                "label": "RESEARCH",
                "color": "#9C27B0",
                "thickness_factor": 1,
                "directed": true
              },
              {
                "id": 1155377813583299000,
                "start": 626,
                "end": 631,
                "properties": {
                  "label": "RESEARCH"
                },
                "label": "RESEARCH",
                "color": "#9C27B0",
                "thickness_factor": 1,
                "directed": true
              },
              {
                "id": 1157629613396984300,
                "start": 626,
                "end": 632,
                "properties": {
                  "label": "RESEARCH"
                },
                "label": "RESEARCH",
                "color": "#9C27B0",
                "thickness_factor": 1,
                "directed": true
              },
              {
                "id": 1153127113281241600,
                "start": 626,
                "end": 629,
                "properties": {
                  "label": "TYPE"
                },
                "label": "TYPE",
                "color": "#2196F3",
                "thickness_factor": 1,
                "directed": true
              },
              {
                "id": 1153128212792869400,
                "start": 626,
                "end": 630,
                "properties": {
                  "label": "DEVELOPMENT"
                },
                "label": "DEVELOPMENT",
                "color": "#4CAF50",
                "thickness_factor": 1,
                "directed": true
              },
              {
                "id": 1155380012606554600,
                "start": 626,
                "end": 634,
                "properties": {
                  "label": "DEVELOPMENT"
                },
                "label": "DEVELOPMENT",
                "color": "#4CAF50",
                "thickness_factor": 1,
                "directed": true
              },
              {
                "id": 1153129312304497200,
                "start": 626,
                "end": 633,
                "properties": {
                  "label": "DEPLOYMENT"
                },
                "label": "DEPLOYMENT",
                "color": "#F44336",
                "thickness_factor": 1,
                "directed": true
              },
              {
                "id": 1153133710351008300,
                "start": 626,
                "end": 642,
                "properties": {
                  "label": "INVESTMENT"
                },
                "label": "INVESTMENT",
                "color": "#607D8B",
                "thickness_factor": 1,
                "directed": true
              },
              {
                "id": 1153140307420775000,
                "start": 626,
                "end": 646,
                "properties": {
                  "label": "FUNDING"
                },
                "label": "FUNDING",
                "color": "#673AB7",
                "thickness_factor": 1,
                "directed": true
              },
              {
                "id": 1153142506444030500,
                "start": 626,
                "end": 649,
                "properties": {
                  "label": "LAWSUIT"
                },
                "label": "LAWSUIT",
                "color": "#CDDC39",
                "thickness_factor": 1,
                "directed": true
              },
              {
                "id": 1153143605955658200,
                "start": 626,
                "end": 650,
                "properties": {
                  "label": "USE"
                },
                "label": "USE",
                "color": "#9E9E9E",
                "thickness_factor": 1,
                "directed": true
              },
              {
                "id": 1153152402048680400,
                "start": 626,
                "end": 673,
                "properties": {
                  "label": "GOAL"
                },
                "label": "GOAL",
                "color": "#9C27B0",
                "thickness_factor": 1,
                "directed": true
              },
              {
                "id": 1155404201862365700,
                "start": 626,
                "end": 674,
                "properties": {
                  "label": "GOAL"
                },
                "label": "GOAL",
                "color": "#9C27B0",
                "thickness_factor": 1,
                "directed": true
              },
              {
                "id": 1153156800095191600,
                "start": 626,
                "end": 678,
                "properties": {
                  "label": "INCORPORATION"
                },
                "label": "INCORPORATION",
                "color": "#2196F3",
                "thickness_factor": 1,
                "directed": true
              },
              {
                "id": 1153160098630075000,
                "start": 626,
                "end": 682,
                "properties": {
                  "label": "STRUCTURE"
                },
                "label": "STRUCTURE",
                "color": "#4CAF50",
                "thickness_factor": 1,
                "directed": true
              },
              {
                "id": 1153128212792869400,
                "start": 634,
                "end": 635,
                "properties": {
                  "label": "DEVELOPMENT"
                },
                "label": "DEVELOPMENT",
                "color": "#4CAF50",
                "thickness_factor": 1,
                "directed": true
              },
              {
                "id": 1153130411816125000,
                "start": 635,
                "end": 636,
                "properties": {
                  "label": "COMPETITOR"
                },
                "label": "COMPETITOR",
                "color": "#F44336",
                "thickness_factor": 1,
                "directed": true
              },
              {
                "id": 1155382211629810200,
                "start": 635,
                "end": 637,
                "properties": {
                  "label": "COMPETITOR"
                },
                "label": "COMPETITOR",
                "color": "#F44336",
                "thickness_factor": 1,
                "directed": true
              },
              {
                "id": 1157634011443495400,
                "start": 635,
                "end": 638,
                "properties": {
                  "label": "COMPETITOR"
                },
                "label": "COMPETITOR",
                "color": "#F44336",
                "thickness_factor": 1,
                "directed": true
              },
              {
                "id": 1159885811257180700,
                "start": 635,
                "end": 639,
                "properties": {
                  "label": "COMPETITOR"
                },
                "label": "COMPETITOR",
                "color": "#F44336",
                "thickness_factor": 1,
                "directed": true
              },
              {
                "id": 1153156800095191600,
                "start": 635,
                "end": 698,
                "properties": {
                  "label": "INCORPORATION"
                },
                "label": "INCORPORATION",
                "color": "#2196F3",
                "thickness_factor": 1,
                "directed": true
              },
              {
                "id": 1153165596188213800,
                "start": 635,
                "end": 701,
                "properties": {
                  "label": "REFERENCE"
                },
                "label": "REFERENCE",
                "color": "#607D8B",
                "thickness_factor": 1,
                "directed": true
              },
              {
                "id": 1153166695699841500,
                "start": 635,
                "end": 702,
                "properties": {
                  "label": "NAMING"
                },
                "label": "NAMING",
                "color": "#673AB7",
                "thickness_factor": 1,
                "directed": true
              },
              {
                "id": 1153167795211469300,
                "start": 635,
                "end": 703,
                "properties": {
                  "label": "CONTRAST"
                },
                "label": "CONTRAST",
                "color": "#CDDC39",
                "thickness_factor": 1,
                "directed": true
              },
              {
                "id": 1153168894723097000,
                "start": 635,
                "end": 707,
                "properties": {
                  "label": "RELEASE"
                },
                "label": "RELEASE",
                "color": "#9E9E9E",
                "thickness_factor": 1,
                "directed": true
              },
              {
                "id": 1153155700583563800,
                "start": 636,
                "end": 677,
                "properties": {
                  "label": "VENTURE"
                },
                "label": "VENTURE",
                "color": "#9C27B0",
                "thickness_factor": 1,
                "directed": true
              },
              {
                "id": 6919993033198929000,
                "start": 638,
                "end": 626,
                "properties": {
                  "label": "INVESTMENT"
                },
                "label": "INVESTMENT",
                "color": "#607D8B",
                "thickness_factor": 1,
                "directed": true
              },
              {
                "id": 1153135909374263800,
                "start": 638,
                "end": 643,
                "properties": {
                  "label": "AMOUNT"
                },
                "label": "AMOUNT",
                "color": "#2196F3",
                "thickness_factor": 1,
                "directed": true
              },
              {
                "id": 1153139207909147100,
                "start": 638,
                "end": 643,
                "properties": {
                  "label": "COMMITMENT"
                },
                "label": "COMMITMENT",
                "color": "#4CAF50",
                "thickness_factor": 1,
                "directed": true
              },
              {
                "id": 6917753328013149000,
                "start": 640,
                "end": 711,
                "properties": {
                  "label": "ROLE"
                },
                "label": "ROLE",
                "color": "#F44336",
                "thickness_factor": 1,
                "directed": true
              },
              {
                "id": 6917753328013149000,
                "start": 640,
                "end": 716,
                "properties": {
                  "label": "ROLE"
                },
                "label": "ROLE",
                "color": "#F44336",
                "thickness_factor": 1,
                "directed": true
              },
              {
                "id": 1153153501560308200,
                "start": 640,
                "end": 636,
                "properties": {
                  "label": "FORMER_EMPLOYER"
                },
                "label": "FORMER_EMPLOYER",
                "color": "#607D8B",
                "thickness_factor": 1,
                "directed": true
              },
              {
                "id": 1153154601071936000,
                "start": 640,
                "end": 675,
                "properties": {
                  "label": "REASON_FOR_LEAVING"
                },
                "label": "REASON_FOR_LEAVING",
                "color": "#673AB7",
                "thickness_factor": 1,
                "directed": true
              },
              {
                "id": 1153131511327753000,
                "start": 641,
                "end": 636,
                "properties": {
                  "label": "FORMER_MEMBER"
                },
                "label": "FORMER_MEMBER",
                "color": "#CDDC39",
                "thickness_factor": 1,
                "directed": true
              },
              {
                "id": 6917740133873616000,
                "start": 641,
                "end": 709,
                "properties": {
                  "label": "FORMER_POSITION"
                },
                "label": "FORMER_POSITION",
                "color": "#9E9E9E",
                "thickness_factor": 1,
                "directed": true
              },
              {
                "id": 6917753328013149000,
                "start": 641,
                "end": 710,
                "properties": {
                  "label": "ROLE"
                },
                "label": "ROLE",
                "color": "#F44336",
                "thickness_factor": 1,
                "directed": true
              },
              {
                "id": 6917753328013149000,
                "start": 641,
                "end": 715,
                "properties": {
                  "label": "ROLE"
                },
                "label": "ROLE",
                "color": "#F44336",
                "thickness_factor": 1,
                "directed": true
              },
              {
                "id": 1153133710351008500,
                "start": 642,
                "end": 653,
                "properties": {
                  "label": "INVESTMENT"
                },
                "label": "INVESTMENT",
                "color": "#607D8B",
                "thickness_factor": 1,
                "directed": true
              },
              {
                "id": 1153134809862636300,
                "start": 642,
                "end": 626,
                "properties": {
                  "label": "INVESTOR"
                },
                "label": "INVESTOR",
                "color": "#9C27B0",
                "thickness_factor": 1,
                "directed": true
              },
              {
                "id": 1153135909374264000,
                "start": 642,
                "end": 643,
                "properties": {
                  "label": "AMOUNT"
                },
                "label": "AMOUNT",
                "color": "#2196F3",
                "thickness_factor": 1,
                "directed": true
              },
              {
                "id": 6917744531920127000,
                "start": 642,
                "end": 708,
                "properties": {
                  "label": "CLOUD_PROVIDER"
                },
                "label": "CLOUD_PROVIDER",
                "color": "#2196F3",
                "thickness_factor": 1,
                "directed": true
              },
              {
                "id": 1153144705467286300,
                "start": 642,
                "end": 652,
                "properties": {
                  "label": "ANNOUNCEMENT"
                },
                "label": "ANNOUNCEMENT",
                "color": "#4CAF50",
                "thickness_factor": 1,
                "directed": true
              },
              {
                "id": 1153145804978914000,
                "start": 642,
                "end": 653,
                "properties": {
                  "label": "ROLE"
                },
                "label": "ROLE",
                "color": "#F44336",
                "thickness_factor": 1,
                "directed": true
              },
              {
                "id": 6917754427524777000,
                "start": 642,
                "end": 708,
                "properties": {
                  "label": "PRIMARY_PROVIDER"
                },
                "label": "PRIMARY_PROVIDER",
                "color": "#F44336",
                "thickness_factor": 1,
                "directed": true
              },
              {
                "id": 1153150203025425200,
                "start": 642,
                "end": 658,
                "properties": {
                  "label": "MAXED_OUT"
                },
                "label": "MAXED_OUT",
                "color": "#607D8B",
                "thickness_factor": 1,
                "directed": true
              },
              {
                "id": 1153151302537053000,
                "start": 642,
                "end": 643,
                "properties": {
                  "label": "ADDITIONAL_INVESTMENT"
                },
                "label": "ADDITIONAL_INVESTMENT",
                "color": "#673AB7",
                "thickness_factor": 1,
                "directed": true
              },
              {
                "id": 1153141406932403000,
                "start": 646,
                "end": 647,
                "properties": {
                  "label": "LEADERSHIP"
                },
                "label": "LEADERSHIP",
                "color": "#CDDC39",
                "thickness_factor": 1,
                "directed": true
              },
              {
                "id": 1153149103513797400,
                "start": 657,
                "end": 656,
                "properties": {
                  "label": "ACCESS"
                },
                "label": "ACCESS",
                "color": "#9E9E9E",
                "thickness_factor": 1,
                "directed": true
              },
              {
                "id": 1153145804978914000,
                "start": 660,
                "end": 122,
                "properties": {
                  "label": "ROLE"
                },
                "label": "ROLE",
                "color": "#F44336",
                "thickness_factor": 1,
                "directed": true
              },
              {
                "id": 6917753328013149000,
                "start": 661,
                "end": 712,
                "properties": {
                  "label": "ROLE"
                },
                "label": "ROLE",
                "color": "#F44336",
                "thickness_factor": 1,
                "directed": true
              },
              {
                "id": 6917753328013149000,
                "start": 662,
                "end": 713,
                "properties": {
                  "label": "ROLE"
                },
                "label": "ROLE",
                "color": "#F44336",
                "thickness_factor": 1,
                "directed": true
              },
              {
                "id": 6917753328013149000,
                "start": 663,
                "end": 714,
                "properties": {
                  "label": "ROLE"
                },
                "label": "ROLE",
                "color": "#F44336",
                "thickness_factor": 1,
                "directed": true
              },
              {
                "id": 6917753328013149000,
                "start": 664,
                "end": 717,
                "properties": {
                  "label": "ROLE"
                },
                "label": "ROLE",
                "color": "#F44336",
                "thickness_factor": 1,
                "directed": true
              },
              {
                "id": 6917753328013149000,
                "start": 665,
                "end": 718,
                "properties": {
                  "label": "ROLE"
                },
                "label": "ROLE",
                "color": "#F44336",
                "thickness_factor": 1,
                "directed": true
              },
              {
                "id": 1153135909374264000,
                "start": 667,
                "end": 643,
                "properties": {
                  "label": "AMOUNT"
                },
                "label": "AMOUNT",
                "color": "#2196F3",
                "thickness_factor": 1,
                "directed": true
              },
              {
                "id": 1153135909374264000,
                "start": 668,
                "end": 643,
                "properties": {
                  "label": "AMOUNT"
                },
                "label": "AMOUNT",
                "color": "#2196F3",
                "thickness_factor": 1,
                "directed": true
              },
              {
                "id": 1153140307420775200,
                "start": 669,
                "end": 643,
                "properties": {
                  "label": "FUNDING"
                },
                "label": "FUNDING",
                "color": "#673AB7",
                "thickness_factor": 1,
                "directed": true
              },
              {
                "id": 1153140307420775200,
                "start": 670,
                "end": 643,
                "properties": {
                  "label": "FUNDING"
                },
                "label": "FUNDING",
                "color": "#673AB7",
                "thickness_factor": 1,
                "directed": true
              },
              {
                "id": 1153140307420775200,
                "start": 671,
                "end": 643,
                "properties": {
                  "label": "FUNDING"
                },
                "label": "FUNDING",
                "color": "#673AB7",
                "thickness_factor": 1,
                "directed": true
              },
              {
                "id": 1153157899606819600,
                "start": 678,
                "end": 679,
                "properties": {
                  "label": "REQUIREMENT"
                },
                "label": "REQUIREMENT",
                "color": "#9C27B0",
                "thickness_factor": 1,
                "directed": true
              },
              {
                "id": 1153158999118447400,
                "start": 678,
                "end": 680,
                "properties": {
                  "label": "CONSIDERATION"
                },
                "label": "CONSIDERATION",
                "color": "#2196F3",
                "thickness_factor": 1,
                "directed": true
              },
              {
                "id": 1155410798932132600,
                "start": 678,
                "end": 681,
                "properties": {
                  "label": "CONSIDERATION"
                },
                "label": "CONSIDERATION",
                "color": "#2196F3",
                "thickness_factor": 1,
                "directed": true
              },
              {
                "id": 6917766522152682000,
                "start": 683,
                "end": 720,
                "properties": {
                  "label": "CONSIDERATION"
                },
                "label": "CONSIDERATION",
                "color": "#2196F3",
                "thickness_factor": 1,
                "directed": true
              },
              {
                "id": 1153161198141703000,
                "start": 683,
                "end": 684,
                "properties": {
                  "label": "ALIGNMENT"
                },
                "label": "ALIGNMENT",
                "color": "#4CAF50",
                "thickness_factor": 1,
                "directed": true
              },
              {
                "id": 6917769820687566000,
                "start": 683,
                "end": 719,
                "properties": {
                  "label": "FOCUS"
                },
                "label": "FOCUS",
                "color": "#F44336",
                "thickness_factor": 1,
                "directed": true
              },
              {
                "id": 1153163397164958500,
                "start": 683,
                "end": 685,
                "properties": {
                  "label": "GUIDANCE"
                },
                "label": "GUIDANCE",
                "color": "#607D8B",
                "thickness_factor": 1,
                "directed": true
              },
              {
                "id": 1153077635257992000,
                "start": 686,
                "end": 687,
                "properties": {
                  "label": "MEMBER"
                },
                "label": "MEMBER",
                "color": "#607D8B",
                "thickness_factor": 1,
                "directed": true
              },
              {
                "id": 1155329435071677200,
                "start": 686,
                "end": 689,
                "properties": {
                  "label": "MEMBER"
                },
                "label": "MEMBER",
                "color": "#607D8B",
                "thickness_factor": 1,
                "directed": true
              },
              {
                "id": 1157581234885362400,
                "start": 686,
                "end": 691,
                "properties": {
                  "label": "MEMBER"
                },
                "label": "MEMBER",
                "color": "#607D8B",
                "thickness_factor": 1,
                "directed": true
              },
              {
                "id": 1159833034699047700,
                "start": 686,
                "end": 693,
                "properties": {
                  "label": "MEMBER"
                },
                "label": "MEMBER",
                "color": "#607D8B",
                "thickness_factor": 1,
                "directed": true
              },
              {
                "id": 1162084834512733000,
                "start": 686,
                "end": 695,
                "properties": {
                  "label": "MEMBER"
                },
                "label": "MEMBER",
                "color": "#607D8B",
                "thickness_factor": 1,
                "directed": true
              },
              {
                "id": 1153145804978914000,
                "start": 687,
                "end": 688,
                "properties": {
                  "label": "ROLE"
                },
                "label": "ROLE",
                "color": "#F44336",
                "thickness_factor": 1,
                "directed": true
              },
              {
                "id": 1153145804978914000,
                "start": 689,
                "end": 690,
                "properties": {
                  "label": "ROLE"
                },
                "label": "ROLE",
                "color": "#F44336",
                "thickness_factor": 1,
                "directed": true
              },
              {
                "id": 1153145804978914000,
                "start": 691,
                "end": 692,
                "properties": {
                  "label": "ROLE"
                },
                "label": "ROLE",
                "color": "#F44336",
                "thickness_factor": 1,
                "directed": true
              },
              {
                "id": 1153145804978914000,
                "start": 693,
                "end": 694,
                "properties": {
                  "label": "ROLE"
                },
                "label": "ROLE",
                "color": "#F44336",
                "thickness_factor": 1,
                "directed": true
              },
              {
                "id": 1153145804978914000,
                "start": 695,
                "end": 696,
                "properties": {
                  "label": "ROLE"
                },
                "label": "ROLE",
                "color": "#F44336",
                "thickness_factor": 1,
                "directed": true
              },
              {
                "id": 1153156800095191800,
                "start": 697,
                "end": 635,
                "properties": {
                  "label": "INCORPORATION"
                },
                "label": "INCORPORATION",
                "color": "#2196F3",
                "thickness_factor": 1,
                "directed": true
              },
              {
                "id": 1153164496676586200,
                "start": 698,
                "end": 699,
                "properties": {
                  "label": "ESTABLISHMENT"
                },
                "label": "ESTABLISHMENT",
                "color": "#673AB7",
                "thickness_factor": 1,
                "directed": true
              },
              {
                "id": 1153061142583575300,
                "start": 703,
                "end": 704,
                "properties": {
                  "label": "COMPARISON"
                },
                "label": "COMPARISON",
                "color": "#9E9E9E",
                "thickness_factor": 1,
                "directed": true
              },
              {
                "id": 1155312942397260500,
                "start": 703,
                "end": 705,
                "properties": {
                  "label": "COMPARISON"
                },
                "label": "COMPARISON",
                "color": "#9E9E9E",
                "thickness_factor": 1,
                "directed": true
              },
              {
                "id": 1157564742210945800,
                "start": 703,
                "end": 706,
                "properties": {
                  "label": "COMPARISON"
                },
                "label": "COMPARISON",
                "color": "#9E9E9E",
                "thickness_factor": 1,
                "directed": true
              },
              {
                "id": 1153138108397519600,
                "start": 708,
                "end": 657,
                "properties": {
                  "label": "SERVICE_PROVIDER"
                },
                "label": "SERVICE_PROVIDER",
                "color": "#CDDC39",
                "thickness_factor": 1,
                "directed": true
              },
              {
                "id": 1153148004002169600,
                "start": 708,
                "end": 656,
                "properties": {
                  "label": "AVAILABILITY"
                },
                "label": "AVAILABILITY",
                "color": "#9E9E9E",
                "thickness_factor": 1,
                "directed": true
              },
              {
                "id": 1153107322071942000,
                "start": 836,
                "end": 837,
                "properties": {
                  "label": "FOUNDER"
                },
                "label": "FOUNDER",
                "color": "#9E9E9E",
                "thickness_factor": 1,
                "directed": true
              }
            ],
            "_graph_layout": {},
            "_highlight": [],
            "_license": {},
            "_model_module": "yfiles-jupyter-graphs",
            "_model_module_version": "^1.6.2",
            "_model_name": "GraphModel",
            "_neighborhood": {},
            "_nodes": [
              {
                "id": 0,
                "properties": {
                  "division": "Sales",
                  "firstName": "Bella",
                  "lastName": "Johnson",
                  "id": "Bella.Johnson@gdc.com",
                  "label": "User"
                },
                "color": "#2196F3",
                "styles": {},
                "label": "Bella.Johnson@gdc.com",
                "scale_factor": 1,
                "type": "#2196F3",
                "size": [
                  55,
                  55
                ],
                "position": [
                  0,
                  0
                ]
              },
              {
                "id": 80,
                "properties": {
                  "name": "LaptopAsset2",
                  "id": "Asset2",
                  "type": "Laptop",
                  "category": "Hardware",
                  "label": "Asset"
                },
                "color": "#4CAF50",
                "styles": {},
                "label": "Asset2",
                "scale_factor": 1,
                "type": "#4CAF50",
                "size": [
                  55,
                  55
                ],
                "position": [
                  0,
                  0
                ]
              },
              {
                "id": 40,
                "properties": {
                  "website": "example1.com",
                  "isFabricated": false,
                  "isMalware": false,
                  "addedDate": "2023-01-02T00:00:00.000000",
                  "isVerified": true,
                  "description": "Description of breach 1",
                  "breachDate": "2023-01-01T00:00:00.000000",
                  "type_of_breach": "password",
                  "isSpamList": false,
                  "breachId": 1,
                  "isSensitive": true,
                  "isSubscriptionFree": true,
                  "modifiedDate": "2023-01-03T00:00:00.000000",
                  "isRetired": false,
                  "account": "Bella.Johnson@gdc.com",
                  "label": "Breach"
                },
                "color": "#F44336",
                "styles": {},
                "scale_factor": 1,
                "type": "#F44336",
                "size": [
                  55,
                  55
                ],
                "position": [
                  0,
                  0
                ]
              },
              {
                "id": 1,
                "properties": {
                  "division": "Sales",
                  "firstName": "Carlos",
                  "lastName": "Williams",
                  "id": "Carlos.Williams@gdc.com",
                  "label": "User"
                },
                "color": "#2196F3",
                "styles": {},
                "label": "Carlos.Williams@gdc.com",
                "scale_factor": 1,
                "type": "#2196F3",
                "size": [
                  55,
                  55
                ],
                "position": [
                  0,
                  0
                ]
              },
              {
                "id": 82,
                "properties": {
                  "name": "LaptopAsset4",
                  "id": "Asset4",
                  "type": "Laptop",
                  "category": "Hardware",
                  "label": "Asset"
                },
                "color": "#4CAF50",
                "styles": {},
                "label": "Asset4",
                "scale_factor": 1,
                "type": "#4CAF50",
                "size": [
                  55,
                  55
                ],
                "position": [
                  0,
                  0
                ]
              },
              {
                "id": 2,
                "properties": {
                  "division": "Sales",
                  "firstName": "Diya",
                  "lastName": "Jones",
                  "id": "Diya.Jones@gdc.com",
                  "label": "User"
                },
                "color": "#2196F3",
                "styles": {},
                "label": "Diya.Jones@gdc.com",
                "scale_factor": 1,
                "type": "#2196F3",
                "size": [
                  55,
                  55
                ],
                "position": [
                  0,
                  0
                ]
              },
              {
                "id": 85,
                "properties": {
                  "name": "LaptopAsset7",
                  "id": "Asset7",
                  "type": "Laptop",
                  "category": "Hardware",
                  "label": "Asset"
                },
                "color": "#4CAF50",
                "styles": {},
                "label": "Asset7",
                "scale_factor": 1,
                "type": "#4CAF50",
                "size": [
                  55,
                  55
                ],
                "position": [
                  0,
                  0
                ]
              },
              {
                "id": 3,
                "properties": {
                  "division": "Sales",
                  "firstName": "Ethan",
                  "lastName": "Brown",
                  "id": "Ethan.Brown@gdc.com",
                  "label": "User"
                },
                "color": "#2196F3",
                "styles": {},
                "label": "Ethan.Brown@gdc.com",
                "scale_factor": 1,
                "type": "#2196F3",
                "size": [
                  55,
                  55
                ],
                "position": [
                  0,
                  0
                ]
              },
              {
                "id": 87,
                "properties": {
                  "name": "LaptopAsset9",
                  "id": "Asset9",
                  "type": "Laptop",
                  "category": "Hardware",
                  "label": "Asset"
                },
                "color": "#4CAF50",
                "styles": {},
                "label": "Asset9",
                "scale_factor": 1,
                "type": "#4CAF50",
                "size": [
                  55,
                  55
                ],
                "position": [
                  0,
                  0
                ]
              },
              {
                "id": 4,
                "properties": {
                  "division": "Sales",
                  "firstName": "Fiona",
                  "lastName": "Davis",
                  "id": "Fiona.Davis@gdc.com",
                  "label": "User"
                },
                "color": "#2196F3",
                "styles": {},
                "label": "Fiona.Davis@gdc.com",
                "scale_factor": 1,
                "type": "#2196F3",
                "size": [
                  55,
                  55
                ],
                "position": [
                  0,
                  0
                ]
              },
              {
                "id": 88,
                "properties": {
                  "name": "LaptopAsset10",
                  "id": "Asset10",
                  "type": "Laptop",
                  "category": "Hardware",
                  "label": "Asset"
                },
                "color": "#4CAF50",
                "styles": {},
                "label": "Asset10",
                "scale_factor": 1,
                "type": "#4CAF50",
                "size": [
                  55,
                  55
                ],
                "position": [
                  0,
                  0
                ]
              },
              {
                "id": 5,
                "properties": {
                  "division": "Sales",
                  "firstName": "Gabe",
                  "lastName": "Miller",
                  "id": "Gabe.Miller@gdc.com",
                  "label": "User"
                },
                "color": "#2196F3",
                "styles": {},
                "label": "Gabe.Miller@gdc.com",
                "scale_factor": 1,
                "type": "#2196F3",
                "size": [
                  55,
                  55
                ],
                "position": [
                  0,
                  0
                ]
              },
              {
                "id": 90,
                "properties": {
                  "name": "LaptopAsset12",
                  "id": "Asset12",
                  "type": "Laptop",
                  "category": "Hardware",
                  "label": "Asset"
                },
                "color": "#4CAF50",
                "styles": {},
                "label": "Asset12",
                "scale_factor": 1,
                "type": "#4CAF50",
                "size": [
                  55,
                  55
                ],
                "position": [
                  0,
                  0
                ]
              },
              {
                "id": 41,
                "properties": {
                  "website": "example2.com",
                  "isFabricated": true,
                  "isMalware": false,
                  "addedDate": "2023-01-03T00:00:00.000000",
                  "isVerified": false,
                  "description": "Description of breach 2",
                  "breachDate": "2023-01-02T00:00:00.000000",
                  "type_of_breach": "credit card",
                  "isSpamList": true,
                  "breachId": 2,
                  "isSensitive": false,
                  "isSubscriptionFree": false,
                  "modifiedDate": "2023-01-04T00:00:00.000000",
                  "isRetired": true,
                  "account": "Gabe.Miller@gdc.com",
                  "label": "Breach"
                },
                "color": "#F44336",
                "styles": {},
                "scale_factor": 1,
                "type": "#F44336",
                "size": [
                  55,
                  55
                ],
                "position": [
                  0,
                  0
                ]
              },
              {
                "id": 6,
                "properties": {
                  "division": "Sales",
                  "firstName": "Hana",
                  "lastName": "Wilson",
                  "id": "Hana.Wilson@gdc.com",
                  "label": "User"
                },
                "color": "#2196F3",
                "styles": {},
                "label": "Hana.Wilson@gdc.com",
                "scale_factor": 1,
                "type": "#2196F3",
                "size": [
                  55,
                  55
                ],
                "position": [
                  0,
                  0
                ]
              },
              {
                "id": 92,
                "properties": {
                  "name": "LaptopAsset14",
                  "id": "Asset14",
                  "type": "Laptop",
                  "category": "Hardware",
                  "label": "Asset"
                },
                "color": "#4CAF50",
                "styles": {},
                "label": "Asset14",
                "scale_factor": 1,
                "type": "#4CAF50",
                "size": [
                  55,
                  55
                ],
                "position": [
                  0,
                  0
                ]
              },
              {
                "id": 42,
                "properties": {
                  "website": "example3.com",
                  "isFabricated": false,
                  "isMalware": true,
                  "addedDate": "2023-01-04T00:00:00.000000",
                  "isVerified": true,
                  "description": "Description of breach 3",
                  "breachDate": "2023-01-03T00:00:00.000000",
                  "type_of_breach": "other",
                  "isSpamList": false,
                  "breachId": 3,
                  "isSensitive": true,
                  "isSubscriptionFree": true,
                  "modifiedDate": "2023-01-05T00:00:00.000000",
                  "isRetired": false,
                  "account": "Hana.Wilson@gdc.com",
                  "label": "Breach"
                },
                "color": "#F44336",
                "styles": {},
                "scale_factor": 1,
                "type": "#F44336",
                "size": [
                  55,
                  55
                ],
                "position": [
                  0,
                  0
                ]
              },
              {
                "id": 7,
                "properties": {
                  "division": "Sales",
                  "firstName": "Ian",
                  "lastName": "Moore",
                  "id": "Ian.Moore@gdc.com",
                  "label": "User"
                },
                "color": "#2196F3",
                "styles": {},
                "label": "Ian.Moore@gdc.com",
                "scale_factor": 1,
                "type": "#2196F3",
                "size": [
                  55,
                  55
                ],
                "position": [
                  0,
                  0
                ]
              },
              {
                "id": 95,
                "properties": {
                  "name": "LaptopAsset16",
                  "id": "Asset16",
                  "type": "Laptop",
                  "category": "Hardware",
                  "label": "Asset"
                },
                "color": "#4CAF50",
                "styles": {},
                "label": "Asset16",
                "scale_factor": 1,
                "type": "#4CAF50",
                "size": [
                  55,
                  55
                ],
                "position": [
                  0,
                  0
                ]
              },
              {
                "id": 43,
                "properties": {
                  "website": "example4.com",
                  "isFabricated": false,
                  "isMalware": false,
                  "addedDate": "2023-01-05T00:00:00.000000",
                  "isVerified": true,
                  "description": "Description of breach 4",
                  "breachDate": "2023-01-04T00:00:00.000000",
                  "type_of_breach": "password",
                  "isSpamList": false,
                  "breachId": 4,
                  "isSensitive": false,
                  "isSubscriptionFree": false,
                  "modifiedDate": "2023-01-06T00:00:00.000000",
                  "isRetired": false,
                  "account": "Ian.Moore@gdc.com",
                  "label": "Breach"
                },
                "color": "#F44336",
                "styles": {},
                "scale_factor": 1,
                "type": "#F44336",
                "size": [
                  55,
                  55
                ],
                "position": [
                  0,
                  0
                ]
              },
              {
                "id": 8,
                "properties": {
                  "division": "Sales",
                  "firstName": "Jada",
                  "lastName": "Taylor",
                  "id": "Jada.Taylor@gdc.com",
                  "label": "User"
                },
                "color": "#2196F3",
                "styles": {},
                "label": "Jada.Taylor@gdc.com",
                "scale_factor": 1,
                "type": "#2196F3",
                "size": [
                  55,
                  55
                ],
                "position": [
                  0,
                  0
                ]
              },
              {
                "id": 96,
                "properties": {
                  "name": "LaptopAsset17",
                  "id": "Asset17",
                  "type": "Laptop",
                  "category": "Hardware",
                  "label": "Asset"
                },
                "color": "#4CAF50",
                "styles": {},
                "label": "Asset17",
                "scale_factor": 1,
                "type": "#4CAF50",
                "size": [
                  55,
                  55
                ],
                "position": [
                  0,
                  0
                ]
              },
              {
                "id": 9,
                "properties": {
                  "division": "Engineering",
                  "firstName": "Kai",
                  "lastName": "Anderson",
                  "id": "Kai.Anderson@gdc.com",
                  "label": "User"
                },
                "color": "#2196F3",
                "styles": {},
                "label": "Kai.Anderson@gdc.com",
                "scale_factor": 1,
                "type": "#2196F3",
                "size": [
                  55,
                  55
                ],
                "position": [
                  0,
                  0
                ]
              },
              {
                "id": 98,
                "properties": {
                  "name": "LaptopAsset19",
                  "id": "Asset19",
                  "type": "Laptop",
                  "category": "Hardware",
                  "label": "Asset"
                },
                "color": "#4CAF50",
                "styles": {},
                "label": "Asset19",
                "scale_factor": 1,
                "type": "#4CAF50",
                "size": [
                  55,
                  55
                ],
                "position": [
                  0,
                  0
                ]
              },
              {
                "id": 44,
                "properties": {
                  "website": "example5.com",
                  "isFabricated": true,
                  "isMalware": true,
                  "addedDate": "2023-01-06T00:00:00.000000",
                  "isVerified": false,
                  "description": "Description of breach 5",
                  "breachDate": "2023-01-05T00:00:00.000000",
                  "type_of_breach": "credit card",
                  "isSpamList": true,
                  "breachId": 5,
                  "isSensitive": true,
                  "isSubscriptionFree": true,
                  "modifiedDate": "2023-01-07T00:00:00.000000",
                  "isRetired": true,
                  "account": "Kai.Anderson@gdc.com",
                  "label": "Breach"
                },
                "color": "#F44336",
                "styles": {},
                "scale_factor": 1,
                "type": "#F44336",
                "size": [
                  55,
                  55
                ],
                "position": [
                  0,
                  0
                ]
              },
              {
                "id": 10,
                "properties": {
                  "division": "Engineering",
                  "firstName": "Lila",
                  "lastName": "Thomas",
                  "id": "Lila.Thomas@gdc.com",
                  "label": "User"
                },
                "color": "#2196F3",
                "styles": {},
                "label": "Lila.Thomas@gdc.com",
                "scale_factor": 1,
                "type": "#2196F3",
                "size": [
                  55,
                  55
                ],
                "position": [
                  0,
                  0
                ]
              },
              {
                "id": 101,
                "properties": {
                  "name": "LaptopAsset22",
                  "id": "Asset22",
                  "type": "Laptop",
                  "category": "Hardware",
                  "label": "Asset"
                },
                "color": "#4CAF50",
                "styles": {},
                "label": "Asset22",
                "scale_factor": 1,
                "type": "#4CAF50",
                "size": [
                  55,
                  55
                ],
                "position": [
                  0,
                  0
                ]
              },
              {
                "id": 11,
                "properties": {
                  "division": "Engineering",
                  "firstName": "Milo",
                  "lastName": "Jackson",
                  "id": "Milo.Jackson@gdc.com",
                  "label": "User"
                },
                "color": "#2196F3",
                "styles": {},
                "label": "Milo.Jackson@gdc.com",
                "scale_factor": 1,
                "type": "#2196F3",
                "size": [
                  55,
                  55
                ],
                "position": [
                  0,
                  0
                ]
              },
              {
                "id": 103,
                "properties": {
                  "name": "LaptopAsset24",
                  "id": "Asset24",
                  "type": "Laptop",
                  "category": "Hardware",
                  "label": "Asset"
                },
                "color": "#4CAF50",
                "styles": {},
                "label": "Asset24",
                "scale_factor": 1,
                "type": "#4CAF50",
                "size": [
                  55,
                  55
                ],
                "position": [
                  0,
                  0
                ]
              },
              {
                "id": 45,
                "properties": {
                  "website": "example6.com",
                  "isFabricated": false,
                  "isMalware": false,
                  "addedDate": "2023-01-07T00:00:00.000000",
                  "isVerified": true,
                  "description": "Description of breach 6",
                  "breachDate": "2023-01-06T00:00:00.000000",
                  "type_of_breach": "other",
                  "isSpamList": false,
                  "breachId": 6,
                  "isSensitive": false,
                  "isSubscriptionFree": false,
                  "modifiedDate": "2023-01-08T00:00:00.000000",
                  "isRetired": false,
                  "account": "Milo.Jackson@gdc.com",
                  "label": "Breach"
                },
                "color": "#F44336",
                "styles": {},
                "scale_factor": 1,
                "type": "#F44336",
                "size": [
                  55,
                  55
                ],
                "position": [
                  0,
                  0
                ]
              },
              {
                "id": 12,
                "properties": {
                  "division": "Engineering",
                  "firstName": "Nora",
                  "lastName": "White",
                  "id": "Nora.White@gdc.com",
                  "label": "User"
                },
                "color": "#2196F3",
                "styles": {},
                "label": "Nora.White@gdc.com",
                "scale_factor": 1,
                "type": "#2196F3",
                "size": [
                  55,
                  55
                ],
                "position": [
                  0,
                  0
                ]
              },
              {
                "id": 105,
                "properties": {
                  "name": "LaptopAsset26",
                  "id": "Asset26",
                  "type": "Laptop",
                  "category": "Hardware",
                  "label": "Asset"
                },
                "color": "#4CAF50",
                "styles": {},
                "label": "Asset26",
                "scale_factor": 1,
                "type": "#4CAF50",
                "size": [
                  55,
                  55
                ],
                "position": [
                  0,
                  0
                ]
              },
              {
                "id": 13,
                "properties": {
                  "division": "Engineering",
                  "firstName": "Oscar",
                  "lastName": "Harris",
                  "id": "Oscar.Harris@gdc.com",
                  "label": "User"
                },
                "color": "#2196F3",
                "styles": {},
                "label": "Oscar.Harris@gdc.com",
                "scale_factor": 1,
                "type": "#2196F3",
                "size": [
                  55,
                  55
                ],
                "position": [
                  0,
                  0
                ]
              },
              {
                "id": 107,
                "properties": {
                  "name": "LaptopAsset28",
                  "id": "Asset28",
                  "type": "Laptop",
                  "category": "Hardware",
                  "label": "Asset"
                },
                "color": "#4CAF50",
                "styles": {},
                "label": "Asset28",
                "scale_factor": 1,
                "type": "#4CAF50",
                "size": [
                  55,
                  55
                ],
                "position": [
                  0,
                  0
                ]
              },
              {
                "id": 14,
                "properties": {
                  "division": "Engineering",
                  "firstName": "Priya",
                  "lastName": "Martin",
                  "id": "Priya.Martin@gdc.com",
                  "label": "User"
                },
                "color": "#2196F3",
                "styles": {},
                "label": "Priya.Martin@gdc.com",
                "scale_factor": 1,
                "type": "#2196F3",
                "size": [
                  55,
                  55
                ],
                "position": [
                  0,
                  0
                ]
              },
              {
                "id": 108,
                "properties": {
                  "name": "LaptopAsset29",
                  "id": "Asset29",
                  "type": "Laptop",
                  "category": "Hardware",
                  "label": "Asset"
                },
                "color": "#4CAF50",
                "styles": {},
                "label": "Asset29",
                "scale_factor": 1,
                "type": "#4CAF50",
                "size": [
                  55,
                  55
                ],
                "position": [
                  0,
                  0
                ]
              },
              {
                "id": 15,
                "properties": {
                  "division": "Engineering",
                  "firstName": "Quinn",
                  "lastName": "Thompson",
                  "id": "Quinn.Thompson@gdc.com",
                  "label": "User"
                },
                "color": "#2196F3",
                "styles": {},
                "label": "Quinn.Thompson@gdc.com",
                "scale_factor": 1,
                "type": "#2196F3",
                "size": [
                  55,
                  55
                ],
                "position": [
                  0,
                  0
                ]
              },
              {
                "id": 109,
                "properties": {
                  "name": "LaptopAsset30",
                  "id": "Asset30",
                  "type": "Laptop",
                  "category": "Hardware",
                  "label": "Asset"
                },
                "color": "#4CAF50",
                "styles": {},
                "label": "Asset30",
                "scale_factor": 1,
                "type": "#4CAF50",
                "size": [
                  55,
                  55
                ],
                "position": [
                  0,
                  0
                ]
              },
              {
                "id": 46,
                "properties": {
                  "website": "example7.com",
                  "isFabricated": true,
                  "isMalware": false,
                  "addedDate": "2023-01-08T00:00:00.000000",
                  "isVerified": false,
                  "description": "Description of breach 7",
                  "breachDate": "2023-01-07T00:00:00.000000",
                  "type_of_breach": "password",
                  "isSpamList": true,
                  "breachId": 7,
                  "isSensitive": true,
                  "isSubscriptionFree": true,
                  "modifiedDate": "2023-01-09T00:00:00.000000",
                  "isRetired": true,
                  "account": "Quinn.Thompson@gdc.com",
                  "label": "Breach"
                },
                "color": "#F44336",
                "styles": {},
                "scale_factor": 1,
                "type": "#F44336",
                "size": [
                  55,
                  55
                ],
                "position": [
                  0,
                  0
                ]
              },
              {
                "id": 16,
                "properties": {
                  "division": "Engineering",
                  "firstName": "Rosa",
                  "lastName": "Garcia",
                  "id": "Rosa.Garcia@gdc.com",
                  "label": "User"
                },
                "color": "#2196F3",
                "styles": {},
                "label": "Rosa.Garcia@gdc.com",
                "scale_factor": 1,
                "type": "#2196F3",
                "size": [
                  55,
                  55
                ],
                "position": [
                  0,
                  0
                ]
              },
              {
                "id": 110,
                "properties": {
                  "name": "LaptopAsset31",
                  "id": "Asset31",
                  "type": "Laptop",
                  "category": "Hardware",
                  "label": "Asset"
                },
                "color": "#4CAF50",
                "styles": {},
                "label": "Asset31",
                "scale_factor": 1,
                "type": "#4CAF50",
                "size": [
                  55,
                  55
                ],
                "position": [
                  0,
                  0
                ]
              },
              {
                "id": 17,
                "properties": {
                  "division": "Engineering",
                  "firstName": "Sam",
                  "lastName": "Martinez",
                  "id": "Sam.Martinez@gdc.com",
                  "label": "User"
                },
                "color": "#2196F3",
                "styles": {},
                "label": "Sam.Martinez@gdc.com",
                "scale_factor": 1,
                "type": "#2196F3",
                "size": [
                  55,
                  55
                ],
                "position": [
                  0,
                  0
                ]
              },
              {
                "id": 111,
                "properties": {
                  "name": "LaptopAsset32",
                  "id": "Asset32",
                  "type": "Laptop",
                  "category": "Hardware",
                  "label": "Asset"
                },
                "color": "#4CAF50",
                "styles": {},
                "label": "Asset32",
                "scale_factor": 1,
                "type": "#4CAF50",
                "size": [
                  55,
                  55
                ],
                "position": [
                  0,
                  0
                ]
              },
              {
                "id": 47,
                "properties": {
                  "website": "example8.com",
                  "isFabricated": false,
                  "isMalware": true,
                  "addedDate": "2023-01-09T00:00:00.000000",
                  "isVerified": true,
                  "description": "Description of breach 8",
                  "breachDate": "2023-01-08T00:00:00.000000",
                  "type_of_breach": "credit card",
                  "isSpamList": false,
                  "breachId": 8,
                  "isSensitive": false,
                  "isSubscriptionFree": false,
                  "modifiedDate": "2023-01-10T00:00:00.000000",
                  "isRetired": false,
                  "account": "Sam.Martinez@gdc.com",
                  "label": "Breach"
                },
                "color": "#F44336",
                "styles": {},
                "scale_factor": 1,
                "type": "#F44336",
                "size": [
                  55,
                  55
                ],
                "position": [
                  0,
                  0
                ]
              },
              {
                "id": 18,
                "properties": {
                  "division": "Engineering",
                  "firstName": "Tina",
                  "lastName": "Robinson",
                  "id": "Tina.Robinson@gdc.com",
                  "label": "User"
                },
                "color": "#2196F3",
                "styles": {},
                "label": "Tina.Robinson@gdc.com",
                "scale_factor": 1,
                "type": "#2196F3",
                "size": [
                  55,
                  55
                ],
                "position": [
                  0,
                  0
                ]
              },
              {
                "id": 112,
                "properties": {
                  "name": "LaptopAsset33",
                  "id": "Asset33",
                  "type": "Laptop",
                  "category": "Hardware",
                  "label": "Asset"
                },
                "color": "#4CAF50",
                "styles": {},
                "label": "Asset33",
                "scale_factor": 1,
                "type": "#4CAF50",
                "size": [
                  55,
                  55
                ],
                "position": [
                  0,
                  0
                ]
              },
              {
                "id": 19,
                "properties": {
                  "division": "Management",
                  "firstName": "Umar",
                  "lastName": "Clark",
                  "id": "Umar.Clark@gdc.com",
                  "label": "User"
                },
                "color": "#2196F3",
                "styles": {},
                "label": "Umar.Clark@gdc.com",
                "scale_factor": 1,
                "type": "#2196F3",
                "size": [
                  55,
                  55
                ],
                "position": [
                  0,
                  0
                ]
              },
              {
                "id": 113,
                "properties": {
                  "name": "LaptopAsset34",
                  "id": "Asset34",
                  "type": "Laptop",
                  "category": "Hardware",
                  "label": "Asset"
                },
                "color": "#4CAF50",
                "styles": {},
                "label": "Asset34",
                "scale_factor": 1,
                "type": "#4CAF50",
                "size": [
                  55,
                  55
                ],
                "position": [
                  0,
                  0
                ]
              },
              {
                "id": 48,
                "properties": {
                  "website": "example9.com",
                  "isFabricated": true,
                  "isMalware": false,
                  "addedDate": "2023-01-10T00:00:00.000000",
                  "isVerified": false,
                  "description": "Description of breach 9",
                  "breachDate": "2023-01-09T00:00:00.000000",
                  "type_of_breach": "other",
                  "isSpamList": true,
                  "breachId": 9,
                  "isSensitive": true,
                  "isSubscriptionFree": true,
                  "modifiedDate": "2023-01-11T00:00:00.000000",
                  "isRetired": false,
                  "account": "Umar.Clark@gdc.com",
                  "label": "Breach"
                },
                "color": "#F44336",
                "styles": {},
                "scale_factor": 1,
                "type": "#F44336",
                "size": [
                  55,
                  55
                ],
                "position": [
                  0,
                  0
                ]
              },
              {
                "id": 20,
                "properties": {
                  "division": "Management",
                  "firstName": "Vivi",
                  "lastName": "Rodriguez",
                  "id": "Vivi.Rodriguez@gdc.com",
                  "label": "User"
                },
                "color": "#2196F3",
                "styles": {},
                "label": "Vivi.Rodriguez@gdc.com",
                "scale_factor": 1,
                "type": "#2196F3",
                "size": [
                  55,
                  55
                ],
                "position": [
                  0,
                  0
                ]
              },
              {
                "id": 114,
                "properties": {
                  "name": "LaptopAsset35",
                  "id": "Asset35",
                  "type": "Laptop",
                  "category": "Hardware",
                  "label": "Asset"
                },
                "color": "#4CAF50",
                "styles": {},
                "label": "Asset35",
                "scale_factor": 1,
                "type": "#4CAF50",
                "size": [
                  55,
                  55
                ],
                "position": [
                  0,
                  0
                ]
              },
              {
                "id": 49,
                "properties": {
                  "website": "example10.com",
                  "isFabricated": false,
                  "isMalware": true,
                  "addedDate": "2023-01-11T00:00:00.000000",
                  "isVerified": true,
                  "description": "Description of breach 10",
                  "breachDate": "2023-01-10T00:00:00.000000",
                  "type_of_breach": "password",
                  "isSpamList": false,
                  "breachId": 10,
                  "isSensitive": false,
                  "isSubscriptionFree": false,
                  "modifiedDate": "2023-01-12T00:00:00.000000",
                  "isRetired": true,
                  "account": "Vivi.Rodriguez@gdc.com",
                  "label": "Breach"
                },
                "color": "#F44336",
                "styles": {},
                "scale_factor": 1,
                "type": "#F44336",
                "size": [
                  55,
                  55
                ],
                "position": [
                  0,
                  0
                ]
              },
              {
                "id": 21,
                "properties": {
                  "division": "Management",
                  "firstName": "Wyatt",
                  "lastName": "Lewis",
                  "id": "Wyatt.Lewis@gdc.com",
                  "label": "User"
                },
                "color": "#2196F3",
                "styles": {},
                "label": "Wyatt.Lewis@gdc.com",
                "scale_factor": 1,
                "type": "#2196F3",
                "size": [
                  55,
                  55
                ],
                "position": [
                  0,
                  0
                ]
              },
              {
                "id": 115,
                "properties": {
                  "name": "LaptopAsset36",
                  "id": "Asset36",
                  "type": "Laptop",
                  "category": "Hardware",
                  "label": "Asset"
                },
                "color": "#4CAF50",
                "styles": {},
                "label": "Asset36",
                "scale_factor": 1,
                "type": "#4CAF50",
                "size": [
                  55,
                  55
                ],
                "position": [
                  0,
                  0
                ]
              },
              {
                "id": 50,
                "properties": {
                  "website": "example11.com",
                  "isFabricated": true,
                  "isMalware": false,
                  "addedDate": "2023-01-12T00:00:00.000000",
                  "isVerified": false,
                  "description": "Description of breach 11",
                  "breachDate": "2023-01-11T00:00:00.000000",
                  "type_of_breach": "credit card",
                  "isSpamList": true,
                  "breachId": 11,
                  "isSensitive": true,
                  "isSubscriptionFree": true,
                  "modifiedDate": "2023-01-13T00:00:00.000000",
                  "isRetired": false,
                  "account": "Wyatt.Lewis@gdc.com",
                  "label": "Breach"
                },
                "color": "#F44336",
                "styles": {},
                "scale_factor": 1,
                "type": "#F44336",
                "size": [
                  55,
                  55
                ],
                "position": [
                  0,
                  0
                ]
              },
              {
                "id": 22,
                "properties": {
                  "division": "Management",
                  "firstName": "Ximena",
                  "lastName": "Lee",
                  "id": "Ximena.Lee@gdc.com",
                  "label": "User"
                },
                "color": "#2196F3",
                "styles": {},
                "label": "Ximena.Lee@gdc.com",
                "scale_factor": 1,
                "type": "#2196F3",
                "size": [
                  55,
                  55
                ],
                "position": [
                  0,
                  0
                ]
              },
              {
                "id": 116,
                "properties": {
                  "name": "LaptopAsset37",
                  "id": "Asset37",
                  "type": "Laptop",
                  "category": "Hardware",
                  "label": "Asset"
                },
                "color": "#4CAF50",
                "styles": {},
                "label": "Asset37",
                "scale_factor": 1,
                "type": "#4CAF50",
                "size": [
                  55,
                  55
                ],
                "position": [
                  0,
                  0
                ]
              },
              {
                "id": 51,
                "properties": {
                  "website": "example12.com",
                  "isFabricated": false,
                  "isMalware": true,
                  "addedDate": "2023-01-13T00:00:00.000000",
                  "isVerified": true,
                  "description": "Description of breach 12",
                  "breachDate": "2023-01-12T00:00:00.000000",
                  "type_of_breach": "other",
                  "isSpamList": false,
                  "breachId": 12,
                  "isSensitive": false,
                  "isSubscriptionFree": false,
                  "modifiedDate": "2023-01-14T00:00:00.000000",
                  "isRetired": true,
                  "account": "Ximena.Lee@gdc.com",
                  "label": "Breach"
                },
                "color": "#F44336",
                "styles": {},
                "scale_factor": 1,
                "type": "#F44336",
                "size": [
                  55,
                  55
                ],
                "position": [
                  0,
                  0
                ]
              },
              {
                "id": 23,
                "properties": {
                  "division": "Management",
                  "firstName": "Yusef",
                  "lastName": "Walker",
                  "id": "Yusef.Walker@gdc.com",
                  "label": "User"
                },
                "color": "#2196F3",
                "styles": {},
                "label": "Yusef.Walker@gdc.com",
                "scale_factor": 1,
                "type": "#2196F3",
                "size": [
                  55,
                  55
                ],
                "position": [
                  0,
                  0
                ]
              },
              {
                "id": 117,
                "properties": {
                  "name": "LaptopAsset38",
                  "id": "Asset38",
                  "type": "Laptop",
                  "category": "Hardware",
                  "label": "Asset"
                },
                "color": "#4CAF50",
                "styles": {},
                "label": "Asset38",
                "scale_factor": 1,
                "type": "#4CAF50",
                "size": [
                  55,
                  55
                ],
                "position": [
                  0,
                  0
                ]
              },
              {
                "id": 52,
                "properties": {
                  "website": "example13.com",
                  "isFabricated": true,
                  "isMalware": false,
                  "addedDate": "2023-01-14T00:00:00.000000",
                  "isVerified": false,
                  "description": "Description of breach 13",
                  "breachDate": "2023-01-13T00:00:00.000000",
                  "type_of_breach": "password",
                  "isSpamList": true,
                  "breachId": 13,
                  "isSensitive": true,
                  "isSubscriptionFree": true,
                  "modifiedDate": "2023-01-15T00:00:00.000000",
                  "isRetired": false,
                  "account": "Yusef.Walker@gdc.com",
                  "label": "Breach"
                },
                "color": "#F44336",
                "styles": {},
                "scale_factor": 1,
                "type": "#F44336",
                "size": [
                  55,
                  55
                ],
                "position": [
                  0,
                  0
                ]
              },
              {
                "id": 24,
                "properties": {
                  "division": "Management",
                  "firstName": "Zoe",
                  "lastName": "Hall",
                  "id": "Zoe.Hall@gdc.com",
                  "label": "User"
                },
                "color": "#2196F3",
                "styles": {},
                "label": "Zoe.Hall@gdc.com",
                "scale_factor": 1,
                "type": "#2196F3",
                "size": [
                  55,
                  55
                ],
                "position": [
                  0,
                  0
                ]
              },
              {
                "id": 118,
                "properties": {
                  "name": "LaptopAsset39",
                  "id": "Asset39",
                  "type": "Laptop",
                  "category": "Hardware",
                  "label": "Asset"
                },
                "color": "#4CAF50",
                "styles": {},
                "label": "Asset39",
                "scale_factor": 1,
                "type": "#4CAF50",
                "size": [
                  55,
                  55
                ],
                "position": [
                  0,
                  0
                ]
              },
              {
                "id": 53,
                "properties": {
                  "website": "example14.com",
                  "isFabricated": false,
                  "isMalware": true,
                  "addedDate": "2023-01-15T00:00:00.000000",
                  "isVerified": true,
                  "description": "Description of breach 14",
                  "breachDate": "2023-01-14T00:00:00.000000",
                  "type_of_breach": "credit card",
                  "isSpamList": false,
                  "breachId": 14,
                  "isSensitive": false,
                  "isSubscriptionFree": false,
                  "modifiedDate": "2023-01-16T00:00:00.000000",
                  "isRetired": true,
                  "account": "Zoe.Hall@gdc.com",
                  "label": "Breach"
                },
                "color": "#F44336",
                "styles": {},
                "scale_factor": 1,
                "type": "#F44336",
                "size": [
                  55,
                  55
                ],
                "position": [
                  0,
                  0
                ]
              },
              {
                "id": 25,
                "properties": {
                  "division": "Management",
                  "firstName": "Alex",
                  "lastName": "Allen",
                  "id": "Alex.Allen@gdc.com",
                  "label": "User"
                },
                "color": "#2196F3",
                "styles": {},
                "label": "Alex.Allen@gdc.com",
                "scale_factor": 1,
                "type": "#2196F3",
                "size": [
                  55,
                  55
                ],
                "position": [
                  0,
                  0
                ]
              },
              {
                "id": 79,
                "properties": {
                  "name": "LaptopAsset1",
                  "id": "Asset1",
                  "type": "Laptop",
                  "category": "Hardware",
                  "label": "Asset"
                },
                "color": "#4CAF50",
                "styles": {},
                "label": "Asset1",
                "scale_factor": 1,
                "type": "#4CAF50",
                "size": [
                  55,
                  55
                ],
                "position": [
                  0,
                  0
                ]
              },
              {
                "id": 26,
                "properties": {
                  "division": "Management",
                  "firstName": "Brooke",
                  "lastName": "Young",
                  "id": "Brooke.Young@gdc.com",
                  "label": "User"
                },
                "color": "#2196F3",
                "styles": {},
                "label": "Brooke.Young@gdc.com",
                "scale_factor": 1,
                "type": "#2196F3",
                "size": [
                  55,
                  55
                ],
                "position": [
                  0,
                  0
                ]
              },
              {
                "id": 81,
                "properties": {
                  "name": "LaptopAsset3",
                  "id": "Asset3",
                  "type": "Laptop",
                  "category": "Hardware",
                  "label": "Asset"
                },
                "color": "#4CAF50",
                "styles": {},
                "label": "Asset3",
                "scale_factor": 1,
                "type": "#4CAF50",
                "size": [
                  55,
                  55
                ],
                "position": [
                  0,
                  0
                ]
              },
              {
                "id": 27,
                "properties": {
                  "division": "Management",
                  "firstName": "Cesar",
                  "lastName": "Hernandez",
                  "id": "Cesar.Hernandez@gdc.com",
                  "label": "User"
                },
                "color": "#2196F3",
                "styles": {},
                "label": "Cesar.Hernandez@gdc.com",
                "scale_factor": 1,
                "type": "#2196F3",
                "size": [
                  55,
                  55
                ],
                "position": [
                  0,
                  0
                ]
              },
              {
                "id": 83,
                "properties": {
                  "name": "LaptopAsset5",
                  "id": "Asset5",
                  "type": "Laptop",
                  "category": "Hardware",
                  "label": "Asset"
                },
                "color": "#4CAF50",
                "styles": {},
                "label": "Asset5",
                "scale_factor": 1,
                "type": "#4CAF50",
                "size": [
                  55,
                  55
                ],
                "position": [
                  0,
                  0
                ]
              },
              {
                "id": 28,
                "properties": {
                  "division": "Management",
                  "firstName": "Dahlia",
                  "lastName": "King",
                  "id": "Dahlia.King@gdc.com",
                  "label": "User"
                },
                "color": "#2196F3",
                "styles": {},
                "label": "Dahlia.King@gdc.com",
                "scale_factor": 1,
                "type": "#2196F3",
                "size": [
                  55,
                  55
                ],
                "position": [
                  0,
                  0
                ]
              },
              {
                "id": 84,
                "properties": {
                  "name": "LaptopAsset6",
                  "id": "Asset6",
                  "type": "Laptop",
                  "category": "Hardware",
                  "label": "Asset"
                },
                "color": "#4CAF50",
                "styles": {},
                "label": "Asset6",
                "scale_factor": 1,
                "type": "#4CAF50",
                "size": [
                  55,
                  55
                ],
                "position": [
                  0,
                  0
                ]
              },
              {
                "id": 29,
                "properties": {
                  "division": "Operations",
                  "firstName": "Edwin",
                  "lastName": "Wright",
                  "id": "Edwin.Wright@gdc.com",
                  "label": "User"
                },
                "color": "#2196F3",
                "styles": {},
                "label": "Edwin.Wright@gdc.com",
                "scale_factor": 1,
                "type": "#2196F3",
                "size": [
                  55,
                  55
                ],
                "position": [
                  0,
                  0
                ]
              },
              {
                "id": 86,
                "properties": {
                  "name": "LaptopAsset8",
                  "id": "Asset8",
                  "type": "Laptop",
                  "category": "Hardware",
                  "label": "Asset"
                },
                "color": "#4CAF50",
                "styles": {},
                "label": "Asset8",
                "scale_factor": 1,
                "type": "#4CAF50",
                "size": [
                  55,
                  55
                ],
                "position": [
                  0,
                  0
                ]
              },
              {
                "id": 30,
                "properties": {
                  "division": "Operations",
                  "firstName": "Freya",
                  "lastName": "Lopez",
                  "id": "Freya.Lopez@gdc.com",
                  "label": "User"
                },
                "color": "#2196F3",
                "styles": {},
                "label": "Freya.Lopez@gdc.com",
                "scale_factor": 1,
                "type": "#2196F3",
                "size": [
                  55,
                  55
                ],
                "position": [
                  0,
                  0
                ]
              },
              {
                "id": 89,
                "properties": {
                  "name": "LaptopAsset11",
                  "id": "Asset11",
                  "type": "Laptop",
                  "category": "Hardware",
                  "label": "Asset"
                },
                "color": "#4CAF50",
                "styles": {},
                "label": "Asset11",
                "scale_factor": 1,
                "type": "#4CAF50",
                "size": [
                  55,
                  55
                ],
                "position": [
                  0,
                  0
                ]
              },
              {
                "id": 31,
                "properties": {
                  "division": "Operations",
                  "firstName": "Grayson",
                  "lastName": "Hill",
                  "id": "Grayson.Hill@gdc.com",
                  "label": "User"
                },
                "color": "#2196F3",
                "styles": {},
                "label": "Grayson.Hill@gdc.com",
                "scale_factor": 1,
                "type": "#2196F3",
                "size": [
                  55,
                  55
                ],
                "position": [
                  0,
                  0
                ]
              },
              {
                "id": 91,
                "properties": {
                  "name": "LaptopAsset13",
                  "id": "Asset13",
                  "type": "Laptop",
                  "category": "Hardware",
                  "label": "Asset"
                },
                "color": "#4CAF50",
                "styles": {},
                "label": "Asset13",
                "scale_factor": 1,
                "type": "#4CAF50",
                "size": [
                  55,
                  55
                ],
                "position": [
                  0,
                  0
                ]
              },
              {
                "id": 32,
                "properties": {
                  "division": "Operations",
                  "firstName": "Hope",
                  "lastName": "Scott",
                  "id": "Hope.Scott@gdc.com",
                  "label": "User"
                },
                "color": "#2196F3",
                "styles": {},
                "label": "Hope.Scott@gdc.com",
                "scale_factor": 1,
                "type": "#2196F3",
                "size": [
                  55,
                  55
                ],
                "position": [
                  0,
                  0
                ]
              },
              {
                "id": 94,
                "properties": {
                  "name": "LaptopAsset15",
                  "id": "Asset15",
                  "type": "Laptop",
                  "category": "Hardware",
                  "label": "Asset"
                },
                "color": "#4CAF50",
                "styles": {},
                "label": "Asset15",
                "scale_factor": 1,
                "type": "#4CAF50",
                "size": [
                  55,
                  55
                ],
                "position": [
                  0,
                  0
                ]
              },
              {
                "id": 33,
                "properties": {
                  "division": "Operations",
                  "firstName": "Jude",
                  "lastName": "Green",
                  "id": "Jude.Green@gdc.com",
                  "label": "User"
                },
                "color": "#2196F3",
                "styles": {},
                "label": "Jude.Green@gdc.com",
                "scale_factor": 1,
                "type": "#2196F3",
                "size": [
                  55,
                  55
                ],
                "position": [
                  0,
                  0
                ]
              },
              {
                "id": 97,
                "properties": {
                  "name": "LaptopAsset18",
                  "id": "Asset18",
                  "type": "Laptop",
                  "category": "Hardware",
                  "label": "Asset"
                },
                "color": "#4CAF50",
                "styles": {},
                "label": "Asset18",
                "scale_factor": 1,
                "type": "#4CAF50",
                "size": [
                  55,
                  55
                ],
                "position": [
                  0,
                  0
                ]
              },
              {
                "id": 34,
                "properties": {
                  "division": "Operations",
                  "firstName": "Kira",
                  "lastName": "Adams",
                  "id": "Kira.Adams@gdc.com",
                  "label": "User"
                },
                "color": "#2196F3",
                "styles": {},
                "label": "Kira.Adams@gdc.com",
                "scale_factor": 1,
                "type": "#2196F3",
                "size": [
                  55,
                  55
                ],
                "position": [
                  0,
                  0
                ]
              },
              {
                "id": 99,
                "properties": {
                  "name": "LaptopAsset20",
                  "id": "Asset20",
                  "type": "Laptop",
                  "category": "Hardware",
                  "label": "Asset"
                },
                "color": "#4CAF50",
                "styles": {},
                "label": "Asset20",
                "scale_factor": 1,
                "type": "#4CAF50",
                "size": [
                  55,
                  55
                ],
                "position": [
                  0,
                  0
                ]
              },
              {
                "id": 35,
                "properties": {
                  "division": "Operations",
                  "firstName": "Leo",
                  "lastName": "Baker",
                  "id": "Leo.Baker@gdc.com",
                  "label": "User"
                },
                "color": "#2196F3",
                "styles": {},
                "label": "Leo.Baker@gdc.com",
                "scale_factor": 1,
                "type": "#2196F3",
                "size": [
                  55,
                  55
                ],
                "position": [
                  0,
                  0
                ]
              },
              {
                "id": 100,
                "properties": {
                  "name": "LaptopAsset21",
                  "id": "Asset21",
                  "type": "Laptop",
                  "category": "Hardware",
                  "label": "Asset"
                },
                "color": "#4CAF50",
                "styles": {},
                "label": "Asset21",
                "scale_factor": 1,
                "type": "#4CAF50",
                "size": [
                  55,
                  55
                ],
                "position": [
                  0,
                  0
                ]
              },
              {
                "id": 36,
                "properties": {
                  "division": "Operations",
                  "firstName": "Mia",
                  "lastName": "Gonzalez",
                  "id": "Mia.Gonzalez@gdc.com",
                  "label": "User"
                },
                "color": "#2196F3",
                "styles": {},
                "label": "Mia.Gonzalez@gdc.com",
                "scale_factor": 1,
                "type": "#2196F3",
                "size": [
                  55,
                  55
                ],
                "position": [
                  0,
                  0
                ]
              },
              {
                "id": 102,
                "properties": {
                  "name": "LaptopAsset23",
                  "id": "Asset23",
                  "type": "Laptop",
                  "category": "Hardware",
                  "label": "Asset"
                },
                "color": "#4CAF50",
                "styles": {},
                "label": "Asset23",
                "scale_factor": 1,
                "type": "#4CAF50",
                "size": [
                  55,
                  55
                ],
                "position": [
                  0,
                  0
                ]
              },
              {
                "id": 37,
                "properties": {
                  "division": "Operations",
                  "firstName": "Noah",
                  "lastName": "Nelson",
                  "id": "Noah.Nelson@gdc.com",
                  "label": "User"
                },
                "color": "#2196F3",
                "styles": {},
                "label": "Noah.Nelson@gdc.com",
                "scale_factor": 1,
                "type": "#2196F3",
                "size": [
                  55,
                  55
                ],
                "position": [
                  0,
                  0
                ]
              },
              {
                "id": 104,
                "properties": {
                  "name": "LaptopAsset25",
                  "id": "Asset25",
                  "type": "Laptop",
                  "category": "Hardware",
                  "label": "Asset"
                },
                "color": "#4CAF50",
                "styles": {},
                "label": "Asset25",
                "scale_factor": 1,
                "type": "#4CAF50",
                "size": [
                  55,
                  55
                ],
                "position": [
                  0,
                  0
                ]
              },
              {
                "id": 38,
                "properties": {
                  "division": "Operations",
                  "firstName": "Olivia",
                  "lastName": "Carter",
                  "id": "Olivia.Carter@gdc.com",
                  "label": "User"
                },
                "color": "#2196F3",
                "styles": {},
                "label": "Olivia.Carter@gdc.com",
                "scale_factor": 1,
                "type": "#2196F3",
                "size": [
                  55,
                  55
                ],
                "position": [
                  0,
                  0
                ]
              },
              {
                "id": 106,
                "properties": {
                  "name": "LaptopAsset27",
                  "id": "Asset27",
                  "type": "Laptop",
                  "category": "Hardware",
                  "label": "Asset"
                },
                "color": "#4CAF50",
                "styles": {},
                "label": "Asset27",
                "scale_factor": 1,
                "type": "#4CAF50",
                "size": [
                  55,
                  55
                ],
                "position": [
                  0,
                  0
                ]
              },
              {
                "id": 39,
                "properties": {
                  "label": "User"
                },
                "color": "#2196F3",
                "styles": {},
                "scale_factor": 1,
                "type": "#2196F3",
                "size": [
                  55,
                  55
                ],
                "position": [
                  0,
                  0
                ]
              },
              {
                "id": 119,
                "properties": {
                  "name": "LaptopAsset40",
                  "id": "Asset40",
                  "type": "Laptop",
                  "category": "Hardware",
                  "label": "Asset"
                },
                "color": "#4CAF50",
                "styles": {},
                "label": "Asset40",
                "scale_factor": 1,
                "type": "#4CAF50",
                "size": [
                  55,
                  55
                ],
                "position": [
                  0,
                  0
                ]
              },
              {
                "id": 121,
                "properties": {
                  "id": "Ciso",
                  "label": "Abbreviation:__Entity__:Role"
                },
                "color": "#607D8B",
                "styles": {},
                "label": "Ciso",
                "scale_factor": 1,
                "type": "#607D8B",
                "size": [
                  55,
                  55
                ],
                "position": [
                  0,
                  0
                ]
              },
              {
                "id": 122,
                "properties": {
                  "id": "Chief Information Security Officer",
                  "label": "__Entity__:Role:Job title"
                },
                "color": "#673AB7",
                "styles": {},
                "label": "Chief Information Security Officer",
                "scale_factor": 1,
                "type": "#673AB7",
                "size": [
                  55,
                  55
                ],
                "position": [
                  0,
                  0
                ]
              },
              {
                "id": 123,
                "properties": {
                  "id": "Organization",
                  "label": "Concept:__Entity__:Entity"
                },
                "color": "#CDDC39",
                "styles": {},
                "label": "Organization",
                "scale_factor": 1,
                "type": "#CDDC39",
                "size": [
                  55,
                  55
                ],
                "position": [
                  0,
                  0
                ]
              },
              {
                "id": 124,
                "properties": {
                  "id": "Enterprise",
                  "label": "__Entity__:Entity"
                },
                "color": "#9E9E9E",
                "styles": {},
                "label": "Enterprise",
                "scale_factor": 1,
                "type": "#9E9E9E",
                "size": [
                  55,
                  55
                ],
                "position": [
                  0,
                  0
                ]
              },
              {
                "id": 136,
                "properties": {
                  "id": "Computer Emergency Response Team",
                  "label": "__Entity__:Entity"
                },
                "color": "#9E9E9E",
                "styles": {},
                "label": "Computer Emergency Response Team",
                "scale_factor": 1,
                "type": "#9E9E9E",
                "size": [
                  55,
                  55
                ],
                "position": [
                  0,
                  0
                ]
              },
              {
                "id": 137,
                "properties": {
                  "id": "Cybersecurity",
                  "label": "Concept:__Entity__:Field of expertise:Entity"
                },
                "color": "#9C27B0",
                "styles": {},
                "label": "Cybersecurity",
                "scale_factor": 1,
                "type": "#9C27B0",
                "size": [
                  55,
                  55
                ],
                "position": [
                  0,
                  0
                ]
              },
              {
                "id": 138,
                "properties": {
                  "id": "Disaster Recovery",
                  "label": "__Entity__:Entity"
                },
                "color": "#9E9E9E",
                "styles": {},
                "label": "Disaster Recovery",
                "scale_factor": 1,
                "type": "#9E9E9E",
                "size": [
                  55,
                  55
                ],
                "position": [
                  0,
                  0
                ]
              },
              {
                "id": 139,
                "properties": {
                  "id": "Business Continuity Management",
                  "label": "__Entity__:Entity"
                },
                "color": "#9E9E9E",
                "styles": {},
                "label": "Business Continuity Management",
                "scale_factor": 1,
                "type": "#9E9E9E",
                "size": [
                  55,
                  55
                ],
                "position": [
                  0,
                  0
                ]
              },
              {
                "id": 140,
                "properties": {
                  "id": "Identity And Access Management",
                  "label": "Concept:__Entity__:Entity"
                },
                "color": "#CDDC39",
                "styles": {},
                "label": "Identity And Access Management",
                "scale_factor": 1,
                "type": "#CDDC39",
                "size": [
                  55,
                  55
                ],
                "position": [
                  0,
                  0
                ]
              },
              {
                "id": 141,
                "properties": {
                  "id": "Information Privacy",
                  "label": "__Entity__:Entity"
                },
                "color": "#9E9E9E",
                "styles": {},
                "label": "Information Privacy",
                "scale_factor": 1,
                "type": "#9E9E9E",
                "size": [
                  55,
                  55
                ],
                "position": [
                  0,
                  0
                ]
              },
              {
                "id": 142,
                "properties": {
                  "id": "Information Regulatory Compliance",
                  "label": "__Entity__:Entity"
                },
                "color": "#9E9E9E",
                "styles": {},
                "label": "Information Regulatory Compliance",
                "scale_factor": 1,
                "type": "#9E9E9E",
                "size": [
                  55,
                  55
                ],
                "position": [
                  0,
                  0
                ]
              },
              {
                "id": 143,
                "properties": {
                  "id": "Information Risk Management",
                  "label": "__Entity__:Entity"
                },
                "color": "#9E9E9E",
                "styles": {},
                "label": "Information Risk Management",
                "scale_factor": 1,
                "type": "#9E9E9E",
                "size": [
                  55,
                  55
                ],
                "position": [
                  0,
                  0
                ]
              },
              {
                "id": 144,
                "properties": {
                  "id": "Information Security",
                  "label": "Concept:__Entity__:Entity"
                },
                "color": "#CDDC39",
                "styles": {},
                "label": "Information Security",
                "scale_factor": 1,
                "type": "#CDDC39",
                "size": [
                  55,
                  55
                ],
                "position": [
                  0,
                  0
                ]
              },
              {
                "id": 145,
                "properties": {
                  "id": "Information Assurance",
                  "label": "__Entity__:Entity"
                },
                "color": "#9E9E9E",
                "styles": {},
                "label": "Information Assurance",
                "scale_factor": 1,
                "type": "#9E9E9E",
                "size": [
                  55,
                  55
                ],
                "position": [
                  0,
                  0
                ]
              },
              {
                "id": 146,
                "properties": {
                  "id": "Information Security Operations Center",
                  "label": "__Entity__:Entity"
                },
                "color": "#9E9E9E",
                "styles": {},
                "label": "Information Security Operations Center",
                "scale_factor": 1,
                "type": "#9E9E9E",
                "size": [
                  55,
                  55
                ],
                "position": [
                  0,
                  0
                ]
              },
              {
                "id": 147,
                "properties": {
                  "id": "It Controls",
                  "label": "__Entity__:Entity"
                },
                "color": "#9E9E9E",
                "styles": {},
                "label": "It Controls",
                "scale_factor": 1,
                "type": "#9E9E9E",
                "size": [
                  55,
                  55
                ],
                "position": [
                  0,
                  0
                ]
              },
              {
                "id": 148,
                "properties": {
                  "id": "It Investigations",
                  "label": "__Entity__:Entity"
                },
                "color": "#9E9E9E",
                "styles": {},
                "label": "It Investigations",
                "scale_factor": 1,
                "type": "#9E9E9E",
                "size": [
                  55,
                  55
                ],
                "position": [
                  0,
                  0
                ]
              },
              {
                "id": 149,
                "properties": {
                  "id": "Digital Forensics",
                  "label": "__Entity__:Entity"
                },
                "color": "#9E9E9E",
                "styles": {},
                "label": "Digital Forensics",
                "scale_factor": 1,
                "type": "#9E9E9E",
                "size": [
                  55,
                  55
                ],
                "position": [
                  0,
                  0
                ]
              },
              {
                "id": 150,
                "properties": {
                  "id": "Ediscovery",
                  "label": "__Entity__:Entity"
                },
                "color": "#9E9E9E",
                "styles": {},
                "label": "Ediscovery",
                "scale_factor": 1,
                "type": "#9E9E9E",
                "size": [
                  55,
                  55
                ],
                "position": [
                  0,
                  0
                ]
              },
              {
                "id": 125,
                "properties": {
                  "id": "Staff",
                  "label": "__Entity__:Entity"
                },
                "color": "#9E9E9E",
                "styles": {},
                "label": "Staff",
                "scale_factor": 1,
                "type": "#9E9E9E",
                "size": [
                  55,
                  55
                ],
                "position": [
                  0,
                  0
                ]
              },
              {
                "id": 130,
                "properties": {
                  "id": "Policies",
                  "label": "Concept:__Entity__:Entity"
                },
                "color": "#CDDC39",
                "styles": {},
                "label": "Policies",
                "scale_factor": 1,
                "type": "#CDDC39",
                "size": [
                  55,
                  55
                ],
                "position": [
                  0,
                  0
                ]
              },
              {
                "id": 131,
                "properties": {
                  "id": "Procedures",
                  "label": "Concept:__Entity__:Entity"
                },
                "color": "#CDDC39",
                "styles": {},
                "label": "Procedures",
                "scale_factor": 1,
                "type": "#CDDC39",
                "size": [
                  55,
                  55
                ],
                "position": [
                  0,
                  0
                ]
              },
              {
                "id": 169,
                "properties": {
                  "id": "Information Security Managers",
                  "label": "__Entity__:Role"
                },
                "color": "#2196F3",
                "styles": {},
                "label": "Information Security Managers",
                "scale_factor": 1,
                "type": "#2196F3",
                "size": [
                  55,
                  55
                ],
                "position": [
                  0,
                  0
                ]
              },
              {
                "id": 170,
                "properties": {
                  "id": "Directors Of Information Security",
                  "label": "__Entity__:Role"
                },
                "color": "#2196F3",
                "styles": {},
                "label": "Directors Of Information Security",
                "scale_factor": 1,
                "type": "#2196F3",
                "size": [
                  55,
                  55
                ],
                "position": [
                  0,
                  0
                ]
              },
              {
                "id": 171,
                "properties": {
                  "id": "Security Analysts",
                  "label": "__Entity__:Role"
                },
                "color": "#2196F3",
                "styles": {},
                "label": "Security Analysts",
                "scale_factor": 1,
                "type": "#2196F3",
                "size": [
                  55,
                  55
                ],
                "position": [
                  0,
                  0
                ]
              },
              {
                "id": 172,
                "properties": {
                  "id": "Security Engineers",
                  "label": "__Entity__:Role"
                },
                "color": "#2196F3",
                "styles": {},
                "label": "Security Engineers",
                "scale_factor": 1,
                "type": "#2196F3",
                "size": [
                  55,
                  55
                ],
                "position": [
                  0,
                  0
                ]
              },
              {
                "id": 173,
                "properties": {
                  "id": "Technology Risk Managers",
                  "label": "__Entity__:Role"
                },
                "color": "#2196F3",
                "styles": {},
                "label": "Technology Risk Managers",
                "scale_factor": 1,
                "type": "#2196F3",
                "size": [
                  55,
                  55
                ],
                "position": [
                  0,
                  0
                ]
              },
              {
                "id": 126,
                "properties": {
                  "id": "Incidents",
                  "label": "__Entity__:Entity"
                },
                "color": "#9E9E9E",
                "styles": {},
                "label": "Incidents",
                "scale_factor": 1,
                "type": "#9E9E9E",
                "size": [
                  55,
                  55
                ],
                "position": [
                  0,
                  0
                ]
              },
              {
                "id": 127,
                "properties": {
                  "id": "Standards",
                  "label": "Concept:__Entity__:Entity"
                },
                "color": "#CDDC39",
                "styles": {},
                "label": "Standards",
                "scale_factor": 1,
                "type": "#CDDC39",
                "size": [
                  55,
                  55
                ],
                "position": [
                  0,
                  0
                ]
              },
              {
                "id": 128,
                "properties": {
                  "id": "Controls",
                  "label": "__Entity__:Entity"
                },
                "color": "#9E9E9E",
                "styles": {},
                "label": "Controls",
                "scale_factor": 1,
                "type": "#9E9E9E",
                "size": [
                  55,
                  55
                ],
                "position": [
                  0,
                  0
                ]
              },
              {
                "id": 129,
                "properties": {
                  "id": "Technologies",
                  "label": "Concept:__Entity__:Entity"
                },
                "color": "#CDDC39",
                "styles": {},
                "label": "Technologies",
                "scale_factor": 1,
                "type": "#CDDC39",
                "size": [
                  55,
                  55
                ],
                "position": [
                  0,
                  0
                ]
              },
              {
                "id": 132,
                "properties": {
                  "id": "Information Assets",
                  "label": "Concept:__Entity__:Entity"
                },
                "color": "#CDDC39",
                "styles": {},
                "label": "Information Assets",
                "scale_factor": 1,
                "type": "#CDDC39",
                "size": [
                  55,
                  55
                ],
                "position": [
                  0,
                  0
                ]
              },
              {
                "id": 133,
                "properties": {
                  "id": "Clients",
                  "label": "__Entity__:Entity"
                },
                "color": "#9E9E9E",
                "styles": {},
                "label": "Clients",
                "scale_factor": 1,
                "type": "#9E9E9E",
                "size": [
                  55,
                  55
                ],
                "position": [
                  0,
                  0
                ]
              },
              {
                "id": 134,
                "properties": {
                  "id": "Consumers",
                  "label": "__Entity__:Entity"
                },
                "color": "#9E9E9E",
                "styles": {},
                "label": "Consumers",
                "scale_factor": 1,
                "type": "#9E9E9E",
                "size": [
                  55,
                  55
                ],
                "position": [
                  0,
                  0
                ]
              },
              {
                "id": 158,
                "properties": {
                  "id": "Customer Privacy",
                  "label": "__Entity__:Entity"
                },
                "color": "#9E9E9E",
                "styles": {},
                "label": "Customer Privacy",
                "scale_factor": 1,
                "type": "#9E9E9E",
                "size": [
                  55,
                  55
                ],
                "position": [
                  0,
                  0
                ]
              },
              {
                "id": 135,
                "properties": {
                  "id": "Executives",
                  "label": "Concept:__Entity__:Entity"
                },
                "color": "#CDDC39",
                "styles": {},
                "label": "Executives",
                "scale_factor": 1,
                "type": "#CDDC39",
                "size": [
                  55,
                  55
                ],
                "position": [
                  0,
                  0
                ]
              },
              {
                "id": 151,
                "properties": {
                  "id": "Businesses",
                  "label": "__Entity__:Entity"
                },
                "color": "#9E9E9E",
                "styles": {},
                "label": "Businesses",
                "scale_factor": 1,
                "type": "#9E9E9E",
                "size": [
                  55,
                  55
                ],
                "position": [
                  0,
                  0
                ]
              },
              {
                "id": 153,
                "properties": {
                  "id": "Cio",
                  "label": "Abbreviation:__Entity__:Role"
                },
                "color": "#607D8B",
                "styles": {},
                "label": "Cio",
                "scale_factor": 1,
                "type": "#607D8B",
                "size": [
                  55,
                  55
                ],
                "position": [
                  0,
                  0
                ]
              },
              {
                "id": 154,
                "properties": {
                  "id": "Cso",
                  "label": "Abbreviation:__Entity__:Role"
                },
                "color": "#607D8B",
                "styles": {},
                "label": "Cso",
                "scale_factor": 1,
                "type": "#607D8B",
                "size": [
                  55,
                  55
                ],
                "position": [
                  0,
                  0
                ]
              },
              {
                "id": 156,
                "properties": {
                  "id": "Board Of Directors",
                  "label": "__Entity__:Group:Entity"
                },
                "color": "#4CAF50",
                "styles": {},
                "label": "Board Of Directors",
                "scale_factor": 1,
                "type": "#4CAF50",
                "size": [
                  55,
                  55
                ],
                "position": [
                  0,
                  0
                ]
              },
              {
                "id": 155,
                "properties": {
                  "id": "Pwc",
                  "label": "__Entity__:Entity"
                },
                "color": "#9E9E9E",
                "styles": {},
                "label": "Pwc",
                "scale_factor": 1,
                "type": "#9E9E9E",
                "size": [
                  55,
                  55
                ],
                "position": [
                  0,
                  0
                ]
              },
              {
                "id": 157,
                "properties": {
                  "id": "Business Processes",
                  "label": "__Entity__:Entity"
                },
                "color": "#9E9E9E",
                "styles": {},
                "label": "Business Processes",
                "scale_factor": 1,
                "type": "#9E9E9E",
                "size": [
                  55,
                  55
                ],
                "position": [
                  0,
                  0
                ]
              },
              {
                "id": 159,
                "properties": {
                  "id": "It Group",
                  "label": "__Entity__:Entity"
                },
                "color": "#9E9E9E",
                "styles": {},
                "label": "It Group",
                "scale_factor": 1,
                "type": "#9E9E9E",
                "size": [
                  55,
                  55
                ],
                "position": [
                  0,
                  0
                ]
              },
              {
                "id": 160,
                "properties": {
                  "id": "Business Acumen",
                  "label": "__Entity__:Entity"
                },
                "color": "#9E9E9E",
                "styles": {},
                "label": "Business Acumen",
                "scale_factor": 1,
                "type": "#9E9E9E",
                "size": [
                  55,
                  55
                ],
                "position": [
                  0,
                  0
                ]
              },
              {
                "id": 161,
                "properties": {
                  "id": "Technology Knowledge",
                  "label": "__Entity__:Entity"
                },
                "color": "#9E9E9E",
                "styles": {},
                "label": "Technology Knowledge",
                "scale_factor": 1,
                "type": "#9E9E9E",
                "size": [
                  55,
                  55
                ],
                "position": [
                  0,
                  0
                ]
              },
              {
                "id": 165,
                "properties": {
                  "id": "Project Management",
                  "label": "__Entity__:Training"
                },
                "color": "#F44336",
                "styles": {},
                "label": "Project Management",
                "scale_factor": 1,
                "type": "#F44336",
                "size": [
                  55,
                  55
                ],
                "position": [
                  0,
                  0
                ]
              },
              {
                "id": 166,
                "properties": {
                  "id": "Financial Management",
                  "label": "__Entity__:Training"
                },
                "color": "#F44336",
                "styles": {},
                "label": "Financial Management",
                "scale_factor": 1,
                "type": "#F44336",
                "size": [
                  55,
                  55
                ],
                "position": [
                  0,
                  0
                ]
              },
              {
                "id": 168,
                "properties": {
                  "id": "Soft-Skills",
                  "label": "__Entity__:Training"
                },
                "color": "#F44336",
                "styles": {},
                "label": "Soft-Skills",
                "scale_factor": 1,
                "type": "#F44336",
                "size": [
                  55,
                  55
                ],
                "position": [
                  0,
                  0
                ]
              },
              {
                "id": 162,
                "properties": {
                  "id": "Certifications",
                  "label": "__Entity__:Entity"
                },
                "color": "#9E9E9E",
                "styles": {},
                "label": "Certifications",
                "scale_factor": 1,
                "type": "#9E9E9E",
                "size": [
                  55,
                  55
                ],
                "position": [
                  0,
                  0
                ]
              },
              {
                "id": 163,
                "properties": {
                  "id": "Cissp",
                  "label": "__Entity__:Certification"
                },
                "color": "#607D8B",
                "styles": {},
                "label": "Cissp",
                "scale_factor": 1,
                "type": "#607D8B",
                "size": [
                  55,
                  55
                ],
                "position": [
                  0,
                  0
                ]
              },
              {
                "id": 164,
                "properties": {
                  "id": "Cism",
                  "label": "__Entity__:Certification program:Certification"
                },
                "color": "#673AB7",
                "styles": {},
                "label": "Cism",
                "scale_factor": 1,
                "type": "#673AB7",
                "size": [
                  55,
                  55
                ],
                "position": [
                  0,
                  0
                ]
              },
              {
                "id": 167,
                "properties": {
                  "id": "Mba",
                  "label": "__Entity__:Certification"
                },
                "color": "#607D8B",
                "styles": {},
                "label": "Mba",
                "scale_factor": 1,
                "type": "#607D8B",
                "size": [
                  55,
                  55
                ],
                "position": [
                  0,
                  0
                ]
              },
              {
                "id": 174,
                "properties": {
                  "id": "Privacy Matters",
                  "label": "__Entity__:Entity"
                },
                "color": "#9E9E9E",
                "styles": {},
                "label": "Privacy Matters",
                "scale_factor": 1,
                "type": "#9E9E9E",
                "size": [
                  55,
                  55
                ],
                "position": [
                  0,
                  0
                ]
              },
              {
                "id": 175,
                "properties": {
                  "id": "Cipp",
                  "label": "__Entity__:Certification"
                },
                "color": "#607D8B",
                "styles": {},
                "label": "Cipp",
                "scale_factor": 1,
                "type": "#607D8B",
                "size": [
                  55,
                  55
                ],
                "position": [
                  0,
                  0
                ]
              },
              {
                "id": 287,
                "properties": {
                  "id": "Risk Management",
                  "label": "Concept:__Entity__"
                },
                "color": "#CDDC39",
                "styles": {},
                "label": "Risk Management",
                "scale_factor": 1,
                "type": "#CDDC39",
                "size": [
                  55,
                  55
                ],
                "position": [
                  0,
                  0
                ]
              },
              {
                "id": 177,
                "properties": {
                  "id": "Chief Information Officer",
                  "label": "Person:Role:__Entity__:Job title"
                },
                "color": "#9E9E9E",
                "styles": {},
                "label": "Chief Information Officer",
                "scale_factor": 1,
                "type": "#9E9E9E",
                "size": [
                  55,
                  55
                ],
                "position": [
                  0,
                  0
                ]
              },
              {
                "id": 180,
                "properties": {
                  "id": "William R. Synnott",
                  "label": "Person:__Entity__"
                },
                "color": "#9C27B0",
                "styles": {},
                "label": "William R. Synnott",
                "scale_factor": 1,
                "type": "#9C27B0",
                "size": [
                  55,
                  55
                ],
                "position": [
                  0,
                  0
                ]
              },
              {
                "id": 181,
                "properties": {
                  "id": "William H. Gruber",
                  "label": "Person:__Entity__"
                },
                "color": "#9C27B0",
                "styles": {},
                "label": "William H. Gruber",
                "scale_factor": 1,
                "type": "#9C27B0",
                "size": [
                  55,
                  55
                ],
                "position": [
                  0,
                  0
                ]
              },
              {
                "id": 182,
                "properties": {
                  "id": "Paul Burfitt",
                  "label": "Person:__Entity__"
                },
                "color": "#9C27B0",
                "styles": {},
                "label": "Paul Burfitt",
                "scale_factor": 1,
                "type": "#9C27B0",
                "size": [
                  55,
                  55
                ],
                "position": [
                  0,
                  0
                ]
              },
              {
                "id": 183,
                "properties": {
                  "id": "Astrazeneca",
                  "label": "__Entity__:Organization"
                },
                "color": "#2196F3",
                "styles": {},
                "label": "Astrazeneca",
                "scale_factor": 1,
                "type": "#2196F3",
                "size": [
                  55,
                  55
                ],
                "position": [
                  0,
                  0
                ]
              },
              {
                "id": 185,
                "properties": {
                  "id": "Chief Security Officer",
                  "label": "__Entity__:Role"
                },
                "color": "#2196F3",
                "styles": {},
                "label": "Chief Security Officer",
                "scale_factor": 1,
                "type": "#2196F3",
                "size": [
                  55,
                  55
                ],
                "position": [
                  0,
                  0
                ]
              },
              {
                "id": 195,
                "properties": {
                  "id": "Financial Risk",
                  "label": "Concept:__Entity__"
                },
                "color": "#CDDC39",
                "styles": {},
                "label": "Financial Risk",
                "scale_factor": 1,
                "type": "#CDDC39",
                "size": [
                  55,
                  55
                ],
                "position": [
                  0,
                  0
                ]
              },
              {
                "id": 196,
                "properties": {
                  "id": "Reputational Risk",
                  "label": "Concept:__Entity__"
                },
                "color": "#CDDC39",
                "styles": {},
                "label": "Reputational Risk",
                "scale_factor": 1,
                "type": "#CDDC39",
                "size": [
                  55,
                  55
                ],
                "position": [
                  0,
                  0
                ]
              },
              {
                "id": 198,
                "properties": {
                  "id": "Risk Assessment",
                  "label": "Concept:__Entity__"
                },
                "color": "#CDDC39",
                "styles": {},
                "label": "Risk Assessment",
                "scale_factor": 1,
                "type": "#CDDC39",
                "size": [
                  55,
                  55
                ],
                "position": [
                  0,
                  0
                ]
              },
              {
                "id": 199,
                "properties": {
                  "id": "Crisis Management",
                  "label": "Concept:__Entity__"
                },
                "color": "#CDDC39",
                "styles": {},
                "label": "Crisis Management",
                "scale_factor": 1,
                "type": "#CDDC39",
                "size": [
                  55,
                  55
                ],
                "position": [
                  0,
                  0
                ]
              },
              {
                "id": 200,
                "properties": {
                  "id": "Incident Management",
                  "label": "Concept:__Entity__"
                },
                "color": "#CDDC39",
                "styles": {},
                "label": "Incident Management",
                "scale_factor": 1,
                "type": "#CDDC39",
                "size": [
                  55,
                  55
                ],
                "position": [
                  0,
                  0
                ]
              },
              {
                "id": 201,
                "properties": {
                  "id": "Continuity Of Operations",
                  "label": "Concept:__Entity__"
                },
                "color": "#CDDC39",
                "styles": {},
                "label": "Continuity Of Operations",
                "scale_factor": 1,
                "type": "#CDDC39",
                "size": [
                  55,
                  55
                ],
                "position": [
                  0,
                  0
                ]
              },
              {
                "id": 202,
                "properties": {
                  "id": "Security Processes",
                  "label": "Concept:__Entity__"
                },
                "color": "#CDDC39",
                "styles": {},
                "label": "Security Processes",
                "scale_factor": 1,
                "type": "#CDDC39",
                "size": [
                  55,
                  55
                ],
                "position": [
                  0,
                  0
                ]
              },
              {
                "id": 203,
                "properties": {
                  "id": "Practices",
                  "label": "Concept:__Entity__"
                },
                "color": "#CDDC39",
                "styles": {},
                "label": "Practices",
                "scale_factor": 1,
                "type": "#CDDC39",
                "size": [
                  55,
                  55
                ],
                "position": [
                  0,
                  0
                ]
              },
              {
                "id": 204,
                "properties": {
                  "id": "Information Risk",
                  "label": "Concept:__Entity__"
                },
                "color": "#CDDC39",
                "styles": {},
                "label": "Information Risk",
                "scale_factor": 1,
                "type": "#CDDC39",
                "size": [
                  55,
                  55
                ],
                "position": [
                  0,
                  0
                ]
              },
              {
                "id": 205,
                "properties": {
                  "id": "Physical Risk",
                  "label": "Concept:__Entity__"
                },
                "color": "#CDDC39",
                "styles": {},
                "label": "Physical Risk",
                "scale_factor": 1,
                "type": "#CDDC39",
                "size": [
                  55,
                  55
                ],
                "position": [
                  0,
                  0
                ]
              },
              {
                "id": 206,
                "properties": {
                  "id": "Personal Risk",
                  "label": "Concept:__Entity__"
                },
                "color": "#CDDC39",
                "styles": {},
                "label": "Personal Risk",
                "scale_factor": 1,
                "type": "#CDDC39",
                "size": [
                  55,
                  55
                ],
                "position": [
                  0,
                  0
                ]
              },
              {
                "id": 218,
                "properties": {
                  "id": "Risk Controls",
                  "label": "Concept:__Entity__"
                },
                "color": "#CDDC39",
                "styles": {},
                "label": "Risk Controls",
                "scale_factor": 1,
                "type": "#CDDC39",
                "size": [
                  55,
                  55
                ],
                "position": [
                  0,
                  0
                ]
              },
              {
                "id": 192,
                "properties": {
                  "id": "Compliance",
                  "label": "Concept:__Entity__"
                },
                "color": "#CDDC39",
                "styles": {},
                "label": "Compliance",
                "scale_factor": 1,
                "type": "#CDDC39",
                "size": [
                  55,
                  55
                ],
                "position": [
                  0,
                  0
                ]
              },
              {
                "id": 193,
                "properties": {
                  "id": "Operational Risk",
                  "label": "Concept:__Entity__"
                },
                "color": "#CDDC39",
                "styles": {},
                "label": "Operational Risk",
                "scale_factor": 1,
                "type": "#CDDC39",
                "size": [
                  55,
                  55
                ],
                "position": [
                  0,
                  0
                ]
              },
              {
                "id": 194,
                "properties": {
                  "id": "Strategic Risk",
                  "label": "Concept:__Entity__"
                },
                "color": "#CDDC39",
                "styles": {},
                "label": "Strategic Risk",
                "scale_factor": 1,
                "type": "#CDDC39",
                "size": [
                  55,
                  55
                ],
                "position": [
                  0,
                  0
                ]
              },
              {
                "id": 230,
                "properties": {
                  "id": "Managers",
                  "label": "Concept:__Entity__"
                },
                "color": "#CDDC39",
                "styles": {},
                "label": "Managers",
                "scale_factor": 1,
                "type": "#CDDC39",
                "size": [
                  55,
                  55
                ],
                "position": [
                  0,
                  0
                ]
              },
              {
                "id": 231,
                "properties": {
                  "id": "Employees",
                  "label": "Concept:__Entity__"
                },
                "color": "#CDDC39",
                "styles": {},
                "label": "Employees",
                "scale_factor": 1,
                "type": "#CDDC39",
                "size": [
                  55,
                  55
                ],
                "position": [
                  0,
                  0
                ]
              },
              {
                "id": 232,
                "properties": {
                  "id": "Customers",
                  "label": "Concept:__Entity__"
                },
                "color": "#CDDC39",
                "styles": {},
                "label": "Customers",
                "scale_factor": 1,
                "type": "#CDDC39",
                "size": [
                  55,
                  55
                ],
                "position": [
                  0,
                  0
                ]
              },
              {
                "id": 233,
                "properties": {
                  "id": "Stakeholders",
                  "label": "Concept:__Entity__"
                },
                "color": "#CDDC39",
                "styles": {},
                "label": "Stakeholders",
                "scale_factor": 1,
                "type": "#CDDC39",
                "size": [
                  55,
                  55
                ],
                "position": [
                  0,
                  0
                ]
              },
              {
                "id": 234,
                "properties": {
                  "id": "Visitors",
                  "label": "Concept:__Entity__"
                },
                "color": "#CDDC39",
                "styles": {},
                "label": "Visitors",
                "scale_factor": 1,
                "type": "#CDDC39",
                "size": [
                  55,
                  55
                ],
                "position": [
                  0,
                  0
                ]
              },
              {
                "id": 235,
                "properties": {
                  "id": "Optimal Use",
                  "label": "Concept:__Entity__"
                },
                "color": "#CDDC39",
                "styles": {},
                "label": "Optimal Use",
                "scale_factor": 1,
                "type": "#CDDC39",
                "size": [
                  55,
                  55
                ],
                "position": [
                  0,
                  0
                ]
              },
              {
                "id": 236,
                "properties": {
                  "id": "Equipment",
                  "label": "Concept:__Entity__"
                },
                "color": "#CDDC39",
                "styles": {},
                "label": "Equipment",
                "scale_factor": 1,
                "type": "#CDDC39",
                "size": [
                  55,
                  55
                ],
                "position": [
                  0,
                  0
                ]
              },
              {
                "id": 189,
                "properties": {
                  "id": "People",
                  "label": "Concept:__Entity__"
                },
                "color": "#CDDC39",
                "styles": {},
                "label": "People",
                "scale_factor": 1,
                "type": "#CDDC39",
                "size": [
                  55,
                  55
                ],
                "position": [
                  0,
                  0
                ]
              },
              {
                "id": 190,
                "properties": {
                  "id": "Intellectual Assets",
                  "label": "Concept:__Entity__"
                },
                "color": "#CDDC39",
                "styles": {},
                "label": "Intellectual Assets",
                "scale_factor": 1,
                "type": "#CDDC39",
                "size": [
                  55,
                  55
                ],
                "position": [
                  0,
                  0
                ]
              },
              {
                "id": 191,
                "properties": {
                  "id": "Tangible Property",
                  "label": "Concept:__Entity__"
                },
                "color": "#CDDC39",
                "styles": {},
                "label": "Tangible Property",
                "scale_factor": 1,
                "type": "#CDDC39",
                "size": [
                  55,
                  55
                ],
                "position": [
                  0,
                  0
                ]
              },
              {
                "id": 197,
                "properties": {
                  "id": "Executive Leadership Team",
                  "label": "__Entity__:Group"
                },
                "color": "#4CAF50",
                "styles": {},
                "label": "Executive Leadership Team",
                "scale_factor": 1,
                "type": "#4CAF50",
                "size": [
                  55,
                  55
                ],
                "position": [
                  0,
                  0
                ]
              },
              {
                "id": 186,
                "properties": {
                  "id": "Programs",
                  "label": "Concept:__Entity__"
                },
                "color": "#CDDC39",
                "styles": {},
                "label": "Programs",
                "scale_factor": 1,
                "type": "#CDDC39",
                "size": [
                  55,
                  55
                ],
                "position": [
                  0,
                  0
                ]
              },
              {
                "id": 187,
                "properties": {
                  "id": "Risk Strategies",
                  "label": "Concept:__Entity__"
                },
                "color": "#CDDC39",
                "styles": {},
                "label": "Risk Strategies",
                "scale_factor": 1,
                "type": "#CDDC39",
                "size": [
                  55,
                  55
                ],
                "position": [
                  0,
                  0
                ]
              },
              {
                "id": 207,
                "properties": {
                  "id": "Regulatory Environments",
                  "label": "Concept:__Entity__"
                },
                "color": "#CDDC39",
                "styles": {},
                "label": "Regulatory Environments",
                "scale_factor": 1,
                "type": "#CDDC39",
                "size": [
                  55,
                  55
                ],
                "position": [
                  0,
                  0
                ]
              },
              {
                "id": 208,
                "properties": {
                  "id": "Privacy",
                  "label": "Concept:__Entity__"
                },
                "color": "#CDDC39",
                "styles": {},
                "label": "Privacy",
                "scale_factor": 1,
                "type": "#CDDC39",
                "size": [
                  55,
                  55
                ],
                "position": [
                  0,
                  0
                ]
              },
              {
                "id": 209,
                "properties": {
                  "id": "Data Protection",
                  "label": "Concept:__Entity__"
                },
                "color": "#CDDC39",
                "styles": {},
                "label": "Data Protection",
                "scale_factor": 1,
                "type": "#CDDC39",
                "size": [
                  55,
                  55
                ],
                "position": [
                  0,
                  0
                ]
              },
              {
                "id": 210,
                "properties": {
                  "id": "Environmental Risk",
                  "label": "Concept:__Entity__"
                },
                "color": "#CDDC39",
                "styles": {},
                "label": "Environmental Risk",
                "scale_factor": 1,
                "type": "#CDDC39",
                "size": [
                  55,
                  55
                ],
                "position": [
                  0,
                  0
                ]
              },
              {
                "id": 211,
                "properties": {
                  "id": "Health And Safety",
                  "label": "Concept:__Entity__"
                },
                "color": "#CDDC39",
                "styles": {},
                "label": "Health And Safety",
                "scale_factor": 1,
                "type": "#CDDC39",
                "size": [
                  55,
                  55
                ],
                "position": [
                  0,
                  0
                ]
              },
              {
                "id": 212,
                "properties": {
                  "id": "Technology Solutions",
                  "label": "Concept:__Entity__"
                },
                "color": "#CDDC39",
                "styles": {},
                "label": "Technology Solutions",
                "scale_factor": 1,
                "type": "#CDDC39",
                "size": [
                  55,
                  55
                ],
                "position": [
                  0,
                  0
                ]
              },
              {
                "id": 213,
                "properties": {
                  "id": "Security Management Techniques",
                  "label": "Concept:__Entity__"
                },
                "color": "#CDDC39",
                "styles": {},
                "label": "Security Management Techniques",
                "scale_factor": 1,
                "type": "#CDDC39",
                "size": [
                  55,
                  55
                ],
                "position": [
                  0,
                  0
                ]
              },
              {
                "id": 214,
                "properties": {
                  "id": "Personnel",
                  "label": "Concept:__Entity__"
                },
                "color": "#CDDC39",
                "styles": {},
                "label": "Personnel",
                "scale_factor": 1,
                "type": "#CDDC39",
                "size": [
                  55,
                  55
                ],
                "position": [
                  0,
                  0
                ]
              },
              {
                "id": 215,
                "properties": {
                  "id": "Assets",
                  "label": "Concept:__Entity__"
                },
                "color": "#CDDC39",
                "styles": {},
                "label": "Assets",
                "scale_factor": 1,
                "type": "#CDDC39",
                "size": [
                  55,
                  55
                ],
                "position": [
                  0,
                  0
                ]
              },
              {
                "id": 216,
                "properties": {
                  "id": "Intellectual Property",
                  "label": "Concept:__Entity__"
                },
                "color": "#CDDC39",
                "styles": {},
                "label": "Intellectual Property",
                "scale_factor": 1,
                "type": "#CDDC39",
                "size": [
                  55,
                  55
                ],
                "position": [
                  0,
                  0
                ]
              },
              {
                "id": 217,
                "properties": {
                  "id": "Trade Secrets",
                  "label": "Concept:__Entity__"
                },
                "color": "#CDDC39",
                "styles": {},
                "label": "Trade Secrets",
                "scale_factor": 1,
                "type": "#CDDC39",
                "size": [
                  55,
                  55
                ],
                "position": [
                  0,
                  0
                ]
              },
              {
                "id": 219,
                "properties": {
                  "id": "Law Enforcement",
                  "label": "Concept:__Entity__"
                },
                "color": "#CDDC39",
                "styles": {},
                "label": "Law Enforcement",
                "scale_factor": 1,
                "type": "#CDDC39",
                "size": [
                  55,
                  55
                ],
                "position": [
                  0,
                  0
                ]
              },
              {
                "id": 220,
                "properties": {
                  "id": "International Counterparts",
                  "label": "Concept:__Entity__"
                },
                "color": "#CDDC39",
                "styles": {},
                "label": "International Counterparts",
                "scale_factor": 1,
                "type": "#CDDC39",
                "size": [
                  55,
                  55
                ],
                "position": [
                  0,
                  0
                ]
              },
              {
                "id": 221,
                "properties": {
                  "id": "In-Country Security",
                  "label": "Concept:__Entity__"
                },
                "color": "#CDDC39",
                "styles": {},
                "label": "In-Country Security",
                "scale_factor": 1,
                "type": "#CDDC39",
                "size": [
                  55,
                  55
                ],
                "position": [
                  0,
                  0
                ]
              },
              {
                "id": 222,
                "properties": {
                  "id": "Intelligence",
                  "label": "Concept:__Entity__"
                },
                "color": "#CDDC39",
                "styles": {},
                "label": "Intelligence",
                "scale_factor": 1,
                "type": "#CDDC39",
                "size": [
                  55,
                  55
                ],
                "position": [
                  0,
                  0
                ]
              },
              {
                "id": 223,
                "properties": {
                  "id": "Governmental Functions",
                  "label": "Concept:__Entity__"
                },
                "color": "#CDDC39",
                "styles": {},
                "label": "Governmental Functions",
                "scale_factor": 1,
                "type": "#CDDC39",
                "size": [
                  55,
                  55
                ],
                "position": [
                  0,
                  0
                ]
              },
              {
                "id": 224,
                "properties": {
                  "id": "Private Sector Counterparts",
                  "label": "Concept:__Entity__"
                },
                "color": "#CDDC39",
                "styles": {},
                "label": "Private Sector Counterparts",
                "scale_factor": 1,
                "type": "#CDDC39",
                "size": [
                  55,
                  55
                ],
                "position": [
                  0,
                  0
                ]
              },
              {
                "id": 225,
                "properties": {
                  "id": "Worldwide",
                  "label": "Concept:__Entity__"
                },
                "color": "#CDDC39",
                "styles": {},
                "label": "Worldwide",
                "scale_factor": 1,
                "type": "#CDDC39",
                "size": [
                  55,
                  55
                ],
                "position": [
                  0,
                  0
                ]
              },
              {
                "id": 226,
                "properties": {
                  "id": "Policy Committees",
                  "label": "Concept:__Entity__"
                },
                "color": "#CDDC39",
                "styles": {},
                "label": "Policy Committees",
                "scale_factor": 1,
                "type": "#CDDC39",
                "size": [
                  55,
                  55
                ],
                "position": [
                  0,
                  0
                ]
              },
              {
                "id": 227,
                "properties": {
                  "id": "Site Security",
                  "label": "Concept:__Entity__"
                },
                "color": "#CDDC39",
                "styles": {},
                "label": "Site Security",
                "scale_factor": 1,
                "type": "#CDDC39",
                "size": [
                  55,
                  55
                ],
                "position": [
                  0,
                  0
                ]
              },
              {
                "id": 228,
                "properties": {
                  "id": "Operations",
                  "label": "Concept:__Entity__"
                },
                "color": "#CDDC39",
                "styles": {},
                "label": "Operations",
                "scale_factor": 1,
                "type": "#CDDC39",
                "size": [
                  55,
                  55
                ],
                "position": [
                  0,
                  0
                ]
              },
              {
                "id": 229,
                "properties": {
                  "id": "Activities",
                  "label": "Concept:__Entity__"
                },
                "color": "#CDDC39",
                "styles": {},
                "label": "Activities",
                "scale_factor": 1,
                "type": "#CDDC39",
                "size": [
                  55,
                  55
                ],
                "position": [
                  0,
                  0
                ]
              },
              {
                "id": 254,
                "properties": {
                  "id": "External Resources",
                  "label": "__Entity__"
                },
                "color": "#F44336",
                "styles": {},
                "label": "External Resources",
                "scale_factor": 1,
                "type": "#F44336",
                "size": [
                  55,
                  55
                ],
                "position": [
                  0,
                  0
                ]
              },
              {
                "id": 237,
                "properties": {
                  "id": "Digital Security",
                  "label": "Concept:__Entity__"
                },
                "color": "#CDDC39",
                "styles": {},
                "label": "Digital Security",
                "scale_factor": 1,
                "type": "#CDDC39",
                "size": [
                  55,
                  55
                ],
                "position": [
                  0,
                  0
                ]
              },
              {
                "id": 238,
                "properties": {
                  "id": "Cyber Security",
                  "label": "Concept:__Entity__"
                },
                "color": "#CDDC39",
                "styles": {},
                "label": "Cyber Security",
                "scale_factor": 1,
                "type": "#CDDC39",
                "size": [
                  55,
                  55
                ],
                "position": [
                  0,
                  0
                ]
              },
              {
                "id": 239,
                "properties": {
                  "id": "It Security",
                  "label": "Concept:__Entity__"
                },
                "color": "#CDDC39",
                "styles": {},
                "label": "It Security",
                "scale_factor": 1,
                "type": "#CDDC39",
                "size": [
                  55,
                  55
                ],
                "position": [
                  0,
                  0
                ]
              },
              {
                "id": 241,
                "properties": {
                  "id": "Organizations",
                  "label": "__Entity__:Entity"
                },
                "color": "#9E9E9E",
                "styles": {},
                "label": "Organizations",
                "scale_factor": 1,
                "type": "#9E9E9E",
                "size": [
                  55,
                  55
                ],
                "position": [
                  0,
                  0
                ]
              },
              {
                "id": 242,
                "properties": {
                  "id": "Elements",
                  "label": "Concept:__Entity__"
                },
                "color": "#CDDC39",
                "styles": {},
                "label": "Elements",
                "scale_factor": 1,
                "type": "#CDDC39",
                "size": [
                  55,
                  55
                ],
                "position": [
                  0,
                  0
                ]
              },
              {
                "id": 243,
                "properties": {
                  "id": "Technology Stack",
                  "label": "Concept:__Entity__"
                },
                "color": "#CDDC39",
                "styles": {},
                "label": "Technology Stack",
                "scale_factor": 1,
                "type": "#CDDC39",
                "size": [
                  55,
                  55
                ],
                "position": [
                  0,
                  0
                ]
              },
              {
                "id": 256,
                "properties": {
                  "id": "Federal Chief Information Security Officer",
                  "label": "__Entity__:Position"
                },
                "color": "#607D8B",
                "styles": {},
                "label": "Federal Chief Information Security Officer",
                "scale_factor": 1,
                "type": "#607D8B",
                "size": [
                  55,
                  55
                ],
                "position": [
                  0,
                  0
                ]
              },
              {
                "id": 262,
                "properties": {
                  "id": "U.S. Chief Information Officer",
                  "label": "__Entity__:Position"
                },
                "color": "#607D8B",
                "styles": {},
                "label": "U.S. Chief Information Officer",
                "scale_factor": 1,
                "type": "#607D8B",
                "size": [
                  55,
                  55
                ],
                "position": [
                  0,
                  0
                ]
              },
              {
                "id": 257,
                "properties": {
                  "id": "United States",
                  "label": "__Entity__:Country"
                },
                "color": "#673AB7",
                "styles": {},
                "label": "United States",
                "scale_factor": 1,
                "type": "#673AB7",
                "size": [
                  55,
                  55
                ],
                "position": [
                  0,
                  0
                ]
              },
              {
                "id": 264,
                "properties": {
                  "id": "Office Of Management And Budget",
                  "label": "__Entity__:Organization"
                },
                "color": "#2196F3",
                "styles": {},
                "label": "Office Of Management And Budget",
                "scale_factor": 1,
                "type": "#2196F3",
                "size": [
                  55,
                  55
                ],
                "position": [
                  0,
                  0
                ]
              },
              {
                "id": 258,
                "properties": {
                  "id": "Gregory Touhill",
                  "label": "Person:__Entity__"
                },
                "color": "#9C27B0",
                "styles": {},
                "label": "Gregory Touhill",
                "scale_factor": 1,
                "type": "#9C27B0",
                "size": [
                  55,
                  55
                ],
                "position": [
                  0,
                  0
                ]
              },
              {
                "id": 259,
                "properties": {
                  "id": "Grant Schneider",
                  "label": "Person:__Entity__"
                },
                "color": "#9C27B0",
                "styles": {},
                "label": "Grant Schneider",
                "scale_factor": 1,
                "type": "#9C27B0",
                "size": [
                  55,
                  55
                ],
                "position": [
                  0,
                  0
                ]
              },
              {
                "id": 261,
                "properties": {
                  "id": "Deputy Ciso",
                  "label": "__Entity__:Position"
                },
                "color": "#607D8B",
                "styles": {},
                "label": "Deputy Ciso",
                "scale_factor": 1,
                "type": "#607D8B",
                "size": [
                  55,
                  55
                ],
                "position": [
                  0,
                  0
                ]
              },
              {
                "id": 260,
                "properties": {
                  "id": "Chris Derusha",
                  "label": "Person:__Entity__"
                },
                "color": "#9C27B0",
                "styles": {},
                "label": "Chris Derusha",
                "scale_factor": 1,
                "type": "#9C27B0",
                "size": [
                  55,
                  55
                ],
                "position": [
                  0,
                  0
                ]
              },
              {
                "id": 263,
                "properties": {
                  "id": "Acting Deputy",
                  "label": "__Entity__:Position"
                },
                "color": "#607D8B",
                "styles": {},
                "label": "Acting Deputy",
                "scale_factor": 1,
                "type": "#607D8B",
                "size": [
                  55,
                  55
                ],
                "position": [
                  0,
                  0
                ]
              },
              {
                "id": 266,
                "properties": {
                  "id": "Chief Technology Officer",
                  "label": "Person:Role:__Entity__"
                },
                "color": "#CDDC39",
                "styles": {},
                "label": "Chief Technology Officer",
                "scale_factor": 1,
                "type": "#CDDC39",
                "size": [
                  55,
                  55
                ],
                "position": [
                  0,
                  0
                ]
              },
              {
                "id": 267,
                "properties": {
                  "id": "Director Of Laboratory",
                  "label": "__Entity__:Role"
                },
                "color": "#2196F3",
                "styles": {},
                "label": "Director Of Laboratory",
                "scale_factor": 1,
                "type": "#2196F3",
                "size": [
                  55,
                  55
                ],
                "position": [
                  0,
                  0
                ]
              },
              {
                "id": 272,
                "properties": {
                  "id": "R&D Manager",
                  "label": "__Entity__:Role"
                },
                "color": "#2196F3",
                "styles": {},
                "label": "R&D Manager",
                "scale_factor": 1,
                "type": "#2196F3",
                "size": [
                  55,
                  55
                ],
                "position": [
                  0,
                  0
                ]
              },
              {
                "id": 273,
                "properties": {
                  "id": "Director Of R&D",
                  "label": "__Entity__:Role"
                },
                "color": "#2196F3",
                "styles": {},
                "label": "Director Of R&D",
                "scale_factor": 1,
                "type": "#2196F3",
                "size": [
                  55,
                  55
                ],
                "position": [
                  0,
                  0
                ]
              },
              {
                "id": 274,
                "properties": {
                  "id": "Vice President Of Engineering",
                  "label": "__Entity__:Role"
                },
                "color": "#2196F3",
                "styles": {},
                "label": "Vice President Of Engineering",
                "scale_factor": 1,
                "type": "#2196F3",
                "size": [
                  55,
                  55
                ],
                "position": [
                  0,
                  0
                ]
              },
              {
                "id": 275,
                "properties": {
                  "id": "Legal Counsel",
                  "label": "__Entity__:Role"
                },
                "color": "#2196F3",
                "styles": {},
                "label": "Legal Counsel",
                "scale_factor": 1,
                "type": "#2196F3",
                "size": [
                  55,
                  55
                ],
                "position": [
                  0,
                  0
                ]
              },
              {
                "id": 269,
                "properties": {
                  "id": "Corporate Vice President",
                  "label": "__Entity__:Role"
                },
                "color": "#2196F3",
                "styles": {},
                "label": "Corporate Vice President",
                "scale_factor": 1,
                "type": "#2196F3",
                "size": [
                  55,
                  55
                ],
                "position": [
                  0,
                  0
                ]
              },
              {
                "id": 268,
                "properties": {
                  "id": "Technical Director",
                  "label": "__Entity__:Role"
                },
                "color": "#2196F3",
                "styles": {},
                "label": "Technical Director",
                "scale_factor": 1,
                "type": "#2196F3",
                "size": [
                  55,
                  55
                ],
                "position": [
                  0,
                  0
                ]
              },
              {
                "id": 270,
                "properties": {
                  "id": "Research Director",
                  "label": "__Entity__:Role"
                },
                "color": "#2196F3",
                "styles": {},
                "label": "Research Director",
                "scale_factor": 1,
                "type": "#2196F3",
                "size": [
                  55,
                  55
                ],
                "position": [
                  0,
                  0
                ]
              },
              {
                "id": 271,
                "properties": {
                  "id": "Operational Executive",
                  "label": "__Entity__:Role"
                },
                "color": "#2196F3",
                "styles": {},
                "label": "Operational Executive",
                "scale_factor": 1,
                "type": "#2196F3",
                "size": [
                  55,
                  55
                ],
                "position": [
                  0,
                  0
                ]
              },
              {
                "id": 277,
                "properties": {
                  "id": "Chief Innovation Officer",
                  "label": "Person:__Entity__"
                },
                "color": "#9C27B0",
                "styles": {},
                "label": "Chief Innovation Officer",
                "scale_factor": 1,
                "type": "#9C27B0",
                "size": [
                  55,
                  55
                ],
                "position": [
                  0,
                  0
                ]
              },
              {
                "id": 279,
                "properties": {
                  "id": "Fourth Generation R&D",
                  "label": "__Entity__:Book"
                },
                "color": "#9E9E9E",
                "styles": {},
                "label": "Fourth Generation R&D",
                "scale_factor": 1,
                "type": "#9E9E9E",
                "size": [
                  55,
                  55
                ],
                "position": [
                  0,
                  0
                ]
              },
              {
                "id": 278,
                "properties": {
                  "id": "Chief Technology Innovation Officer",
                  "label": "Person:__Entity__"
                },
                "color": "#9C27B0",
                "styles": {},
                "label": "Chief Technology Innovation Officer",
                "scale_factor": 1,
                "type": "#9C27B0",
                "size": [
                  55,
                  55
                ],
                "position": [
                  0,
                  0
                ]
              },
              {
                "id": 281,
                "properties": {
                  "id": "Information Security Management",
                  "label": "Concept:__Entity__"
                },
                "color": "#CDDC39",
                "styles": {},
                "label": "Information Security Management",
                "scale_factor": 1,
                "type": "#CDDC39",
                "size": [
                  55,
                  55
                ],
                "position": [
                  0,
                  0
                ]
              },
              {
                "id": 282,
                "properties": {
                  "id": "Confidentiality",
                  "label": "Concept:__Entity__"
                },
                "color": "#CDDC39",
                "styles": {},
                "label": "Confidentiality",
                "scale_factor": 1,
                "type": "#CDDC39",
                "size": [
                  55,
                  55
                ],
                "position": [
                  0,
                  0
                ]
              },
              {
                "id": 283,
                "properties": {
                  "id": "Availability",
                  "label": "Concept:__Entity__"
                },
                "color": "#CDDC39",
                "styles": {},
                "label": "Availability",
                "scale_factor": 1,
                "type": "#CDDC39",
                "size": [
                  55,
                  55
                ],
                "position": [
                  0,
                  0
                ]
              },
              {
                "id": 284,
                "properties": {
                  "id": "Integrity",
                  "label": "Concept:__Entity__"
                },
                "color": "#CDDC39",
                "styles": {},
                "label": "Integrity",
                "scale_factor": 1,
                "type": "#CDDC39",
                "size": [
                  55,
                  55
                ],
                "position": [
                  0,
                  0
                ]
              },
              {
                "id": 294,
                "properties": {
                  "id": "Information Security Officer",
                  "label": "Concept:__Entity__"
                },
                "color": "#CDDC39",
                "styles": {},
                "label": "Information Security Officer",
                "scale_factor": 1,
                "type": "#CDDC39",
                "size": [
                  55,
                  55
                ],
                "position": [
                  0,
                  0
                ]
              },
              {
                "id": 301,
                "properties": {
                  "id": "Information Security Management System",
                  "label": "Concept:__Entity__"
                },
                "color": "#CDDC39",
                "styles": {},
                "label": "Information Security Management System",
                "scale_factor": 1,
                "type": "#CDDC39",
                "size": [
                  55,
                  55
                ],
                "position": [
                  0,
                  0
                ]
              },
              {
                "id": 288,
                "properties": {
                  "id": "Iso/Iec 27001",
                  "label": "Concept:__Entity__"
                },
                "color": "#CDDC39",
                "styles": {},
                "label": "Iso/Iec 27001",
                "scale_factor": 1,
                "type": "#CDDC39",
                "size": [
                  55,
                  55
                ],
                "position": [
                  0,
                  0
                ]
              },
              {
                "id": 289,
                "properties": {
                  "id": "Iso/Iec 27002",
                  "label": "Concept:__Entity__"
                },
                "color": "#CDDC39",
                "styles": {},
                "label": "Iso/Iec 27002",
                "scale_factor": 1,
                "type": "#CDDC39",
                "size": [
                  55,
                  55
                ],
                "position": [
                  0,
                  0
                ]
              },
              {
                "id": 290,
                "properties": {
                  "id": "Iso/Iec 27035",
                  "label": "Concept:__Entity__"
                },
                "color": "#CDDC39",
                "styles": {},
                "label": "Iso/Iec 27035",
                "scale_factor": 1,
                "type": "#CDDC39",
                "size": [
                  55,
                  55
                ],
                "position": [
                  0,
                  0
                ]
              },
              {
                "id": 285,
                "properties": {
                  "id": "Threats",
                  "label": "Concept:__Entity__"
                },
                "color": "#CDDC39",
                "styles": {},
                "label": "Threats",
                "scale_factor": 1,
                "type": "#CDDC39",
                "size": [
                  55,
                  55
                ],
                "position": [
                  0,
                  0
                ]
              },
              {
                "id": 292,
                "properties": {
                  "id": "Meteorite",
                  "label": "Concept:__Entity__"
                },
                "color": "#CDDC39",
                "styles": {},
                "label": "Meteorite",
                "scale_factor": 1,
                "type": "#CDDC39",
                "size": [
                  55,
                  55
                ],
                "position": [
                  0,
                  0
                ]
              },
              {
                "id": 314,
                "properties": {
                  "id": "User Apathy",
                  "label": "__Entity__"
                },
                "color": "#F44336",
                "styles": {},
                "label": "User Apathy",
                "scale_factor": 1,
                "type": "#F44336",
                "size": [
                  55,
                  55
                ],
                "position": [
                  0,
                  0
                ]
              },
              {
                "id": 315,
                "properties": {
                  "id": "Unauthorized Probing And Scanning",
                  "label": "__Entity__"
                },
                "color": "#F44336",
                "styles": {},
                "label": "Unauthorized Probing And Scanning",
                "scale_factor": 1,
                "type": "#F44336",
                "size": [
                  55,
                  55
                ],
                "position": [
                  0,
                  0
                ]
              },
              {
                "id": 508,
                "properties": {
                  "id": "Categories",
                  "label": "Concept:__Entity__"
                },
                "color": "#CDDC39",
                "styles": {},
                "label": "Categories",
                "scale_factor": 1,
                "type": "#CDDC39",
                "size": [
                  55,
                  55
                ],
                "position": [
                  0,
                  0
                ]
              },
              {
                "id": 286,
                "properties": {
                  "id": "Vulnerabilities",
                  "label": "Concept:__Entity__"
                },
                "color": "#CDDC39",
                "styles": {},
                "label": "Vulnerabilities",
                "scale_factor": 1,
                "type": "#CDDC39",
                "size": [
                  55,
                  55
                ],
                "position": [
                  0,
                  0
                ]
              },
              {
                "id": 468,
                "properties": {
                  "id": "Attacks",
                  "label": "Concept:__Entity__"
                },
                "color": "#CDDC39",
                "styles": {},
                "label": "Attacks",
                "scale_factor": 1,
                "type": "#CDDC39",
                "size": [
                  55,
                  55
                ],
                "position": [
                  0,
                  0
                ]
              },
              {
                "id": 309,
                "properties": {
                  "id": "Implementation",
                  "label": "Concept:__Entity__"
                },
                "color": "#CDDC39",
                "styles": {},
                "label": "Implementation",
                "scale_factor": 1,
                "type": "#CDDC39",
                "size": [
                  55,
                  55
                ],
                "position": [
                  0,
                  0
                ]
              },
              {
                "id": 469,
                "properties": {
                  "id": "Security Weakness",
                  "label": "Concept:__Entity__"
                },
                "color": "#CDDC39",
                "styles": {},
                "label": "Security Weakness",
                "scale_factor": 1,
                "type": "#CDDC39",
                "size": [
                  55,
                  55
                ],
                "position": [
                  0,
                  0
                ]
              },
              {
                "id": 470,
                "properties": {
                  "id": "Design",
                  "label": "Concept:__Entity__"
                },
                "color": "#CDDC39",
                "styles": {},
                "label": "Design",
                "scale_factor": 1,
                "type": "#CDDC39",
                "size": [
                  55,
                  55
                ],
                "position": [
                  0,
                  0
                ]
              },
              {
                "id": 471,
                "properties": {
                  "id": "Operation",
                  "label": "Concept:__Entity__"
                },
                "color": "#CDDC39",
                "styles": {},
                "label": "Operation",
                "scale_factor": 1,
                "type": "#CDDC39",
                "size": [
                  55,
                  55
                ],
                "position": [
                  0,
                  0
                ]
              },
              {
                "id": 472,
                "properties": {
                  "id": "Internal Control",
                  "label": "Concept:__Entity__"
                },
                "color": "#CDDC39",
                "styles": {},
                "label": "Internal Control",
                "scale_factor": 1,
                "type": "#CDDC39",
                "size": [
                  55,
                  55
                ],
                "position": [
                  0,
                  0
                ]
              },
              {
                "id": 473,
                "properties": {
                  "id": "Common Vulnerabilities And Exposures (Cve) Database",
                  "label": "Concept:__Entity__"
                },
                "color": "#CDDC39",
                "styles": {},
                "label": "Common Vulnerabilities And Exposures (Cve) Database",
                "scale_factor": 1,
                "type": "#CDDC39",
                "size": [
                  55,
                  55
                ],
                "position": [
                  0,
                  0
                ]
              },
              {
                "id": 474,
                "properties": {
                  "id": "Exploitable Vulnerability",
                  "label": "Concept:__Entity__"
                },
                "color": "#CDDC39",
                "styles": {},
                "label": "Exploitable Vulnerability",
                "scale_factor": 1,
                "type": "#CDDC39",
                "size": [
                  55,
                  55
                ],
                "position": [
                  0,
                  0
                ]
              },
              {
                "id": 475,
                "properties": {
                  "id": "Attack",
                  "label": "Concept:__Entity__"
                },
                "color": "#CDDC39",
                "styles": {},
                "label": "Attack",
                "scale_factor": 1,
                "type": "#CDDC39",
                "size": [
                  55,
                  55
                ],
                "position": [
                  0,
                  0
                ]
              },
              {
                "id": 476,
                "properties": {
                  "id": "Exploit",
                  "label": "Concept:__Entity__"
                },
                "color": "#CDDC39",
                "styles": {},
                "label": "Exploit",
                "scale_factor": 1,
                "type": "#CDDC39",
                "size": [
                  55,
                  55
                ],
                "position": [
                  0,
                  0
                ]
              },
              {
                "id": 477,
                "properties": {
                  "id": "Research",
                  "label": "Concept:__Entity__"
                },
                "color": "#CDDC39",
                "styles": {},
                "label": "Research",
                "scale_factor": 1,
                "type": "#CDDC39",
                "size": [
                  55,
                  55
                ],
                "position": [
                  0,
                  0
                ]
              },
              {
                "id": 478,
                "properties": {
                  "id": "Reverse-Engineering",
                  "label": "Concept:__Entity__"
                },
                "color": "#CDDC39",
                "styles": {},
                "label": "Reverse-Engineering",
                "scale_factor": 1,
                "type": "#CDDC39",
                "size": [
                  55,
                  55
                ],
                "position": [
                  0,
                  0
                ]
              },
              {
                "id": 479,
                "properties": {
                  "id": "Hunting Vulnerabilities",
                  "label": "Concept:__Entity__"
                },
                "color": "#CDDC39",
                "styles": {},
                "label": "Hunting Vulnerabilities",
                "scale_factor": 1,
                "type": "#CDDC39",
                "size": [
                  55,
                  55
                ],
                "position": [
                  0,
                  0
                ]
              },
              {
                "id": 480,
                "properties": {
                  "id": "Automated Tools",
                  "label": "Concept:__Entity__"
                },
                "color": "#CDDC39",
                "styles": {},
                "label": "Automated Tools",
                "scale_factor": 1,
                "type": "#CDDC39",
                "size": [
                  55,
                  55
                ],
                "position": [
                  0,
                  0
                ]
              },
              {
                "id": 481,
                "properties": {
                  "id": "Customized Scripts",
                  "label": "Concept:__Entity__"
                },
                "color": "#CDDC39",
                "styles": {},
                "label": "Customized Scripts",
                "scale_factor": 1,
                "type": "#CDDC39",
                "size": [
                  55,
                  55
                ],
                "position": [
                  0,
                  0
                ]
              },
              {
                "id": 482,
                "properties": {
                  "id": "Cyber Attacks",
                  "label": "Concept:__Entity__"
                },
                "color": "#CDDC39",
                "styles": {},
                "label": "Cyber Attacks",
                "scale_factor": 1,
                "type": "#CDDC39",
                "size": [
                  55,
                  55
                ],
                "position": [
                  0,
                  0
                ]
              },
              {
                "id": 321,
                "properties": {
                  "id": "Information Confidentiality",
                  "label": "__Entity__"
                },
                "color": "#F44336",
                "styles": {},
                "label": "Information Confidentiality",
                "scale_factor": 1,
                "type": "#F44336",
                "size": [
                  55,
                  55
                ],
                "position": [
                  0,
                  0
                ]
              },
              {
                "id": 297,
                "properties": {
                  "id": "Asset Identification",
                  "label": "Concept:__Entity__"
                },
                "color": "#CDDC39",
                "styles": {},
                "label": "Asset Identification",
                "scale_factor": 1,
                "type": "#CDDC39",
                "size": [
                  55,
                  55
                ],
                "position": [
                  0,
                  0
                ]
              },
              {
                "id": 298,
                "properties": {
                  "id": "Valuation",
                  "label": "Concept:__Entity__"
                },
                "color": "#CDDC39",
                "styles": {},
                "label": "Valuation",
                "scale_factor": 1,
                "type": "#CDDC39",
                "size": [
                  55,
                  55
                ],
                "position": [
                  0,
                  0
                ]
              },
              {
                "id": 291,
                "properties": {
                  "id": "Risk Mitigation",
                  "label": "Concept:__Entity__"
                },
                "color": "#CDDC39",
                "styles": {},
                "label": "Risk Mitigation",
                "scale_factor": 1,
                "type": "#CDDC39",
                "size": [
                  55,
                  55
                ],
                "position": [
                  0,
                  0
                ]
              },
              {
                "id": 316,
                "properties": {
                  "id": "Assessment",
                  "label": "__Entity__"
                },
                "color": "#F44336",
                "styles": {},
                "label": "Assessment",
                "scale_factor": 1,
                "type": "#F44336",
                "size": [
                  55,
                  55
                ],
                "position": [
                  0,
                  0
                ]
              },
              {
                "id": 320,
                "properties": {
                  "id": "Information Security Risks",
                  "label": "__Entity__"
                },
                "color": "#F44336",
                "styles": {},
                "label": "Information Security Risks",
                "scale_factor": 1,
                "type": "#F44336",
                "size": [
                  55,
                  55
                ],
                "position": [
                  0,
                  0
                ]
              },
              {
                "id": 311,
                "properties": {
                  "id": "Impact And Likelihood",
                  "label": "__Entity__"
                },
                "color": "#F44336",
                "styles": {},
                "label": "Impact And Likelihood",
                "scale_factor": 1,
                "type": "#F44336",
                "size": [
                  55,
                  55
                ],
                "position": [
                  0,
                  0
                ]
              },
              {
                "id": 313,
                "properties": {
                  "id": "It Domains",
                  "label": "__Entity__"
                },
                "color": "#F44336",
                "styles": {},
                "label": "It Domains",
                "scale_factor": 1,
                "type": "#F44336",
                "size": [
                  55,
                  55
                ],
                "position": [
                  0,
                  0
                ]
              },
              {
                "id": 293,
                "properties": {
                  "id": "Server Room",
                  "label": "Concept:__Entity__"
                },
                "color": "#CDDC39",
                "styles": {},
                "label": "Server Room",
                "scale_factor": 1,
                "type": "#CDDC39",
                "size": [
                  55,
                  55
                ],
                "position": [
                  0,
                  0
                ]
              },
              {
                "id": 299,
                "properties": {
                  "id": "Value",
                  "label": "Concept:__Entity__"
                },
                "color": "#CDDC39",
                "styles": {},
                "label": "Value",
                "scale_factor": 1,
                "type": "#CDDC39",
                "size": [
                  55,
                  55
                ],
                "position": [
                  0,
                  0
                ]
              },
              {
                "id": 300,
                "properties": {
                  "id": "Replacement",
                  "label": "Concept:__Entity__"
                },
                "color": "#CDDC39",
                "styles": {},
                "label": "Replacement",
                "scale_factor": 1,
                "type": "#CDDC39",
                "size": [
                  55,
                  55
                ],
                "position": [
                  0,
                  0
                ]
              },
              {
                "id": 303,
                "properties": {
                  "id": "Objectives",
                  "label": "Concept:__Entity__"
                },
                "color": "#CDDC39",
                "styles": {},
                "label": "Objectives",
                "scale_factor": 1,
                "type": "#CDDC39",
                "size": [
                  55,
                  55
                ],
                "position": [
                  0,
                  0
                ]
              },
              {
                "id": 304,
                "properties": {
                  "id": "Organization'S Overall Information Security",
                  "label": "Concept:__Entity__"
                },
                "color": "#CDDC39",
                "styles": {},
                "label": "Organization'S Overall Information Security",
                "scale_factor": 1,
                "type": "#CDDC39",
                "size": [
                  55,
                  55
                ],
                "position": [
                  0,
                  0
                ]
              },
              {
                "id": 306,
                "properties": {
                  "id": "Size",
                  "label": "Concept:__Entity__"
                },
                "color": "#CDDC39",
                "styles": {},
                "label": "Size",
                "scale_factor": 1,
                "type": "#CDDC39",
                "size": [
                  55,
                  55
                ],
                "position": [
                  0,
                  0
                ]
              },
              {
                "id": 307,
                "properties": {
                  "id": "Processes",
                  "label": "Concept:__Entity__"
                },
                "color": "#CDDC39",
                "styles": {},
                "label": "Processes",
                "scale_factor": 1,
                "type": "#CDDC39",
                "size": [
                  55,
                  55
                ],
                "position": [
                  0,
                  0
                ]
              },
              {
                "id": 308,
                "properties": {
                  "id": "Human Factors",
                  "label": "Concept:__Entity__"
                },
                "color": "#CDDC39",
                "styles": {},
                "label": "Human Factors",
                "scale_factor": 1,
                "type": "#CDDC39",
                "size": [
                  55,
                  55
                ],
                "position": [
                  0,
                  0
                ]
              },
              {
                "id": 322,
                "properties": {
                  "id": "Isms Development",
                  "label": "__Entity__"
                },
                "color": "#F44336",
                "styles": {},
                "label": "Isms Development",
                "scale_factor": 1,
                "type": "#F44336",
                "size": [
                  55,
                  55
                ],
                "position": [
                  0,
                  0
                ]
              },
              {
                "id": 323,
                "properties": {
                  "id": "Practice",
                  "label": "__Entity__"
                },
                "color": "#F44336",
                "styles": {},
                "label": "Practice",
                "scale_factor": 1,
                "type": "#F44336",
                "size": [
                  55,
                  55
                ],
                "position": [
                  0,
                  0
                ]
              },
              {
                "id": 324,
                "properties": {
                  "id": "User Domain",
                  "label": "__Entity__"
                },
                "color": "#F44336",
                "styles": {},
                "label": "User Domain",
                "scale_factor": 1,
                "type": "#F44336",
                "size": [
                  55,
                  55
                ],
                "position": [
                  0,
                  0
                ]
              },
              {
                "id": 310,
                "properties": {
                  "id": "Education Strategy Components",
                  "label": "Concept:__Entity__"
                },
                "color": "#CDDC39",
                "styles": {},
                "label": "Education Strategy Components",
                "scale_factor": 1,
                "type": "#CDDC39",
                "size": [
                  55,
                  55
                ],
                "position": [
                  0,
                  0
                ]
              },
              {
                "id": 317,
                "properties": {
                  "id": "Cost-Benefit Analysis",
                  "label": "__Entity__"
                },
                "color": "#F44336",
                "styles": {},
                "label": "Cost-Benefit Analysis",
                "scale_factor": 1,
                "type": "#F44336",
                "size": [
                  55,
                  55
                ],
                "position": [
                  0,
                  0
                ]
              },
              {
                "id": 312,
                "properties": {
                  "id": "Mitigation",
                  "label": "__Entity__"
                },
                "color": "#F44336",
                "styles": {},
                "label": "Mitigation",
                "scale_factor": 1,
                "type": "#F44336",
                "size": [
                  55,
                  55
                ],
                "position": [
                  0,
                  0
                ]
              },
              {
                "id": 318,
                "properties": {
                  "id": "Security Policies",
                  "label": "Concept:__Entity__"
                },
                "color": "#CDDC39",
                "styles": {},
                "label": "Security Policies",
                "scale_factor": 1,
                "type": "#CDDC39",
                "size": [
                  55,
                  55
                ],
                "position": [
                  0,
                  0
                ]
              },
              {
                "id": 319,
                "properties": {
                  "id": "Network",
                  "label": "Concept:__Entity__"
                },
                "color": "#CDDC39",
                "styles": {},
                "label": "Network",
                "scale_factor": 1,
                "type": "#CDDC39",
                "size": [
                  55,
                  55
                ],
                "position": [
                  0,
                  0
                ]
              },
              {
                "id": 326,
                "properties": {
                  "id": "Michael P. Burgess",
                  "label": "Person:__Entity__"
                },
                "color": "#9C27B0",
                "styles": {},
                "label": "Michael P. Burgess",
                "scale_factor": 1,
                "type": "#9C27B0",
                "size": [
                  55,
                  55
                ],
                "position": [
                  0,
                  0
                ]
              },
              {
                "id": 327,
                "properties": {
                  "id": "Australian Security Intelligence Organisation",
                  "label": "__Entity__:Organization"
                },
                "color": "#2196F3",
                "styles": {},
                "label": "Australian Security Intelligence Organisation",
                "scale_factor": 1,
                "type": "#2196F3",
                "size": [
                  55,
                  55
                ],
                "position": [
                  0,
                  0
                ]
              },
              {
                "id": 328,
                "properties": {
                  "id": "Australian Signals Directorate",
                  "label": "__Entity__:Organization"
                },
                "color": "#2196F3",
                "styles": {},
                "label": "Australian Signals Directorate",
                "scale_factor": 1,
                "type": "#2196F3",
                "size": [
                  55,
                  55
                ],
                "position": [
                  0,
                  0
                ]
              },
              {
                "id": 329,
                "properties": {
                  "id": "England",
                  "label": "__Entity__:Location"
                },
                "color": "#9C27B0",
                "styles": {},
                "label": "England",
                "scale_factor": 1,
                "type": "#9C27B0",
                "size": [
                  55,
                  55
                ],
                "position": [
                  0,
                  0
                ]
              },
              {
                "id": 330,
                "properties": {
                  "id": "Adelaide, South Australia",
                  "label": "__Entity__:Location"
                },
                "color": "#9C27B0",
                "styles": {},
                "label": "Adelaide, South Australia",
                "scale_factor": 1,
                "type": "#9C27B0",
                "size": [
                  55,
                  55
                ],
                "position": [
                  0,
                  0
                ]
              },
              {
                "id": 331,
                "properties": {
                  "id": "South Australian Institute Of Technology",
                  "label": "__Entity__:Organization"
                },
                "color": "#2196F3",
                "styles": {},
                "label": "South Australian Institute Of Technology",
                "scale_factor": 1,
                "type": "#2196F3",
                "size": [
                  55,
                  55
                ],
                "position": [
                  0,
                  0
                ]
              },
              {
                "id": 332,
                "properties": {
                  "id": "Telstra",
                  "label": "__Entity__:Organization"
                },
                "color": "#2196F3",
                "styles": {},
                "label": "Telstra",
                "scale_factor": 1,
                "type": "#2196F3",
                "size": [
                  55,
                  55
                ],
                "position": [
                  0,
                  0
                ]
              },
              {
                "id": 333,
                "properties": {
                  "id": "Federal Government’S Naval Shipbuilding Advisory Board",
                  "label": "__Entity__:Organization"
                },
                "color": "#2196F3",
                "styles": {},
                "label": "Federal Government’S Naval Shipbuilding Advisory Board",
                "scale_factor": 1,
                "type": "#2196F3",
                "size": [
                  55,
                  55
                ],
                "position": [
                  0,
                  0
                ]
              },
              {
                "id": 334,
                "properties": {
                  "id": "Scott Morrison",
                  "label": "Person:__Entity__"
                },
                "color": "#9C27B0",
                "styles": {},
                "label": "Scott Morrison",
                "scale_factor": 1,
                "type": "#9C27B0",
                "size": [
                  55,
                  55
                ],
                "position": [
                  0,
                  0
                ]
              },
              {
                "id": 335,
                "properties": {
                  "id": "Peter Dutton",
                  "label": "Person:__Entity__"
                },
                "color": "#9C27B0",
                "styles": {},
                "label": "Peter Dutton",
                "scale_factor": 1,
                "type": "#9C27B0",
                "size": [
                  55,
                  55
                ],
                "position": [
                  0,
                  0
                ]
              },
              {
                "id": 337,
                "properties": {
                  "id": "Chief Privacy Officer",
                  "label": "__Entity__:Role"
                },
                "color": "#2196F3",
                "styles": {},
                "label": "Chief Privacy Officer",
                "scale_factor": 1,
                "type": "#2196F3",
                "size": [
                  55,
                  55
                ],
                "position": [
                  0,
                  0
                ]
              },
              {
                "id": 345,
                "properties": {
                  "id": "Gdpr",
                  "label": "__Entity__:Regulation"
                },
                "color": "#2196F3",
                "styles": {},
                "label": "Gdpr",
                "scale_factor": 1,
                "type": "#2196F3",
                "size": [
                  55,
                  55
                ],
                "position": [
                  0,
                  0
                ]
              },
              {
                "id": 346,
                "properties": {
                  "id": "Hipaa Security Rule",
                  "label": "__Entity__:Regulation"
                },
                "color": "#2196F3",
                "styles": {},
                "label": "Hipaa Security Rule",
                "scale_factor": 1,
                "type": "#2196F3",
                "size": [
                  55,
                  55
                ],
                "position": [
                  0,
                  0
                ]
              },
              {
                "id": 342,
                "properties": {
                  "id": "Jennifer Barrett",
                  "label": "Person:__Entity__"
                },
                "color": "#9C27B0",
                "styles": {},
                "label": "Jennifer Barrett",
                "scale_factor": 1,
                "type": "#9C27B0",
                "size": [
                  55,
                  55
                ],
                "position": [
                  0,
                  0
                ]
              },
              {
                "id": 343,
                "properties": {
                  "id": "Ray Everett",
                  "label": "Person:__Entity__"
                },
                "color": "#9C27B0",
                "styles": {},
                "label": "Ray Everett",
                "scale_factor": 1,
                "type": "#9C27B0",
                "size": [
                  55,
                  55
                ],
                "position": [
                  0,
                  0
                ]
              },
              {
                "id": 344,
                "properties": {
                  "id": "Harriet Pearson",
                  "label": "Person:__Entity__"
                },
                "color": "#9C27B0",
                "styles": {},
                "label": "Harriet Pearson",
                "scale_factor": 1,
                "type": "#9C27B0",
                "size": [
                  55,
                  55
                ],
                "position": [
                  0,
                  0
                ]
              },
              {
                "id": 350,
                "properties": {
                  "id": "Privacy And American Business",
                  "label": "__Entity__:Organization"
                },
                "color": "#2196F3",
                "styles": {},
                "label": "Privacy And American Business",
                "scale_factor": 1,
                "type": "#2196F3",
                "size": [
                  55,
                  55
                ],
                "position": [
                  0,
                  0
                ]
              },
              {
                "id": 353,
                "properties": {
                  "id": "International Association Of Privacy Professionals (Iapp)",
                  "label": "__Entity__:Organization"
                },
                "color": "#2196F3",
                "styles": {},
                "label": "International Association Of Privacy Professionals (Iapp)",
                "scale_factor": 1,
                "type": "#2196F3",
                "size": [
                  55,
                  55
                ],
                "position": [
                  0,
                  0
                ]
              },
              {
                "id": 347,
                "properties": {
                  "id": "Acxiom",
                  "label": "__Entity__:Organization"
                },
                "color": "#2196F3",
                "styles": {},
                "label": "Acxiom",
                "scale_factor": 1,
                "type": "#2196F3",
                "size": [
                  55,
                  55
                ],
                "position": [
                  0,
                  0
                ]
              },
              {
                "id": 348,
                "properties": {
                  "id": "Alladvantage",
                  "label": "__Entity__:Organization"
                },
                "color": "#2196F3",
                "styles": {},
                "label": "Alladvantage",
                "scale_factor": 1,
                "type": "#2196F3",
                "size": [
                  55,
                  55
                ],
                "position": [
                  0,
                  0
                ]
              },
              {
                "id": 355,
                "properties": {
                  "id": "Jaya Baloo",
                  "label": "Person:__Entity__"
                },
                "color": "#9C27B0",
                "styles": {},
                "label": "Jaya Baloo",
                "scale_factor": 1,
                "type": "#9C27B0",
                "size": [
                  55,
                  55
                ],
                "position": [
                  0,
                  0
                ]
              },
              {
                "id": 356,
                "properties": {
                  "id": "Chief Information Security Officer (Ciso)",
                  "label": "Person:__Entity__:Job title"
                },
                "color": "#4CAF50",
                "styles": {},
                "label": "Chief Information Security Officer (Ciso)",
                "scale_factor": 1,
                "type": "#4CAF50",
                "size": [
                  55,
                  55
                ],
                "position": [
                  0,
                  0
                ]
              },
              {
                "id": 357,
                "properties": {
                  "id": "Avast Software",
                  "label": "__Entity__:Company"
                },
                "color": "#F44336",
                "styles": {},
                "label": "Avast Software",
                "scale_factor": 1,
                "type": "#F44336",
                "size": [
                  55,
                  55
                ],
                "position": [
                  0,
                  0
                ]
              },
              {
                "id": 358,
                "properties": {
                  "id": "Tufts University",
                  "label": "Educational institution:__Entity__"
                },
                "color": "#607D8B",
                "styles": {},
                "label": "Tufts University",
                "scale_factor": 1,
                "type": "#607D8B",
                "size": [
                  55,
                  55
                ],
                "position": [
                  0,
                  0
                ]
              },
              {
                "id": 359,
                "properties": {
                  "id": "Kpn International Consultancy",
                  "label": "__Entity__:Company"
                },
                "color": "#F44336",
                "styles": {},
                "label": "Kpn International Consultancy",
                "scale_factor": 1,
                "type": "#F44336",
                "size": [
                  55,
                  55
                ],
                "position": [
                  0,
                  0
                ]
              },
              {
                "id": 360,
                "properties": {
                  "id": "France Telecom",
                  "label": "__Entity__:Company"
                },
                "color": "#F44336",
                "styles": {},
                "label": "France Telecom",
                "scale_factor": 1,
                "type": "#F44336",
                "size": [
                  55,
                  55
                ],
                "position": [
                  0,
                  0
                ]
              },
              {
                "id": 361,
                "properties": {
                  "id": "Verizon",
                  "label": "__Entity__:Company"
                },
                "color": "#F44336",
                "styles": {},
                "label": "Verizon",
                "scale_factor": 1,
                "type": "#F44336",
                "size": [
                  55,
                  55
                ],
                "position": [
                  0,
                  0
                ]
              },
              {
                "id": 362,
                "properties": {
                  "id": "Kpn Telecom",
                  "label": "__Entity__:Company"
                },
                "color": "#F44336",
                "styles": {},
                "label": "Kpn Telecom",
                "scale_factor": 1,
                "type": "#F44336",
                "size": [
                  55,
                  55
                ],
                "position": [
                  0,
                  0
                ]
              },
              {
                "id": 363,
                "properties": {
                  "id": "Dutch Continuity Board",
                  "label": "__Entity__:Organization"
                },
                "color": "#2196F3",
                "styles": {},
                "label": "Dutch Continuity Board",
                "scale_factor": 1,
                "type": "#2196F3",
                "size": [
                  55,
                  55
                ],
                "position": [
                  0,
                  0
                ]
              },
              {
                "id": 364,
                "properties": {
                  "id": "Singularity University",
                  "label": "Educational institution:__Entity__"
                },
                "color": "#607D8B",
                "styles": {},
                "label": "Singularity University",
                "scale_factor": 1,
                "type": "#607D8B",
                "size": [
                  55,
                  55
                ],
                "position": [
                  0,
                  0
                ]
              },
              {
                "id": 365,
                "properties": {
                  "id": "Quantum Flagship Strategic Advisory Board Of The Eu Commission",
                  "label": "__Entity__:Organization"
                },
                "color": "#2196F3",
                "styles": {},
                "label": "Quantum Flagship Strategic Advisory Board Of The Eu Commission",
                "scale_factor": 1,
                "type": "#2196F3",
                "size": [
                  55,
                  55
                ],
                "position": [
                  0,
                  0
                ]
              },
              {
                "id": 366,
                "properties": {
                  "id": "Nos",
                  "label": "__Entity__:Organization"
                },
                "color": "#2196F3",
                "styles": {},
                "label": "Nos",
                "scale_factor": 1,
                "type": "#2196F3",
                "size": [
                  55,
                  55
                ],
                "position": [
                  0,
                  0
                ]
              },
              {
                "id": 367,
                "properties": {
                  "id": "Inspiring Fifty",
                  "label": "__Entity__:Organization"
                },
                "color": "#2196F3",
                "styles": {},
                "label": "Inspiring Fifty",
                "scale_factor": 1,
                "type": "#2196F3",
                "size": [
                  55,
                  55
                ],
                "position": [
                  0,
                  0
                ]
              },
              {
                "id": 369,
                "properties": {
                  "id": "Information Security Standards",
                  "label": "Concept:__Entity__"
                },
                "color": "#CDDC39",
                "styles": {},
                "label": "Information Security Standards",
                "scale_factor": 1,
                "type": "#CDDC39",
                "size": [
                  55,
                  55
                ],
                "position": [
                  0,
                  0
                ]
              },
              {
                "id": 371,
                "properties": {
                  "id": "Published Materials",
                  "label": "Concept:__Entity__"
                },
                "color": "#CDDC39",
                "styles": {},
                "label": "Published Materials",
                "scale_factor": 1,
                "type": "#CDDC39",
                "size": [
                  55,
                  55
                ],
                "position": [
                  0,
                  0
                ]
              },
              {
                "id": 372,
                "properties": {
                  "id": "Cyber Environment",
                  "label": "Concept:__Entity__"
                },
                "color": "#CDDC39",
                "styles": {},
                "label": "Cyber Environment",
                "scale_factor": 1,
                "type": "#CDDC39",
                "size": [
                  55,
                  55
                ],
                "position": [
                  0,
                  0
                ]
              },
              {
                "id": 383,
                "properties": {
                  "id": "Risks",
                  "label": "Concept:__Entity__"
                },
                "color": "#CDDC39",
                "styles": {},
                "label": "Risks",
                "scale_factor": 1,
                "type": "#CDDC39",
                "size": [
                  55,
                  55
                ],
                "position": [
                  0,
                  0
                ]
              },
              {
                "id": 385,
                "properties": {
                  "id": "Tools",
                  "label": "Concept:__Entity__"
                },
                "color": "#CDDC39",
                "styles": {},
                "label": "Tools",
                "scale_factor": 1,
                "type": "#CDDC39",
                "size": [
                  55,
                  55
                ],
                "position": [
                  0,
                  0
                ]
              },
              {
                "id": 386,
                "properties": {
                  "id": "Security Concepts",
                  "label": "Concept:__Entity__"
                },
                "color": "#CDDC39",
                "styles": {},
                "label": "Security Concepts",
                "scale_factor": 1,
                "type": "#CDDC39",
                "size": [
                  55,
                  55
                ],
                "position": [
                  0,
                  0
                ]
              },
              {
                "id": 387,
                "properties": {
                  "id": "Security Safeguards",
                  "label": "Concept:__Entity__"
                },
                "color": "#CDDC39",
                "styles": {},
                "label": "Security Safeguards",
                "scale_factor": 1,
                "type": "#CDDC39",
                "size": [
                  55,
                  55
                ],
                "position": [
                  0,
                  0
                ]
              },
              {
                "id": 388,
                "properties": {
                  "id": "Guidelines",
                  "label": "Concept:__Entity__"
                },
                "color": "#CDDC39",
                "styles": {},
                "label": "Guidelines",
                "scale_factor": 1,
                "type": "#CDDC39",
                "size": [
                  55,
                  55
                ],
                "position": [
                  0,
                  0
                ]
              },
              {
                "id": 389,
                "properties": {
                  "id": "Risk Management Approaches",
                  "label": "Concept:__Entity__"
                },
                "color": "#CDDC39",
                "styles": {},
                "label": "Risk Management Approaches",
                "scale_factor": 1,
                "type": "#CDDC39",
                "size": [
                  55,
                  55
                ],
                "position": [
                  0,
                  0
                ]
              },
              {
                "id": 390,
                "properties": {
                  "id": "Actions",
                  "label": "Concept:__Entity__"
                },
                "color": "#CDDC39",
                "styles": {},
                "label": "Actions",
                "scale_factor": 1,
                "type": "#CDDC39",
                "size": [
                  55,
                  55
                ],
                "position": [
                  0,
                  0
                ]
              },
              {
                "id": 391,
                "properties": {
                  "id": "Training",
                  "label": "Concept:__Entity__"
                },
                "color": "#CDDC39",
                "styles": {},
                "label": "Training",
                "scale_factor": 1,
                "type": "#CDDC39",
                "size": [
                  55,
                  55
                ],
                "position": [
                  0,
                  0
                ]
              },
              {
                "id": 392,
                "properties": {
                  "id": "Best Practices",
                  "label": "Concept:__Entity__"
                },
                "color": "#CDDC39",
                "styles": {},
                "label": "Best Practices",
                "scale_factor": 1,
                "type": "#CDDC39",
                "size": [
                  55,
                  55
                ],
                "position": [
                  0,
                  0
                ]
              },
              {
                "id": 393,
                "properties": {
                  "id": "Assurance",
                  "label": "Concept:__Entity__"
                },
                "color": "#CDDC39",
                "styles": {},
                "label": "Assurance",
                "scale_factor": 1,
                "type": "#CDDC39",
                "size": [
                  55,
                  55
                ],
                "position": [
                  0,
                  0
                ]
              },
              {
                "id": 373,
                "properties": {
                  "id": "User",
                  "label": "Concept:__Entity__"
                },
                "color": "#CDDC39",
                "styles": {},
                "label": "User",
                "scale_factor": 1,
                "type": "#CDDC39",
                "size": [
                  55,
                  55
                ],
                "position": [
                  0,
                  0
                ]
              },
              {
                "id": 374,
                "properties": {
                  "id": "Networks",
                  "label": "Concept:__Entity__"
                },
                "color": "#CDDC39",
                "styles": {},
                "label": "Networks",
                "scale_factor": 1,
                "type": "#CDDC39",
                "size": [
                  55,
                  55
                ],
                "position": [
                  0,
                  0
                ]
              },
              {
                "id": 375,
                "properties": {
                  "id": "Devices",
                  "label": "Concept:__Entity__"
                },
                "color": "#CDDC39",
                "styles": {},
                "label": "Devices",
                "scale_factor": 1,
                "type": "#CDDC39",
                "size": [
                  55,
                  55
                ],
                "position": [
                  0,
                  0
                ]
              },
              {
                "id": 376,
                "properties": {
                  "id": "Software",
                  "label": "Concept:__Entity__"
                },
                "color": "#CDDC39",
                "styles": {},
                "label": "Software",
                "scale_factor": 1,
                "type": "#CDDC39",
                "size": [
                  55,
                  55
                ],
                "position": [
                  0,
                  0
                ]
              },
              {
                "id": 377,
                "properties": {
                  "id": "Information",
                  "label": "Concept:__Entity__"
                },
                "color": "#CDDC39",
                "styles": {},
                "label": "Information",
                "scale_factor": 1,
                "type": "#CDDC39",
                "size": [
                  55,
                  55
                ],
                "position": [
                  0,
                  0
                ]
              },
              {
                "id": 378,
                "properties": {
                  "id": "Storage",
                  "label": "Concept:__Entity__"
                },
                "color": "#CDDC39",
                "styles": {},
                "label": "Storage",
                "scale_factor": 1,
                "type": "#CDDC39",
                "size": [
                  55,
                  55
                ],
                "position": [
                  0,
                  0
                ]
              },
              {
                "id": 379,
                "properties": {
                  "id": "Transit",
                  "label": "Concept:__Entity__"
                },
                "color": "#CDDC39",
                "styles": {},
                "label": "Transit",
                "scale_factor": 1,
                "type": "#CDDC39",
                "size": [
                  55,
                  55
                ],
                "position": [
                  0,
                  0
                ]
              },
              {
                "id": 380,
                "properties": {
                  "id": "Applications",
                  "label": "Concept:__Entity__"
                },
                "color": "#CDDC39",
                "styles": {},
                "label": "Applications",
                "scale_factor": 1,
                "type": "#CDDC39",
                "size": [
                  55,
                  55
                ],
                "position": [
                  0,
                  0
                ]
              },
              {
                "id": 381,
                "properties": {
                  "id": "Services",
                  "label": "Concept:__Entity__"
                },
                "color": "#CDDC39",
                "styles": {},
                "label": "Services",
                "scale_factor": 1,
                "type": "#CDDC39",
                "size": [
                  55,
                  55
                ],
                "position": [
                  0,
                  0
                ]
              },
              {
                "id": 382,
                "properties": {
                  "id": "Systems",
                  "label": "Concept:__Entity__"
                },
                "color": "#CDDC39",
                "styles": {},
                "label": "Systems",
                "scale_factor": 1,
                "type": "#CDDC39",
                "size": [
                  55,
                  55
                ],
                "position": [
                  0,
                  0
                ]
              },
              {
                "id": 384,
                "properties": {
                  "id": "Cyber-Attacks",
                  "label": "Concept:__Entity__"
                },
                "color": "#CDDC39",
                "styles": {},
                "label": "Cyber-Attacks",
                "scale_factor": 1,
                "type": "#CDDC39",
                "size": [
                  55,
                  55
                ],
                "position": [
                  0,
                  0
                ]
              },
              {
                "id": 394,
                "properties": {
                  "id": "History",
                  "label": "Concept:__Entity__"
                },
                "color": "#CDDC39",
                "styles": {},
                "label": "History",
                "scale_factor": 1,
                "type": "#CDDC39",
                "size": [
                  55,
                  55
                ],
                "position": [
                  0,
                  0
                ]
              },
              {
                "id": 370,
                "properties": {
                  "id": "Cybersecurity Standards",
                  "label": "Concept:__Entity__"
                },
                "color": "#CDDC39",
                "styles": {},
                "label": "Cybersecurity Standards",
                "scale_factor": 1,
                "type": "#CDDC39",
                "size": [
                  55,
                  55
                ],
                "position": [
                  0,
                  0
                ]
              },
              {
                "id": 395,
                "properties": {
                  "id": "Users",
                  "label": "Concept:__Entity__"
                },
                "color": "#CDDC39",
                "styles": {},
                "label": "Users",
                "scale_factor": 1,
                "type": "#CDDC39",
                "size": [
                  55,
                  55
                ],
                "position": [
                  0,
                  0
                ]
              },
              {
                "id": 396,
                "properties": {
                  "id": "Providers",
                  "label": "Concept:__Entity__"
                },
                "color": "#CDDC39",
                "styles": {},
                "label": "Providers",
                "scale_factor": 1,
                "type": "#CDDC39",
                "size": [
                  55,
                  55
                ],
                "position": [
                  0,
                  0
                ]
              },
              {
                "id": 398,
                "properties": {
                  "id": "International Forums",
                  "label": "Concept:__Entity__"
                },
                "color": "#CDDC39",
                "styles": {},
                "label": "International Forums",
                "scale_factor": 1,
                "type": "#CDDC39",
                "size": [
                  55,
                  55
                ],
                "position": [
                  0,
                  0
                ]
              },
              {
                "id": 399,
                "properties": {
                  "id": "Capabilities",
                  "label": "Concept:__Entity__"
                },
                "color": "#CDDC39",
                "styles": {},
                "label": "Capabilities",
                "scale_factor": 1,
                "type": "#CDDC39",
                "size": [
                  55,
                  55
                ],
                "position": [
                  0,
                  0
                ]
              },
              {
                "id": 400,
                "properties": {
                  "id": "Policies And Practices",
                  "label": "Concept:__Entity__"
                },
                "color": "#CDDC39",
                "styles": {},
                "label": "Policies And Practices",
                "scale_factor": 1,
                "type": "#CDDC39",
                "size": [
                  55,
                  55
                ],
                "position": [
                  0,
                  0
                ]
              },
              {
                "id": 401,
                "properties": {
                  "id": "Stanford Consortium For Research On Information Security And Policy",
                  "label": "Concept:__Entity__"
                },
                "color": "#CDDC39",
                "styles": {},
                "label": "Stanford Consortium For Research On Information Security And Policy",
                "scale_factor": 1,
                "type": "#CDDC39",
                "size": [
                  55,
                  55
                ],
                "position": [
                  0,
                  0
                ]
              },
              {
                "id": 402,
                "properties": {
                  "id": "Us Security Framework Adoption Study",
                  "label": "Concept:__Entity__"
                },
                "color": "#CDDC39",
                "styles": {},
                "label": "Us Security Framework Adoption Study",
                "scale_factor": 1,
                "type": "#CDDC39",
                "size": [
                  55,
                  55
                ],
                "position": [
                  0,
                  0
                ]
              },
              {
                "id": 403,
                "properties": {
                  "id": "Nist Cybersecurity Framework",
                  "label": "Concept:__Entity__"
                },
                "color": "#CDDC39",
                "styles": {},
                "label": "Nist Cybersecurity Framework",
                "scale_factor": 1,
                "type": "#CDDC39",
                "size": [
                  55,
                  55
                ],
                "position": [
                  0,
                  0
                ]
              },
              {
                "id": 404,
                "properties": {
                  "id": "Information Technology (It) Computer Security",
                  "label": "Concept:__Entity__"
                },
                "color": "#CDDC39",
                "styles": {},
                "label": "Information Technology (It) Computer Security",
                "scale_factor": 1,
                "type": "#CDDC39",
                "size": [
                  55,
                  55
                ],
                "position": [
                  0,
                  0
                ]
              },
              {
                "id": 405,
                "properties": {
                  "id": "Cross-Border Cyber-Exfiltration Operations",
                  "label": "Concept:__Entity__"
                },
                "color": "#CDDC39",
                "styles": {},
                "label": "Cross-Border Cyber-Exfiltration Operations",
                "scale_factor": 1,
                "type": "#CDDC39",
                "size": [
                  55,
                  55
                ],
                "position": [
                  0,
                  0
                ]
              },
              {
                "id": 406,
                "properties": {
                  "id": "Law Enforcement Agencies",
                  "label": "Concept:__Entity__"
                },
                "color": "#CDDC39",
                "styles": {},
                "label": "Law Enforcement Agencies",
                "scale_factor": 1,
                "type": "#CDDC39",
                "size": [
                  55,
                  55
                ],
                "position": [
                  0,
                  0
                ]
              },
              {
                "id": 407,
                "properties": {
                  "id": "International Criminal Activities",
                  "label": "Concept:__Entity__"
                },
                "color": "#CDDC39",
                "styles": {},
                "label": "International Criminal Activities",
                "scale_factor": 1,
                "type": "#CDDC39",
                "size": [
                  55,
                  55
                ],
                "position": [
                  0,
                  0
                ]
              },
              {
                "id": 408,
                "properties": {
                  "id": "Dark Web",
                  "label": "Concept:__Entity__"
                },
                "color": "#CDDC39",
                "styles": {},
                "label": "Dark Web",
                "scale_factor": 1,
                "type": "#CDDC39",
                "size": [
                  55,
                  55
                ],
                "position": [
                  0,
                  0
                ]
              },
              {
                "id": 409,
                "properties": {
                  "id": "Jurisdictional Questions",
                  "label": "Concept:__Entity__"
                },
                "color": "#CDDC39",
                "styles": {},
                "label": "Jurisdictional Questions",
                "scale_factor": 1,
                "type": "#CDDC39",
                "size": [
                  55,
                  55
                ],
                "position": [
                  0,
                  0
                ]
              },
              {
                "id": 410,
                "properties": {
                  "id": "Tensions",
                  "label": "Concept:__Entity__"
                },
                "color": "#CDDC39",
                "styles": {},
                "label": "Tensions",
                "scale_factor": 1,
                "type": "#CDDC39",
                "size": [
                  55,
                  55
                ],
                "position": [
                  0,
                  0
                ]
              },
              {
                "id": 411,
                "properties": {
                  "id": "Domestic Law Enforcement Efforts",
                  "label": "Concept:__Entity__"
                },
                "color": "#CDDC39",
                "styles": {},
                "label": "Domestic Law Enforcement Efforts",
                "scale_factor": 1,
                "type": "#CDDC39",
                "size": [
                  55,
                  55
                ],
                "position": [
                  0,
                  0
                ]
              },
              {
                "id": 412,
                "properties": {
                  "id": "International Jurisdiction",
                  "label": "Concept:__Entity__"
                },
                "color": "#CDDC39",
                "styles": {},
                "label": "International Jurisdiction",
                "scale_factor": 1,
                "type": "#CDDC39",
                "size": [
                  55,
                  55
                ],
                "position": [
                  0,
                  0
                ]
              },
              {
                "id": 413,
                "properties": {
                  "id": "Improved Cybersecurity Norms",
                  "label": "Concept:__Entity__"
                },
                "color": "#CDDC39",
                "styles": {},
                "label": "Improved Cybersecurity Norms",
                "scale_factor": 1,
                "type": "#CDDC39",
                "size": [
                  55,
                  55
                ],
                "position": [
                  0,
                  0
                ]
              },
              {
                "id": 436,
                "properties": {
                  "id": "Computer Security",
                  "label": "Concept:__Entity__"
                },
                "color": "#CDDC39",
                "styles": {},
                "label": "Computer Security",
                "scale_factor": 1,
                "type": "#CDDC39",
                "size": [
                  55,
                  55
                ],
                "position": [
                  0,
                  0
                ]
              },
              {
                "id": 437,
                "properties": {
                  "id": "Information Technology Security",
                  "label": "Concept:__Entity__"
                },
                "color": "#CDDC39",
                "styles": {},
                "label": "Information Technology Security",
                "scale_factor": 1,
                "type": "#CDDC39",
                "size": [
                  55,
                  55
                ],
                "position": [
                  0,
                  0
                ]
              },
              {
                "id": 438,
                "properties": {
                  "id": "Computer Systems",
                  "label": "Concept:__Entity__"
                },
                "color": "#CDDC39",
                "styles": {},
                "label": "Computer Systems",
                "scale_factor": 1,
                "type": "#CDDC39",
                "size": [
                  55,
                  55
                ],
                "position": [
                  0,
                  0
                ]
              },
              {
                "id": 439,
                "properties": {
                  "id": "Malicious Actors",
                  "label": "Concept:__Entity__"
                },
                "color": "#CDDC39",
                "styles": {},
                "label": "Malicious Actors",
                "scale_factor": 1,
                "type": "#CDDC39",
                "size": [
                  55,
                  55
                ],
                "position": [
                  0,
                  0
                ]
              },
              {
                "id": 440,
                "properties": {
                  "id": "Unauthorized Information Disclosure",
                  "label": "Concept:__Entity__"
                },
                "color": "#CDDC39",
                "styles": {},
                "label": "Unauthorized Information Disclosure",
                "scale_factor": 1,
                "type": "#CDDC39",
                "size": [
                  55,
                  55
                ],
                "position": [
                  0,
                  0
                ]
              },
              {
                "id": 441,
                "properties": {
                  "id": "Theft",
                  "label": "Concept:__Entity__"
                },
                "color": "#CDDC39",
                "styles": {},
                "label": "Theft",
                "scale_factor": 1,
                "type": "#CDDC39",
                "size": [
                  55,
                  55
                ],
                "position": [
                  0,
                  0
                ]
              },
              {
                "id": 442,
                "properties": {
                  "id": "Damage To Hardware",
                  "label": "Concept:__Entity__"
                },
                "color": "#CDDC39",
                "styles": {},
                "label": "Damage To Hardware",
                "scale_factor": 1,
                "type": "#CDDC39",
                "size": [
                  55,
                  55
                ],
                "position": [
                  0,
                  0
                ]
              },
              {
                "id": 443,
                "properties": {
                  "id": "Damage To Software",
                  "label": "Concept:__Entity__"
                },
                "color": "#CDDC39",
                "styles": {},
                "label": "Damage To Software",
                "scale_factor": 1,
                "type": "#CDDC39",
                "size": [
                  55,
                  55
                ],
                "position": [
                  0,
                  0
                ]
              },
              {
                "id": 444,
                "properties": {
                  "id": "Damage To Data",
                  "label": "Concept:__Entity__"
                },
                "color": "#CDDC39",
                "styles": {},
                "label": "Damage To Data",
                "scale_factor": 1,
                "type": "#CDDC39",
                "size": [
                  55,
                  55
                ],
                "position": [
                  0,
                  0
                ]
              },
              {
                "id": 445,
                "properties": {
                  "id": "Disruption Of Services",
                  "label": "Concept:__Entity__"
                },
                "color": "#CDDC39",
                "styles": {},
                "label": "Disruption Of Services",
                "scale_factor": 1,
                "type": "#CDDC39",
                "size": [
                  55,
                  55
                ],
                "position": [
                  0,
                  0
                ]
              },
              {
                "id": 446,
                "properties": {
                  "id": "Misdirection Of Services",
                  "label": "Concept:__Entity__"
                },
                "color": "#CDDC39",
                "styles": {},
                "label": "Misdirection Of Services",
                "scale_factor": 1,
                "type": "#CDDC39",
                "size": [
                  55,
                  55
                ],
                "position": [
                  0,
                  0
                ]
              },
              {
                "id": 447,
                "properties": {
                  "id": "Internet",
                  "label": "Concept:__Entity__"
                },
                "color": "#CDDC39",
                "styles": {},
                "label": "Internet",
                "scale_factor": 1,
                "type": "#CDDC39",
                "size": [
                  55,
                  55
                ],
                "position": [
                  0,
                  0
                ]
              },
              {
                "id": 448,
                "properties": {
                  "id": "Wireless Network Standards",
                  "label": "Concept:__Entity__"
                },
                "color": "#CDDC39",
                "styles": {},
                "label": "Wireless Network Standards",
                "scale_factor": 1,
                "type": "#CDDC39",
                "size": [
                  55,
                  55
                ],
                "position": [
                  0,
                  0
                ]
              },
              {
                "id": 451,
                "properties": {
                  "id": "Smart Devices",
                  "label": "Concept:__Entity__"
                },
                "color": "#CDDC39",
                "styles": {},
                "label": "Smart Devices",
                "scale_factor": 1,
                "type": "#CDDC39",
                "size": [
                  55,
                  55
                ],
                "position": [
                  0,
                  0
                ]
              },
              {
                "id": 455,
                "properties": {
                  "id": "Challenges",
                  "label": "Concept:__Entity__"
                },
                "color": "#CDDC39",
                "styles": {},
                "label": "Challenges",
                "scale_factor": 1,
                "type": "#CDDC39",
                "size": [
                  55,
                  55
                ],
                "position": [
                  0,
                  0
                ]
              },
              {
                "id": 456,
                "properties": {
                  "id": "Complexity Of Information Systems",
                  "label": "Concept:__Entity__"
                },
                "color": "#CDDC39",
                "styles": {},
                "label": "Complexity Of Information Systems",
                "scale_factor": 1,
                "type": "#CDDC39",
                "size": [
                  55,
                  55
                ],
                "position": [
                  0,
                  0
                ]
              },
              {
                "id": 457,
                "properties": {
                  "id": "Societies",
                  "label": "Concept:__Entity__"
                },
                "color": "#CDDC39",
                "styles": {},
                "label": "Societies",
                "scale_factor": 1,
                "type": "#CDDC39",
                "size": [
                  55,
                  55
                ],
                "position": [
                  0,
                  0
                ]
              },
              {
                "id": 458,
                "properties": {
                  "id": "Security Importance",
                  "label": "Concept:__Entity__"
                },
                "color": "#CDDC39",
                "styles": {},
                "label": "Security Importance",
                "scale_factor": 1,
                "type": "#CDDC39",
                "size": [
                  55,
                  55
                ],
                "position": [
                  0,
                  0
                ]
              },
              {
                "id": 459,
                "properties": {
                  "id": "Large-Scale Systems",
                  "label": "Concept:__Entity__"
                },
                "color": "#CDDC39",
                "styles": {},
                "label": "Large-Scale Systems",
                "scale_factor": 1,
                "type": "#CDDC39",
                "size": [
                  55,
                  55
                ],
                "position": [
                  0,
                  0
                ]
              },
              {
                "id": 460,
                "properties": {
                  "id": "Power Distribution",
                  "label": "Concept:__Entity__"
                },
                "color": "#CDDC39",
                "styles": {},
                "label": "Power Distribution",
                "scale_factor": 1,
                "type": "#CDDC39",
                "size": [
                  55,
                  55
                ],
                "position": [
                  0,
                  0
                ]
              },
              {
                "id": 461,
                "properties": {
                  "id": "Elections",
                  "label": "Concept:__Entity__"
                },
                "color": "#CDDC39",
                "styles": {},
                "label": "Elections",
                "scale_factor": 1,
                "type": "#CDDC39",
                "size": [
                  55,
                  55
                ],
                "position": [
                  0,
                  0
                ]
              },
              {
                "id": 462,
                "properties": {
                  "id": "Finance",
                  "label": "Concept:__Entity__"
                },
                "color": "#CDDC39",
                "styles": {},
                "label": "Finance",
                "scale_factor": 1,
                "type": "#CDDC39",
                "size": [
                  55,
                  55
                ],
                "position": [
                  0,
                  0
                ]
              },
              {
                "id": 463,
                "properties": {
                  "id": "Digital Measures",
                  "label": "Concept:__Entity__"
                },
                "color": "#CDDC39",
                "styles": {},
                "label": "Digital Measures",
                "scale_factor": 1,
                "type": "#CDDC39",
                "size": [
                  55,
                  55
                ],
                "position": [
                  0,
                  0
                ]
              },
              {
                "id": 466,
                "properties": {
                  "id": "Physical Security Measures",
                  "label": "Concept:__Entity__"
                },
                "color": "#CDDC39",
                "styles": {},
                "label": "Physical Security Measures",
                "scale_factor": 1,
                "type": "#CDDC39",
                "size": [
                  55,
                  55
                ],
                "position": [
                  0,
                  0
                ]
              },
              {
                "id": 507,
                "properties": {
                  "id": "Computer System",
                  "label": "Concept:__Entity__"
                },
                "color": "#CDDC39",
                "styles": {},
                "label": "Computer System",
                "scale_factor": 1,
                "type": "#CDDC39",
                "size": [
                  55,
                  55
                ],
                "position": [
                  0,
                  0
                ]
              },
              {
                "id": 483,
                "properties": {
                  "id": "United Kingdom Department For Science, Innovation & Technology",
                  "label": "__Entity__:Organization"
                },
                "color": "#2196F3",
                "styles": {},
                "label": "United Kingdom Department For Science, Innovation & Technology",
                "scale_factor": 1,
                "type": "#2196F3",
                "size": [
                  55,
                  55
                ],
                "position": [
                  0,
                  0
                ]
              },
              {
                "id": 484,
                "properties": {
                  "id": "Report",
                  "label": "Concept:__Entity__"
                },
                "color": "#CDDC39",
                "styles": {},
                "label": "Report",
                "scale_factor": 1,
                "type": "#CDDC39",
                "size": [
                  55,
                  55
                ],
                "position": [
                  0,
                  0
                ]
              },
              {
                "id": 485,
                "properties": {
                  "id": "Uk Businesses",
                  "label": "Concept:__Entity__"
                },
                "color": "#CDDC39",
                "styles": {},
                "label": "Uk Businesses",
                "scale_factor": 1,
                "type": "#CDDC39",
                "size": [
                  55,
                  55
                ],
                "position": [
                  0,
                  0
                ]
              },
              {
                "id": 486,
                "properties": {
                  "id": "Uk Registered Charities",
                  "label": "Concept:__Entity__"
                },
                "color": "#CDDC39",
                "styles": {},
                "label": "Uk Registered Charities",
                "scale_factor": 1,
                "type": "#CDDC39",
                "size": [
                  55,
                  55
                ],
                "position": [
                  0,
                  0
                ]
              },
              {
                "id": 487,
                "properties": {
                  "id": "Education Institutions",
                  "label": "Concept:__Entity__"
                },
                "color": "#CDDC39",
                "styles": {},
                "label": "Education Institutions",
                "scale_factor": 1,
                "type": "#CDDC39",
                "size": [
                  55,
                  55
                ],
                "position": [
                  0,
                  0
                ]
              },
              {
                "id": 488,
                "properties": {
                  "id": "Breaches",
                  "label": "Concept:__Entity__"
                },
                "color": "#CDDC39",
                "styles": {},
                "label": "Breaches",
                "scale_factor": 1,
                "type": "#CDDC39",
                "size": [
                  55,
                  55
                ],
                "position": [
                  0,
                  0
                ]
              },
              {
                "id": 489,
                "properties": {
                  "id": "Medium Businesses",
                  "label": "Concept:__Entity__"
                },
                "color": "#CDDC39",
                "styles": {},
                "label": "Medium Businesses",
                "scale_factor": 1,
                "type": "#CDDC39",
                "size": [
                  55,
                  55
                ],
                "position": [
                  0,
                  0
                ]
              },
              {
                "id": 490,
                "properties": {
                  "id": "Large Businesses",
                  "label": "Concept:__Entity__"
                },
                "color": "#CDDC39",
                "styles": {},
                "label": "Large Businesses",
                "scale_factor": 1,
                "type": "#CDDC39",
                "size": [
                  55,
                  55
                ],
                "position": [
                  0,
                  0
                ]
              },
              {
                "id": 491,
                "properties": {
                  "id": "High-Income Charities",
                  "label": "Concept:__Entity__"
                },
                "color": "#CDDC39",
                "styles": {},
                "label": "High-Income Charities",
                "scale_factor": 1,
                "type": "#CDDC39",
                "size": [
                  55,
                  55
                ],
                "position": [
                  0,
                  0
                ]
              },
              {
                "id": 492,
                "properties": {
                  "id": "Annual Income",
                  "label": "Concept:__Entity__"
                },
                "color": "#CDDC39",
                "styles": {},
                "label": "Annual Income",
                "scale_factor": 1,
                "type": "#CDDC39",
                "size": [
                  55,
                  55
                ],
                "position": [
                  0,
                  0
                ]
              },
              {
                "id": 493,
                "properties": {
                  "id": "Small And Midsize Businesses (Smbs)",
                  "label": "Concept:__Entity__"
                },
                "color": "#CDDC39",
                "styles": {},
                "label": "Small And Midsize Businesses (Smbs)",
                "scale_factor": 1,
                "type": "#CDDC39",
                "size": [
                  55,
                  55
                ],
                "position": [
                  0,
                  0
                ]
              },
              {
                "id": 494,
                "properties": {
                  "id": "Advanced Tools",
                  "label": "Concept:__Entity__"
                },
                "color": "#CDDC39",
                "styles": {},
                "label": "Advanced Tools",
                "scale_factor": 1,
                "type": "#CDDC39",
                "size": [
                  55,
                  55
                ],
                "position": [
                  0,
                  0
                ]
              },
              {
                "id": 495,
                "properties": {
                  "id": "Malware",
                  "label": "Concept:__Entity__"
                },
                "color": "#CDDC39",
                "styles": {},
                "label": "Malware",
                "scale_factor": 1,
                "type": "#CDDC39",
                "size": [
                  55,
                  55
                ],
                "position": [
                  0,
                  0
                ]
              },
              {
                "id": 496,
                "properties": {
                  "id": "Ransomware",
                  "label": "Concept:__Entity__"
                },
                "color": "#CDDC39",
                "styles": {},
                "label": "Ransomware",
                "scale_factor": 1,
                "type": "#CDDC39",
                "size": [
                  55,
                  55
                ],
                "position": [
                  0,
                  0
                ]
              },
              {
                "id": 497,
                "properties": {
                  "id": "Phishing",
                  "label": "Concept:__Entity__"
                },
                "color": "#CDDC39",
                "styles": {},
                "label": "Phishing",
                "scale_factor": 1,
                "type": "#CDDC39",
                "size": [
                  55,
                  55
                ],
                "position": [
                  0,
                  0
                ]
              },
              {
                "id": 498,
                "properties": {
                  "id": "Man-In-The-Middle Attacks",
                  "label": "Concept:__Entity__"
                },
                "color": "#CDDC39",
                "styles": {},
                "label": "Man-In-The-Middle Attacks",
                "scale_factor": 1,
                "type": "#CDDC39",
                "size": [
                  55,
                  55
                ],
                "position": [
                  0,
                  0
                ]
              },
              {
                "id": 499,
                "properties": {
                  "id": "Denial-Of-Service (Dos) Attacks",
                  "label": "Concept:__Entity__"
                },
                "color": "#CDDC39",
                "styles": {},
                "label": "Denial-Of-Service (Dos) Attacks",
                "scale_factor": 1,
                "type": "#CDDC39",
                "size": [
                  55,
                  55
                ],
                "position": [
                  0,
                  0
                ]
              },
              {
                "id": 509,
                "properties": {
                  "id": "Backdoor",
                  "label": "Concept:__Entity__"
                },
                "color": "#CDDC39",
                "styles": {},
                "label": "Backdoor",
                "scale_factor": 1,
                "type": "#CDDC39",
                "size": [
                  55,
                  55
                ],
                "position": [
                  0,
                  0
                ]
              },
              {
                "id": 524,
                "properties": {
                  "id": "Remote Administrative Access",
                  "label": "Concept:__Entity__"
                },
                "color": "#CDDC39",
                "styles": {},
                "label": "Remote Administrative Access",
                "scale_factor": 1,
                "type": "#CDDC39",
                "size": [
                  55,
                  55
                ],
                "position": [
                  0,
                  0
                ]
              },
              {
                "id": 500,
                "properties": {
                  "id": "Normal Internet Users",
                  "label": "Concept:__Entity__"
                },
                "color": "#CDDC39",
                "styles": {},
                "label": "Normal Internet Users",
                "scale_factor": 1,
                "type": "#CDDC39",
                "size": [
                  55,
                  55
                ],
                "position": [
                  0,
                  0
                ]
              },
              {
                "id": 501,
                "properties": {
                  "id": "Untargeted Cyber Attacks",
                  "label": "Concept:__Entity__"
                },
                "color": "#CDDC39",
                "styles": {},
                "label": "Untargeted Cyber Attacks",
                "scale_factor": 1,
                "type": "#CDDC39",
                "size": [
                  55,
                  55
                ],
                "position": [
                  0,
                  0
                ]
              },
              {
                "id": 510,
                "properties": {
                  "id": "Cryptosystem",
                  "label": "Concept:__Entity__"
                },
                "color": "#CDDC39",
                "styles": {},
                "label": "Cryptosystem",
                "scale_factor": 1,
                "type": "#CDDC39",
                "size": [
                  55,
                  55
                ],
                "position": [
                  0,
                  0
                ]
              },
              {
                "id": 511,
                "properties": {
                  "id": "Algorithm",
                  "label": "Concept:__Entity__"
                },
                "color": "#CDDC39",
                "styles": {},
                "label": "Algorithm",
                "scale_factor": 1,
                "type": "#CDDC39",
                "size": [
                  55,
                  55
                ],
                "position": [
                  0,
                  0
                ]
              },
              {
                "id": 512,
                "properties": {
                  "id": "Secret Method",
                  "label": "Concept:__Entity__"
                },
                "color": "#CDDC39",
                "styles": {},
                "label": "Secret Method",
                "scale_factor": 1,
                "type": "#CDDC39",
                "size": [
                  55,
                  55
                ],
                "position": [
                  0,
                  0
                ]
              },
              {
                "id": 513,
                "properties": {
                  "id": "Authentication Bypass",
                  "label": "Concept:__Entity__"
                },
                "color": "#CDDC39",
                "styles": {},
                "label": "Authentication Bypass",
                "scale_factor": 1,
                "type": "#CDDC39",
                "size": [
                  55,
                  55
                ],
                "position": [
                  0,
                  0
                ]
              },
              {
                "id": 514,
                "properties": {
                  "id": "Security Controls",
                  "label": "Concept:__Entity__"
                },
                "color": "#CDDC39",
                "styles": {},
                "label": "Security Controls",
                "scale_factor": 1,
                "type": "#CDDC39",
                "size": [
                  55,
                  55
                ],
                "position": [
                  0,
                  0
                ]
              },
              {
                "id": 515,
                "properties": {
                  "id": "Weaknesses",
                  "label": "Concept:__Entity__"
                },
                "color": "#CDDC39",
                "styles": {},
                "label": "Weaknesses",
                "scale_factor": 1,
                "type": "#CDDC39",
                "size": [
                  55,
                  55
                ],
                "position": [
                  0,
                  0
                ]
              },
              {
                "id": 516,
                "properties": {
                  "id": "Companies",
                  "label": "Concept:__Entity__"
                },
                "color": "#CDDC39",
                "styles": {},
                "label": "Companies",
                "scale_factor": 1,
                "type": "#CDDC39",
                "size": [
                  55,
                  55
                ],
                "position": [
                  0,
                  0
                ]
              },
              {
                "id": 517,
                "properties": {
                  "id": "Databases",
                  "label": "Concept:__Entity__"
                },
                "color": "#CDDC39",
                "styles": {},
                "label": "Databases",
                "scale_factor": 1,
                "type": "#CDDC39",
                "size": [
                  55,
                  55
                ],
                "position": [
                  0,
                  0
                ]
              },
              {
                "id": 518,
                "properties": {
                  "id": "Individuals",
                  "label": "Concept:__Entity__"
                },
                "color": "#CDDC39",
                "styles": {},
                "label": "Individuals",
                "scale_factor": 1,
                "type": "#CDDC39",
                "size": [
                  55,
                  55
                ],
                "position": [
                  0,
                  0
                ]
              },
              {
                "id": 519,
                "properties": {
                  "id": "Authorized Party",
                  "label": "Concept:__Entity__"
                },
                "color": "#CDDC39",
                "styles": {},
                "label": "Authorized Party",
                "scale_factor": 1,
                "type": "#CDDC39",
                "size": [
                  55,
                  55
                ],
                "position": [
                  0,
                  0
                ]
              },
              {
                "id": 520,
                "properties": {
                  "id": "Legitimate Access",
                  "label": "Concept:__Entity__"
                },
                "color": "#CDDC39",
                "styles": {},
                "label": "Legitimate Access",
                "scale_factor": 1,
                "type": "#CDDC39",
                "size": [
                  55,
                  55
                ],
                "position": [
                  0,
                  0
                ]
              },
              {
                "id": 521,
                "properties": {
                  "id": "Attacker",
                  "label": "Concept:__Entity__"
                },
                "color": "#CDDC39",
                "styles": {},
                "label": "Attacker",
                "scale_factor": 1,
                "type": "#CDDC39",
                "size": [
                  55,
                  55
                ],
                "position": [
                  0,
                  0
                ]
              },
              {
                "id": 522,
                "properties": {
                  "id": "Malicious Reasons",
                  "label": "Concept:__Entity__"
                },
                "color": "#CDDC39",
                "styles": {},
                "label": "Malicious Reasons",
                "scale_factor": 1,
                "type": "#CDDC39",
                "size": [
                  55,
                  55
                ],
                "position": [
                  0,
                  0
                ]
              },
              {
                "id": 523,
                "properties": {
                  "id": "Criminals",
                  "label": "Concept:__Entity__"
                },
                "color": "#CDDC39",
                "styles": {},
                "label": "Criminals",
                "scale_factor": 1,
                "type": "#CDDC39",
                "size": [
                  55,
                  55
                ],
                "position": [
                  0,
                  0
                ]
              },
              {
                "id": 526,
                "properties": {
                  "id": "Phil Venables",
                  "label": "Person:__Entity__"
                },
                "color": "#9C27B0",
                "styles": {},
                "label": "Phil Venables",
                "scale_factor": 1,
                "type": "#9C27B0",
                "size": [
                  55,
                  55
                ],
                "position": [
                  0,
                  0
                ]
              },
              {
                "id": 527,
                "properties": {
                  "id": "Google Cloud",
                  "label": "__Entity__:Company"
                },
                "color": "#F44336",
                "styles": {},
                "label": "Google Cloud",
                "scale_factor": 1,
                "type": "#F44336",
                "size": [
                  55,
                  55
                ],
                "position": [
                  0,
                  0
                ]
              },
              {
                "id": 533,
                "properties": {
                  "id": "Deutsche Bank",
                  "label": "__Entity__:Company"
                },
                "color": "#F44336",
                "styles": {},
                "label": "Deutsche Bank",
                "scale_factor": 1,
                "type": "#F44336",
                "size": [
                  55,
                  55
                ],
                "position": [
                  0,
                  0
                ]
              },
              {
                "id": 528,
                "properties": {
                  "id": "University Of York",
                  "label": "__Entity__:University"
                },
                "color": "#673AB7",
                "styles": {},
                "label": "University Of York",
                "scale_factor": 1,
                "type": "#673AB7",
                "size": [
                  55,
                  55
                ],
                "position": [
                  0,
                  0
                ]
              },
              {
                "id": 529,
                "properties": {
                  "id": "Oxford",
                  "label": "__Entity__:University"
                },
                "color": "#673AB7",
                "styles": {},
                "label": "Oxford",
                "scale_factor": 1,
                "type": "#673AB7",
                "size": [
                  55,
                  55
                ],
                "position": [
                  0,
                  0
                ]
              },
              {
                "id": 530,
                "properties": {
                  "id": "Barclays Bank",
                  "label": "__Entity__:Company"
                },
                "color": "#F44336",
                "styles": {},
                "label": "Barclays Bank",
                "scale_factor": 1,
                "type": "#F44336",
                "size": [
                  55,
                  55
                ],
                "position": [
                  0,
                  0
                ]
              },
              {
                "id": 531,
                "properties": {
                  "id": "Standard Chartered Bank",
                  "label": "__Entity__:Company"
                },
                "color": "#F44336",
                "styles": {},
                "label": "Standard Chartered Bank",
                "scale_factor": 1,
                "type": "#F44336",
                "size": [
                  55,
                  55
                ],
                "position": [
                  0,
                  0
                ]
              },
              {
                "id": 532,
                "properties": {
                  "id": "Highlands Group",
                  "label": "__Entity__:Advisory firm"
                },
                "color": "#CDDC39",
                "styles": {},
                "label": "Highlands Group",
                "scale_factor": 1,
                "type": "#CDDC39",
                "size": [
                  55,
                  55
                ],
                "position": [
                  0,
                  0
                ]
              },
              {
                "id": 534,
                "properties": {
                  "id": "Goldman Sachs",
                  "label": "__Entity__:Company"
                },
                "color": "#F44336",
                "styles": {},
                "label": "Goldman Sachs",
                "scale_factor": 1,
                "type": "#F44336",
                "size": [
                  55,
                  55
                ],
                "position": [
                  0,
                  0
                ]
              },
              {
                "id": 535,
                "properties": {
                  "id": "Council On Foreign Relations (Cfr)",
                  "label": "__Entity__:Organization"
                },
                "color": "#2196F3",
                "styles": {},
                "label": "Council On Foreign Relations (Cfr)",
                "scale_factor": 1,
                "type": "#2196F3",
                "size": [
                  55,
                  55
                ],
                "position": [
                  0,
                  0
                ]
              },
              {
                "id": 536,
                "properties": {
                  "id": "Barack Obama",
                  "label": "Person:__Entity__"
                },
                "color": "#9C27B0",
                "styles": {},
                "label": "Barack Obama",
                "scale_factor": 1,
                "type": "#9C27B0",
                "size": [
                  55,
                  55
                ],
                "position": [
                  0,
                  0
                ]
              },
              {
                "id": 537,
                "properties": {
                  "id": "Hackerone",
                  "label": "__Entity__:Company"
                },
                "color": "#F44336",
                "styles": {},
                "label": "Hackerone",
                "scale_factor": 1,
                "type": "#F44336",
                "size": [
                  55,
                  55
                ],
                "position": [
                  0,
                  0
                ]
              },
              {
                "id": 538,
                "properties": {
                  "id": "Interos",
                  "label": "__Entity__:Company"
                },
                "color": "#F44336",
                "styles": {},
                "label": "Interos",
                "scale_factor": 1,
                "type": "#F44336",
                "size": [
                  55,
                  55
                ],
                "position": [
                  0,
                  0
                ]
              },
              {
                "id": 539,
                "properties": {
                  "id": "Nist",
                  "label": "__Entity__:Organization"
                },
                "color": "#2196F3",
                "styles": {},
                "label": "Nist",
                "scale_factor": 1,
                "type": "#2196F3",
                "size": [
                  55,
                  55
                ],
                "position": [
                  0,
                  0
                ]
              },
              {
                "id": 540,
                "properties": {
                  "id": "New York University Tandon School Of Engineering",
                  "label": "__Entity__:University"
                },
                "color": "#673AB7",
                "styles": {},
                "label": "New York University Tandon School Of Engineering",
                "scale_factor": 1,
                "type": "#673AB7",
                "size": [
                  55,
                  55
                ],
                "position": [
                  0,
                  0
                ]
              },
              {
                "id": 541,
                "properties": {
                  "id": "New York University Stern School Of Business",
                  "label": "__Entity__:University"
                },
                "color": "#673AB7",
                "styles": {},
                "label": "New York University Stern School Of Business",
                "scale_factor": 1,
                "type": "#673AB7",
                "size": [
                  55,
                  55
                ],
                "position": [
                  0,
                  0
                ]
              },
              {
                "id": 542,
                "properties": {
                  "id": "Sheltered Harbor",
                  "label": "__Entity__:Organization"
                },
                "color": "#2196F3",
                "styles": {},
                "label": "Sheltered Harbor",
                "scale_factor": 1,
                "type": "#2196F3",
                "size": [
                  55,
                  55
                ],
                "position": [
                  0,
                  0
                ]
              },
              {
                "id": 543,
                "properties": {
                  "id": "Center For Internet Security (Cis)",
                  "label": "__Entity__:Organization"
                },
                "color": "#2196F3",
                "styles": {},
                "label": "Center For Internet Security (Cis)",
                "scale_factor": 1,
                "type": "#2196F3",
                "size": [
                  55,
                  55
                ],
                "position": [
                  0,
                  0
                ]
              },
              {
                "id": 544,
                "properties": {
                  "id": "Ballisticx",
                  "label": "__Entity__:Company"
                },
                "color": "#F44336",
                "styles": {},
                "label": "Ballisticx",
                "scale_factor": 1,
                "type": "#F44336",
                "size": [
                  55,
                  55
                ],
                "position": [
                  0,
                  0
                ]
              },
              {
                "id": 545,
                "properties": {
                  "id": "Ballistic Ventures",
                  "label": "__Entity__:Company"
                },
                "color": "#F44336",
                "styles": {},
                "label": "Ballistic Ventures",
                "scale_factor": 1,
                "type": "#F44336",
                "size": [
                  55,
                  55
                ],
                "position": [
                  0,
                  0
                ]
              },
              {
                "id": 546,
                "properties": {
                  "id": "President Biden",
                  "label": "Person:__Entity__"
                },
                "color": "#9C27B0",
                "styles": {},
                "label": "President Biden",
                "scale_factor": 1,
                "type": "#9C27B0",
                "size": [
                  55,
                  55
                ],
                "position": [
                  0,
                  0
                ]
              },
              {
                "id": 547,
                "properties": {
                  "id": "Rsa Conference",
                  "label": "Event:__Entity__"
                },
                "color": "#9E9E9E",
                "styles": {},
                "label": "Rsa Conference",
                "scale_factor": 1,
                "type": "#9E9E9E",
                "size": [
                  55,
                  55
                ],
                "position": [
                  0,
                  0
                ]
              },
              {
                "id": 548,
                "properties": {
                  "id": "Fs-Isac Critical Infrastructure Award",
                  "label": "__Entity__:Award"
                },
                "color": "#9C27B0",
                "styles": {},
                "label": "Fs-Isac Critical Infrastructure Award",
                "scale_factor": 1,
                "type": "#9C27B0",
                "size": [
                  55,
                  55
                ],
                "position": [
                  0,
                  0
                ]
              },
              {
                "id": 549,
                "properties": {
                  "id": "Isaca Wasserman Award",
                  "label": "__Entity__:Award"
                },
                "color": "#9C27B0",
                "styles": {},
                "label": "Isaca Wasserman Award",
                "scale_factor": 1,
                "type": "#9C27B0",
                "size": [
                  55,
                  55
                ],
                "position": [
                  0,
                  0
                ]
              },
              {
                "id": 550,
                "properties": {
                  "id": "Sinet Innovation Award",
                  "label": "__Entity__:Award"
                },
                "color": "#9C27B0",
                "styles": {},
                "label": "Sinet Innovation Award",
                "scale_factor": 1,
                "type": "#9C27B0",
                "size": [
                  55,
                  55
                ],
                "position": [
                  0,
                  0
                ]
              },
              {
                "id": 552,
                "properties": {
                  "id": "Cisa",
                  "label": "Abbreviation:__Entity__:Certification program:Organization"
                },
                "color": "#2196F3",
                "styles": {},
                "label": "Cisa",
                "scale_factor": 1,
                "type": "#2196F3",
                "size": [
                  55,
                  55
                ],
                "position": [
                  0,
                  0
                ]
              },
              {
                "id": 559,
                "properties": {
                  "id": "Iran",
                  "label": "__Entity__:Country"
                },
                "color": "#673AB7",
                "styles": {},
                "label": "Iran",
                "scale_factor": 1,
                "type": "#673AB7",
                "size": [
                  55,
                  55
                ],
                "position": [
                  0,
                  0
                ]
              },
              {
                "id": 553,
                "properties": {
                  "id": "Dhs",
                  "label": "__Entity__:Organization"
                },
                "color": "#2196F3",
                "styles": {},
                "label": "Dhs",
                "scale_factor": 1,
                "type": "#2196F3",
                "size": [
                  55,
                  55
                ],
                "position": [
                  0,
                  0
                ]
              },
              {
                "id": 554,
                "properties": {
                  "id": "Arlington, Virginia",
                  "label": "__Entity__:Location"
                },
                "color": "#9C27B0",
                "styles": {},
                "label": "Arlington, Virginia",
                "scale_factor": 1,
                "type": "#9C27B0",
                "size": [
                  55,
                  55
                ],
                "position": [
                  0,
                  0
                ]
              },
              {
                "id": 555,
                "properties": {
                  "id": "St. Elizabeths Campus Headquarters",
                  "label": "__Entity__:Location"
                },
                "color": "#9C27B0",
                "styles": {},
                "label": "St. Elizabeths Campus Headquarters",
                "scale_factor": 1,
                "type": "#9C27B0",
                "size": [
                  55,
                  55
                ],
                "position": [
                  0,
                  0
                ]
              },
              {
                "id": 556,
                "properties": {
                  "id": "National Protection And Programs Directorate (Nppd)",
                  "label": "__Entity__:Organization"
                },
                "color": "#2196F3",
                "styles": {},
                "label": "National Protection And Programs Directorate (Nppd)",
                "scale_factor": 1,
                "type": "#2196F3",
                "size": [
                  55,
                  55
                ],
                "position": [
                  0,
                  0
                ]
              },
              {
                "id": 557,
                "properties": {
                  "id": "Christopher Krebs",
                  "label": "Person:__Entity__"
                },
                "color": "#9C27B0",
                "styles": {},
                "label": "Christopher Krebs",
                "scale_factor": 1,
                "type": "#9C27B0",
                "size": [
                  55,
                  55
                ],
                "position": [
                  0,
                  0
                ]
              },
              {
                "id": 558,
                "properties": {
                  "id": "Matthew Travis",
                  "label": "Person:__Entity__"
                },
                "color": "#9C27B0",
                "styles": {},
                "label": "Matthew Travis",
                "scale_factor": 1,
                "type": "#9C27B0",
                "size": [
                  55,
                  55
                ],
                "position": [
                  0,
                  0
                ]
              },
              {
                "id": 560,
                "properties": {
                  "id": "Fireeye",
                  "label": "__Entity__:Organization"
                },
                "color": "#2196F3",
                "styles": {},
                "label": "Fireeye",
                "scale_factor": 1,
                "type": "#2196F3",
                "size": [
                  55,
                  55
                ],
                "position": [
                  0,
                  0
                ]
              },
              {
                "id": 561,
                "properties": {
                  "id": "Jen Easterly",
                  "label": "Person:__Entity__"
                },
                "color": "#9C27B0",
                "styles": {},
                "label": "Jen Easterly",
                "scale_factor": 1,
                "type": "#9C27B0",
                "size": [
                  55,
                  55
                ],
                "position": [
                  0,
                  0
                ]
              },
              {
                "id": 562,
                "properties": {
                  "id": "Rick Scott",
                  "label": "Person:__Entity__"
                },
                "color": "#9C27B0",
                "styles": {},
                "label": "Rick Scott",
                "scale_factor": 1,
                "type": "#9C27B0",
                "size": [
                  55,
                  55
                ],
                "position": [
                  0,
                  0
                ]
              },
              {
                "id": 564,
                "properties": {
                  "id": "Adobe Inc.",
                  "label": "__Entity__:Company"
                },
                "color": "#F44336",
                "styles": {},
                "label": "Adobe Inc.",
                "scale_factor": 1,
                "type": "#F44336",
                "size": [
                  55,
                  55
                ],
                "position": [
                  0,
                  0
                ]
              },
              {
                "id": 568,
                "properties": {
                  "id": "San Jose, California",
                  "label": "__Entity__:Location"
                },
                "color": "#9C27B0",
                "styles": {},
                "label": "San Jose, California",
                "scale_factor": 1,
                "type": "#9C27B0",
                "size": [
                  55,
                  55
                ],
                "position": [
                  0,
                  0
                ]
              },
              {
                "id": 565,
                "properties": {
                  "id": "Adobe Systems Incorporated",
                  "label": "__Entity__:Company"
                },
                "color": "#F44336",
                "styles": {},
                "label": "Adobe Systems Incorporated",
                "scale_factor": 1,
                "type": "#F44336",
                "size": [
                  55,
                  55
                ],
                "position": [
                  0,
                  0
                ]
              },
              {
                "id": 566,
                "properties": {
                  "id": "American",
                  "label": "Nationality:__Entity__"
                },
                "color": "#4CAF50",
                "styles": {},
                "label": "American",
                "scale_factor": 1,
                "type": "#4CAF50",
                "size": [
                  55,
                  55
                ],
                "position": [
                  0,
                  0
                ]
              },
              {
                "id": 567,
                "properties": {
                  "id": "Delaware",
                  "label": "__Entity__:Location"
                },
                "color": "#9C27B0",
                "styles": {},
                "label": "Delaware",
                "scale_factor": 1,
                "type": "#9C27B0",
                "size": [
                  55,
                  55
                ],
                "position": [
                  0,
                  0
                ]
              },
              {
                "id": 569,
                "properties": {
                  "id": "Graphics",
                  "label": "Content:__Entity__"
                },
                "color": "#F44336",
                "styles": {},
                "label": "Graphics",
                "scale_factor": 1,
                "type": "#F44336",
                "size": [
                  55,
                  55
                ],
                "position": [
                  0,
                  0
                ]
              },
              {
                "id": 570,
                "properties": {
                  "id": "Photography",
                  "label": "Content:__Entity__"
                },
                "color": "#F44336",
                "styles": {},
                "label": "Photography",
                "scale_factor": 1,
                "type": "#F44336",
                "size": [
                  55,
                  55
                ],
                "position": [
                  0,
                  0
                ]
              },
              {
                "id": 571,
                "properties": {
                  "id": "Illustration",
                  "label": "Content:__Entity__"
                },
                "color": "#F44336",
                "styles": {},
                "label": "Illustration",
                "scale_factor": 1,
                "type": "#F44336",
                "size": [
                  55,
                  55
                ],
                "position": [
                  0,
                  0
                ]
              },
              {
                "id": 572,
                "properties": {
                  "id": "Animation",
                  "label": "Content:__Entity__"
                },
                "color": "#F44336",
                "styles": {},
                "label": "Animation",
                "scale_factor": 1,
                "type": "#F44336",
                "size": [
                  55,
                  55
                ],
                "position": [
                  0,
                  0
                ]
              },
              {
                "id": 573,
                "properties": {
                  "id": "Multimedia/Video",
                  "label": "Content:__Entity__"
                },
                "color": "#F44336",
                "styles": {},
                "label": "Multimedia/Video",
                "scale_factor": 1,
                "type": "#F44336",
                "size": [
                  55,
                  55
                ],
                "position": [
                  0,
                  0
                ]
              },
              {
                "id": 574,
                "properties": {
                  "id": "Motion Pictures",
                  "label": "Content:__Entity__"
                },
                "color": "#F44336",
                "styles": {},
                "label": "Motion Pictures",
                "scale_factor": 1,
                "type": "#F44336",
                "size": [
                  55,
                  55
                ],
                "position": [
                  0,
                  0
                ]
              },
              {
                "id": 575,
                "properties": {
                  "id": "Print",
                  "label": "Content:__Entity__"
                },
                "color": "#F44336",
                "styles": {},
                "label": "Print",
                "scale_factor": 1,
                "type": "#F44336",
                "size": [
                  55,
                  55
                ],
                "position": [
                  0,
                  0
                ]
              },
              {
                "id": 576,
                "properties": {
                  "id": "Adobe Photoshop",
                  "label": "__Entity__:Software"
                },
                "color": "#607D8B",
                "styles": {},
                "label": "Adobe Photoshop",
                "scale_factor": 1,
                "type": "#607D8B",
                "size": [
                  55,
                  55
                ],
                "position": [
                  0,
                  0
                ]
              },
              {
                "id": 577,
                "properties": {
                  "id": "Adobe Illustrator",
                  "label": "__Entity__:Software"
                },
                "color": "#607D8B",
                "styles": {},
                "label": "Adobe Illustrator",
                "scale_factor": 1,
                "type": "#607D8B",
                "size": [
                  55,
                  55
                ],
                "position": [
                  0,
                  0
                ]
              },
              {
                "id": 578,
                "properties": {
                  "id": "Adobe Acrobat Reader",
                  "label": "__Entity__:Software"
                },
                "color": "#607D8B",
                "styles": {},
                "label": "Adobe Acrobat Reader",
                "scale_factor": 1,
                "type": "#607D8B",
                "size": [
                  55,
                  55
                ],
                "position": [
                  0,
                  0
                ]
              },
              {
                "id": 579,
                "properties": {
                  "id": "Portable Document Format (Pdf)",
                  "label": "__Entity__:Format"
                },
                "color": "#673AB7",
                "styles": {},
                "label": "Portable Document Format (Pdf)",
                "scale_factor": 1,
                "type": "#673AB7",
                "size": [
                  55,
                  55
                ],
                "position": [
                  0,
                  0
                ]
              },
              {
                "id": 580,
                "properties": {
                  "id": "Audio-Visual Content",
                  "label": "Content:__Entity__"
                },
                "color": "#F44336",
                "styles": {},
                "label": "Audio-Visual Content",
                "scale_factor": 1,
                "type": "#F44336",
                "size": [
                  55,
                  55
                ],
                "position": [
                  0,
                  0
                ]
              },
              {
                "id": 581,
                "properties": {
                  "id": "Adobe Creative Suite",
                  "label": "__Entity__:Software"
                },
                "color": "#607D8B",
                "styles": {},
                "label": "Adobe Creative Suite",
                "scale_factor": 1,
                "type": "#607D8B",
                "size": [
                  55,
                  55
                ],
                "position": [
                  0,
                  0
                ]
              },
              {
                "id": 582,
                "properties": {
                  "id": "Adobe Creative Cloud",
                  "label": "__Entity__:Software"
                },
                "color": "#607D8B",
                "styles": {},
                "label": "Adobe Creative Cloud",
                "scale_factor": 1,
                "type": "#607D8B",
                "size": [
                  55,
                  55
                ],
                "position": [
                  0,
                  0
                ]
              },
              {
                "id": 583,
                "properties": {
                  "id": "Digital Marketing Software",
                  "label": "__Entity__:Software"
                },
                "color": "#607D8B",
                "styles": {},
                "label": "Digital Marketing Software",
                "scale_factor": 1,
                "type": "#607D8B",
                "size": [
                  55,
                  55
                ],
                "position": [
                  0,
                  0
                ]
              },
              {
                "id": 584,
                "properties": {
                  "id": "Customer Experience Management (Cxm)",
                  "label": "Service:__Entity__"
                },
                "color": "#CDDC39",
                "styles": {},
                "label": "Customer Experience Management (Cxm)",
                "scale_factor": 1,
                "type": "#CDDC39",
                "size": [
                  55,
                  55
                ],
                "position": [
                  0,
                  0
                ]
              },
              {
                "id": 585,
                "properties": {
                  "id": "John Warnock",
                  "label": "Person:__Entity__"
                },
                "color": "#9C27B0",
                "styles": {},
                "label": "John Warnock",
                "scale_factor": 1,
                "type": "#9C27B0",
                "size": [
                  55,
                  55
                ],
                "position": [
                  0,
                  0
                ]
              },
              {
                "id": 586,
                "properties": {
                  "id": "Charles Geschke",
                  "label": "Person:__Entity__"
                },
                "color": "#9C27B0",
                "styles": {},
                "label": "Charles Geschke",
                "scale_factor": 1,
                "type": "#9C27B0",
                "size": [
                  55,
                  55
                ],
                "position": [
                  0,
                  0
                ]
              },
              {
                "id": 587,
                "properties": {
                  "id": "Xerox Parc",
                  "label": "__Entity__:Company"
                },
                "color": "#F44336",
                "styles": {},
                "label": "Xerox Parc",
                "scale_factor": 1,
                "type": "#F44336",
                "size": [
                  55,
                  55
                ],
                "position": [
                  0,
                  0
                ]
              },
              {
                "id": 588,
                "properties": {
                  "id": "Postscript",
                  "label": "__Entity__:Language"
                },
                "color": "#9E9E9E",
                "styles": {},
                "label": "Postscript",
                "scale_factor": 1,
                "type": "#9E9E9E",
                "size": [
                  55,
                  55
                ],
                "position": [
                  0,
                  0
                ]
              },
              {
                "id": 594,
                "properties": {
                  "id": "Adobe Premiere",
                  "label": "__Entity__:Software"
                },
                "color": "#607D8B",
                "styles": {},
                "label": "Adobe Premiere",
                "scale_factor": 1,
                "type": "#607D8B",
                "size": [
                  55,
                  55
                ],
                "position": [
                  0,
                  0
                ]
              },
              {
                "id": 596,
                "properties": {
                  "id": "Adobe Muse",
                  "label": "__Entity__:Software"
                },
                "color": "#607D8B",
                "styles": {},
                "label": "Adobe Muse",
                "scale_factor": 1,
                "type": "#607D8B",
                "size": [
                  55,
                  55
                ],
                "position": [
                  0,
                  0
                ]
              },
              {
                "id": 592,
                "properties": {
                  "id": "Macromedia",
                  "label": "__Entity__:Company"
                },
                "color": "#F44336",
                "styles": {},
                "label": "Macromedia",
                "scale_factor": 1,
                "type": "#F44336",
                "size": [
                  55,
                  55
                ],
                "position": [
                  0,
                  0
                ]
              },
              {
                "id": 597,
                "properties": {
                  "id": "Noida",
                  "label": "__Entity__:Location"
                },
                "color": "#9C27B0",
                "styles": {},
                "label": "Noida",
                "scale_factor": 1,
                "type": "#9C27B0",
                "size": [
                  55,
                  55
                ],
                "position": [
                  0,
                  0
                ]
              },
              {
                "id": 598,
                "properties": {
                  "id": "Bangalore",
                  "label": "__Entity__:Location"
                },
                "color": "#9C27B0",
                "styles": {},
                "label": "Bangalore",
                "scale_factor": 1,
                "type": "#9C27B0",
                "size": [
                  55,
                  55
                ],
                "position": [
                  0,
                  0
                ]
              },
              {
                "id": 599,
                "properties": {
                  "id": "Newton",
                  "label": "__Entity__:Location"
                },
                "color": "#9C27B0",
                "styles": {},
                "label": "Newton",
                "scale_factor": 1,
                "type": "#9C27B0",
                "size": [
                  55,
                  55
                ],
                "position": [
                  0,
                  0
                ]
              },
              {
                "id": 600,
                "properties": {
                  "id": "New York City",
                  "label": "__Entity__:Location"
                },
                "color": "#9C27B0",
                "styles": {},
                "label": "New York City",
                "scale_factor": 1,
                "type": "#9C27B0",
                "size": [
                  55,
                  55
                ],
                "position": [
                  0,
                  0
                ]
              },
              {
                "id": 601,
                "properties": {
                  "id": "Arden Hills",
                  "label": "__Entity__:Location"
                },
                "color": "#9C27B0",
                "styles": {},
                "label": "Arden Hills",
                "scale_factor": 1,
                "type": "#9C27B0",
                "size": [
                  55,
                  55
                ],
                "position": [
                  0,
                  0
                ]
              },
              {
                "id": 602,
                "properties": {
                  "id": "Lehi",
                  "label": "__Entity__:Location"
                },
                "color": "#9C27B0",
                "styles": {},
                "label": "Lehi",
                "scale_factor": 1,
                "type": "#9C27B0",
                "size": [
                  55,
                  55
                ],
                "position": [
                  0,
                  0
                ]
              },
              {
                "id": 603,
                "properties": {
                  "id": "Seattle",
                  "label": "__Entity__:Location"
                },
                "color": "#9C27B0",
                "styles": {},
                "label": "Seattle",
                "scale_factor": 1,
                "type": "#9C27B0",
                "size": [
                  55,
                  55
                ],
                "position": [
                  0,
                  0
                ]
              },
              {
                "id": 604,
                "properties": {
                  "id": "Austin",
                  "label": "__Entity__:Location"
                },
                "color": "#9C27B0",
                "styles": {},
                "label": "Austin",
                "scale_factor": 1,
                "type": "#9C27B0",
                "size": [
                  55,
                  55
                ],
                "position": [
                  0,
                  0
                ]
              },
              {
                "id": 605,
                "properties": {
                  "id": "San Francisco",
                  "label": "__Entity__:Location"
                },
                "color": "#9C27B0",
                "styles": {},
                "label": "San Francisco",
                "scale_factor": 1,
                "type": "#9C27B0",
                "size": [
                  55,
                  55
                ],
                "position": [
                  0,
                  0
                ]
              },
              {
                "id": 589,
                "properties": {
                  "id": "Apple Computer",
                  "label": "__Entity__:Company"
                },
                "color": "#F44336",
                "styles": {},
                "label": "Apple Computer",
                "scale_factor": 1,
                "type": "#F44336",
                "size": [
                  55,
                  55
                ],
                "position": [
                  0,
                  0
                ]
              },
              {
                "id": 590,
                "properties": {
                  "id": "Laserwriter Printers",
                  "label": "__Entity__:Product"
                },
                "color": "#9C27B0",
                "styles": {},
                "label": "Laserwriter Printers",
                "scale_factor": 1,
                "type": "#9C27B0",
                "size": [
                  55,
                  55
                ],
                "position": [
                  0,
                  0
                ]
              },
              {
                "id": 591,
                "properties": {
                  "id": "Desktop Publishing Revolution",
                  "label": "Event:__Entity__"
                },
                "color": "#9E9E9E",
                "styles": {},
                "label": "Desktop Publishing Revolution",
                "scale_factor": 1,
                "type": "#9E9E9E",
                "size": [
                  55,
                  55
                ],
                "position": [
                  0,
                  0
                ]
              },
              {
                "id": 593,
                "properties": {
                  "id": "Macromedia Flash",
                  "label": "__Entity__:Software"
                },
                "color": "#607D8B",
                "styles": {},
                "label": "Macromedia Flash",
                "scale_factor": 1,
                "type": "#607D8B",
                "size": [
                  55,
                  55
                ],
                "position": [
                  0,
                  0
                ]
              },
              {
                "id": 595,
                "properties": {
                  "id": "Adobe Premiere Pro",
                  "label": "__Entity__:Software"
                },
                "color": "#607D8B",
                "styles": {},
                "label": "Adobe Premiere Pro",
                "scale_factor": 1,
                "type": "#607D8B",
                "size": [
                  55,
                  55
                ],
                "position": [
                  0,
                  0
                ]
              },
              {
                "id": 606,
                "properties": {
                  "id": "Steve Jobs",
                  "label": "Person:__Entity__"
                },
                "color": "#9C27B0",
                "styles": {},
                "label": "Steve Jobs",
                "scale_factor": 1,
                "type": "#9C27B0",
                "size": [
                  55,
                  55
                ],
                "position": [
                  0,
                  0
                ]
              },
              {
                "id": 607,
                "properties": {
                  "id": "Marva Warnock",
                  "label": "Person:__Entity__"
                },
                "color": "#9C27B0",
                "styles": {},
                "label": "Marva Warnock",
                "scale_factor": 1,
                "type": "#9C27B0",
                "size": [
                  55,
                  55
                ],
                "position": [
                  0,
                  0
                ]
              },
              {
                "id": 609,
                "properties": {
                  "id": "Bill Paxton",
                  "label": "Person:__Entity__"
                },
                "color": "#9C27B0",
                "styles": {},
                "label": "Bill Paxton",
                "scale_factor": 1,
                "type": "#9C27B0",
                "size": [
                  55,
                  55
                ],
                "position": [
                  0,
                  0
                ]
              },
              {
                "id": 611,
                "properties": {
                  "id": "Rinki Sethi",
                  "label": "Person:__Entity__"
                },
                "color": "#9C27B0",
                "styles": {},
                "label": "Rinki Sethi",
                "scale_factor": 1,
                "type": "#9C27B0",
                "size": [
                  55,
                  55
                ],
                "position": [
                  0,
                  0
                ]
              },
              {
                "id": 614,
                "properties": {
                  "id": "Intuit",
                  "label": "__Entity__:Company"
                },
                "color": "#F44336",
                "styles": {},
                "label": "Intuit",
                "scale_factor": 1,
                "type": "#F44336",
                "size": [
                  55,
                  55
                ],
                "position": [
                  0,
                  0
                ]
              },
              {
                "id": 615,
                "properties": {
                  "id": "Palo Alto Networks",
                  "label": "__Entity__:Company"
                },
                "color": "#F44336",
                "styles": {},
                "label": "Palo Alto Networks",
                "scale_factor": 1,
                "type": "#F44336",
                "size": [
                  55,
                  55
                ],
                "position": [
                  0,
                  0
                ]
              },
              {
                "id": 616,
                "properties": {
                  "id": "Ibm",
                  "label": "__Entity__:Company"
                },
                "color": "#F44336",
                "styles": {},
                "label": "Ibm",
                "scale_factor": 1,
                "type": "#F44336",
                "size": [
                  55,
                  55
                ],
                "position": [
                  0,
                  0
                ]
              },
              {
                "id": 617,
                "properties": {
                  "id": "Rubrik",
                  "label": "__Entity__:Company"
                },
                "color": "#F44336",
                "styles": {},
                "label": "Rubrik",
                "scale_factor": 1,
                "type": "#F44336",
                "size": [
                  55,
                  55
                ],
                "position": [
                  0,
                  0
                ]
              },
              {
                "id": 618,
                "properties": {
                  "id": "Twitter Inc.",
                  "label": "__Entity__:Company"
                },
                "color": "#F44336",
                "styles": {},
                "label": "Twitter Inc.",
                "scale_factor": 1,
                "type": "#F44336",
                "size": [
                  55,
                  55
                ],
                "position": [
                  0,
                  0
                ]
              },
              {
                "id": 619,
                "properties": {
                  "id": "Walmart",
                  "label": "__Entity__:Company"
                },
                "color": "#F44336",
                "styles": {},
                "label": "Walmart",
                "scale_factor": 1,
                "type": "#F44336",
                "size": [
                  55,
                  55
                ],
                "position": [
                  0,
                  0
                ]
              },
              {
                "id": 620,
                "properties": {
                  "id": "Ebay",
                  "label": "__Entity__:Company"
                },
                "color": "#F44336",
                "styles": {},
                "label": "Ebay",
                "scale_factor": 1,
                "type": "#F44336",
                "size": [
                  55,
                  55
                ],
                "position": [
                  0,
                  0
                ]
              },
              {
                "id": 612,
                "properties": {
                  "id": "Capella University",
                  "label": "Education institution:__Entity__"
                },
                "color": "#2196F3",
                "styles": {},
                "label": "Capella University",
                "scale_factor": 1,
                "type": "#2196F3",
                "size": [
                  55,
                  55
                ],
                "position": [
                  0,
                  0
                ]
              },
              {
                "id": 613,
                "properties": {
                  "id": "Uc Davis",
                  "label": "Education institution:__Entity__"
                },
                "color": "#2196F3",
                "styles": {},
                "label": "Uc Davis",
                "scale_factor": 1,
                "type": "#2196F3",
                "size": [
                  55,
                  55
                ],
                "position": [
                  0,
                  0
                ]
              },
              {
                "id": 624,
                "properties": {
                  "id": "Forge Rock",
                  "label": "__Entity__:Company"
                },
                "color": "#F44336",
                "styles": {},
                "label": "Forge Rock",
                "scale_factor": 1,
                "type": "#F44336",
                "size": [
                  55,
                  55
                ],
                "position": [
                  0,
                  0
                ]
              },
              {
                "id": 621,
                "properties": {
                  "id": "Levelops",
                  "label": "__Entity__:Startup"
                },
                "color": "#4CAF50",
                "styles": {},
                "label": "Levelops",
                "scale_factor": 1,
                "type": "#4CAF50",
                "size": [
                  55,
                  55
                ],
                "position": [
                  0,
                  0
                ]
              },
              {
                "id": 622,
                "properties": {
                  "id": "Authomize",
                  "label": "__Entity__:Startup"
                },
                "color": "#4CAF50",
                "styles": {},
                "label": "Authomize",
                "scale_factor": 1,
                "type": "#4CAF50",
                "size": [
                  55,
                  55
                ],
                "position": [
                  0,
                  0
                ]
              },
              {
                "id": 623,
                "properties": {
                  "id": "Women In Cybersecurity",
                  "label": "__Entity__:Cybersecurity organization"
                },
                "color": "#F44336",
                "styles": {},
                "label": "Women In Cybersecurity",
                "scale_factor": 1,
                "type": "#F44336",
                "size": [
                  55,
                  55
                ],
                "position": [
                  0,
                  0
                ]
              },
              {
                "id": 626,
                "properties": {
                  "id": "Anthropic Pbc",
                  "label": "__Entity__:Company"
                },
                "color": "#F44336",
                "styles": {},
                "label": "Anthropic Pbc",
                "scale_factor": 1,
                "type": "#F44336",
                "size": [
                  55,
                  55
                ],
                "position": [
                  0,
                  0
                ]
              },
              {
                "id": 697,
                "properties": {
                  "id": "Projects",
                  "label": "Concept:__Entity__"
                },
                "color": "#CDDC39",
                "styles": {},
                "label": "Projects",
                "scale_factor": 1,
                "type": "#CDDC39",
                "size": [
                  55,
                  55
                ],
                "position": [
                  0,
                  0
                ]
              },
              {
                "id": 640,
                "properties": {
                  "id": "Daniela Amodei",
                  "label": "Person:__Entity__"
                },
                "color": "#9C27B0",
                "styles": {},
                "label": "Daniela Amodei",
                "scale_factor": 1,
                "type": "#9C27B0",
                "size": [
                  55,
                  55
                ],
                "position": [
                  0,
                  0
                ]
              },
              {
                "id": 641,
                "properties": {
                  "id": "Dario Amodei",
                  "label": "Person:__Entity__"
                },
                "color": "#9C27B0",
                "styles": {},
                "label": "Dario Amodei",
                "scale_factor": 1,
                "type": "#9C27B0",
                "size": [
                  55,
                  55
                ],
                "position": [
                  0,
                  0
                ]
              },
              {
                "id": 627,
                "properties": {
                  "id": "U.S.",
                  "label": "__Entity__:Country"
                },
                "color": "#673AB7",
                "styles": {},
                "label": "U.S.",
                "scale_factor": 1,
                "type": "#673AB7",
                "size": [
                  55,
                  55
                ],
                "position": [
                  0,
                  0
                ]
              },
              {
                "id": 628,
                "properties": {
                  "id": "Artificial Intelligence",
                  "label": "__Entity__:Technology"
                },
                "color": "#607D8B",
                "styles": {},
                "label": "Artificial Intelligence",
                "scale_factor": 1,
                "type": "#607D8B",
                "size": [
                  55,
                  55
                ],
                "position": [
                  0,
                  0
                ]
              },
              {
                "id": 631,
                "properties": {
                  "id": "Safety Properties",
                  "label": "Concept:__Entity__"
                },
                "color": "#CDDC39",
                "styles": {},
                "label": "Safety Properties",
                "scale_factor": 1,
                "type": "#CDDC39",
                "size": [
                  55,
                  55
                ],
                "position": [
                  0,
                  0
                ]
              },
              {
                "id": 632,
                "properties": {
                  "id": "Technological Frontier",
                  "label": "Concept:__Entity__"
                },
                "color": "#CDDC39",
                "styles": {},
                "label": "Technological Frontier",
                "scale_factor": 1,
                "type": "#CDDC39",
                "size": [
                  55,
                  55
                ],
                "position": [
                  0,
                  0
                ]
              },
              {
                "id": 629,
                "properties": {
                  "id": "Startup Company",
                  "label": "__Entity__:Organization"
                },
                "color": "#2196F3",
                "styles": {},
                "label": "Startup Company",
                "scale_factor": 1,
                "type": "#2196F3",
                "size": [
                  55,
                  55
                ],
                "position": [
                  0,
                  0
                ]
              },
              {
                "id": 630,
                "properties": {
                  "id": "Ai Systems",
                  "label": "__Entity__:Technology"
                },
                "color": "#607D8B",
                "styles": {},
                "label": "Ai Systems",
                "scale_factor": 1,
                "type": "#607D8B",
                "size": [
                  55,
                  55
                ],
                "position": [
                  0,
                  0
                ]
              },
              {
                "id": 634,
                "properties": {
                  "id": "Large Language Models (Llms)",
                  "label": "__Entity__:Technology"
                },
                "color": "#607D8B",
                "styles": {},
                "label": "Large Language Models (Llms)",
                "scale_factor": 1,
                "type": "#607D8B",
                "size": [
                  55,
                  55
                ],
                "position": [
                  0,
                  0
                ]
              },
              {
                "id": 633,
                "properties": {
                  "id": "Safe Models",
                  "label": "Concept:__Entity__"
                },
                "color": "#CDDC39",
                "styles": {},
                "label": "Safe Models",
                "scale_factor": 1,
                "type": "#CDDC39",
                "size": [
                  55,
                  55
                ],
                "position": [
                  0,
                  0
                ]
              },
              {
                "id": 642,
                "properties": {
                  "id": "Amazon",
                  "label": "__Entity__:Company"
                },
                "color": "#F44336",
                "styles": {},
                "label": "Amazon",
                "scale_factor": 1,
                "type": "#F44336",
                "size": [
                  55,
                  55
                ],
                "position": [
                  0,
                  0
                ]
              },
              {
                "id": 646,
                "properties": {
                  "id": "Sam Bankman-Fried",
                  "label": "Person:__Entity__"
                },
                "color": "#9C27B0",
                "styles": {},
                "label": "Sam Bankman-Fried",
                "scale_factor": 1,
                "type": "#9C27B0",
                "size": [
                  55,
                  55
                ],
                "position": [
                  0,
                  0
                ]
              },
              {
                "id": 649,
                "properties": {
                  "id": "Anthrop Llc",
                  "label": "__Entity__:Company"
                },
                "color": "#F44336",
                "styles": {},
                "label": "Anthrop Llc",
                "scale_factor": 1,
                "type": "#F44336",
                "size": [
                  55,
                  55
                ],
                "position": [
                  0,
                  0
                ]
              },
              {
                "id": 650,
                "properties": {
                  "id": "Trademark",
                  "label": "Concept:__Entity__"
                },
                "color": "#CDDC39",
                "styles": {},
                "label": "Trademark",
                "scale_factor": 1,
                "type": "#CDDC39",
                "size": [
                  55,
                  55
                ],
                "position": [
                  0,
                  0
                ]
              },
              {
                "id": 673,
                "properties": {
                  "id": "Safety",
                  "label": "Concept:__Entity__"
                },
                "color": "#CDDC39",
                "styles": {},
                "label": "Safety",
                "scale_factor": 1,
                "type": "#CDDC39",
                "size": [
                  55,
                  55
                ],
                "position": [
                  0,
                  0
                ]
              },
              {
                "id": 674,
                "properties": {
                  "id": "Reliability",
                  "label": "Concept:__Entity__"
                },
                "color": "#CDDC39",
                "styles": {},
                "label": "Reliability",
                "scale_factor": 1,
                "type": "#CDDC39",
                "size": [
                  55,
                  55
                ],
                "position": [
                  0,
                  0
                ]
              },
              {
                "id": 678,
                "properties": {
                  "id": "Delaware Public-Benefit Corporation (Pbc)",
                  "label": "__Entity__:Organization"
                },
                "color": "#2196F3",
                "styles": {},
                "label": "Delaware Public-Benefit Corporation (Pbc)",
                "scale_factor": 1,
                "type": "#2196F3",
                "size": [
                  55,
                  55
                ],
                "position": [
                  0,
                  0
                ]
              },
              {
                "id": 682,
                "properties": {
                  "id": "Long-Term Benefit Trust",
                  "label": "__Entity__:Organization"
                },
                "color": "#2196F3",
                "styles": {},
                "label": "Long-Term Benefit Trust",
                "scale_factor": 1,
                "type": "#2196F3",
                "size": [
                  55,
                  55
                ],
                "position": [
                  0,
                  0
                ]
              },
              {
                "id": 635,
                "properties": {
                  "id": "Claude",
                  "label": "Ai model:__Entity__"
                },
                "color": "#673AB7",
                "styles": {},
                "label": "Claude",
                "scale_factor": 1,
                "type": "#673AB7",
                "size": [
                  55,
                  55
                ],
                "position": [
                  0,
                  0
                ]
              },
              {
                "id": 636,
                "properties": {
                  "id": "Openai",
                  "label": "__Entity__:Company"
                },
                "color": "#F44336",
                "styles": {},
                "label": "Openai",
                "scale_factor": 1,
                "type": "#F44336",
                "size": [
                  55,
                  55
                ],
                "position": [
                  0,
                  0
                ]
              },
              {
                "id": 637,
                "properties": {
                  "id": "Chatgpt",
                  "label": "Ai model:__Entity__"
                },
                "color": "#673AB7",
                "styles": {},
                "label": "Chatgpt",
                "scale_factor": 1,
                "type": "#673AB7",
                "size": [
                  55,
                  55
                ],
                "position": [
                  0,
                  0
                ]
              },
              {
                "id": 638,
                "properties": {
                  "id": "Google",
                  "label": "__Entity__:Company"
                },
                "color": "#F44336",
                "styles": {},
                "label": "Google",
                "scale_factor": 1,
                "type": "#F44336",
                "size": [
                  55,
                  55
                ],
                "position": [
                  0,
                  0
                ]
              },
              {
                "id": 639,
                "properties": {
                  "id": "Gemini",
                  "label": "Ai model:__Entity__"
                },
                "color": "#673AB7",
                "styles": {},
                "label": "Gemini",
                "scale_factor": 1,
                "type": "#673AB7",
                "size": [
                  55,
                  55
                ],
                "position": [
                  0,
                  0
                ]
              },
              {
                "id": 698,
                "properties": {
                  "id": "Constitutional Ai",
                  "label": "Concept:__Entity__"
                },
                "color": "#CDDC39",
                "styles": {},
                "label": "Constitutional Ai",
                "scale_factor": 1,
                "type": "#CDDC39",
                "size": [
                  55,
                  55
                ],
                "position": [
                  0,
                  0
                ]
              },
              {
                "id": 701,
                "properties": {
                  "id": "Claude Shannon",
                  "label": "Person:__Entity__"
                },
                "color": "#9C27B0",
                "styles": {},
                "label": "Claude Shannon",
                "scale_factor": 1,
                "type": "#9C27B0",
                "size": [
                  55,
                  55
                ],
                "position": [
                  0,
                  0
                ]
              },
              {
                "id": 702,
                "properties": {
                  "id": "Male Name",
                  "label": "Concept:__Entity__"
                },
                "color": "#CDDC39",
                "styles": {},
                "label": "Male Name",
                "scale_factor": 1,
                "type": "#CDDC39",
                "size": [
                  55,
                  55
                ],
                "position": [
                  0,
                  0
                ]
              },
              {
                "id": 703,
                "properties": {
                  "id": "Female Names",
                  "label": "Concept:__Entity__"
                },
                "color": "#CDDC39",
                "styles": {},
                "label": "Female Names",
                "scale_factor": 1,
                "type": "#CDDC39",
                "size": [
                  55,
                  55
                ],
                "position": [
                  0,
                  0
                ]
              },
              {
                "id": 707,
                "properties": {
                  "id": "Claude In",
                  "label": "Ai model:__Entity__"
                },
                "color": "#673AB7",
                "styles": {},
                "label": "Claude In",
                "scale_factor": 1,
                "type": "#673AB7",
                "size": [
                  55,
                  55
                ],
                "position": [
                  0,
                  0
                ]
              },
              {
                "id": 677,
                "properties": {
                  "id": "Microsoft",
                  "label": "__Entity__:Company"
                },
                "color": "#F44336",
                "styles": {},
                "label": "Microsoft",
                "scale_factor": 1,
                "type": "#F44336",
                "size": [
                  55,
                  55
                ],
                "position": [
                  0,
                  0
                ]
              },
              {
                "id": 643,
                "properties": {
                  "id": "Investment",
                  "label": "Concept:__Entity__"
                },
                "color": "#CDDC39",
                "styles": {},
                "label": "Investment",
                "scale_factor": 1,
                "type": "#CDDC39",
                "size": [
                  55,
                  55
                ],
                "position": [
                  0,
                  0
                ]
              },
              {
                "id": 711,
                "properties": {
                  "id": "Co-Founder & President",
                  "label": "__Entity__"
                },
                "color": "#F44336",
                "styles": {},
                "label": "Co-Founder & President",
                "scale_factor": 1,
                "type": "#F44336",
                "size": [
                  55,
                  55
                ],
                "position": [
                  0,
                  0
                ]
              },
              {
                "id": 716,
                "properties": {
                  "id": "Representative Of Common Shareholders",
                  "label": "__Entity__"
                },
                "color": "#F44336",
                "styles": {},
                "label": "Representative Of Common Shareholders",
                "scale_factor": 1,
                "type": "#F44336",
                "size": [
                  55,
                  55
                ],
                "position": [
                  0,
                  0
                ]
              },
              {
                "id": 675,
                "properties": {
                  "id": "Directional Differences",
                  "label": "Concept:__Entity__"
                },
                "color": "#CDDC39",
                "styles": {},
                "label": "Directional Differences",
                "scale_factor": 1,
                "type": "#CDDC39",
                "size": [
                  55,
                  55
                ],
                "position": [
                  0,
                  0
                ]
              },
              {
                "id": 709,
                "properties": {
                  "id": "Vice President Of Research",
                  "label": "__Entity__"
                },
                "color": "#F44336",
                "styles": {},
                "label": "Vice President Of Research",
                "scale_factor": 1,
                "type": "#F44336",
                "size": [
                  55,
                  55
                ],
                "position": [
                  0,
                  0
                ]
              },
              {
                "id": 710,
                "properties": {
                  "id": "Co-Founder & Chief Executive Officer",
                  "label": "__Entity__"
                },
                "color": "#F44336",
                "styles": {},
                "label": "Co-Founder & Chief Executive Officer",
                "scale_factor": 1,
                "type": "#F44336",
                "size": [
                  55,
                  55
                ],
                "position": [
                  0,
                  0
                ]
              },
              {
                "id": 715,
                "properties": {
                  "id": "Chief Executive Officer",
                  "label": "__Entity__"
                },
                "color": "#F44336",
                "styles": {},
                "label": "Chief Executive Officer",
                "scale_factor": 1,
                "type": "#F44336",
                "size": [
                  55,
                  55
                ],
                "position": [
                  0,
                  0
                ]
              },
              {
                "id": 653,
                "properties": {
                  "id": "Minority Stakeholder",
                  "label": "Concept:__Entity__"
                },
                "color": "#CDDC39",
                "styles": {},
                "label": "Minority Stakeholder",
                "scale_factor": 1,
                "type": "#CDDC39",
                "size": [
                  55,
                  55
                ],
                "position": [
                  0,
                  0
                ]
              },
              {
                "id": 708,
                "properties": {
                  "id": "Aws",
                  "label": "__Entity__"
                },
                "color": "#F44336",
                "styles": {},
                "label": "Aws",
                "scale_factor": 1,
                "type": "#F44336",
                "size": [
                  55,
                  55
                ],
                "position": [
                  0,
                  0
                ]
              },
              {
                "id": 652,
                "properties": {
                  "id": "Partnership",
                  "label": "Concept:__Entity__"
                },
                "color": "#CDDC39",
                "styles": {},
                "label": "Partnership",
                "scale_factor": 1,
                "type": "#CDDC39",
                "size": [
                  55,
                  55
                ],
                "position": [
                  0,
                  0
                ]
              },
              {
                "id": 658,
                "properties": {
                  "id": "Potential Investment",
                  "label": "Concept:__Entity__"
                },
                "color": "#CDDC39",
                "styles": {},
                "label": "Potential Investment",
                "scale_factor": 1,
                "type": "#CDDC39",
                "size": [
                  55,
                  55
                ],
                "position": [
                  0,
                  0
                ]
              },
              {
                "id": 647,
                "properties": {
                  "id": "Ftx",
                  "label": "__Entity__:Company"
                },
                "color": "#F44336",
                "styles": {},
                "label": "Ftx",
                "scale_factor": 1,
                "type": "#F44336",
                "size": [
                  55,
                  55
                ],
                "position": [
                  0,
                  0
                ]
              },
              {
                "id": 657,
                "properties": {
                  "id": "Aws Customers",
                  "label": "__Entity__:Group"
                },
                "color": "#4CAF50",
                "styles": {},
                "label": "Aws Customers",
                "scale_factor": 1,
                "type": "#4CAF50",
                "size": [
                  55,
                  55
                ],
                "position": [
                  0,
                  0
                ]
              },
              {
                "id": 656,
                "properties": {
                  "id": "Ai Models",
                  "label": "Concept:__Entity__"
                },
                "color": "#CDDC39",
                "styles": {},
                "label": "Ai Models",
                "scale_factor": 1,
                "type": "#CDDC39",
                "size": [
                  55,
                  55
                ],
                "position": [
                  0,
                  0
                ]
              },
              {
                "id": 660,
                "properties": {
                  "id": "Jason Clinton",
                  "label": "Person:__Entity__"
                },
                "color": "#9C27B0",
                "styles": {},
                "label": "Jason Clinton",
                "scale_factor": 1,
                "type": "#9C27B0",
                "size": [
                  55,
                  55
                ],
                "position": [
                  0,
                  0
                ]
              },
              {
                "id": 661,
                "properties": {
                  "id": "Jared Kaplan",
                  "label": "Person:__Entity__"
                },
                "color": "#9C27B0",
                "styles": {},
                "label": "Jared Kaplan",
                "scale_factor": 1,
                "type": "#9C27B0",
                "size": [
                  55,
                  55
                ],
                "position": [
                  0,
                  0
                ]
              },
              {
                "id": 712,
                "properties": {
                  "id": "Co-Founder & Chief Science Officer",
                  "label": "__Entity__"
                },
                "color": "#F44336",
                "styles": {},
                "label": "Co-Founder & Chief Science Officer",
                "scale_factor": 1,
                "type": "#F44336",
                "size": [
                  55,
                  55
                ],
                "position": [
                  0,
                  0
                ]
              },
              {
                "id": 662,
                "properties": {
                  "id": "Ben Mann",
                  "label": "Person:__Entity__"
                },
                "color": "#9C27B0",
                "styles": {},
                "label": "Ben Mann",
                "scale_factor": 1,
                "type": "#9C27B0",
                "size": [
                  55,
                  55
                ],
                "position": [
                  0,
                  0
                ]
              },
              {
                "id": 713,
                "properties": {
                  "id": "Co-Founder & Member Of Technical Staff",
                  "label": "__Entity__"
                },
                "color": "#F44336",
                "styles": {},
                "label": "Co-Founder & Member Of Technical Staff",
                "scale_factor": 1,
                "type": "#F44336",
                "size": [
                  55,
                  55
                ],
                "position": [
                  0,
                  0
                ]
              },
              {
                "id": 663,
                "properties": {
                  "id": "Jack Clark",
                  "label": "Person:__Entity__"
                },
                "color": "#9C27B0",
                "styles": {},
                "label": "Jack Clark",
                "scale_factor": 1,
                "type": "#9C27B0",
                "size": [
                  55,
                  55
                ],
                "position": [
                  0,
                  0
                ]
              },
              {
                "id": 714,
                "properties": {
                  "id": "Co-Founder & Head Of Policy",
                  "label": "__Entity__"
                },
                "color": "#F44336",
                "styles": {},
                "label": "Co-Founder & Head Of Policy",
                "scale_factor": 1,
                "type": "#F44336",
                "size": [
                  55,
                  55
                ],
                "position": [
                  0,
                  0
                ]
              },
              {
                "id": 664,
                "properties": {
                  "id": "Luke Muehlhauser",
                  "label": "Person:__Entity__"
                },
                "color": "#9C27B0",
                "styles": {},
                "label": "Luke Muehlhauser",
                "scale_factor": 1,
                "type": "#9C27B0",
                "size": [
                  55,
                  55
                ],
                "position": [
                  0,
                  0
                ]
              },
              {
                "id": 717,
                "properties": {
                  "id": "Representative Of Series A Shareholders",
                  "label": "__Entity__"
                },
                "color": "#F44336",
                "styles": {},
                "label": "Representative Of Series A Shareholders",
                "scale_factor": 1,
                "type": "#F44336",
                "size": [
                  55,
                  55
                ],
                "position": [
                  0,
                  0
                ]
              },
              {
                "id": 665,
                "properties": {
                  "id": "Yasmin Razavi",
                  "label": "Person:__Entity__"
                },
                "color": "#9C27B0",
                "styles": {},
                "label": "Yasmin Razavi",
                "scale_factor": 1,
                "type": "#9C27B0",
                "size": [
                  55,
                  55
                ],
                "position": [
                  0,
                  0
                ]
              },
              {
                "id": 718,
                "properties": {
                  "id": "Representative Of Series C Shareholders",
                  "label": "__Entity__"
                },
                "color": "#F44336",
                "styles": {},
                "label": "Representative Of Series C Shareholders",
                "scale_factor": 1,
                "type": "#F44336",
                "size": [
                  55,
                  55
                ],
                "position": [
                  0,
                  0
                ]
              },
              {
                "id": 667,
                "properties": {
                  "id": "Amazon.Com",
                  "label": "__Entity__:Company"
                },
                "color": "#F44336",
                "styles": {},
                "label": "Amazon.Com",
                "scale_factor": 1,
                "type": "#F44336",
                "size": [
                  55,
                  55
                ],
                "position": [
                  0,
                  0
                ]
              },
              {
                "id": 668,
                "properties": {
                  "id": "Menlo Ventures",
                  "label": "__Entity__:Company"
                },
                "color": "#F44336",
                "styles": {},
                "label": "Menlo Ventures",
                "scale_factor": 1,
                "type": "#F44336",
                "size": [
                  55,
                  55
                ],
                "position": [
                  0,
                  0
                ]
              },
              {
                "id": 669,
                "properties": {
                  "id": "Wisdom Ventures",
                  "label": "__Entity__:Company"
                },
                "color": "#F44336",
                "styles": {},
                "label": "Wisdom Ventures",
                "scale_factor": 1,
                "type": "#F44336",
                "size": [
                  55,
                  55
                ],
                "position": [
                  0,
                  0
                ]
              },
              {
                "id": 670,
                "properties": {
                  "id": "Ripple Impact Investments",
                  "label": "__Entity__:Company"
                },
                "color": "#F44336",
                "styles": {},
                "label": "Ripple Impact Investments",
                "scale_factor": 1,
                "type": "#F44336",
                "size": [
                  55,
                  55
                ],
                "position": [
                  0,
                  0
                ]
              },
              {
                "id": 671,
                "properties": {
                  "id": "Factorial Funds",
                  "label": "__Entity__:Company"
                },
                "color": "#F44336",
                "styles": {},
                "label": "Factorial Funds",
                "scale_factor": 1,
                "type": "#F44336",
                "size": [
                  55,
                  55
                ],
                "position": [
                  0,
                  0
                ]
              },
              {
                "id": 679,
                "properties": {
                  "id": "Balance",
                  "label": "Concept:__Entity__"
                },
                "color": "#CDDC39",
                "styles": {},
                "label": "Balance",
                "scale_factor": 1,
                "type": "#CDDC39",
                "size": [
                  55,
                  55
                ],
                "position": [
                  0,
                  0
                ]
              },
              {
                "id": 680,
                "properties": {
                  "id": "Private Interests",
                  "label": "Concept:__Entity__"
                },
                "color": "#CDDC39",
                "styles": {},
                "label": "Private Interests",
                "scale_factor": 1,
                "type": "#CDDC39",
                "size": [
                  55,
                  55
                ],
                "position": [
                  0,
                  0
                ]
              },
              {
                "id": 681,
                "properties": {
                  "id": "Public Interests",
                  "label": "Concept:__Entity__"
                },
                "color": "#CDDC39",
                "styles": {},
                "label": "Public Interests",
                "scale_factor": 1,
                "type": "#CDDC39",
                "size": [
                  55,
                  55
                ],
                "position": [
                  0,
                  0
                ]
              },
              {
                "id": 683,
                "properties": {
                  "id": "Directors",
                  "label": "__Entity__:Group"
                },
                "color": "#4CAF50",
                "styles": {},
                "label": "Directors",
                "scale_factor": 1,
                "type": "#4CAF50",
                "size": [
                  55,
                  55
                ],
                "position": [
                  0,
                  0
                ]
              },
              {
                "id": 720,
                "properties": {
                  "id": "Profit",
                  "label": "__Entity__"
                },
                "color": "#F44336",
                "styles": {},
                "label": "Profit",
                "scale_factor": 1,
                "type": "#F44336",
                "size": [
                  55,
                  55
                ],
                "position": [
                  0,
                  0
                ]
              },
              {
                "id": 684,
                "properties": {
                  "id": "Priorities",
                  "label": "Concept:__Entity__"
                },
                "color": "#CDDC39",
                "styles": {},
                "label": "Priorities",
                "scale_factor": 1,
                "type": "#CDDC39",
                "size": [
                  55,
                  55
                ],
                "position": [
                  0,
                  0
                ]
              },
              {
                "id": 719,
                "properties": {
                  "id": "Public Benefit",
                  "label": "__Entity__"
                },
                "color": "#F44336",
                "styles": {},
                "label": "Public Benefit",
                "scale_factor": 1,
                "type": "#F44336",
                "size": [
                  55,
                  55
                ],
                "position": [
                  0,
                  0
                ]
              },
              {
                "id": 685,
                "properties": {
                  "id": "Catastrophic Risk",
                  "label": "Concept:__Entity__"
                },
                "color": "#CDDC39",
                "styles": {},
                "label": "Catastrophic Risk",
                "scale_factor": 1,
                "type": "#CDDC39",
                "size": [
                  55,
                  55
                ],
                "position": [
                  0,
                  0
                ]
              },
              {
                "id": 686,
                "properties": {
                  "id": "Trust",
                  "label": "Concept:__Entity__"
                },
                "color": "#CDDC39",
                "styles": {},
                "label": "Trust",
                "scale_factor": 1,
                "type": "#CDDC39",
                "size": [
                  55,
                  55
                ],
                "position": [
                  0,
                  0
                ]
              },
              {
                "id": 687,
                "properties": {
                  "id": "Jason Matheny",
                  "label": "Person:__Entity__"
                },
                "color": "#9C27B0",
                "styles": {},
                "label": "Jason Matheny",
                "scale_factor": 1,
                "type": "#9C27B0",
                "size": [
                  55,
                  55
                ],
                "position": [
                  0,
                  0
                ]
              },
              {
                "id": 689,
                "properties": {
                  "id": "Kanika Bahl",
                  "label": "Person:__Entity__"
                },
                "color": "#9C27B0",
                "styles": {},
                "label": "Kanika Bahl",
                "scale_factor": 1,
                "type": "#9C27B0",
                "size": [
                  55,
                  55
                ],
                "position": [
                  0,
                  0
                ]
              },
              {
                "id": 691,
                "properties": {
                  "id": "Neil Buddy Shah",
                  "label": "Person:__Entity__"
                },
                "color": "#9C27B0",
                "styles": {},
                "label": "Neil Buddy Shah",
                "scale_factor": 1,
                "type": "#9C27B0",
                "size": [
                  55,
                  55
                ],
                "position": [
                  0,
                  0
                ]
              },
              {
                "id": 693,
                "properties": {
                  "id": "Paul Christiano",
                  "label": "Person:__Entity__"
                },
                "color": "#9C27B0",
                "styles": {},
                "label": "Paul Christiano",
                "scale_factor": 1,
                "type": "#9C27B0",
                "size": [
                  55,
                  55
                ],
                "position": [
                  0,
                  0
                ]
              },
              {
                "id": 695,
                "properties": {
                  "id": "Zach Robinson",
                  "label": "Person:__Entity__"
                },
                "color": "#9C27B0",
                "styles": {},
                "label": "Zach Robinson",
                "scale_factor": 1,
                "type": "#9C27B0",
                "size": [
                  55,
                  55
                ],
                "position": [
                  0,
                  0
                ]
              },
              {
                "id": 688,
                "properties": {
                  "id": "Ceo & President Of The Rand Corporation",
                  "label": "__Entity__:Job title"
                },
                "color": "#CDDC39",
                "styles": {},
                "label": "Ceo & President Of The Rand Corporation",
                "scale_factor": 1,
                "type": "#CDDC39",
                "size": [
                  55,
                  55
                ],
                "position": [
                  0,
                  0
                ]
              },
              {
                "id": 690,
                "properties": {
                  "id": "Ceo & President Of Evidence Action",
                  "label": "__Entity__:Job title"
                },
                "color": "#CDDC39",
                "styles": {},
                "label": "Ceo & President Of Evidence Action",
                "scale_factor": 1,
                "type": "#CDDC39",
                "size": [
                  55,
                  55
                ],
                "position": [
                  0,
                  0
                ]
              },
              {
                "id": 692,
                "properties": {
                  "id": "Ceo Of The Clinton Health Access Initiative",
                  "label": "__Entity__:Job title"
                },
                "color": "#CDDC39",
                "styles": {},
                "label": "Ceo Of The Clinton Health Access Initiative",
                "scale_factor": 1,
                "type": "#CDDC39",
                "size": [
                  55,
                  55
                ],
                "position": [
                  0,
                  0
                ]
              },
              {
                "id": 694,
                "properties": {
                  "id": "Founder Of The Alignment Research Center",
                  "label": "__Entity__:Job title"
                },
                "color": "#CDDC39",
                "styles": {},
                "label": "Founder Of The Alignment Research Center",
                "scale_factor": 1,
                "type": "#CDDC39",
                "size": [
                  55,
                  55
                ],
                "position": [
                  0,
                  0
                ]
              },
              {
                "id": 696,
                "properties": {
                  "id": "Ceo Of Effective Ventures Us",
                  "label": "__Entity__:Job title"
                },
                "color": "#CDDC39",
                "styles": {},
                "label": "Ceo Of Effective Ventures Us",
                "scale_factor": 1,
                "type": "#CDDC39",
                "size": [
                  55,
                  55
                ],
                "position": [
                  0,
                  0
                ]
              },
              {
                "id": 699,
                "properties": {
                  "id": "Safety Guidelines",
                  "label": "Concept:__Entity__"
                },
                "color": "#CDDC39",
                "styles": {},
                "label": "Safety Guidelines",
                "scale_factor": 1,
                "type": "#CDDC39",
                "size": [
                  55,
                  55
                ],
                "position": [
                  0,
                  0
                ]
              },
              {
                "id": 704,
                "properties": {
                  "id": "Alexa",
                  "label": "__Entity__:Ai assistant"
                },
                "color": "#9E9E9E",
                "styles": {},
                "label": "Alexa",
                "scale_factor": 1,
                "type": "#9E9E9E",
                "size": [
                  55,
                  55
                ],
                "position": [
                  0,
                  0
                ]
              },
              {
                "id": 705,
                "properties": {
                  "id": "Siri",
                  "label": "__Entity__:Ai assistant"
                },
                "color": "#9E9E9E",
                "styles": {},
                "label": "Siri",
                "scale_factor": 1,
                "type": "#9E9E9E",
                "size": [
                  55,
                  55
                ],
                "position": [
                  0,
                  0
                ]
              },
              {
                "id": 706,
                "properties": {
                  "id": "Cortana",
                  "label": "__Entity__:Ai assistant"
                },
                "color": "#9E9E9E",
                "styles": {},
                "label": "Cortana",
                "scale_factor": 1,
                "type": "#9E9E9E",
                "size": [
                  55,
                  55
                ],
                "position": [
                  0,
                  0
                ]
              },
              {
                "id": 836,
                "properties": {
                  "id": "Ashley Madison",
                  "label": "__Entity__:Organization"
                },
                "color": "#2196F3",
                "styles": {},
                "label": "Ashley Madison",
                "scale_factor": 1,
                "type": "#2196F3",
                "size": [
                  55,
                  55
                ],
                "position": [
                  0,
                  0
                ]
              },
              {
                "id": 837,
                "properties": {
                  "id": "Darren J. Morgenstern",
                  "label": "Person:__Entity__"
                },
                "color": "#9C27B0",
                "styles": {},
                "label": "Darren J. Morgenstern",
                "scale_factor": 1,
                "type": "#9C27B0",
                "size": [
                  55,
                  55
                ],
                "position": [
                  0,
                  0
                ]
              }
            ],
            "_overview": {
              "enabled": null,
              "overview_set": false
            },
            "_selected_graph": [
              [],
              []
            ],
            "_sidebar": {
              "enabled": true,
              "start_with": ""
            },
            "_view_count": null,
            "_view_module": "yfiles-jupyter-graphs",
            "_view_module_version": "^1.6.2",
            "_view_name": "GraphView",
            "layout": "IPY_MODEL_33534f19119245a0bdeb914bc19aac90"
          }
        },
        "33534f19119245a0bdeb914bc19aac90": {
          "model_module": "@jupyter-widgets/base",
          "model_name": "LayoutModel",
          "model_module_version": "1.2.0",
          "state": {
            "_model_module": "@jupyter-widgets/base",
            "_model_module_version": "1.2.0",
            "_model_name": "LayoutModel",
            "_view_count": null,
            "_view_module": "@jupyter-widgets/base",
            "_view_module_version": "1.2.0",
            "_view_name": "LayoutView",
            "align_content": null,
            "align_items": null,
            "align_self": null,
            "border": null,
            "bottom": null,
            "display": null,
            "flex": null,
            "flex_flow": null,
            "grid_area": null,
            "grid_auto_columns": null,
            "grid_auto_flow": null,
            "grid_auto_rows": null,
            "grid_column": null,
            "grid_gap": null,
            "grid_row": null,
            "grid_template_areas": null,
            "grid_template_columns": null,
            "grid_template_rows": null,
            "height": "800px",
            "justify_content": null,
            "justify_items": null,
            "left": null,
            "margin": null,
            "max_height": null,
            "max_width": null,
            "min_height": null,
            "min_width": null,
            "object_fit": null,
            "object_position": null,
            "order": null,
            "overflow": null,
            "overflow_x": null,
            "overflow_y": null,
            "padding": null,
            "right": null,
            "top": null,
            "visibility": null,
            "width": "100%"
          }
        }
      }
    }
  },
  "cells": [
    {
      "cell_type": "markdown",
      "metadata": {
        "id": "view-in-github",
        "colab_type": "text"
      },
      "source": [
        "<a href=\"https://colab.research.google.com/github/kevinhoffmanglyde/OML/blob/main/RAG_with_WikiPedia.ipynb\" target=\"_parent\"><img src=\"https://colab.research.google.com/assets/colab-badge.svg\" alt=\"Open In Colab\"/></a>"
      ]
    },
    {
      "cell_type": "code",
      "source": [
        "%pip install --upgrade --quiet  langchain langchain-community langchain-openai langchain-experimental neo4j wikipedia tiktoken yfiles_jupyter_graphs"
      ],
      "metadata": {
        "id": "uHzdu80-UhQG"
      },
      "execution_count": null,
      "outputs": []
    },
    {
      "cell_type": "markdown",
      "source": [
        "# Environment Setup\n",
        "You need to set up a Neo4j instance. The easiest way is to start a free instance on Neo4j Aura, which offers cloud instances of Neo4j database. Alternatively, you can also set up a local instance of the Neo4j database by downloading the Neo4j Desktop application and creating a local database instance.\n",
        "\n",
        "Also you would need the OPENAI API Key\n"
      ],
      "metadata": {
        "id": "oiV0z80tTZFI"
      }
    },
    {
      "cell_type": "code",
      "execution_count": null,
      "metadata": {
        "id": "L0nXP1aYtHNW"
      },
      "outputs": [],
      "source": [
        "import os\n",
        "import openai\n",
        "from langchain_community.graphs import Neo4jGraph\n",
        "from google.colab import userdata\n",
        "userdata.get('open_key')\n",
        "os.environ[\"OPENAI_API_KEY\"] = userdata.get('open_key')\n",
        "openai.api_key = os.getenv('OPENAI_API_KEY')\n",
        "os.environ[\"NEO4J_URI\"] = userdata.get('NEO4J_URI')\n",
        "os.environ[\"NEO4J_USERNAME\"] =  userdata.get('NEO4J_USERNAME')\n",
        "os.environ[\"NEO4J_PASSWORD\"] = userdata.get('NEO4J_PASSWORD')"
      ]
    },
    {
      "cell_type": "markdown",
      "source": [
        "# Step 1a : Reading & Chunking Wikipedia article\n",
        "\n",
        "Process for reading and chunking a Wikipedia article is pretty simple, as LangChain has integrated the Wikipedia document loader as well as the text chunking modules. Refer to documentation for adjusting the default parameters for loader such as language, or to downloaded fields other than published, title, summary etc.\n",
        "\n",
        "The tiktoken text chunking module, uses a tokenizer made by OpenAI, to split the article into chunks with 1000 tokens. (Refer Split by tokens for details)\n"
      ],
      "metadata": {
        "id": "JKTRLRDIPrn2"
      }
    },
    {
      "cell_type": "code",
      "source": [
        "from langchain_core.runnables import (\n",
        "    RunnableBranch,\n",
        "    RunnableLambda,\n",
        "    RunnableParallel,\n",
        "    RunnablePassthrough,\n",
        ")\n",
        "from langchain_core.prompts import ChatPromptTemplate\n",
        "from langchain_core.prompts.prompt import PromptTemplate\n",
        "from langchain_core.pydantic_v1 import BaseModel, Field\n",
        "from typing import Tuple, List, Optional\n",
        "from langchain_core.messages import AIMessage, HumanMessage\n",
        "from langchain_core.output_parsers import StrOutputParser\n",
        "import os\n",
        "from langchain_community.graphs import Neo4jGraph\n",
        "from langchain.document_loaders import WikipediaLoader\n",
        "from langchain.text_splitter import CharacterTextSplitter\n",
        "from langchain.text_splitter import TokenTextSplitter\n",
        "from langchain_openai import ChatOpenAI\n",
        "from langchain_experimental.graph_transformers import LLMGraphTransformer\n",
        "from neo4j import GraphDatabase\n",
        "from yfiles_jupyter_graphs import GraphWidget\n",
        "from langchain_community.vectorstores import Neo4jVector\n",
        "from langchain_openai import OpenAIEmbeddings\n",
        "from langchain_community.vectorstores.neo4j_vector import remove_lucene_chars\n",
        "from langchain_core.runnables import ConfigurableField, RunnableParallel, RunnablePassthrough\n",
        "\n",
        "try:\n",
        "  import google.colab\n",
        "  from google.colab import output\n",
        "  output.enable_custom_widget_manager()\n",
        "except:\n",
        "  pass"
      ],
      "metadata": {
        "id": "gASnVi9PUCek"
      },
      "execution_count": null,
      "outputs": []
    },
    {
      "cell_type": "markdown",
      "source": [
        "##Data Ingestion"
      ],
      "metadata": {
        "id": "Yd8VRtGNVEPL"
      }
    },
    {
      "cell_type": "code",
      "execution_count": null,
      "metadata": {
        "id": "za7ytWIRPiTG",
        "colab": {
          "base_uri": "https://localhost:8080/"
        },
        "outputId": "888e4ff0-95c2-4783-ef70-cf15733eb72f"
      },
      "outputs": [
        {
          "output_type": "stream",
          "name": "stderr",
          "text": [
            "/usr/local/lib/python3.10/dist-packages/wikipedia/wikipedia.py:389: GuessedAtParserWarning: No parser was explicitly specified, so I'm using the best available HTML parser for this system (\"lxml\"). This usually isn't a problem, but if you run this code on another system, or in a different virtual environment, it may use a different parser and behave differently.\n",
            "\n",
            "The code that caused this warning is on line 389 of the file /usr/local/lib/python3.10/dist-packages/wikipedia/wikipedia.py. To get rid of this warning, pass the additional argument 'features=\"lxml\"' to the BeautifulSoup constructor.\n",
            "\n",
            "  lis = BeautifulSoup(html).find_all('li')\n"
          ]
        }
      ],
      "source": [
        "# Read the wikipedia article\n",
        "raw_documents = WikipediaLoader(query=\"Chief Information Security Officer \").load()\n",
        "# Define chunking strategy\n",
        "text_splitter = CharacterTextSplitter.from_tiktoken_encoder( chunk_size=1000, chunk_overlap=20 )\n",
        "# Chunk the document\n",
        "documents = text_splitter.split_documents(raw_documents)"
      ]
    },
    {
      "cell_type": "markdown",
      "source": [
        "# Step 2 : Create & Store Vector Index of Text\n",
        "LangChain makes it easy to import the documents into Neo4j and index them using the newly added vector index. Neo4j vector index is wrapped as a LangChain vector store and, therefore, follows the syntax used to interact with other vector databases\n",
        "\n",
        "The from_documents method connects to a Neo4j database, imports and embeds the documents, and creates a vector index. The data will be represented as the Chunk nodes by default. We have used OpenAI embeddings"
      ],
      "metadata": {
        "id": "oGVQeF3x9NGx"
      }
    },
    {
      "cell_type": "code",
      "source": [
        "from langchain_community.vectorstores.neo4j_vector import Neo4jVector\n",
        "from langchain_openai import OpenAIEmbeddings\n",
        "\n",
        "neo4j_vector = Neo4jVector.from_documents(\n",
        "    documents,\n",
        "    OpenAIEmbeddings()\n",
        "\n",
        ")\n"
      ],
      "metadata": {
        "id": "VbrNSUOpy9xv"
      },
      "execution_count": null,
      "outputs": []
    },
    {
      "cell_type": "markdown",
      "source": [
        "# Step 3 : Vector Similarity Search\n",
        "\n",
        "The LangChain module used the specified embedding function (OpenAI in this example) to embed the question and then find the most similar documents by comparing the cosine similarity between the user question and indexed documents from the database.\n",
        "\n",
        "Neo4j vector index also supports the Euclidean similarity metric along with the cosine similarity.\n"
      ],
      "metadata": {
        "id": "JEoX98Xs92Jh"
      }
    },
    {
      "cell_type": "code",
      "source": [
        "query = \"What does a CISO do?\"\n",
        "\n",
        "results = neo4j_vector.similarity_search(query, k=1)\n",
        "print(results[0].page_content)\n"
      ],
      "metadata": {
        "id": "aRXeeV9czPOo",
        "colab": {
          "base_uri": "https://localhost:8080/"
        },
        "outputId": "042a9e80-5998-4dbc-8714-2526280f3cf1"
      },
      "execution_count": null,
      "outputs": [
        {
          "output_type": "stream",
          "name": "stdout",
          "text": [
            "A chief information security officer (CISO) is a senior-level executive within an organization responsible for establishing and maintaining the enterprise vision, strategy, and program to ensure information assets and technologies are adequately protected. The CISO directs staff in identifying, developing, implementing, and maintaining processes across the enterprise to reduce information and information technology (IT) risks. They respond to incidents, establish appropriate standards and controls, manage security technologies, and direct the establishment and implementation of policies and procedures. The CISO is also usually responsible for information-related compliance (e.g. supervises the implementation to achieve ISO/IEC 27001 certification for an entity or a part of it). The CISO is also responsible for protecting proprietary information and assets of the company, including the data of clients and consumers. CISO works with other executives to make sure the company is growing in a responsible and ethical manner.  \n",
            "Typically, the CISO's influence reaches the entire organization. Responsibilities may include, but not be limited to:\n",
            "\n",
            "Computer emergency response team/computer security incident response team\n",
            "Cybersecurity\n",
            "Disaster recovery and business continuity management\n",
            "Identity and access management\n",
            "Information privacy\n",
            "Information regulatory compliance (e.g., US PCI DSS, FISMA, GLBA, HIPAA; UK Data Protection Act 1998; Canada PIPEDA, Europe GDPR)\n",
            "Information risk management\n",
            "Information security and information assurance\n",
            "Information security operations center (ISOC)\n",
            "Information technology controls for financial and other systems\n",
            "IT investigations, digital forensics, eDiscoveryHaving a CISO or an equivalent function in organizations has become standard practice in business, government, and non-profits organizations. By 2009, approximately 85% of large organizations had a security executive, up from 56% in 2008, and 43% in 2006 . In 2018, The Global State of Information Security Survey 2018 (GSISS), a joint survey conducted by CIO, CSO, and PwC, concluded that 85% of businesses have a CISO or equivalent. The role of CISO has broadened to encompass risks found in business processes, information security, customer privacy, and more. As a result, there is a trend now to no longer embed the CISO function within the IT group. In 2019, only 24% of CISOs report to a chief information officer (CIO), while 40% report directly to a chief executive officer (CEO), and 27% bypass the CEO and report to the board of directors. Embedding the CISO function under the reporting structure of the CIO is considered suboptimal, because there is a potential for conflicts of interest and because the responsibilities of the role extend beyond the nature of responsibilities of the IT group. The reporting structure for the CISO can vary depending on the organization’s size, industry, regulatory environment, and risk profile. However, the importance of information security in today’s businesses has raised the CISO’s role to become a senior-level position.In corporations, the trend is for CISOs to have a strong balance of business acumen and technology knowledge. CISOs are often in high demand and compensation is comparable to other C-level positions that also hold a similar corporate title.\n",
            "A typical CISO holds non-technical certifications (like CISSP and CISM), although a CISO coming from a technical background will have an expanded technical skillset. Other typical training includes project management to manage the information security program, financial management (e.g. holding an accredited MBA) to manage infosec budgets, and soft-skills to direct heterogeneous teams of information security managers, directors of information security, security analysts, security engineers and technology risk managers. Recently, given the involvement of CISO with Privacy matters, certifications like CIPP are highly requested.\n",
            "A recent development in this area is th\n"
          ]
        }
      ]
    },
    {
      "cell_type": "markdown",
      "source": [
        "# Q&A with LangChain and ChatOpenAI\n",
        "\n",
        "LangChain supports question-answering workflows using only a line or two of code. For example, to create a question-answering workflow that generates answers based on the provided context but also provides which documents it used as the context, use the RetrievalQAWithSourcesChain\n"
      ],
      "metadata": {
        "id": "wkwFZuBS-JQU"
      }
    },
    {
      "cell_type": "code",
      "source": [
        "from langchain_openai import ChatOpenAI\n",
        "from langchain.chains import RetrievalQAWithSourcesChain\n",
        "\n",
        "chain = RetrievalQAWithSourcesChain.from_chain_type(\n",
        "    ChatOpenAI(temperature=0),\n",
        "    chain_type=\"stuff\",\n",
        "    retriever=neo4j_vector.as_retriever()\n",
        ")\n",
        "\n",
        "query = \"What is a CISO?\"\n",
        "\n",
        "chain.invoke(\n",
        "    {\"question\": query},\n",
        "    return_only_outputs=True,\n",
        ")\n"
      ],
      "metadata": {
        "id": "JGJ7xHN8-f7W",
        "colab": {
          "base_uri": "https://localhost:8080/"
        },
        "outputId": "a658d82e-6be5-4cb7-9e48-3f2130147c2d"
      },
      "execution_count": null,
      "outputs": [
        {
          "output_type": "execute_result",
          "data": {
            "text/plain": [
              "{'answer': 'A Chief Information Security Officer (CISO) is a senior-level executive within an organization responsible for establishing and maintaining the enterprise vision, strategy, and program to ensure information assets and technologies are adequately protected. The CISO directs staff in identifying, developing, implementing, and maintaining processes across the enterprise to reduce information and information technology (IT) risks. The CISO is also responsible for protecting proprietary information and assets of the company, including the data of clients and consumers. CISO works with other executives to make sure the company is growing in a responsible and ethical manner.\\n',\n",
              " 'sources': 'https://en.wikipedia.org/wiki/Chief_information_security_officer'}"
            ]
          },
          "metadata": {},
          "execution_count": 36
        }
      ]
    },
    {
      "cell_type": "markdown",
      "source": [
        "# Construct Graph using LLM Graph Transformer\n",
        "LangChain makes it easy to construct and store knowledge graph based on the retrieved documents. It provides LLM Graph Transformer which hides away all the complexity.\n",
        "\n",
        "The LLMGraphTransformer converts text documents into structured graph documents by leveraging a LLM to parse and categorize entities and their relationships.\n",
        "\n",
        "The generated graph documents can be stored to a graph database using the add_graph_documents method. The baseEntityLabel parameter assigns an additional __Entity__ label to each node, enhancing indexing and query performance. The include_source parameter links nodes to their originating documents, facilitating data traceability and context understanding.\n"
      ],
      "metadata": {
        "id": "23pdTr5OSVx1"
      }
    },
    {
      "cell_type": "code",
      "execution_count": null,
      "metadata": {
        "id": "pXf7OTGHtHNW"
      },
      "outputs": [],
      "source": [
        "from langchain_experimental.graph_transformers import LLMGraphTransformer\n",
        "#from langchain.graphs import graph\n",
        "#from langchain_experimental import LLMGraphTransformer\n",
        "from langchain_community.graphs import Neo4jGraph\n",
        "from langchain_openai import ChatOpenAI\n",
        "\n",
        "llm=ChatOpenAI(temperature=0, model_name=\"gpt-3.5-turbo-0125\") # gpt-4-0125-preview occasionally has issues\n",
        "llm_transformer = LLMGraphTransformer(llm=llm)\n",
        "\n",
        "#graph_documents = llm_transformer.convert_to_graph_documents(documents)\n",
        "#graph.add_graph_documents(\n",
        " #   graph_documents,\n",
        "#    baseEntityLabel=True,\n",
        "#    include_source=True\n",
        "#)\n",
        "\n",
        "#llm = ChatOpenAI(temperature=0, model_name=\"gpt-3.5-turbo-0125\")\n",
        "#llm_transformer = LLMGraphTransformer(llm)\n",
        "\n",
        "#documents = [\"This is a sample document.\", \"This is another sample document.\"]\n",
        "graph_documents = llm_transformer.convert_to_graph_documents(documents)\n",
        "\n",
        "graph = Neo4jGraph()\n",
        "graph.add_graph_documents(\n",
        "    graph_documents,\n",
        "    baseEntityLabel=True,\n",
        "    include_source=True\n",
        ")"
      ]
    },
    {
      "cell_type": "markdown",
      "source": [
        "# Visualize the graph\n",
        "You can inspect the generated graph with yfiles visualization. yFiles Graphs for Jupyter is a free diagram visualization extension for JupyterLab and Jupyter Notebook."
      ],
      "metadata": {
        "id": "Mkt84EVLfxV9"
      }
    },
    {
      "cell_type": "code",
      "source": [
        "from google.colab import output\n",
        "output.enable_custom_widget_manager()"
      ],
      "metadata": {
        "id": "t1dqAMZMgDcl"
      },
      "execution_count": null,
      "outputs": []
    },
    {
      "cell_type": "code",
      "source": [
        "from neo4j import GraphDatabase\n",
        "from yfiles_jupyter_graphs import GraphWidget\n",
        "\n",
        "# directly show the graph resulting from the given Cypher query\n",
        "default_cypher = \"MATCH (s)-[r:!MENTIONS]->(t) RETURN s,r,t LIMIT 600\"\n",
        "\n",
        "def showGraph(cypher: str = default_cypher):\n",
        "    # create a neo4j session to run queries\n",
        "    driver = GraphDatabase.driver(\n",
        "        uri = os.environ[\"NEO4J_URI\"],\n",
        "        auth = (os.environ[\"NEO4J_USERNAME\"],\n",
        "                os.environ[\"NEO4J_PASSWORD\"]))\n",
        "    session = driver.session()\n",
        "    widget = GraphWidget(graph = session.run(cypher).graph())\n",
        "    widget.node_label_mapping = 'id'\n",
        "    #display(widget)\n",
        "    return widget\n",
        "\n",
        "showGraph()\n"
      ],
      "metadata": {
        "id": "598Q5bPObKRF",
        "colab": {
          "base_uri": "https://localhost:8080/",
          "height": 817,
          "referenced_widgets": [
            "ee13dc1e398244599fc8adb0e27a56d0",
            "33534f19119245a0bdeb914bc19aac90"
          ]
        },
        "outputId": "8c6e82dc-ef8a-42f3-8fad-d5b5fba355e4"
      },
      "execution_count": null,
      "outputs": [
        {
          "output_type": "display_data",
          "data": {
            "text/plain": [
              "GraphWidget(layout=Layout(height='800px', width='100%'))"
            ],
            "application/vnd.jupyter.widget-view+json": {
              "version_major": 2,
              "version_minor": 0,
              "model_id": "ee13dc1e398244599fc8adb0e27a56d0"
            }
          },
          "metadata": {
            "application/vnd.jupyter.widget-view+json": {
              "colab": {
                "custom_widget_manager": {
                  "url": "https://ssl.gstatic.com/colaboratory-static/widgets/colab-cdn-widget-manager/2b70e893a8ba7c0f/manager.min.js"
                }
              }
            }
          }
        }
      ]
    },
    {
      "cell_type": "markdown",
      "source": [
        "# Graph Similiary Search\n",
        "The LangChain module also supports similarity search from graph.\n"
      ],
      "metadata": {
        "id": "aFS_fdPTA2fc"
      }
    },
    {
      "cell_type": "code",
      "source": [
        "from langchain_community.vectorstores.neo4j_vector import Neo4jVector\n",
        "from langchain_openai import OpenAIEmbeddings\n",
        "\n",
        "existing_graph = Neo4jVector.from_existing_graph(\n",
        "    embedding=OpenAIEmbeddings(),\n",
        "    index_name=\"New Index\",\n",
        "    node_label=\"Person\",\n",
        "    text_node_properties=[\"id\"],\n",
        "    embedding_node_property=\"embedding\",\n",
        ")\n",
        "result = existing_graph.similarity_search(\"Who does the CISO report to?\", k=1)"
      ],
      "metadata": {
        "id": "CjOsENpBuLZB"
      },
      "execution_count": null,
      "outputs": []
    },
    {
      "cell_type": "code",
      "source": [
        "print(result[0].page_content)"
      ],
      "metadata": {
        "id": "yeZxS0oOuXhm",
        "colab": {
          "base_uri": "https://localhost:8080/"
        },
        "outputId": "7b05b136-b47d-42a5-95d0-6d6a7f6ac4fd"
      },
      "execution_count": null,
      "outputs": [
        {
          "output_type": "stream",
          "name": "stdout",
          "text": [
            "\n",
            "id: Chris Inglis\n"
          ]
        }
      ]
    },
    {
      "cell_type": "markdown",
      "source": [
        "#New Code from here"
      ],
      "metadata": {
        "id": "RmU9m9EXWj5n"
      }
    },
    {
      "cell_type": "code",
      "source": [
        "vector_index = Neo4jVector.from_existing_graph(\n",
        "    OpenAIEmbeddings(),\n",
        "    search_type=\"hybrid\",\n",
        "    node_label=\"Document\",\n",
        "    text_node_properties=[\"text\"],\n",
        "    embedding_node_property=\"embedding\"\n",
        ")"
      ],
      "metadata": {
        "id": "MRdmRPcrVlZB"
      },
      "execution_count": null,
      "outputs": []
    },
    {
      "cell_type": "code",
      "source": [
        "# Retriever\n",
        "\n",
        "graph.query(\n",
        "    \"CREATE FULLTEXT INDEX entity IF NOT EXISTS FOR (e:__Entity__) ON EACH [e.id]\")\n",
        "\n",
        "# Extract entities from text\n",
        "class Entities(BaseModel):\n",
        "    \"\"\"Identifying information about entities.\"\"\"\n",
        "\n",
        "    names: List[str] = Field(\n",
        "        ...,\n",
        "        description=\"All the person, organization, or business entities that \"\n",
        "        \"appear in the text\",\n",
        "    )\n",
        "\n",
        "prompt = ChatPromptTemplate.from_messages(\n",
        "    [\n",
        "        (\n",
        "            \"system\",\n",
        "            \"You are extracting organization and person entities from the text.\",\n",
        "        ),\n",
        "        (\n",
        "            \"human\",\n",
        "            \"Use the given format to extract information from the following \"\n",
        "            \"input: {question}\",\n",
        "        ),\n",
        "    ]\n",
        ")\n",
        "\n",
        "entity_chain = prompt | llm.with_structured_output(Entities)"
      ],
      "metadata": {
        "id": "5hgK5gZ9VrPK"
      },
      "execution_count": null,
      "outputs": []
    },
    {
      "cell_type": "code",
      "source": [
        "entity_chain.invoke({\"question\": \"What was the first company with a CISO?\"}).names"
      ],
      "metadata": {
        "id": "aPwb4goLVvk-"
      },
      "execution_count": null,
      "outputs": []
    },
    {
      "cell_type": "code",
      "source": [
        "def generate_full_text_query(input: str) -> str:\n",
        "    \"\"\"\n",
        "    Generate a full-text search query for a given input string.\n",
        "\n",
        "    This function constructs a query string suitable for a full-text search.\n",
        "    It processes the input string by splitting it into words and appending a\n",
        "    similarity threshold (~2 changed characters) to each word, then combines\n",
        "    them using the AND operator. Useful for mapping entities from user questions\n",
        "    to database values, and allows for some misspelings.\n",
        "    \"\"\"\n",
        "    full_text_query = \"\"\n",
        "    words = [el for el in remove_lucene_chars(input).split() if el]\n",
        "    for word in words[:-1]:\n",
        "        full_text_query += f\" {word}~2 AND\"\n",
        "    full_text_query += f\" {words[-1]}~2\"\n",
        "    return full_text_query.strip()\n",
        "\n",
        "# Fulltext index query\n",
        "def structured_retriever(question: str) -> str:\n",
        "    \"\"\"\n",
        "    Collects the neighborhood of entities mentioned\n",
        "    in the question\n",
        "    \"\"\"\n",
        "    result = \"\"\n",
        "    entities = entity_chain.invoke({\"question\": question})\n",
        "    for entity in entities.names:\n",
        "        response = graph.query(\n",
        "            \"\"\"CALL db.index.fulltext.queryNodes('entity', $query, {limit:2})\n",
        "            YIELD node,score\n",
        "            CALL {\n",
        "              MATCH (node)-[r:!MENTIONS]->(neighbor)\n",
        "              RETURN node.id + ' - ' + type(r) + ' -> ' + neighbor.id AS output\n",
        "              UNION\n",
        "              MATCH (node)<-[r:!MENTIONS]-(neighbor)\n",
        "              RETURN neighbor.id + ' - ' + type(r) + ' -> ' +  node.id AS output\n",
        "            }\n",
        "            RETURN output LIMIT 50\n",
        "            \"\"\",\n",
        "            {\"query\": generate_full_text_query(entity)},\n",
        "        )\n",
        "        result += \"\\n\".join([el['output'] for el in response])\n",
        "    return result"
      ],
      "metadata": {
        "id": "MGHeUvTDV5PU"
      },
      "execution_count": null,
      "outputs": []
    },
    {
      "cell_type": "code",
      "source": [
        "print(structured_retriever(\"What does the CISO do?\"))"
      ],
      "metadata": {
        "id": "LzCKtO1oV9IC"
      },
      "execution_count": null,
      "outputs": []
    },
    {
      "cell_type": "code",
      "source": [
        "def retriever(question: str):\n",
        "    print(f\"Search query: {question}\")\n",
        "    structured_data = structured_retriever(question)\n",
        "    unstructured_data = [el.page_content for el in vector_index.similarity_search(question)]\n",
        "    final_data = f\"\"\"Structured data:\n",
        "{structured_data}\n",
        "Unstructured data:\n",
        "{\"#Document \". join(unstructured_data)}\n",
        "    \"\"\"\n",
        "    return final_data"
      ],
      "metadata": {
        "id": "m_Zg-9aoWIO7"
      },
      "execution_count": null,
      "outputs": []
    },
    {
      "cell_type": "code",
      "source": [
        "# Condense a chat history and follow-up question into a standalone question\n",
        "_template = \"\"\"Given the following conversation and a follow up question, rephrase the follow up question to be a standalone question,\n",
        "in its original language.\n",
        "Chat History:\n",
        "{chat_history}\n",
        "Follow Up Input: {question}\n",
        "Standalone question:\"\"\"  # noqa: E501\n",
        "CONDENSE_QUESTION_PROMPT = PromptTemplate.from_template(_template)\n",
        "\n",
        "def _format_chat_history(chat_history: List[Tuple[str, str]]) -> List:\n",
        "    buffer = []\n",
        "    for human, ai in chat_history:\n",
        "        buffer.append(HumanMessage(content=human))\n",
        "        buffer.append(AIMessage(content=ai))\n",
        "    return buffer\n",
        "\n",
        "_search_query = RunnableBranch(\n",
        "    # If input includes chat_history, we condense it with the follow-up question\n",
        "    (\n",
        "        RunnableLambda(lambda x: bool(x.get(\"chat_history\"))).with_config(\n",
        "            run_name=\"HasChatHistoryCheck\"\n",
        "        ),  # Condense follow-up question and chat into a standalone_question\n",
        "        RunnablePassthrough.assign(\n",
        "            chat_history=lambda x: _format_chat_history(x[\"chat_history\"])\n",
        "        )\n",
        "        | CONDENSE_QUESTION_PROMPT\n",
        "        | ChatOpenAI(temperature=0)\n",
        "        | StrOutputParser(),\n",
        "    ),\n",
        "    # Else, we have no chat history, so just pass through the question\n",
        "    RunnableLambda(lambda x : x[\"question\"]),\n",
        ")"
      ],
      "metadata": {
        "id": "WV4c9QPtWL5E"
      },
      "execution_count": null,
      "outputs": []
    },
    {
      "cell_type": "code",
      "source": [
        "template = \"\"\"Answer the question based only on the following context:\n",
        "{context}\n",
        "\n",
        "Question: {question}\n",
        "Use natural language and be concise.\n",
        "Answer:\"\"\"\n",
        "prompt = ChatPromptTemplate.from_template(template)\n",
        "\n",
        "chain = (\n",
        "    RunnableParallel(\n",
        "        {\n",
        "            \"context\": _search_query | retriever,\n",
        "            \"question\": RunnablePassthrough(),\n",
        "        }\n",
        "    )\n",
        "    | prompt\n",
        "    | llm\n",
        "    | StrOutputParser()\n",
        ")"
      ],
      "metadata": {
        "id": "5wEWAkiBWObo"
      },
      "execution_count": null,
      "outputs": []
    },
    {
      "cell_type": "code",
      "source": [
        "chain.invoke({\"question\": \"Which house did Elizabeth I belong to?\"})"
      ],
      "metadata": {
        "id": "YhkswaYDWRKU"
      },
      "execution_count": null,
      "outputs": []
    },
    {
      "cell_type": "code",
      "source": [
        "chain.invoke(\n",
        "    {\n",
        "        \"question\": \"When was she born?\",\n",
        "        \"chat_history\": [(\"Which house did Elizabeth I belong to?\", \"House Of Tudor\")],\n",
        "    }\n",
        ")"
      ],
      "metadata": {
        "id": "M5Szd7EdWWG7"
      },
      "execution_count": null,
      "outputs": []
    }
  ]
}